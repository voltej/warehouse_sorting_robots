{
 "cells": [
  {
   "cell_type": "code",
   "execution_count": 3,
   "metadata": {},
   "outputs": [
    {
     "name": "stderr",
     "output_type": "stream",
     "text": [
      "┌ Info: Precompiling Warehouse [5c23decf-4538-4df9-a48c-71f7acf08618]\n",
      "└ @ Base loading.jl:1342\n",
      "\u001b[33m\u001b[1m┌ \u001b[22m\u001b[39m\u001b[33m\u001b[1mWarning: \u001b[22m\u001b[39mPackage Warehouse does not have Dates in its dependencies:\n",
      "\u001b[33m\u001b[1m│ \u001b[22m\u001b[39m- If you have Warehouse checked out for development and have\n",
      "\u001b[33m\u001b[1m│ \u001b[22m\u001b[39m  added Dates as a dependency but haven't updated your primary\n",
      "\u001b[33m\u001b[1m│ \u001b[22m\u001b[39m  environment's manifest file, try `Pkg.resolve()`.\n",
      "\u001b[33m\u001b[1m│ \u001b[22m\u001b[39m- Otherwise you may need to report an issue with Warehouse\n",
      "\u001b[33m\u001b[1m└ \u001b[22m\u001b[39mLoading Dates into Warehouse from project dependency, future warnings for Warehouse are suppressed.\n",
      "WARNING: Method definition get_load_spot(Any) in module Warehouse at /home/datalab/projects/agents/warehouse/src/warehouse.jl:75 overwritten at /home/datalab/projects/agents/warehouse/src/warehouse.jl:216.\n",
      "  ** incremental compilation may be fatally broken for this module **\n",
      "\n",
      "WARNING: Method definition robot_sizes_spots(Any, Any, Any, Any, Any, Any, Any) in module Warehouse at /home/datalab/projects/agents/warehouse/src/warehouse.jl:183 overwritten at /home/datalab/projects/agents/warehouse/src/warehouse.jl:248.\n",
      "  ** incremental compilation may be fatally broken for this module **\n",
      "\n",
      "WARNING: Method definition generate_warehouse_struct(Int64, Int64) in module Warehouse at /home/datalab/projects/agents/warehouse/src/warehouse.jl:4 overwritten on the same line (check for duplicate calls to `include`).\n",
      "  ** incremental compilation may be fatally broken for this module **\n",
      "\n",
      "WARNING: Method definition generate_warehouse_struct##kw(Any, typeof(Warehouse.generate_warehouse_struct), Int64, Int64) in module Warehouse at /home/datalab/projects/agents/warehouse/src/warehouse.jl:4 overwritten on the same line (check for duplicate calls to `include`).\n",
      "  ** incremental compilation may be fatally broken for this module **\n",
      "\n",
      "WARNING: Method definition (::Type{Warehouse.Robot})(Int64, Int64, Int64, Int64, Array{LightGraphs.SimpleGraphs.SimpleEdge{Int64}, 1}, Int64, Int64) in module Warehouse at /home/datalab/projects/agents/warehouse/src/warehouse.jl:66 overwritten on the same line (check for duplicate calls to `include`).\n",
      "  ** incremental compilation may be fatally broken for this module **\n",
      "\n",
      "WARNING: Method definition (::Type{Warehouse.Robot})(Any, Any, Any, Any, Any, Any, Any) in module Warehouse at /home/datalab/projects/agents/warehouse/src/warehouse.jl:66 overwritten on the same line (check for duplicate calls to `include`).\n",
      "  ** incremental compilation may be fatally broken for this module **\n",
      "\n",
      "WARNING: Method definition get_load_spot(Any) in module Warehouse at /home/datalab/projects/agents/warehouse/src/warehouse.jl:216 overwritten at /home/datalab/projects/agents/warehouse/src/warehouse.jl:75.\n",
      "  ** incremental compilation may be fatally broken for this module **\n",
      "\n",
      "WARNING: Method definition (::Type{Warehouse.PlotABM{AbstractSpace}})(Any) where {AbstractSpace} in module Warehouse at /home/datalab/projects/agents/warehouse/src/warehouse.jl:154 overwritten on the same line (check for duplicate calls to `include`).\n",
      "  ** incremental compilation may be fatally broken for this module **\n",
      "\n",
      "WARNING: Method definition pl(Any) in module Warehouse at /home/datalab/projects/agents/warehouse/src/warehouse.jl:157 overwritten on the same line (check for duplicate calls to `include`).\n",
      "  ** incremental compilation may be fatally broken for this module **\n",
      "\n",
      "WARNING: Method definition robot_colors_spots(Any, Any, Any, Any) in module Warehouse at /home/datalab/projects/agents/warehouse/src/warehouse.jl:162 overwritten on the same line (check for duplicate calls to `include`).\n",
      "  ** incremental compilation may be fatally broken for this module **\n",
      "\n",
      "WARNING: Method definition robot_sizes_spots(Any, Any, Any, Any, Any, Any, Any) in module Warehouse at /home/datalab/projects/agents/warehouse/src/warehouse.jl:248 overwritten at /home/datalab/projects/agents/warehouse/src/warehouse.jl:183.\n",
      "  ** incremental compilation may be fatally broken for this module **\n",
      "\n",
      "WARNING: Method definition generate_plot() in module Warehouse at /home/datalab/projects/agents/warehouse/src/warehouse.jl:210 overwritten on the same line (check for duplicate calls to `include`).\n",
      "  ** incremental compilation may be fatally broken for this module **\n",
      "\n",
      "WARNING: Method definition get_load_spot(Any) in module Warehouse at /home/datalab/projects/agents/warehouse/src/warehouse.jl:75 overwritten at /home/datalab/projects/agents/warehouse/src/warehouse.jl:216.\n",
      "  ** incremental compilation may be fatally broken for this module **\n",
      "\n",
      "WARNING: Method definition robot_sizes_spots(Any, Any, Any, Any, Any, Any, Any) in module Warehouse at /home/datalab/projects/agents/warehouse/src/warehouse.jl:183 overwritten at /home/datalab/projects/agents/warehouse/src/warehouse.jl:248.\n",
      "  ** incremental compilation may be fatally broken for this module **\n",
      "\n",
      "WARNING: Method definition terminate_warehouse_sim(Any, Any) in module Warehouse at /home/datalab/projects/agents/warehouse/src/warehouse.jl:272 overwritten on the same line (check for duplicate calls to `include`).\n",
      "  ** incremental compilation may be fatally broken for this module **\n",
      "\n",
      "WARNING: Method definition terminate_warehouse_sim##kw(Any, typeof(Warehouse.terminate_warehouse_sim), Any, Any) in module Warehouse at /home/datalab/projects/agents/warehouse/src/warehouse.jl:272 overwritten on the same line (check for duplicate calls to `include`).\n",
      "  ** incremental compilation may be fatally broken for this module **\n",
      "\n",
      "WARNING: Method definition robot_in_destination(Any, Any) in module Warehouse at /home/datalab/projects/agents/warehouse/src/warehouse.jl:283 overwritten on the same line (check for duplicate calls to `include`).\n",
      "  ** incremental compilation may be fatally broken for this module **\n",
      "\n",
      "WARNING: Method definition give_robot_destination(Any, Any) in module Warehouse at /home/datalab/projects/agents/warehouse/src/warehouse.jl:287 overwritten on the same line (check for duplicate calls to `include`).\n",
      "  ** incremental compilation may be fatally broken for this module **\n",
      "\n",
      "WARNING: Method definition (::Type{Warehouse.WarehouseDefinition})(Int64, Int64, Int64, Int64, Any, Any, Any, Array{Int64, 1}) in module Warehouse at /home/datalab/projects/agents/warehouse/src/warehouse.jl:297 overwritten on the same line (check for duplicate calls to `include`).\n",
      "  ** incremental compilation may be fatally broken for this module **\n",
      "\n",
      "WARNING: Method definition (::Type{Warehouse.WarehouseDefinition})(Any, Any, Any, Any, Any, Any, Any, Any) in module Warehouse at /home/datalab/projects/agents/warehouse/src/warehouse.jl:297 overwritten on the same line (check for duplicate calls to `include`).\n",
      "  ** incremental compilation may be fatally broken for this module **\n",
      "\n",
      "WARNING: Method definition (::Type{Warehouse.ExperimentDefinition})(String, Warehouse.WarehouseDefinition, Any, Any) in module Warehouse at /home/datalab/projects/agents/warehouse/src/warehouse.jl:308 overwritten on the same line (check for duplicate calls to `include`).\n",
      "  ** incremental compilation may be fatally broken for this module **\n",
      "\n",
      "WARNING: Method definition (::Type{Warehouse.ExperimentDefinition})(Any, Any, Any, Any) in module Warehouse at /home/datalab/projects/agents/warehouse/src/warehouse.jl:308 overwritten on the same line (check for duplicate calls to `include`).\n",
      "  ** incremental compilation may be fatally broken for this module **\n",
      "\n",
      "WARNING: Method definition init_warehouse(Any, Any, Any, Any, Any) in module Warehouse at /home/datalab/projects/agents/warehouse/src/warehouse.jl:314 overwritten on the same line (check for duplicate calls to `include`).\n",
      "  ** incremental compilation may be fatally broken for this module **\n",
      "\n",
      "WARNING: Method definition init_warehouse##kw(Any, typeof(Warehouse.init_warehouse), Any, Any, Any, Any, Any) in module Warehouse at /home/datalab/projects/agents/warehouse/src/warehouse.jl:314 overwritten on the same line (check for duplicate calls to `include`).\n",
      "  ** incremental compilation may be fatally broken for this module **\n",
      "\n",
      "WARNING: Method definition init_warehouse_with_plot(Warehouse.WarehouseDefinition) in module Warehouse at /home/datalab/projects/agents/warehouse/src/warehouse.jl:340 overwritten on the same line (check for duplicate calls to `include`).\n",
      "  ** incremental compilation may be fatally broken for this module **\n",
      "\n",
      "WARNING: Method definition init_warehouse_with_plot##kw(Any, typeof(Warehouse.init_warehouse_with_plot), Warehouse.WarehouseDefinition) in module Warehouse at /home/datalab/projects/agents/warehouse/src/warehouse.jl:340 overwritten on the same line (check for duplicate calls to `include`).\n",
      "  ** incremental compilation may be fatally broken for this module **\n",
      "\n",
      "WARNING: Method definition animate_warehouse() in module Warehouse at /home/datalab/projects/agents/warehouse/src/warehouse.jl:360 overwritten on the same line (check for duplicate calls to `include`).\n",
      "  ** incremental compilation may be fatally broken for this module **\n",
      "\n",
      "WARNING: Method definition animate_warehouse##kw(Any, typeof(Warehouse.animate_warehouse)) in module Warehouse at /home/datalab/projects/agents/warehouse/src/warehouse.jl:360 overwritten on the same line (check for duplicate calls to `include`).\n",
      "  ** incremental compilation may be fatally broken for this module **\n",
      "\n",
      "WARNING: Method definition get_experiment_name(Warehouse.ExperimentDefinition, Int64) in module Warehouse at /home/datalab/projects/agents/warehouse/src/warehouse.jl:374 overwritten on the same line (check for duplicate calls to `include`).\n",
      "  ** incremental compilation may be fatally broken for this module **\n",
      "\n"
     ]
    },
    {
     "name": "stderr",
     "output_type": "stream",
     "text": [
      "WARNING: Method definition generate_warehouse_struct(Int64, Int64) in module Warehouse at /home/datalab/projects/agents/warehouse/src/warehouse.jl:4 overwritten on the same line (check for duplicate calls to `include`).\n",
      "  ** incremental compilation may be fatally broken for this module **\n",
      "\n",
      "WARNING: Method definition generate_warehouse_struct##kw(Any, typeof(Warehouse.generate_warehouse_struct), Int64, Int64) in module Warehouse at /home/datalab/projects/agents/warehouse/src/warehouse.jl:4 overwritten on the same line (check for duplicate calls to `include`).\n",
      "  ** incremental compilation may be fatally broken for this module **\n",
      "\n",
      "WARNING: Method definition (::Type{Warehouse.Robot})(Int64, Int64, Int64, Int64, Array{LightGraphs.SimpleGraphs.SimpleEdge{Int64}, 1}, Int64, Int64) in module Warehouse at /home/datalab/projects/agents/warehouse/src/warehouse.jl:66 overwritten on the same line (check for duplicate calls to `include`).\n",
      "  ** incremental compilation may be fatally broken for this module **\n",
      "\n",
      "WARNING: Method definition (::Type{Warehouse.Robot})(Any, Any, Any, Any, Any, Any, Any) in module Warehouse at /home/datalab/projects/agents/warehouse/src/warehouse.jl:66 overwritten on the same line (check for duplicate calls to `include`).\n",
      "  ** incremental compilation may be fatally broken for this module **\n",
      "\n",
      "WARNING: Method definition get_load_spot(Any) in module Warehouse at /home/datalab/projects/agents/warehouse/src/warehouse.jl:216 overwritten at /home/datalab/projects/agents/warehouse/src/warehouse.jl:75.\n",
      "  ** incremental compilation may be fatally broken for this module **\n",
      "\n",
      "WARNING: Method definition (::Type{Warehouse.PlotABM{AbstractSpace}})(Any) where {AbstractSpace} in module Warehouse at /home/datalab/projects/agents/warehouse/src/warehouse.jl:154 overwritten on the same line (check for duplicate calls to `include`).\n",
      "  ** incremental compilation may be fatally broken for this module **\n",
      "\n",
      "WARNING: Method definition pl(Any) in module Warehouse at /home/datalab/projects/agents/warehouse/src/warehouse.jl:157 overwritten on the same line (check for duplicate calls to `include`).\n",
      "  ** incremental compilation may be fatally broken for this module **\n",
      "\n",
      "WARNING: Method definition robot_colors_spots(Any, Any, Any, Any) in module Warehouse at /home/datalab/projects/agents/warehouse/src/warehouse.jl:162 overwritten on the same line (check for duplicate calls to `include`).\n",
      "  ** incremental compilation may be fatally broken for this module **\n",
      "\n",
      "WARNING: Method definition robot_sizes_spots(Any, Any, Any, Any, Any, Any, Any) in module Warehouse at /home/datalab/projects/agents/warehouse/src/warehouse.jl:248 overwritten at /home/datalab/projects/agents/warehouse/src/warehouse.jl:183.\n",
      "  ** incremental compilation may be fatally broken for this module **\n",
      "\n",
      "WARNING: Method definition generate_plot() in module Warehouse at /home/datalab/projects/agents/warehouse/src/warehouse.jl:210 overwritten on the same line (check for duplicate calls to `include`).\n",
      "  ** incremental compilation may be fatally broken for this module **\n",
      "\n",
      "WARNING: Method definition get_load_spot(Any) in module Warehouse at /home/datalab/projects/agents/warehouse/src/warehouse.jl:75 overwritten at /home/datalab/projects/agents/warehouse/src/warehouse.jl:216.\n",
      "  ** incremental compilation may be fatally broken for this module **\n",
      "\n",
      "WARNING: Method definition robot_sizes_spots(Any, Any, Any, Any, Any, Any, Any) in module Warehouse at /home/datalab/projects/agents/warehouse/src/warehouse.jl:183 overwritten at /home/datalab/projects/agents/warehouse/src/warehouse.jl:248.\n",
      "  ** incremental compilation may be fatally broken for this module **\n",
      "\n",
      "WARNING: Method definition terminate_warehouse_sim(Any, Any) in module Warehouse at /home/datalab/projects/agents/warehouse/src/warehouse.jl:272 overwritten on the same line (check for duplicate calls to `include`).\n",
      "  ** incremental compilation may be fatally broken for this module **\n",
      "\n",
      "WARNING: Method definition terminate_warehouse_sim##kw(Any, typeof(Warehouse.terminate_warehouse_sim), Any, Any) in module Warehouse at /home/datalab/projects/agents/warehouse/src/warehouse.jl:272 overwritten on the same line (check for duplicate calls to `include`).\n",
      "  ** incremental compilation may be fatally broken for this module **\n",
      "\n",
      "WARNING: Method definition robot_in_destination(Any, Any) in module Warehouse at /home/datalab/projects/agents/warehouse/src/warehouse.jl:283 overwritten on the same line (check for duplicate calls to `include`).\n",
      "  ** incremental compilation may be fatally broken for this module **\n",
      "\n",
      "WARNING: Method definition give_robot_destination(Any, Any) in module Warehouse at /home/datalab/projects/agents/warehouse/src/warehouse.jl:287 overwritten on the same line (check for duplicate calls to `include`).\n",
      "  ** incremental compilation may be fatally broken for this module **\n",
      "\n",
      "WARNING: Method definition (::Type{Warehouse.WarehouseDefinition})(Int64, Int64, Int64, Int64, Any, Any, Any, Array{Int64, 1}) in module Warehouse at /home/datalab/projects/agents/warehouse/src/warehouse.jl:297 overwritten on the same line (check for duplicate calls to `include`).\n",
      "  ** incremental compilation may be fatally broken for this module **\n",
      "\n",
      "WARNING: Method definition (::Type{Warehouse.WarehouseDefinition})(Any, Any, Any, Any, Any, Any, Any, Any) in module Warehouse at /home/datalab/projects/agents/warehouse/src/warehouse.jl:297 overwritten on the same line (check for duplicate calls to `include`).\n",
      "  ** incremental compilation may be fatally broken for this module **\n",
      "\n",
      "WARNING: Method definition (::Type{Warehouse.ExperimentDefinition})(String, Warehouse.WarehouseDefinition, Any, Any) in module Warehouse at /home/datalab/projects/agents/warehouse/src/warehouse.jl:308 overwritten on the same line (check for duplicate calls to `include`).\n",
      "  ** incremental compilation may be fatally broken for this module **\n",
      "\n",
      "WARNING: Method definition (::Type{Warehouse.ExperimentDefinition})(Any, Any, Any, Any) in module Warehouse at /home/datalab/projects/agents/warehouse/src/warehouse.jl:308 overwritten on the same line (check for duplicate calls to `include`).\n",
      "  ** incremental compilation may be fatally broken for this module **\n",
      "\n",
      "WARNING: Method definition init_warehouse(Any, Any, Any, Any, Any) in module Warehouse at /home/datalab/projects/agents/warehouse/src/warehouse.jl:314 overwritten on the same line (check for duplicate calls to `include`).\n",
      "  ** incremental compilation may be fatally broken for this module **\n",
      "\n",
      "WARNING: Method definition init_warehouse##kw(Any, typeof(Warehouse.init_warehouse), Any, Any, Any, Any, Any) in module Warehouse at /home/datalab/projects/agents/warehouse/src/warehouse.jl:314 overwritten on the same line (check for duplicate calls to `include`).\n",
      "  ** incremental compilation may be fatally broken for this module **\n",
      "\n",
      "WARNING: Method definition init_warehouse_with_plot(Warehouse.WarehouseDefinition) in module Warehouse at /home/datalab/projects/agents/warehouse/src/warehouse.jl:340 overwritten on the same line (check for duplicate calls to `include`).\n",
      "  ** incremental compilation may be fatally broken for this module **\n",
      "\n",
      "WARNING: Method definition init_warehouse_with_plot##kw(Any, typeof(Warehouse.init_warehouse_with_plot), Warehouse.WarehouseDefinition) in module Warehouse at /home/datalab/projects/agents/warehouse/src/warehouse.jl:340 overwritten on the same line (check for duplicate calls to `include`).\n",
      "  ** incremental compilation may be fatally broken for this module **\n",
      "\n",
      "WARNING: Method definition animate_warehouse() in module Warehouse at /home/datalab/projects/agents/warehouse/src/warehouse.jl:360 overwritten on the same line (check for duplicate calls to `include`).\n",
      "  ** incremental compilation may be fatally broken for this module **\n",
      "\n",
      "WARNING: Method definition animate_warehouse##kw(Any, typeof(Warehouse.animate_warehouse)) in module Warehouse at /home/datalab/projects/agents/warehouse/src/warehouse.jl:360 overwritten on the same line (check for duplicate calls to `include`).\n",
      "  ** incremental compilation may be fatally broken for this module **\n",
      "\n",
      "WARNING: Method definition get_experiment_name(Warehouse.ExperimentDefinition, Int64) in module Warehouse at /home/datalab/projects/agents/warehouse/src/warehouse.jl:374 overwritten on the same line (check for duplicate calls to `include`).\n",
      "  ** incremental compilation may be fatally broken for this module **\n",
      "\n",
      "WARNING: Method definition a_star(LightGraphs.AbstractGraph{U}, Integer, Integer) where {U} in module LightGraphs at /home/datalab/.julia/packages/LightGraphs/IgJif/src/shortestpaths/astar.jl:67 overwritten in module Warehouse at /home/datalab/projects/agents/warehouse/src/a_star_cbs.jl:27.\n",
      "  ** incremental compilation may be fatally broken for this module **\n",
      "\n"
     ]
    }
   ],
   "source": [
    "#%%\n",
    "using Warehouse\n",
    "using Random\n",
    "using Agents\n",
    "using CSV\n",
    "using Logging,Dates\n",
    "\n",
    "#"
   ]
  },
  {
   "cell_type": "code",
   "execution_count": 1,
   "metadata": {},
   "outputs": [],
   "source": [
    "# include(\"src/warehouse.jl\")\n",
    "# include(\"src/cbs.jl\")"
   ]
  },
  {
   "cell_type": "code",
   "execution_count": 2,
   "metadata": {},
   "outputs": [],
   "source": [
    "# function init_robots_17x15_5(warehouse)\n",
    "#     for (i,j) in enumerate(31:31:155)\n",
    "#         add_agent!(Robot(i,j,0,1,[],0,0),j, warehouse)\n",
    "#         # n_agents += 1\n",
    "#     end\n",
    "# end\n",
    "# load_spots_17x15 = collect(32:4:60);\n",
    "# wh17x15_10_5_undirected = WarehouseDefinition(17,15,10,5,SimpleGraph,init_warehouse,init_robots_17x15_5,load_spots_17x15)\n",
    "# ed_cbs17x15_10_5 = ExperimentDefinition(\"cbs17x15_10_5\",wh17x15_10_5_undirected, robot_step_cbs!,warehouse_step_cbs!)"
   ]
  },
  {
   "cell_type": "code",
   "execution_count": 6,
   "metadata": {},
   "outputs": [
    {
     "data": {
      "text/plain": [
       "\"Timeout occured\""
      ]
     },
     "metadata": {},
     "output_type": "display_data"
    },
    {
     "name": "stdout",
     "output_type": "stream",
     "text": [
      " 61.054774 seconds (861.07 M allocations: 30.654 GiB, 12.70% gc time)\n"
     ]
    }
   ],
   "source": [
    "#%%\n",
    "ed = ed_cbs17x15_10_5 \n",
    "edir =\"/home/datalab/projects/agents/warehouse/experiments/$(ed.identifier)/\"  \n",
    "if !isdir(edir)\n",
    "    mkdir(edir)\n",
    "end\n",
    "\n",
    "\n",
    "#%%\n",
    "# seed=1\n",
    "for seed in [10]\n",
    "#     @info \"$(now()) Begin seed $(seed)\"\n",
    "    Random.seed!(seed)\n",
    "    name =  get_experiment_name(ed,seed)\n",
    "    warehouse, plot_warehouse = init_warehouse_with_plot(ed.warehouse_definition;seed=seed)\n",
    "    @time adf, mdf = run!(warehouse, ed.robot_step,ed.warehouse_step,terminate_warehouse_sim; \n",
    "    adata=adata,mdata=mdata,agents_first=true)\n",
    "    CSV.write(\"$(edir)$(name)_adata.csv\",adf)\n",
    "    CSV.write(\"$(edir)$(name)_mdata.csv\",mdf)\n",
    "#     @info \"$(now()) End seed $(seed)\"\n",
    "#     flush(logio)\n",
    "    # animate_warehouse(;warehouse=warehouse, \n",
    "    # robot_step=robot_step_highway_nowait!,\n",
    "    # warehouse_step = warehouse_step_highway!,\n",
    "    # terminate_warehouse_sim=terminate_warehouse_sim,\n",
    "    # name=name,\n",
    "    # plot_fn=plot_warehouse)\n",
    "\n",
    "end"
   ]
  },
  {
   "cell_type": "code",
   "execution_count": 53,
   "metadata": {},
   "outputs": [
    {
     "data": {
      "text/plain": [
       "Task (runnable) @0x00007f321ef97dc0"
      ]
     },
     "execution_count": 53,
     "metadata": {},
     "output_type": "execute_result"
    }
   ],
   "source": [
    "seed=10\n",
    "Random.seed!(seed)\n",
    "name =  get_experiment_name(ed,seed)\n",
    "warehouse, plot_warehouse = init_warehouse_with_plot(ed.warehouse_definition;seed=seed)\n",
    "tsk = @task adf, mdf = run!(warehouse, ed.robot_step,ed.warehouse_step,terminate_warehouse_sim; \n",
    "adata=adata,mdata=mdata,agents_first=true)\n"
   ]
  },
  {
   "cell_type": "code",
   "execution_count": 54,
   "metadata": {},
   "outputs": [
    {
     "data": {
      "text/plain": [
       "false"
      ]
     },
     "execution_count": 54,
     "metadata": {},
     "output_type": "execute_result"
    }
   ],
   "source": [
    "istaskdone(tsk)"
   ]
  },
  {
   "cell_type": "code",
   "execution_count": 55,
   "metadata": {},
   "outputs": [
    {
     "data": {
      "text/plain": [
       "Task (done) @0x00007f321ef97dc0"
      ]
     },
     "execution_count": 55,
     "metadata": {},
     "output_type": "execute_result"
    }
   ],
   "source": [
    "Base.schedule(tsk)"
   ]
  },
  {
   "cell_type": "code",
   "execution_count": 49,
   "metadata": {},
   "outputs": [
    {
     "data": {
      "text/plain": [
       "true"
      ]
     },
     "execution_count": 49,
     "metadata": {},
     "output_type": "execute_result"
    }
   ],
   "source": [
    "istaskdone(tsk)"
   ]
  },
  {
   "cell_type": "code",
   "execution_count": null,
   "metadata": {},
   "outputs": [],
   "source": [
    "\n",
    "schedule(tsk)\n",
    "sleeped = 0\n",
    "interupted = false\n",
    "while !istaskdone(tsk)\n",
    "    sleep(10)\n",
    "    sleeped +=  5\n",
    "    if sleeped > 10\n",
    "        interupted = true\n",
    "        Base.throwto(tsk, InterruptException())\n",
    "    end\n",
    "end\n",
    "        \n",
    "        \n",
    "    "
   ]
  },
  {
   "cell_type": "code",
   "execution_count": 56,
   "metadata": {},
   "outputs": [
    {
     "data": {
      "text/plain": [
       "(\u001b[1m715×5 DataFrame\u001b[0m\n",
       "\u001b[1m Row \u001b[0m│\u001b[1m step  \u001b[0m\u001b[1m id    \u001b[0m\u001b[1m pos   \u001b[0m\u001b[1m dest  \u001b[0m\u001b[1m head  \u001b[0m\n",
       "\u001b[1m     \u001b[0m│\u001b[90m Int64 \u001b[0m\u001b[90m Int64 \u001b[0m\u001b[90m Int64 \u001b[0m\u001b[90m Int64 \u001b[0m\u001b[90m Int64 \u001b[0m\n",
       "─────┼───────────────────────────────────\n",
       "   1 │     0      1     31      0      1\n",
       "   2 │     0      2     62      0      1\n",
       "   3 │     0      3     93      0      1\n",
       "   4 │     0      4    124      0      1\n",
       "   5 │     0      5    155      0      1\n",
       "   6 │     1      1     31     48      1\n",
       "   7 │     1      2     62     40      1\n",
       "   8 │     1      3     93     44      1\n",
       "   9 │     1      4    124     36      1\n",
       "  10 │     1      5    155     32      1\n",
       "  11 │     2      1     30     48      1\n",
       "  ⋮  │   ⋮      ⋮      ⋮      ⋮      ⋮\n",
       " 706 │   141      1    685     52      1\n",
       " 707 │   141      2     60     60      1\n",
       " 708 │   141      3     48     48      1\n",
       " 709 │   141      4    941    942      1\n",
       " 710 │   141      5     40     40      1\n",
       " 711 │   142      1    654     52      1\n",
       " 712 │   142      2     60     60      1\n",
       " 713 │   142      3     48     48      1\n",
       " 714 │   142      4    942     56      1\n",
       " 715 │   142      5     40     40      1\n",
       "\u001b[36m                         694 rows omitted\u001b[0m, \u001b[1m143×5 DataFrame\u001b[0m\n",
       "\u001b[1m Row \u001b[0m│\u001b[1m step  \u001b[0m\u001b[1m last_spot \u001b[0m\u001b[1m pl                                \u001b[0m\u001b[1m replaned \u001b[0m\u001b[1m packages\u001b[0m ⋯\n",
       "\u001b[1m     \u001b[0m│\u001b[90m Int64 \u001b[0m\u001b[90m Int64     \u001b[0m\u001b[90m Array…                            \u001b[0m\u001b[90m Int64    \u001b[0m\u001b[90m Int64   \u001b[0m ⋯\n",
       "─────┼──────────────────────────────────────────────────────────────────────────\n",
       "   1 │     0          8  [1, 38, 226, 226, 203, 95, 51, 9…         0           ⋯\n",
       "   2 │     1          5  [1, 38, 226, 226, 203, 95, 51, 9…         1\n",
       "   3 │     2          5  [1, 38, 226, 226, 203, 95, 51, 9…         1\n",
       "   4 │     3          5  [1, 38, 226, 226, 203, 95, 51, 9…         1\n",
       "   5 │     4          5  [1, 38, 226, 226, 203, 95, 51, 9…         1           ⋯\n",
       "   6 │     5          5  [1, 38, 226, 226, 203, 95, 51, 9…         1\n",
       "   7 │     6          5  [1, 38, 226, 226, 203, 95, 51, 9…         1\n",
       "   8 │     7          5  [1, 38, 226, 226, 203, 95, 51, 9…         1\n",
       "   9 │     8          5  [1, 38, 226, 226, 203, 95, 51, 9…         1           ⋯\n",
       "  10 │     9          5  [1, 38, 226, 226, 203, 95, 51, 9…         1\n",
       "  11 │    10          5  [1, 38, 226, 226, 203, 95, 51, 9…         1\n",
       "  ⋮  │   ⋮        ⋮                      ⋮                     ⋮               ⋱\n",
       " 134 │   133          6  Int64[]                                  19\n",
       " 135 │   134          6  Int64[]                                  19           ⋯\n",
       " 136 │   135          6  Int64[]                                  19\n",
       " 137 │   136          6  Int64[]                                  19\n",
       " 138 │   137          6  Int64[]                                  19\n",
       " 139 │   138          6  Int64[]                                  19           ⋯\n",
       " 140 │   139          6  Int64[]                                  19\n",
       " 141 │   140          6  Int64[]                                  19\n",
       " 142 │   141          6  Int64[]                                  19\n",
       " 143 │   142          7  Int64[]                                  20           ⋯\n",
       "\u001b[36m                                                   1 column and 122 rows omitted\u001b[0m)"
      ]
     },
     "execution_count": 56,
     "metadata": {},
     "output_type": "execute_result"
    }
   ],
   "source": [
    "adf, mdf = fetch(tsk)"
   ]
  },
  {
   "cell_type": "code",
   "execution_count": 43,
   "metadata": {},
   "outputs": [
    {
     "ename": "LoadError",
     "evalue": "TaskFailedException\n\n\u001b[91m    nested task error: \u001b[39mInterruptException:\n    Stacktrace:\n     [1] \u001b[0m\u001b[1ma_star_impl!\u001b[22m\u001b[0m\u001b[1m(\u001b[22m\u001b[90mg\u001b[39m::\u001b[0mMetaDiGraph\u001b[90m{Int64, Float64}\u001b[39m, \u001b[90mgoal\u001b[39m::\u001b[0mInt64, \u001b[90mopen_set\u001b[39m::\u001b[0mPriorityQueue\u001b[90m{Integer, Float64, Base.Order.ForwardOrdering}\u001b[39m, \u001b[90mclosed_set\u001b[39m::\u001b[0mVector\u001b[90m{Bool}\u001b[39m, \u001b[90mg_score\u001b[39m::\u001b[0mVector\u001b[90m{Float64}\u001b[39m, \u001b[90mf_score\u001b[39m::\u001b[0mVector\u001b[90m{Float64}\u001b[39m, \u001b[90mcame_from\u001b[39m::\u001b[0mVector\u001b[90m{Int64}\u001b[39m, \u001b[90mdistmx\u001b[39m::\u001b[0mMetaGraphs.MetaWeights\u001b[90m{Int64, Float64}\u001b[39m, \u001b[90mheuristic\u001b[39m::\u001b[0mvar\"#97#98\"\u001b[90m{Float64}\u001b[39m, \u001b[90mconstraints\u001b[39m::\u001b[0mDict\u001b[90m{Int64, MutableLinkedList}\u001b[39m\u001b[0m\u001b[1m)\u001b[22m\n    \u001b[90m   @ \u001b[39m\u001b[35mMain\u001b[39m \u001b[90m~/projects/agents/warehouse/src/\u001b[39m\u001b[90;4ma_star_cbs.jl:81\u001b[0m\n     [2] \u001b[0m\u001b[1ma_star\u001b[22m\u001b[0m\u001b[1m(\u001b[22m\u001b[90mg\u001b[39m::\u001b[0mMetaDiGraph\u001b[90m{Int64, Float64}\u001b[39m, \u001b[90ms\u001b[39m::\u001b[0mInt64, \u001b[90mt\u001b[39m::\u001b[0mInt64, \u001b[90mconstraints\u001b[39m::\u001b[0mDict\u001b[90m{Int64, MutableLinkedList}\u001b[39m, \u001b[90mdistmx\u001b[39m::\u001b[0mMetaGraphs.MetaWeights\u001b[90m{Int64, Float64}\u001b[39m, \u001b[90mheuristic\u001b[39m::\u001b[0mvar\"#97#98\"\u001b[90m{Float64}\u001b[39m\u001b[0m\u001b[1m)\u001b[22m\n    \u001b[90m   @ \u001b[39m\u001b[35mMain\u001b[39m \u001b[90m~/projects/agents/warehouse/src/\u001b[39m\u001b[90;4ma_star_cbs.jl:54\u001b[0m\n     [3] \u001b[0m\u001b[1ma_star\u001b[22m\u001b[0m\u001b[1m(\u001b[22m\u001b[90mg\u001b[39m::\u001b[0mMetaDiGraph\u001b[90m{Int64, Float64}\u001b[39m, \u001b[90ms\u001b[39m::\u001b[0mInt64, \u001b[90mt\u001b[39m::\u001b[0mInt64, \u001b[90mconstraints\u001b[39m::\u001b[0mDict\u001b[90m{Int64, MutableLinkedList}\u001b[39m, \u001b[90mdistmx\u001b[39m::\u001b[0mMetaGraphs.MetaWeights\u001b[90m{Int64, Float64}\u001b[39m\u001b[0m\u001b[1m)\u001b[22m\u001b[90m (repeats 2 times)\u001b[39m\n    \u001b[90m   @ \u001b[39m\u001b[35mMain\u001b[39m \u001b[90m~/projects/agents/warehouse/src/\u001b[39m\u001b[90;4ma_star_cbs.jl:35\u001b[0m\n     [4] \u001b[0m\u001b[1mcbs\u001b[22m\u001b[0m\u001b[1m(\u001b[22m\u001b[90mroot\u001b[39m::\u001b[0mCBSNode\u001b[90m{LightGraphs.SimpleGraphs.SimpleEdge{Int64}}\u001b[39m, \u001b[90mgraph\u001b[39m::\u001b[0mSimpleGraph\u001b[90m{Int64}\u001b[39m\u001b[0m\u001b[1m)\u001b[22m\n    \u001b[90m   @ \u001b[39m\u001b[35mMain\u001b[39m \u001b[90m~/projects/agents/warehouse/src/\u001b[39m\u001b[90;4ma_star_cbs.jl:226\u001b[0m\n     [5] \u001b[0m\u001b[1mwarehouse_step_cbs!\u001b[22m\u001b[0m\u001b[1m(\u001b[22m\u001b[90mmodel\u001b[39m::\u001b[0mAgentBasedModel\u001b[90m{GraphSpace{SimpleGraph{Int64}}, Robot, typeof(fastest), Dict{Symbol, Any}}\u001b[39m\u001b[0m\u001b[1m)\u001b[22m\n    \u001b[90m   @ \u001b[39m\u001b[35mMain\u001b[39m \u001b[90m~/projects/agents/warehouse/src/\u001b[39m\u001b[90;4mcbs.jl:97\u001b[0m\n     [6] \u001b[0m\u001b[1mstep!\u001b[22m\u001b[0m\u001b[1m(\u001b[22m\u001b[90mmodel\u001b[39m::\u001b[0mAgentBasedModel\u001b[90m{GraphSpace{SimpleGraph{Int64}}, Robot, typeof(fastest), Dict{Symbol, Any}}\u001b[39m, \u001b[90magent_step!\u001b[39m::\u001b[0mtypeof(robot_step_cbs!), \u001b[90mmodel_step!\u001b[39m::\u001b[0mtypeof(warehouse_step_cbs!), \u001b[90mn\u001b[39m::\u001b[0mInt64, \u001b[90magents_first\u001b[39m::\u001b[0mBool\u001b[0m\u001b[1m)\u001b[22m\n    \u001b[90m   @ \u001b[39m\u001b[36mAgents\u001b[39m \u001b[90m~/.julia/packages/Agents/y6YAg/src/simulations/\u001b[39m\u001b[90;4mstep.jl:53\u001b[0m\n     [7] \u001b[0m\u001b[1m_run!\u001b[22m\u001b[0m\u001b[1m(\u001b[22m\u001b[90mmodel\u001b[39m::\u001b[0mAgentBasedModel\u001b[90m{GraphSpace{SimpleGraph{Int64}}, Robot, typeof(fastest), Dict{Symbol, Any}}\u001b[39m, \u001b[90magent_step!\u001b[39m::\u001b[0mtypeof(robot_step_cbs!), \u001b[90mmodel_step!\u001b[39m::\u001b[0mtypeof(warehouse_step_cbs!), \u001b[90mn\u001b[39m::\u001b[0mtypeof(terminate_warehouse_sim); \u001b[90mwhen\u001b[39m::\u001b[0mBool, \u001b[90mwhen_model\u001b[39m::\u001b[0mBool, \u001b[90mmdata\u001b[39m::\u001b[0mVector\u001b[90m{Any}\u001b[39m, \u001b[90madata\u001b[39m::\u001b[0mVector\u001b[90m{Symbol}\u001b[39m, \u001b[90mobtainer\u001b[39m::\u001b[0mFunction, \u001b[90magents_first\u001b[39m::\u001b[0mBool\u001b[0m\u001b[1m)\u001b[22m\n    \u001b[90m   @ \u001b[39m\u001b[36mAgents\u001b[39m \u001b[90m~/.julia/packages/Agents/y6YAg/src/simulations/\u001b[39m\u001b[90;4mcollect.jl:145\u001b[0m\n     [8] \u001b[0m\u001b[1m#run!#175\u001b[22m\n    \u001b[90m   @ \u001b[39m\u001b[90m~/.julia/packages/Agents/y6YAg/src/simulations/\u001b[39m\u001b[90;4mcollect.jl:114\u001b[0m\u001b[90m [inlined]\u001b[39m\n     [9] \u001b[0m\u001b[1m(::var\"#150#152\")\u001b[22m\u001b[0m\u001b[1m(\u001b[22m\u001b[0m\u001b[1m)\u001b[22m\n    \u001b[90m   @ \u001b[39m\u001b[35mMain\u001b[39m \u001b[90m./\u001b[39m\u001b[90;4mtask.jl:123\u001b[0m",
     "output_type": "error",
     "traceback": [
      "TaskFailedException\n\n\u001b[91m    nested task error: \u001b[39mInterruptException:\n    Stacktrace:\n     [1] \u001b[0m\u001b[1ma_star_impl!\u001b[22m\u001b[0m\u001b[1m(\u001b[22m\u001b[90mg\u001b[39m::\u001b[0mMetaDiGraph\u001b[90m{Int64, Float64}\u001b[39m, \u001b[90mgoal\u001b[39m::\u001b[0mInt64, \u001b[90mopen_set\u001b[39m::\u001b[0mPriorityQueue\u001b[90m{Integer, Float64, Base.Order.ForwardOrdering}\u001b[39m, \u001b[90mclosed_set\u001b[39m::\u001b[0mVector\u001b[90m{Bool}\u001b[39m, \u001b[90mg_score\u001b[39m::\u001b[0mVector\u001b[90m{Float64}\u001b[39m, \u001b[90mf_score\u001b[39m::\u001b[0mVector\u001b[90m{Float64}\u001b[39m, \u001b[90mcame_from\u001b[39m::\u001b[0mVector\u001b[90m{Int64}\u001b[39m, \u001b[90mdistmx\u001b[39m::\u001b[0mMetaGraphs.MetaWeights\u001b[90m{Int64, Float64}\u001b[39m, \u001b[90mheuristic\u001b[39m::\u001b[0mvar\"#97#98\"\u001b[90m{Float64}\u001b[39m, \u001b[90mconstraints\u001b[39m::\u001b[0mDict\u001b[90m{Int64, MutableLinkedList}\u001b[39m\u001b[0m\u001b[1m)\u001b[22m\n    \u001b[90m   @ \u001b[39m\u001b[35mMain\u001b[39m \u001b[90m~/projects/agents/warehouse/src/\u001b[39m\u001b[90;4ma_star_cbs.jl:81\u001b[0m\n     [2] \u001b[0m\u001b[1ma_star\u001b[22m\u001b[0m\u001b[1m(\u001b[22m\u001b[90mg\u001b[39m::\u001b[0mMetaDiGraph\u001b[90m{Int64, Float64}\u001b[39m, \u001b[90ms\u001b[39m::\u001b[0mInt64, \u001b[90mt\u001b[39m::\u001b[0mInt64, \u001b[90mconstraints\u001b[39m::\u001b[0mDict\u001b[90m{Int64, MutableLinkedList}\u001b[39m, \u001b[90mdistmx\u001b[39m::\u001b[0mMetaGraphs.MetaWeights\u001b[90m{Int64, Float64}\u001b[39m, \u001b[90mheuristic\u001b[39m::\u001b[0mvar\"#97#98\"\u001b[90m{Float64}\u001b[39m\u001b[0m\u001b[1m)\u001b[22m\n    \u001b[90m   @ \u001b[39m\u001b[35mMain\u001b[39m \u001b[90m~/projects/agents/warehouse/src/\u001b[39m\u001b[90;4ma_star_cbs.jl:54\u001b[0m\n     [3] \u001b[0m\u001b[1ma_star\u001b[22m\u001b[0m\u001b[1m(\u001b[22m\u001b[90mg\u001b[39m::\u001b[0mMetaDiGraph\u001b[90m{Int64, Float64}\u001b[39m, \u001b[90ms\u001b[39m::\u001b[0mInt64, \u001b[90mt\u001b[39m::\u001b[0mInt64, \u001b[90mconstraints\u001b[39m::\u001b[0mDict\u001b[90m{Int64, MutableLinkedList}\u001b[39m, \u001b[90mdistmx\u001b[39m::\u001b[0mMetaGraphs.MetaWeights\u001b[90m{Int64, Float64}\u001b[39m\u001b[0m\u001b[1m)\u001b[22m\u001b[90m (repeats 2 times)\u001b[39m\n    \u001b[90m   @ \u001b[39m\u001b[35mMain\u001b[39m \u001b[90m~/projects/agents/warehouse/src/\u001b[39m\u001b[90;4ma_star_cbs.jl:35\u001b[0m\n     [4] \u001b[0m\u001b[1mcbs\u001b[22m\u001b[0m\u001b[1m(\u001b[22m\u001b[90mroot\u001b[39m::\u001b[0mCBSNode\u001b[90m{LightGraphs.SimpleGraphs.SimpleEdge{Int64}}\u001b[39m, \u001b[90mgraph\u001b[39m::\u001b[0mSimpleGraph\u001b[90m{Int64}\u001b[39m\u001b[0m\u001b[1m)\u001b[22m\n    \u001b[90m   @ \u001b[39m\u001b[35mMain\u001b[39m \u001b[90m~/projects/agents/warehouse/src/\u001b[39m\u001b[90;4ma_star_cbs.jl:226\u001b[0m\n     [5] \u001b[0m\u001b[1mwarehouse_step_cbs!\u001b[22m\u001b[0m\u001b[1m(\u001b[22m\u001b[90mmodel\u001b[39m::\u001b[0mAgentBasedModel\u001b[90m{GraphSpace{SimpleGraph{Int64}}, Robot, typeof(fastest), Dict{Symbol, Any}}\u001b[39m\u001b[0m\u001b[1m)\u001b[22m\n    \u001b[90m   @ \u001b[39m\u001b[35mMain\u001b[39m \u001b[90m~/projects/agents/warehouse/src/\u001b[39m\u001b[90;4mcbs.jl:97\u001b[0m\n     [6] \u001b[0m\u001b[1mstep!\u001b[22m\u001b[0m\u001b[1m(\u001b[22m\u001b[90mmodel\u001b[39m::\u001b[0mAgentBasedModel\u001b[90m{GraphSpace{SimpleGraph{Int64}}, Robot, typeof(fastest), Dict{Symbol, Any}}\u001b[39m, \u001b[90magent_step!\u001b[39m::\u001b[0mtypeof(robot_step_cbs!), \u001b[90mmodel_step!\u001b[39m::\u001b[0mtypeof(warehouse_step_cbs!), \u001b[90mn\u001b[39m::\u001b[0mInt64, \u001b[90magents_first\u001b[39m::\u001b[0mBool\u001b[0m\u001b[1m)\u001b[22m\n    \u001b[90m   @ \u001b[39m\u001b[36mAgents\u001b[39m \u001b[90m~/.julia/packages/Agents/y6YAg/src/simulations/\u001b[39m\u001b[90;4mstep.jl:53\u001b[0m\n     [7] \u001b[0m\u001b[1m_run!\u001b[22m\u001b[0m\u001b[1m(\u001b[22m\u001b[90mmodel\u001b[39m::\u001b[0mAgentBasedModel\u001b[90m{GraphSpace{SimpleGraph{Int64}}, Robot, typeof(fastest), Dict{Symbol, Any}}\u001b[39m, \u001b[90magent_step!\u001b[39m::\u001b[0mtypeof(robot_step_cbs!), \u001b[90mmodel_step!\u001b[39m::\u001b[0mtypeof(warehouse_step_cbs!), \u001b[90mn\u001b[39m::\u001b[0mtypeof(terminate_warehouse_sim); \u001b[90mwhen\u001b[39m::\u001b[0mBool, \u001b[90mwhen_model\u001b[39m::\u001b[0mBool, \u001b[90mmdata\u001b[39m::\u001b[0mVector\u001b[90m{Any}\u001b[39m, \u001b[90madata\u001b[39m::\u001b[0mVector\u001b[90m{Symbol}\u001b[39m, \u001b[90mobtainer\u001b[39m::\u001b[0mFunction, \u001b[90magents_first\u001b[39m::\u001b[0mBool\u001b[0m\u001b[1m)\u001b[22m\n    \u001b[90m   @ \u001b[39m\u001b[36mAgents\u001b[39m \u001b[90m~/.julia/packages/Agents/y6YAg/src/simulations/\u001b[39m\u001b[90;4mcollect.jl:145\u001b[0m\n     [8] \u001b[0m\u001b[1m#run!#175\u001b[22m\n    \u001b[90m   @ \u001b[39m\u001b[90m~/.julia/packages/Agents/y6YAg/src/simulations/\u001b[39m\u001b[90;4mcollect.jl:114\u001b[0m\u001b[90m [inlined]\u001b[39m\n     [9] \u001b[0m\u001b[1m(::var\"#150#152\")\u001b[22m\u001b[0m\u001b[1m(\u001b[22m\u001b[0m\u001b[1m)\u001b[22m\n    \u001b[90m   @ \u001b[39m\u001b[35mMain\u001b[39m \u001b[90m./\u001b[39m\u001b[90;4mtask.jl:123\u001b[0m",
      "",
      "Stacktrace:",
      " [1] wait",
      "   @ ./task.jl:322 [inlined]",
      " [2] fetch(t::Task)",
      "   @ Base ./task.jl:337",
      " [3] top-level scope",
      "   @ In[31]:8",
      " [4] eval",
      "   @ ./boot.jl:360 [inlined]",
      " [5] include_string(mapexpr::typeof(REPL.softscope), mod::Module, code::String, filename::String)",
      "   @ Base ./loading.jl:1116"
     ]
    }
   ],
   "source": [
    "CSV.write(\"$(edir)$(name)_adata.csv\",adf)\n",
    "CSV.write(\"$(edir)$(name)_mdata.csv\",mdf)\n",
    "terminate_warehouse_sim(warehouse,1)"
   ]
  },
  {
   "cell_type": "code",
   "execution_count": 40,
   "metadata": {},
   "outputs": [
    {
     "data": {
      "text/plain": [
       "true"
      ]
     },
     "execution_count": 40,
     "metadata": {},
     "output_type": "execute_result"
    }
   ],
   "source": [
    "terminate_warehouse_sim(warehouse,1)"
   ]
  }
 ],
 "metadata": {
  "kernelspec": {
   "display_name": "Julia 1.6.2",
   "language": "julia",
   "name": "julia-1.6"
  },
  "language_info": {
   "file_extension": ".jl",
   "mimetype": "application/julia",
   "name": "julia",
   "version": "1.6.2"
  }
 },
 "nbformat": 4,
 "nbformat_minor": 4
}
