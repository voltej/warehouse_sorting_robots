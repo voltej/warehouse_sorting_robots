{
 "cells": [
  {
   "cell_type": "code",
   "execution_count": 3,
   "id": "forced-aluminum",
   "metadata": {},
   "outputs": [
    {
     "name": "stdout",
     "output_type": "stream",
     "text": [
      "/data/ci/coc/venv/bin/python\r\n"
     ]
    }
   ],
   "source": [
    "!which python"
   ]
  },
  {
   "cell_type": "code",
   "execution_count": 1,
   "id": "warming-cruise",
   "metadata": {},
   "outputs": [
    {
     "ename": "ModuleNotFoundError",
     "evalue": "No module named 'todoist'",
     "output_type": "error",
     "traceback": [
      "\u001b[0;31m---------------------------------------------------------------------------\u001b[0m",
      "\u001b[0;31mModuleNotFoundError\u001b[0m                       Traceback (most recent call last)",
      "\u001b[0;32m<ipython-input-1-151809d37a06>\u001b[0m in \u001b[0;36m<module>\u001b[0;34m\u001b[0m\n\u001b[0;32m----> 1\u001b[0;31m \u001b[0;32mimport\u001b[0m \u001b[0mtodoist\u001b[0m\u001b[0;34m\u001b[0m\u001b[0;34m\u001b[0m\u001b[0m\n\u001b[0m\u001b[1;32m      2\u001b[0m \u001b[0modoist\u001b[0m\u001b[0;34m.\u001b[0m\u001b[0mTodoistAPI\u001b[0m\u001b[0;34m(\u001b[0m\u001b[0;34m'b73c15be73fe90cc7f47ac7d9fb06be61741fa76'\u001b[0m\u001b[0;34m)\u001b[0m\u001b[0;34m\u001b[0m\u001b[0;34m\u001b[0m\u001b[0m\n",
      "\u001b[0;31mModuleNotFoundError\u001b[0m: No module named 'todoist'"
     ]
    }
   ],
   "source": [
    "import todoist\n",
    "todoist.TodoistAPI('b73c15be73fe90cc7f47ac7d9fb06be61741fa76')"
   ]
  },
  {
   "cell_type": "code",
   "execution_count": null,
   "id": "irish-battlefield",
   "metadata": {},
   "outputs": [],
   "source": [
    ">>> api.add_item(\"Task1\")"
   ]
  }
 ],
 "metadata": {
  "kernelspec": {
   "display_name": "Python 3",
   "language": "python",
   "name": "python3"
  },
  "language_info": {
   "codemirror_mode": {
    "name": "ipython",
    "version": 3
   },
   "file_extension": ".py",
   "mimetype": "text/x-python",
   "name": "python",
   "nbconvert_exporter": "python",
   "pygments_lexer": "ipython3",
   "version": "3.7.5"
  }
 },
 "nbformat": 4,
 "nbformat_minor": 5
}
