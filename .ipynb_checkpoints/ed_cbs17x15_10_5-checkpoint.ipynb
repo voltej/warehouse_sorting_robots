{
 "cells": [
  {
   "cell_type": "code",
   "execution_count": 58,
   "metadata": {},
   "outputs": [],
   "source": [
    "#%%\n",
    "using Warehouse\n",
    "using Random\n",
    "using Agents\n",
    "using CSV\n",
    "using Logging,Dates\n",
    "\n",
    "#"
   ]
  },
  {
   "cell_type": "code",
   "execution_count": 7,
   "metadata": {},
   "outputs": [
    {
     "data": {
      "text/plain": [
       "warehouse_step_cbs! (generic function with 1 method)"
      ]
     },
     "execution_count": 7,
     "metadata": {},
     "output_type": "execute_result"
    }
   ],
   "source": [
    "include(\"src/warehouse.jl\")\n",
    "include(\"src/cbs.jl\")"
   ]
  },
  {
   "cell_type": "code",
   "execution_count": 8,
   "metadata": {},
   "outputs": [
    {
     "data": {
      "text/plain": [
       "ExperimentDefinition(\"cbs17x15_10_5\", WarehouseDefinition(17, 15, 10, 5, SimpleGraph, init_warehouse, init_robots_17x15_5, [32, 36, 40, 44, 48, 52, 56, 60]), robot_step_cbs!, warehouse_step_cbs!)"
      ]
     },
     "execution_count": 8,
     "metadata": {},
     "output_type": "execute_result"
    }
   ],
   "source": [
    "function init_robots_17x15_5(warehouse)\n",
    "    for (i,j) in enumerate(31:31:155)\n",
    "        add_agent!(Robot(i,j,0,1,[],0,0),j, warehouse)\n",
    "        # n_agents += 1\n",
    "    end\n",
    "end\n",
    "load_spots_17x15 = collect(32:4:60);\n",
    "wh17x15_10_5_undirected = WarehouseDefinition(17,15,10,5,SimpleGraph,init_warehouse,init_robots_17x15_5,load_spots_17x15)\n",
    "ed_cbs17x15_10_5 = ExperimentDefinition(\"cbs17x15_10_5\",wh17x15_10_5_undirected, robot_step_cbs!,warehouse_step_cbs!)"
   ]
  },
  {
   "cell_type": "code",
   "execution_count": 28,
   "metadata": {},
   "outputs": [
    {
     "data": {
      "text/plain": [
       "Task (runnable) @0x00007f3261fd1900"
      ]
     },
     "execution_count": 28,
     "metadata": {},
     "output_type": "execute_result"
    }
   ],
   "source": [
    "tsk = @task 1+1"
   ]
  },
  {
   "cell_type": "code",
   "execution_count": 29,
   "metadata": {},
   "outputs": [
    {
     "data": {
      "text/plain": [
       "false"
      ]
     },
     "execution_count": 29,
     "metadata": {},
     "output_type": "execute_result"
    }
   ],
   "source": [
    "istaskdone(tsk)"
   ]
  },
  {
   "cell_type": "code",
   "execution_count": 30,
   "metadata": {},
   "outputs": [
    {
     "data": {
      "text/plain": [
       "Task (done) @0x00007f3261fd1900"
      ]
     },
     "execution_count": 30,
     "metadata": {},
     "output_type": "execute_result"
    }
   ],
   "source": [
    "Base.schedule(tsk)"
   ]
  },
  {
   "cell_type": "code",
   "execution_count": 31,
   "metadata": {},
   "outputs": [
    {
     "data": {
      "text/plain": [
       "@timeout (macro with 1 method)"
      ]
     },
     "execution_count": 31,
     "metadata": {},
     "output_type": "execute_result"
    }
   ],
   "source": [
    "macro timeout(seconds, expr)\n",
    "    quote\n",
    "        tsk = @task $expr\n",
    "        Base.schedule(tsk)\n",
    "        Timer($seconds) do timer\n",
    "            istaskdone(tsk) || Base.throwto(tsk, InterruptException())\n",
    "        end\n",
    "        fetch(tsk)\n",
    "    end\n",
    "end\n"
   ]
  },
  {
   "cell_type": "code",
   "execution_count": null,
   "metadata": {},
   "outputs": [],
   "source": [
    "macro timeout(seconds, expr)\n",
    "    quote\n",
    "        tsk = @task $expr\n",
    "        Base.schedule(tsk)\n",
    "        Timer($seconds) do timer\n",
    "            istaskdone(tsk) || Base.throwto(tsk, InterruptException())\n",
    "        end\n",
    "        fetch(tsk)\n",
    "    end\n",
    "end"
   ]
  },
  {
   "cell_type": "code",
   "execution_count": null,
   "metadata": {},
   "outputs": [],
   "source": [
    "function terminate_warehouse_sim(model, step;timeout=10)\n",
    "    if isempty(model.package_list) & all([!(agent.dest in model.dest_spot)  for agent in allagents(model)])\n",
    "        return true\n",
    "    elseif \n",
    "        (now()-model.initialized)/Milliseconds(1000) > timeout\n",
    "        display(\"Timeout occured\")\n",
    "        return true        \n",
    "    else\n",
    "        return false\n",
    "    end\n",
    "end"
   ]
  },
  {
   "cell_type": "code",
   "execution_count": 57,
   "metadata": {},
   "outputs": [
    {
     "name": "stdout",
     "output_type": "stream",
     "text": [
      "  0.432258 seconds (6.38 M allocations: 230.396 MiB, 11.51% gc time)\n",
      "  0.113616 seconds (1.68 M allocations: 59.550 MiB, 12.92% gc time)\n",
      "  1.566742 seconds (23.22 M allocations: 843.682 MiB, 12.17% gc time)\n",
      "  0.346437 seconds (5.42 M allocations: 191.530 MiB, 8.45% gc time)\n",
      "  0.041401 seconds (723.88 k allocations: 21.766 MiB)\n",
      "  0.423333 seconds (6.52 M allocations: 227.805 MiB, 10.81% gc time)\n",
      "  0.727999 seconds (11.05 M allocations: 395.743 MiB, 10.15% gc time)\n",
      "  0.227560 seconds (3.27 M allocations: 111.495 MiB, 13.99% gc time)\n",
      "  0.763940 seconds (11.45 M allocations: 404.705 MiB, 10.05% gc time)\n",
      " 61.535620 seconds (914.70 M allocations: 32.557 GiB, 10.68% gc time)\n",
      "  0.533307 seconds (8.00 M allocations: 280.436 MiB, 8.78% gc time)\n",
      "  0.938402 seconds (13.69 M allocations: 490.658 MiB, 10.59% gc time)\n",
      "  0.555402 seconds (8.53 M allocations: 308.779 MiB, 9.38% gc time)\n",
      "  0.273729 seconds (4.45 M allocations: 158.614 MiB, 6.07% gc time)\n",
      "  0.391866 seconds (6.02 M allocations: 217.826 MiB, 9.38% gc time)\n",
      "  0.413568 seconds (6.18 M allocations: 219.248 MiB, 11.06% gc time)\n",
      "  0.263359 seconds (4.09 M allocations: 141.141 MiB, 8.10% gc time)\n",
      "  0.901959 seconds (13.60 M allocations: 487.801 MiB, 9.18% gc time)\n",
      "  0.482387 seconds (6.56 M allocations: 232.213 MiB, 17.33% gc time)\n",
      "  0.264117 seconds (1.02 M allocations: 34.056 MiB, 75.77% gc time)\n",
      "  0.372099 seconds (3.11 M allocations: 107.738 MiB, 46.20% gc time)\n",
      "  1.129353 seconds (16.69 M allocations: 599.579 MiB, 12.49% gc time)\n",
      "  0.050904 seconds (743.75 k allocations: 19.753 MiB, 18.97% gc time)\n",
      "  0.214530 seconds (3.24 M allocations: 115.030 MiB, 11.08% gc time)\n",
      "  0.041516 seconds (794.40 k allocations: 20.510 MiB)\n",
      "  1.559887 seconds (22.50 M allocations: 819.569 MiB, 13.81% gc time)\n",
      "  0.894793 seconds (13.53 M allocations: 498.267 MiB, 12.41% gc time)\n",
      "  0.702260 seconds (10.11 M allocations: 359.329 MiB, 13.93% gc time)\n",
      "  0.357620 seconds (5.41 M allocations: 194.884 MiB, 12.45% gc time)\n",
      "  0.313449 seconds (4.59 M allocations: 159.164 MiB, 14.17% gc time)\n",
      "  0.316307 seconds (4.67 M allocations: 161.418 MiB, 12.91% gc time)\n",
      "  0.147184 seconds (2.33 M allocations: 82.066 MiB, 8.81% gc time)\n",
      "  0.713958 seconds (10.92 M allocations: 391.182 MiB, 10.96% gc time)\n",
      "  0.363379 seconds (5.34 M allocations: 184.466 MiB, 11.36% gc time)\n",
      "  0.477370 seconds (7.69 M allocations: 275.837 MiB, 6.10% gc time)\n",
      "  1.545387 seconds (23.75 M allocations: 864.010 MiB, 8.09% gc time)\n",
      "  0.176029 seconds (2.87 M allocations: 98.895 MiB, 7.10% gc time)\n",
      "  0.207941 seconds (3.31 M allocations: 118.400 MiB, 6.72% gc time)\n",
      "  0.365075 seconds (5.81 M allocations: 206.361 MiB, 6.83% gc time)\n",
      "  0.036288 seconds (659.26 k allocations: 17.932 MiB)\n",
      "  0.348051 seconds (5.29 M allocations: 185.378 MiB, 11.54% gc time)\n",
      "  0.211699 seconds (3.35 M allocations: 117.676 MiB, 8.26% gc time)\n",
      "  0.706883 seconds (10.96 M allocations: 395.625 MiB, 9.14% gc time)\n",
      "  0.118858 seconds (1.79 M allocations: 64.939 MiB, 11.12% gc time)\n",
      "  0.645428 seconds (9.67 M allocations: 350.242 MiB, 9.78% gc time)\n",
      "  1.042487 seconds (16.08 M allocations: 578.295 MiB, 8.32% gc time)\n",
      "  0.708791 seconds (10.73 M allocations: 381.984 MiB, 7.60% gc time)\n",
      "  0.032365 seconds (548.56 k allocations: 15.798 MiB)\n",
      "  0.899542 seconds (10.90 M allocations: 391.273 MiB, 24.70% gc time)\n",
      "  0.204801 seconds (2.98 M allocations: 103.314 MiB, 14.93% gc time)\n",
      "  0.400985 seconds (6.57 M allocations: 217.047 MiB, 8.36% gc time)\n",
      "  0.128881 seconds (2.04 M allocations: 65.520 MiB, 7.32% gc time)\n",
      "  0.302005 seconds (4.76 M allocations: 179.042 MiB, 7.48% gc time)\n",
      "  0.064215 seconds (937.55 k allocations: 30.636 MiB, 16.40% gc time)\n",
      "  0.757595 seconds (11.29 M allocations: 412.886 MiB, 11.37% gc time)\n",
      "  0.740286 seconds (10.22 M allocations: 369.774 MiB, 15.01% gc time)\n",
      "  0.208069 seconds (3.17 M allocations: 112.132 MiB, 11.85% gc time)\n",
      "  0.628648 seconds (9.12 M allocations: 322.468 MiB, 12.13% gc time)\n",
      "  0.035051 seconds (626.29 k allocations: 17.265 MiB)\n",
      "  0.361716 seconds (5.81 M allocations: 206.587 MiB, 5.67% gc time)\n",
      "  0.288721 seconds (4.51 M allocations: 163.211 MiB, 7.23% gc time)\n",
      "  0.737141 seconds (11.11 M allocations: 402.990 MiB, 10.78% gc time)\n",
      "  0.038496 seconds (679.59 k allocations: 20.808 MiB)\n",
      "  0.056664 seconds (727.18 k allocations: 21.893 MiB, 21.25% gc time)\n",
      "  0.521075 seconds (7.78 M allocations: 277.081 MiB, 11.29% gc time)\n",
      "  0.085246 seconds (1.53 M allocations: 50.417 MiB)\n",
      "  0.146095 seconds (2.27 M allocations: 80.484 MiB, 7.55% gc time)\n",
      "  0.292464 seconds (4.67 M allocations: 171.979 MiB, 7.81% gc time)\n",
      "  0.389333 seconds (6.02 M allocations: 213.722 MiB, 8.60% gc time)\n",
      "  0.084343 seconds (1.50 M allocations: 51.688 MiB)\n",
      "  0.165845 seconds (2.65 M allocations: 93.749 MiB, 8.64% gc time)\n",
      "  0.368823 seconds (5.42 M allocations: 191.124 MiB, 10.86% gc time)\n",
      "  0.210964 seconds (3.22 M allocations: 111.330 MiB, 7.58% gc time)\n",
      "  0.394185 seconds (6.21 M allocations: 234.061 MiB, 7.38% gc time)\n",
      "  0.329172 seconds (5.38 M allocations: 190.803 MiB, 3.78% gc time)\n",
      "  1.789469 seconds (27.48 M allocations: 997.256 MiB, 8.70% gc time)\n",
      "  0.110870 seconds (1.68 M allocations: 56.718 MiB, 11.53% gc time)\n",
      "  0.488111 seconds (7.68 M allocations: 287.129 MiB, 5.72% gc time)\n",
      "  0.682596 seconds (10.60 M allocations: 383.239 MiB, 8.17% gc time)\n",
      "  1.229233 seconds (15.70 M allocations: 588.007 MiB, 21.96% gc time)\n",
      "  0.391257 seconds (5.75 M allocations: 203.246 MiB, 13.25% gc time)\n",
      "  0.852346 seconds (12.40 M allocations: 443.276 MiB, 13.27% gc time)\n",
      "  0.071808 seconds (1.01 M allocations: 29.038 MiB, 17.15% gc time)\n",
      "  0.131143 seconds (2.10 M allocations: 71.884 MiB, 9.25% gc time)\n",
      "  0.234266 seconds (3.50 M allocations: 126.427 MiB, 10.89% gc time)\n",
      "  0.181277 seconds (2.99 M allocations: 104.173 MiB, 6.04% gc time)\n",
      "  0.352915 seconds (4.91 M allocations: 174.059 MiB, 17.48% gc time)\n",
      "  1.350987 seconds (19.71 M allocations: 709.760 MiB, 12.33% gc time)\n",
      "  0.307344 seconds (4.89 M allocations: 173.731 MiB, 7.79% gc time)\n",
      "  0.031682 seconds (555.72 k allocations: 15.725 MiB)\n",
      "  0.737609 seconds (10.82 M allocations: 382.449 MiB, 12.09% gc time)\n",
      "  0.303950 seconds (4.67 M allocations: 162.268 MiB, 10.85% gc time)\n",
      "  0.375683 seconds (5.83 M allocations: 205.357 MiB, 8.72% gc time)\n",
      "  0.663936 seconds (9.83 M allocations: 346.572 MiB, 10.87% gc time)\n",
      "  0.511764 seconds (7.34 M allocations: 257.195 MiB, 13.92% gc time)\n",
      "  3.079060 seconds (48.25 M allocations: 1.785 GiB, 8.33% gc time)\n",
      "  0.094372 seconds (1.64 M allocations: 54.588 MiB)\n",
      "  0.075486 seconds (1.30 M allocations: 43.315 MiB)\n",
      "  0.320308 seconds (4.87 M allocations: 171.864 MiB, 9.70% gc time)\n",
      "  0.037114 seconds (682.18 k allocations: 18.244 MiB)\n"
     ]
    }
   ],
   "source": [
    "#%%\n",
    "ed = ed_cbs17x15_10_5 \n",
    "edir =\"/home/datalab/projects/agents/warehouse/experiments/$(ed.identifier)/\"  \n",
    "if !isdir(edir)\n",
    "    mkdir(edir)\n",
    "end\n",
    "\n",
    "\n",
    "#%%\n",
    "# seed=1\n",
    "for seed in seeds\n",
    "#     @info \"$(now()) Begin seed $(seed)\"\n",
    "    Random.seed!(seed)\n",
    "    name =  get_experiment_name(ed,seed)\n",
    "    warehouse, plot_warehouse = init_warehouse_with_plot(ed.warehouse_definition;seed=seed)\n",
    "    @time adf, mdf = run!(warehouse, ed.robot_step,ed.warehouse_step,terminate_warehouse_sim; \n",
    "    adata=adata,mdata=mdata,agents_first=true)\n",
    "    CSV.write(\"$(edir)$(name)_adata.csv\",adf)\n",
    "    CSV.write(\"$(edir)$(name)_mdata.csv\",mdf)\n",
    "#     @info \"$(now()) End seed $(seed)\"\n",
    "#     flush(logio)\n",
    "    # animate_warehouse(;warehouse=warehouse, \n",
    "    # robot_step=robot_step_highway_nowait!,\n",
    "    # warehouse_step = warehouse_step_highway!,\n",
    "    # terminate_warehouse_sim=terminate_warehouse_sim,\n",
    "    # name=name,\n",
    "    # plot_fn=plot_warehouse)\n",
    "\n",
    "end"
   ]
  },
  {
   "cell_type": "code",
   "execution_count": 53,
   "metadata": {},
   "outputs": [
    {
     "data": {
      "text/plain": [
       "Task (runnable) @0x00007f321ef97dc0"
      ]
     },
     "execution_count": 53,
     "metadata": {},
     "output_type": "execute_result"
    }
   ],
   "source": [
    "seed=10\n",
    "Random.seed!(seed)\n",
    "name =  get_experiment_name(ed,seed)\n",
    "warehouse, plot_warehouse = init_warehouse_with_plot(ed.warehouse_definition;seed=seed)\n",
    "tsk = @task adf, mdf = run!(warehouse, ed.robot_step,ed.warehouse_step,terminate_warehouse_sim; \n",
    "adata=adata,mdata=mdata,agents_first=true)\n"
   ]
  },
  {
   "cell_type": "code",
   "execution_count": 54,
   "metadata": {},
   "outputs": [
    {
     "data": {
      "text/plain": [
       "false"
      ]
     },
     "execution_count": 54,
     "metadata": {},
     "output_type": "execute_result"
    }
   ],
   "source": [
    "istaskdone(tsk)"
   ]
  },
  {
   "cell_type": "code",
   "execution_count": 55,
   "metadata": {},
   "outputs": [
    {
     "data": {
      "text/plain": [
       "Task (done) @0x00007f321ef97dc0"
      ]
     },
     "execution_count": 55,
     "metadata": {},
     "output_type": "execute_result"
    }
   ],
   "source": [
    "Base.schedule(tsk)"
   ]
  },
  {
   "cell_type": "code",
   "execution_count": 49,
   "metadata": {},
   "outputs": [
    {
     "data": {
      "text/plain": [
       "true"
      ]
     },
     "execution_count": 49,
     "metadata": {},
     "output_type": "execute_result"
    }
   ],
   "source": [
    "istaskdone(tsk)"
   ]
  },
  {
   "cell_type": "code",
   "execution_count": null,
   "metadata": {},
   "outputs": [],
   "source": [
    "\n",
    "schedule(tsk)\n",
    "sleeped = 0\n",
    "interupted = false\n",
    "while !istaskdone(tsk)\n",
    "    sleep(10)\n",
    "    sleeped +=  5\n",
    "    if sleeped > 10\n",
    "        interupted = true\n",
    "        Base.throwto(tsk, InterruptException())\n",
    "    end\n",
    "end\n",
    "        \n",
    "        \n",
    "    "
   ]
  },
  {
   "cell_type": "code",
   "execution_count": 56,
   "metadata": {},
   "outputs": [
    {
     "data": {
      "text/plain": [
       "(\u001b[1m715×5 DataFrame\u001b[0m\n",
       "\u001b[1m Row \u001b[0m│\u001b[1m step  \u001b[0m\u001b[1m id    \u001b[0m\u001b[1m pos   \u001b[0m\u001b[1m dest  \u001b[0m\u001b[1m head  \u001b[0m\n",
       "\u001b[1m     \u001b[0m│\u001b[90m Int64 \u001b[0m\u001b[90m Int64 \u001b[0m\u001b[90m Int64 \u001b[0m\u001b[90m Int64 \u001b[0m\u001b[90m Int64 \u001b[0m\n",
       "─────┼───────────────────────────────────\n",
       "   1 │     0      1     31      0      1\n",
       "   2 │     0      2     62      0      1\n",
       "   3 │     0      3     93      0      1\n",
       "   4 │     0      4    124      0      1\n",
       "   5 │     0      5    155      0      1\n",
       "   6 │     1      1     31     48      1\n",
       "   7 │     1      2     62     40      1\n",
       "   8 │     1      3     93     44      1\n",
       "   9 │     1      4    124     36      1\n",
       "  10 │     1      5    155     32      1\n",
       "  11 │     2      1     30     48      1\n",
       "  ⋮  │   ⋮      ⋮      ⋮      ⋮      ⋮\n",
       " 706 │   141      1    685     52      1\n",
       " 707 │   141      2     60     60      1\n",
       " 708 │   141      3     48     48      1\n",
       " 709 │   141      4    941    942      1\n",
       " 710 │   141      5     40     40      1\n",
       " 711 │   142      1    654     52      1\n",
       " 712 │   142      2     60     60      1\n",
       " 713 │   142      3     48     48      1\n",
       " 714 │   142      4    942     56      1\n",
       " 715 │   142      5     40     40      1\n",
       "\u001b[36m                         694 rows omitted\u001b[0m, \u001b[1m143×5 DataFrame\u001b[0m\n",
       "\u001b[1m Row \u001b[0m│\u001b[1m step  \u001b[0m\u001b[1m last_spot \u001b[0m\u001b[1m pl                                \u001b[0m\u001b[1m replaned \u001b[0m\u001b[1m packages\u001b[0m ⋯\n",
       "\u001b[1m     \u001b[0m│\u001b[90m Int64 \u001b[0m\u001b[90m Int64     \u001b[0m\u001b[90m Array…                            \u001b[0m\u001b[90m Int64    \u001b[0m\u001b[90m Int64   \u001b[0m ⋯\n",
       "─────┼──────────────────────────────────────────────────────────────────────────\n",
       "   1 │     0          8  [1, 38, 226, 226, 203, 95, 51, 9…         0           ⋯\n",
       "   2 │     1          5  [1, 38, 226, 226, 203, 95, 51, 9…         1\n",
       "   3 │     2          5  [1, 38, 226, 226, 203, 95, 51, 9…         1\n",
       "   4 │     3          5  [1, 38, 226, 226, 203, 95, 51, 9…         1\n",
       "   5 │     4          5  [1, 38, 226, 226, 203, 95, 51, 9…         1           ⋯\n",
       "   6 │     5          5  [1, 38, 226, 226, 203, 95, 51, 9…         1\n",
       "   7 │     6          5  [1, 38, 226, 226, 203, 95, 51, 9…         1\n",
       "   8 │     7          5  [1, 38, 226, 226, 203, 95, 51, 9…         1\n",
       "   9 │     8          5  [1, 38, 226, 226, 203, 95, 51, 9…         1           ⋯\n",
       "  10 │     9          5  [1, 38, 226, 226, 203, 95, 51, 9…         1\n",
       "  11 │    10          5  [1, 38, 226, 226, 203, 95, 51, 9…         1\n",
       "  ⋮  │   ⋮        ⋮                      ⋮                     ⋮               ⋱\n",
       " 134 │   133          6  Int64[]                                  19\n",
       " 135 │   134          6  Int64[]                                  19           ⋯\n",
       " 136 │   135          6  Int64[]                                  19\n",
       " 137 │   136          6  Int64[]                                  19\n",
       " 138 │   137          6  Int64[]                                  19\n",
       " 139 │   138          6  Int64[]                                  19           ⋯\n",
       " 140 │   139          6  Int64[]                                  19\n",
       " 141 │   140          6  Int64[]                                  19\n",
       " 142 │   141          6  Int64[]                                  19\n",
       " 143 │   142          7  Int64[]                                  20           ⋯\n",
       "\u001b[36m                                                   1 column and 122 rows omitted\u001b[0m)"
      ]
     },
     "execution_count": 56,
     "metadata": {},
     "output_type": "execute_result"
    }
   ],
   "source": [
    "adf, mdf = fetch(tsk)"
   ]
  },
  {
   "cell_type": "code",
   "execution_count": 43,
   "metadata": {},
   "outputs": [
    {
     "ename": "LoadError",
     "evalue": "TaskFailedException\n\n\u001b[91m    nested task error: \u001b[39mInterruptException:\n    Stacktrace:\n     [1] \u001b[0m\u001b[1ma_star_impl!\u001b[22m\u001b[0m\u001b[1m(\u001b[22m\u001b[90mg\u001b[39m::\u001b[0mMetaDiGraph\u001b[90m{Int64, Float64}\u001b[39m, \u001b[90mgoal\u001b[39m::\u001b[0mInt64, \u001b[90mopen_set\u001b[39m::\u001b[0mPriorityQueue\u001b[90m{Integer, Float64, Base.Order.ForwardOrdering}\u001b[39m, \u001b[90mclosed_set\u001b[39m::\u001b[0mVector\u001b[90m{Bool}\u001b[39m, \u001b[90mg_score\u001b[39m::\u001b[0mVector\u001b[90m{Float64}\u001b[39m, \u001b[90mf_score\u001b[39m::\u001b[0mVector\u001b[90m{Float64}\u001b[39m, \u001b[90mcame_from\u001b[39m::\u001b[0mVector\u001b[90m{Int64}\u001b[39m, \u001b[90mdistmx\u001b[39m::\u001b[0mMetaGraphs.MetaWeights\u001b[90m{Int64, Float64}\u001b[39m, \u001b[90mheuristic\u001b[39m::\u001b[0mvar\"#97#98\"\u001b[90m{Float64}\u001b[39m, \u001b[90mconstraints\u001b[39m::\u001b[0mDict\u001b[90m{Int64, MutableLinkedList}\u001b[39m\u001b[0m\u001b[1m)\u001b[22m\n    \u001b[90m   @ \u001b[39m\u001b[35mMain\u001b[39m \u001b[90m~/projects/agents/warehouse/src/\u001b[39m\u001b[90;4ma_star_cbs.jl:81\u001b[0m\n     [2] \u001b[0m\u001b[1ma_star\u001b[22m\u001b[0m\u001b[1m(\u001b[22m\u001b[90mg\u001b[39m::\u001b[0mMetaDiGraph\u001b[90m{Int64, Float64}\u001b[39m, \u001b[90ms\u001b[39m::\u001b[0mInt64, \u001b[90mt\u001b[39m::\u001b[0mInt64, \u001b[90mconstraints\u001b[39m::\u001b[0mDict\u001b[90m{Int64, MutableLinkedList}\u001b[39m, \u001b[90mdistmx\u001b[39m::\u001b[0mMetaGraphs.MetaWeights\u001b[90m{Int64, Float64}\u001b[39m, \u001b[90mheuristic\u001b[39m::\u001b[0mvar\"#97#98\"\u001b[90m{Float64}\u001b[39m\u001b[0m\u001b[1m)\u001b[22m\n    \u001b[90m   @ \u001b[39m\u001b[35mMain\u001b[39m \u001b[90m~/projects/agents/warehouse/src/\u001b[39m\u001b[90;4ma_star_cbs.jl:54\u001b[0m\n     [3] \u001b[0m\u001b[1ma_star\u001b[22m\u001b[0m\u001b[1m(\u001b[22m\u001b[90mg\u001b[39m::\u001b[0mMetaDiGraph\u001b[90m{Int64, Float64}\u001b[39m, \u001b[90ms\u001b[39m::\u001b[0mInt64, \u001b[90mt\u001b[39m::\u001b[0mInt64, \u001b[90mconstraints\u001b[39m::\u001b[0mDict\u001b[90m{Int64, MutableLinkedList}\u001b[39m, \u001b[90mdistmx\u001b[39m::\u001b[0mMetaGraphs.MetaWeights\u001b[90m{Int64, Float64}\u001b[39m\u001b[0m\u001b[1m)\u001b[22m\u001b[90m (repeats 2 times)\u001b[39m\n    \u001b[90m   @ \u001b[39m\u001b[35mMain\u001b[39m \u001b[90m~/projects/agents/warehouse/src/\u001b[39m\u001b[90;4ma_star_cbs.jl:35\u001b[0m\n     [4] \u001b[0m\u001b[1mcbs\u001b[22m\u001b[0m\u001b[1m(\u001b[22m\u001b[90mroot\u001b[39m::\u001b[0mCBSNode\u001b[90m{LightGraphs.SimpleGraphs.SimpleEdge{Int64}}\u001b[39m, \u001b[90mgraph\u001b[39m::\u001b[0mSimpleGraph\u001b[90m{Int64}\u001b[39m\u001b[0m\u001b[1m)\u001b[22m\n    \u001b[90m   @ \u001b[39m\u001b[35mMain\u001b[39m \u001b[90m~/projects/agents/warehouse/src/\u001b[39m\u001b[90;4ma_star_cbs.jl:226\u001b[0m\n     [5] \u001b[0m\u001b[1mwarehouse_step_cbs!\u001b[22m\u001b[0m\u001b[1m(\u001b[22m\u001b[90mmodel\u001b[39m::\u001b[0mAgentBasedModel\u001b[90m{GraphSpace{SimpleGraph{Int64}}, Robot, typeof(fastest), Dict{Symbol, Any}}\u001b[39m\u001b[0m\u001b[1m)\u001b[22m\n    \u001b[90m   @ \u001b[39m\u001b[35mMain\u001b[39m \u001b[90m~/projects/agents/warehouse/src/\u001b[39m\u001b[90;4mcbs.jl:97\u001b[0m\n     [6] \u001b[0m\u001b[1mstep!\u001b[22m\u001b[0m\u001b[1m(\u001b[22m\u001b[90mmodel\u001b[39m::\u001b[0mAgentBasedModel\u001b[90m{GraphSpace{SimpleGraph{Int64}}, Robot, typeof(fastest), Dict{Symbol, Any}}\u001b[39m, \u001b[90magent_step!\u001b[39m::\u001b[0mtypeof(robot_step_cbs!), \u001b[90mmodel_step!\u001b[39m::\u001b[0mtypeof(warehouse_step_cbs!), \u001b[90mn\u001b[39m::\u001b[0mInt64, \u001b[90magents_first\u001b[39m::\u001b[0mBool\u001b[0m\u001b[1m)\u001b[22m\n    \u001b[90m   @ \u001b[39m\u001b[36mAgents\u001b[39m \u001b[90m~/.julia/packages/Agents/y6YAg/src/simulations/\u001b[39m\u001b[90;4mstep.jl:53\u001b[0m\n     [7] \u001b[0m\u001b[1m_run!\u001b[22m\u001b[0m\u001b[1m(\u001b[22m\u001b[90mmodel\u001b[39m::\u001b[0mAgentBasedModel\u001b[90m{GraphSpace{SimpleGraph{Int64}}, Robot, typeof(fastest), Dict{Symbol, Any}}\u001b[39m, \u001b[90magent_step!\u001b[39m::\u001b[0mtypeof(robot_step_cbs!), \u001b[90mmodel_step!\u001b[39m::\u001b[0mtypeof(warehouse_step_cbs!), \u001b[90mn\u001b[39m::\u001b[0mtypeof(terminate_warehouse_sim); \u001b[90mwhen\u001b[39m::\u001b[0mBool, \u001b[90mwhen_model\u001b[39m::\u001b[0mBool, \u001b[90mmdata\u001b[39m::\u001b[0mVector\u001b[90m{Any}\u001b[39m, \u001b[90madata\u001b[39m::\u001b[0mVector\u001b[90m{Symbol}\u001b[39m, \u001b[90mobtainer\u001b[39m::\u001b[0mFunction, \u001b[90magents_first\u001b[39m::\u001b[0mBool\u001b[0m\u001b[1m)\u001b[22m\n    \u001b[90m   @ \u001b[39m\u001b[36mAgents\u001b[39m \u001b[90m~/.julia/packages/Agents/y6YAg/src/simulations/\u001b[39m\u001b[90;4mcollect.jl:145\u001b[0m\n     [8] \u001b[0m\u001b[1m#run!#175\u001b[22m\n    \u001b[90m   @ \u001b[39m\u001b[90m~/.julia/packages/Agents/y6YAg/src/simulations/\u001b[39m\u001b[90;4mcollect.jl:114\u001b[0m\u001b[90m [inlined]\u001b[39m\n     [9] \u001b[0m\u001b[1m(::var\"#150#152\")\u001b[22m\u001b[0m\u001b[1m(\u001b[22m\u001b[0m\u001b[1m)\u001b[22m\n    \u001b[90m   @ \u001b[39m\u001b[35mMain\u001b[39m \u001b[90m./\u001b[39m\u001b[90;4mtask.jl:123\u001b[0m",
     "output_type": "error",
     "traceback": [
      "TaskFailedException\n\n\u001b[91m    nested task error: \u001b[39mInterruptException:\n    Stacktrace:\n     [1] \u001b[0m\u001b[1ma_star_impl!\u001b[22m\u001b[0m\u001b[1m(\u001b[22m\u001b[90mg\u001b[39m::\u001b[0mMetaDiGraph\u001b[90m{Int64, Float64}\u001b[39m, \u001b[90mgoal\u001b[39m::\u001b[0mInt64, \u001b[90mopen_set\u001b[39m::\u001b[0mPriorityQueue\u001b[90m{Integer, Float64, Base.Order.ForwardOrdering}\u001b[39m, \u001b[90mclosed_set\u001b[39m::\u001b[0mVector\u001b[90m{Bool}\u001b[39m, \u001b[90mg_score\u001b[39m::\u001b[0mVector\u001b[90m{Float64}\u001b[39m, \u001b[90mf_score\u001b[39m::\u001b[0mVector\u001b[90m{Float64}\u001b[39m, \u001b[90mcame_from\u001b[39m::\u001b[0mVector\u001b[90m{Int64}\u001b[39m, \u001b[90mdistmx\u001b[39m::\u001b[0mMetaGraphs.MetaWeights\u001b[90m{Int64, Float64}\u001b[39m, \u001b[90mheuristic\u001b[39m::\u001b[0mvar\"#97#98\"\u001b[90m{Float64}\u001b[39m, \u001b[90mconstraints\u001b[39m::\u001b[0mDict\u001b[90m{Int64, MutableLinkedList}\u001b[39m\u001b[0m\u001b[1m)\u001b[22m\n    \u001b[90m   @ \u001b[39m\u001b[35mMain\u001b[39m \u001b[90m~/projects/agents/warehouse/src/\u001b[39m\u001b[90;4ma_star_cbs.jl:81\u001b[0m\n     [2] \u001b[0m\u001b[1ma_star\u001b[22m\u001b[0m\u001b[1m(\u001b[22m\u001b[90mg\u001b[39m::\u001b[0mMetaDiGraph\u001b[90m{Int64, Float64}\u001b[39m, \u001b[90ms\u001b[39m::\u001b[0mInt64, \u001b[90mt\u001b[39m::\u001b[0mInt64, \u001b[90mconstraints\u001b[39m::\u001b[0mDict\u001b[90m{Int64, MutableLinkedList}\u001b[39m, \u001b[90mdistmx\u001b[39m::\u001b[0mMetaGraphs.MetaWeights\u001b[90m{Int64, Float64}\u001b[39m, \u001b[90mheuristic\u001b[39m::\u001b[0mvar\"#97#98\"\u001b[90m{Float64}\u001b[39m\u001b[0m\u001b[1m)\u001b[22m\n    \u001b[90m   @ \u001b[39m\u001b[35mMain\u001b[39m \u001b[90m~/projects/agents/warehouse/src/\u001b[39m\u001b[90;4ma_star_cbs.jl:54\u001b[0m\n     [3] \u001b[0m\u001b[1ma_star\u001b[22m\u001b[0m\u001b[1m(\u001b[22m\u001b[90mg\u001b[39m::\u001b[0mMetaDiGraph\u001b[90m{Int64, Float64}\u001b[39m, \u001b[90ms\u001b[39m::\u001b[0mInt64, \u001b[90mt\u001b[39m::\u001b[0mInt64, \u001b[90mconstraints\u001b[39m::\u001b[0mDict\u001b[90m{Int64, MutableLinkedList}\u001b[39m, \u001b[90mdistmx\u001b[39m::\u001b[0mMetaGraphs.MetaWeights\u001b[90m{Int64, Float64}\u001b[39m\u001b[0m\u001b[1m)\u001b[22m\u001b[90m (repeats 2 times)\u001b[39m\n    \u001b[90m   @ \u001b[39m\u001b[35mMain\u001b[39m \u001b[90m~/projects/agents/warehouse/src/\u001b[39m\u001b[90;4ma_star_cbs.jl:35\u001b[0m\n     [4] \u001b[0m\u001b[1mcbs\u001b[22m\u001b[0m\u001b[1m(\u001b[22m\u001b[90mroot\u001b[39m::\u001b[0mCBSNode\u001b[90m{LightGraphs.SimpleGraphs.SimpleEdge{Int64}}\u001b[39m, \u001b[90mgraph\u001b[39m::\u001b[0mSimpleGraph\u001b[90m{Int64}\u001b[39m\u001b[0m\u001b[1m)\u001b[22m\n    \u001b[90m   @ \u001b[39m\u001b[35mMain\u001b[39m \u001b[90m~/projects/agents/warehouse/src/\u001b[39m\u001b[90;4ma_star_cbs.jl:226\u001b[0m\n     [5] \u001b[0m\u001b[1mwarehouse_step_cbs!\u001b[22m\u001b[0m\u001b[1m(\u001b[22m\u001b[90mmodel\u001b[39m::\u001b[0mAgentBasedModel\u001b[90m{GraphSpace{SimpleGraph{Int64}}, Robot, typeof(fastest), Dict{Symbol, Any}}\u001b[39m\u001b[0m\u001b[1m)\u001b[22m\n    \u001b[90m   @ \u001b[39m\u001b[35mMain\u001b[39m \u001b[90m~/projects/agents/warehouse/src/\u001b[39m\u001b[90;4mcbs.jl:97\u001b[0m\n     [6] \u001b[0m\u001b[1mstep!\u001b[22m\u001b[0m\u001b[1m(\u001b[22m\u001b[90mmodel\u001b[39m::\u001b[0mAgentBasedModel\u001b[90m{GraphSpace{SimpleGraph{Int64}}, Robot, typeof(fastest), Dict{Symbol, Any}}\u001b[39m, \u001b[90magent_step!\u001b[39m::\u001b[0mtypeof(robot_step_cbs!), \u001b[90mmodel_step!\u001b[39m::\u001b[0mtypeof(warehouse_step_cbs!), \u001b[90mn\u001b[39m::\u001b[0mInt64, \u001b[90magents_first\u001b[39m::\u001b[0mBool\u001b[0m\u001b[1m)\u001b[22m\n    \u001b[90m   @ \u001b[39m\u001b[36mAgents\u001b[39m \u001b[90m~/.julia/packages/Agents/y6YAg/src/simulations/\u001b[39m\u001b[90;4mstep.jl:53\u001b[0m\n     [7] \u001b[0m\u001b[1m_run!\u001b[22m\u001b[0m\u001b[1m(\u001b[22m\u001b[90mmodel\u001b[39m::\u001b[0mAgentBasedModel\u001b[90m{GraphSpace{SimpleGraph{Int64}}, Robot, typeof(fastest), Dict{Symbol, Any}}\u001b[39m, \u001b[90magent_step!\u001b[39m::\u001b[0mtypeof(robot_step_cbs!), \u001b[90mmodel_step!\u001b[39m::\u001b[0mtypeof(warehouse_step_cbs!), \u001b[90mn\u001b[39m::\u001b[0mtypeof(terminate_warehouse_sim); \u001b[90mwhen\u001b[39m::\u001b[0mBool, \u001b[90mwhen_model\u001b[39m::\u001b[0mBool, \u001b[90mmdata\u001b[39m::\u001b[0mVector\u001b[90m{Any}\u001b[39m, \u001b[90madata\u001b[39m::\u001b[0mVector\u001b[90m{Symbol}\u001b[39m, \u001b[90mobtainer\u001b[39m::\u001b[0mFunction, \u001b[90magents_first\u001b[39m::\u001b[0mBool\u001b[0m\u001b[1m)\u001b[22m\n    \u001b[90m   @ \u001b[39m\u001b[36mAgents\u001b[39m \u001b[90m~/.julia/packages/Agents/y6YAg/src/simulations/\u001b[39m\u001b[90;4mcollect.jl:145\u001b[0m\n     [8] \u001b[0m\u001b[1m#run!#175\u001b[22m\n    \u001b[90m   @ \u001b[39m\u001b[90m~/.julia/packages/Agents/y6YAg/src/simulations/\u001b[39m\u001b[90;4mcollect.jl:114\u001b[0m\u001b[90m [inlined]\u001b[39m\n     [9] \u001b[0m\u001b[1m(::var\"#150#152\")\u001b[22m\u001b[0m\u001b[1m(\u001b[22m\u001b[0m\u001b[1m)\u001b[22m\n    \u001b[90m   @ \u001b[39m\u001b[35mMain\u001b[39m \u001b[90m./\u001b[39m\u001b[90;4mtask.jl:123\u001b[0m",
      "",
      "Stacktrace:",
      " [1] wait",
      "   @ ./task.jl:322 [inlined]",
      " [2] fetch(t::Task)",
      "   @ Base ./task.jl:337",
      " [3] top-level scope",
      "   @ In[31]:8",
      " [4] eval",
      "   @ ./boot.jl:360 [inlined]",
      " [5] include_string(mapexpr::typeof(REPL.softscope), mod::Module, code::String, filename::String)",
      "   @ Base ./loading.jl:1116"
     ]
    }
   ],
   "source": [
    "CSV.write(\"$(edir)$(name)_adata.csv\",adf)\n",
    "CSV.write(\"$(edir)$(name)_mdata.csv\",mdf)\n",
    "terminate_warehouse_sim(warehouse,1)"
   ]
  },
  {
   "cell_type": "code",
   "execution_count": 40,
   "metadata": {},
   "outputs": [
    {
     "data": {
      "text/plain": [
       "true"
      ]
     },
     "execution_count": 40,
     "metadata": {},
     "output_type": "execute_result"
    }
   ],
   "source": [
    "terminate_warehouse_sim(warehouse,1)"
   ]
  }
 ],
 "metadata": {
  "kernelspec": {
   "display_name": "Julia 1.6.2",
   "language": "julia",
   "name": "julia-1.6"
  },
  "language_info": {
   "file_extension": ".jl",
   "mimetype": "application/julia",
   "name": "julia",
   "version": "1.6.2"
  }
 },
 "nbformat": 4,
 "nbformat_minor": 4
}
