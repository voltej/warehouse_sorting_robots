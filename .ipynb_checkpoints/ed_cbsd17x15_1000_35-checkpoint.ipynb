{
 "cells": [
  {
   "cell_type": "code",
   "execution_count": 3,
   "metadata": {},
   "outputs": [],
   "source": [
    "using Warehouse\n",
    "using Random\n",
    "using Agents\n",
    "using CSV"
   ]
  },
  {
   "cell_type": "code",
   "execution_count": 4,
   "metadata": {},
   "outputs": [
    {
     "ename": "LoadError",
     "evalue": "UndefVarError: ed_cbsd17x15_1000_35 not defined",
     "output_type": "error",
     "traceback": [
      "UndefVarError: ed_cbsd17x15_1000_35 not defined",
      "",
      "Stacktrace:",
      " [1] top-level scope",
      "   @ In[4]:2",
      " [2] eval",
      "   @ ./boot.jl:360 [inlined]",
      " [3] include_string(mapexpr::typeof(REPL.softscope), mod::Module, code::String, filename::String)",
      "   @ Base ./loading.jl:1116"
     ]
    }
   ],
   "source": [
    "#%%\n",
    "ed = ed_cbsd17x15_1000_35 \n",
    "     \n",
    "\n",
    "# edir =\"/home/datalab/projects/agents/warehouse/experiments/$(ed.identifier)/\"  \n",
    "# if !isdir(edir)\n",
    "#     mkdir(edir)\n",
    "# end"
   ]
  },
  {
   "cell_type": "code",
   "execution_count": 5,
   "metadata": {},
   "outputs": [
    {
     "data": {
      "text/plain": [
       "152"
      ]
     },
     "execution_count": 5,
     "metadata": {},
     "output_type": "execute_result"
    }
   ],
   "source": [
    "warehouse.step"
   ]
  },
  {
   "cell_type": "code",
   "execution_count": 2,
   "metadata": {},
   "outputs": [
    {
     "ename": "LoadError",
     "evalue": "UndefVarError: ed not defined",
     "output_type": "error",
     "traceback": [
      "UndefVarError: ed not defined",
      "",
      "Stacktrace:",
      " [1] top-level scope",
      "   @ In[2]:5",
      " [2] eval",
      "   @ ./boot.jl:360 [inlined]",
      " [3] include_string(mapexpr::typeof(REPL.softscope), mod::Module, code::String, filename::String)",
      "   @ Base ./loading.jl:1116"
     ]
    }
   ],
   "source": [
    "#%%\n",
    "seed=1\n",
    "# for seed in seeds\n",
    "    Random.seed!(seed)\n",
    "    name =  get_experiment_name(ed,seed)\n",
    "    warehouse, plot_warehouse = init_warehouse_with_plot(ed.warehouse_definition;seed=seed)\n",
    "    @time adf, mdf = run!(warehouse, ed.robot_step,ed.warehouse_step,terminate_warehouse_sim; \n",
    "    adata=adata,mdata=mdata,agents_first=true)\n",
    "#     CSV.write(\"$(edir)$(name)_adata.csv\",adf)\n",
    "#     CSV.write(\"$(edir)$(name)_mdata.csv\",mdf)\n",
    "    # animate_warehouse(;warehouse=warehouse, \n",
    "    # robot_step=robot_step_highway_nowait!,\n",
    "    # warehouse_step = warehouse_step_highway!,\n",
    "    # terminate_warehouse_sim=terminate_warehouse_sim,\n",
    "    # name=name,\n",
    "    # plot_fn=plot_warehouse)\n",
    "\n",
    "# end"
   ]
  },
  {
   "cell_type": "code",
   "execution_count": 5,
   "metadata": {},
   "outputs": [
    {
     "ename": "LoadError",
     "evalue": "UndefVarError: robot_step_highway_nowait! not defined",
     "output_type": "error",
     "traceback": [
      "UndefVarError: robot_step_highway_nowait! not defined",
      "",
      "Stacktrace:",
      " [1] top-level scope",
      "   @ In[5]:2",
      " [2] eval",
      "   @ ./boot.jl:360 [inlined]",
      " [3] include_string(mapexpr::typeof(REPL.softscope), mod::Module, code::String, filename::String)",
      "   @ Base ./loading.jl:1116"
     ]
    }
   ],
   "source": [
    "warehouse, plot_warehouse = init_warehouse_with_plot(ed.warehouse_definition;seed=seed)  \n",
    "animate_warehouse(;warehouse=warehouse, \n",
    "    robot_step=robot_step_highway_nowait!,\n",
    "    warehouse_step = warehouse_step_highway!,\n",
    "    terminate_warehouse_sim=terminate_warehouse_sim,\n",
    "    name=name,\n",
    "    plot_fn=plot_warehouse)"
   ]
  }
 ],
 "metadata": {
  "kernelspec": {
   "display_name": "Julia 1.6.2",
   "language": "julia",
   "name": "julia-1.6"
  },
  "language_info": {
   "file_extension": ".jl",
   "mimetype": "application/julia",
   "name": "julia",
   "version": "1.6.2"
  }
 },
 "nbformat": 4,
 "nbformat_minor": 4
}
