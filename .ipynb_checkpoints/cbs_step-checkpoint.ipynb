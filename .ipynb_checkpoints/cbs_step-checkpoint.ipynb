{
 "cells": [
  {
   "cell_type": "code",
   "execution_count": 32,
   "id": "funky-program",
   "metadata": {},
   "outputs": [],
   "source": [
    "using Agents, Plots, LightGraphs, GraphRecipes, MetaGraphs, Random\n",
    "# include(\"warehouse.jl\")"
   ]
  },
  {
   "cell_type": "code",
   "execution_count": 3,
   "id": "adopted-amsterdam",
   "metadata": {},
   "outputs": [
    {
     "data": {
      "text/plain": [
       "terminate_warehouse_sim (generic function with 1 method)"
      ]
     },
     "execution_count": 3,
     "metadata": {},
     "output_type": "execute_result"
    }
   ],
   "source": [
    "include(\"src/warehouse.jl\")"
   ]
  },
  {
   "cell_type": "code",
   "execution_count": 43,
   "id": "peripheral-period",
   "metadata": {},
   "outputs": [
    {
     "data": {
      "text/plain": [
       "2-element Vector{Vector{LightGraphs.SimpleGraphs.SimpleEdge{Int64}}}:\n",
       " [Edge 1 => 4, Edge 4 => 8, Edge 8 => 11, Edge 11 => 12]\n",
       " [Edge 3 => 4, Edge 4 => 5, Edge 5 => 6, Edge 6 => 10]"
      ]
     },
     "metadata": {},
     "output_type": "display_data"
    },
    {
     "data": {
      "text/plain": [
       "2-element Vector{Vector{LightGraphs.SimpleGraphs.SimpleEdge{Int64}}}:\n",
       " [Edge 1 => 2, Edge 2 => 5, Edge 5 => 9, Edge 9 => 12]\n",
       " [Edge 3 => 4, Edge 4 => 4, Edge 4 => 5, Edge 5 => 9, Edge 9 => 10]"
      ]
     },
     "metadata": {},
     "output_type": "display_data"
    }
   ],
   "source": [
    "include(\"src/a_star_cbs.jl\")"
   ]
  },
  {
   "cell_type": "markdown",
   "id": "progressive-standing",
   "metadata": {},
   "source": [
    "# Init Warehouse"
   ]
  },
  {
   "cell_type": "code",
   "execution_count": 118,
   "id": "stuck-radar",
   "metadata": {},
   "outputs": [
    {
     "data": {
      "text/plain": [
       "35×35 SparseArrays.SparseMatrixCSC{Int64, Int64} with 68 stored entries:\n",
       "⠪⡢⡈⠠⠀⠀⠀⠀⠀⠀⠀⠀⠀⠀⠀⠀⠀⠀\n",
       "⠂⡈⠀⠀⠈⠂⡀⠀⠀⠀⠀⠀⠀⠀⠀⠀⠀⠀\n",
       "⠀⠀⠢⠀⠀⡠⡀⠢⠀⠀⠀⠀⠀⠀⠀⠀⠀⠀\n",
       "⠀⠀⠀⠈⠠⡈⠪⠂⠈⠠⡀⠀⠀⠀⠀⠀⠀⠀\n",
       "⠀⠀⠀⠀⠀⠀⠂⡀⠀⠀⠀⠂⡀⠀⠀⠀⠀⠀\n",
       "⠀⠀⠀⠀⠀⠀⠀⠈⠠⠀⠪⡢⡈⠠⠀⠀⠀⠀\n",
       "⠀⠀⠀⠀⠀⠀⠀⠀⠀⠈⠂⡈⠀⠀⠈⠂⡀⠀\n",
       "⠀⠀⠀⠀⠀⠀⠀⠀⠀⠀⠀⠀⠢⠀⠀⡠⡀⠂\n",
       "⠀⠀⠀⠀⠀⠀⠀⠀⠀⠀⠀⠀⠀⠈⠠⠈⠪⠂"
      ]
     },
     "execution_count": 118,
     "metadata": {},
     "output_type": "execute_result"
    }
   ],
   "source": [
    "adjacency_matrix(g)"
   ]
  },
  {
   "cell_type": "code",
   "execution_count": 58,
   "id": "round-sitting",
   "metadata": {
    "scrolled": false
   },
   "outputs": [
    {
     "data": {
      "image/svg+xml": [
       "<?xml version=\"1.0\" encoding=\"utf-8\"?>\n",
       "<svg xmlns=\"http://www.w3.org/2000/svg\" xmlns:xlink=\"http://www.w3.org/1999/xlink\" width=\"500\" height=\"500\" viewBox=\"0 0 2000 2000\">\n",
       "<defs>\n",
       "  <clipPath id=\"clip570\">\n",
       "    <rect x=\"0\" y=\"0\" width=\"2000\" height=\"2000\"/>\n",
       "  </clipPath>\n",
       "</defs>\n",
       "<path clip-path=\"url(#clip570)\" d=\"\n",
       "M0 2000 L2000 2000 L2000 0 L0 0  Z\n",
       "  \" fill=\"#ffffff\" fill-rule=\"evenodd\" fill-opacity=\"1\"/>\n",
       "<defs>\n",
       "  <clipPath id=\"clip571\">\n",
       "    <rect x=\"400\" y=\"200\" width=\"1401\" height=\"1401\"/>\n",
       "  </clipPath>\n",
       "</defs>\n",
       "<path clip-path=\"url(#clip570)\" d=\"\n",
       "M394.619 1917.01 L1641.13 1917.01 L1641.13 47.2441 L394.619 47.2441  Z\n",
       "  \" fill=\"#ffffff\" fill-rule=\"evenodd\" fill-opacity=\"1\"/>\n",
       "<defs>\n",
       "  <clipPath id=\"clip572\">\n",
       "    <rect x=\"394\" y=\"47\" width=\"1248\" height=\"1871\"/>\n",
       "  </clipPath>\n",
       "</defs>\n",
       "<polyline clip-path=\"url(#clip572)\" style=\"stroke:#000000; stroke-width:4; stroke-opacity:1; fill:none\" points=\"\n",
       "  572.692,1649.9 795.283,1649.9 \n",
       "  \"/>\n",
       "<polyline clip-path=\"url(#clip572)\" style=\"stroke:#000000; stroke-width:4; stroke-opacity:1; fill:none\" points=\"\n",
       "  572.692,1649.9 572.692,1427.31 \n",
       "  \"/>\n",
       "<polyline clip-path=\"url(#clip572)\" style=\"stroke:#000000; stroke-width:4; stroke-opacity:1; fill:none\" points=\"\n",
       "  795.283,1649.9 1017.87,1649.9 \n",
       "  \"/>\n",
       "<polyline clip-path=\"url(#clip572)\" style=\"stroke:#000000; stroke-width:4; stroke-opacity:1; fill:none\" points=\"\n",
       "  1017.87,1649.9 1240.46,1649.9 \n",
       "  \"/>\n",
       "<polyline clip-path=\"url(#clip572)\" style=\"stroke:#000000; stroke-width:4; stroke-opacity:1; fill:none\" points=\"\n",
       "  1017.87,1649.9 1017.87,1427.31 \n",
       "  \"/>\n",
       "<polyline clip-path=\"url(#clip572)\" style=\"stroke:#000000; stroke-width:4; stroke-opacity:1; fill:none\" points=\"\n",
       "  1240.46,1649.9 1463.06,1649.9 \n",
       "  \"/>\n",
       "<polyline clip-path=\"url(#clip572)\" style=\"stroke:#000000; stroke-width:4; stroke-opacity:1; fill:none\" points=\"\n",
       "  1463.06,1649.9 1463.06,1427.31 \n",
       "  \"/>\n",
       "<polyline clip-path=\"url(#clip572)\" style=\"stroke:#000000; stroke-width:4; stroke-opacity:1; fill:none\" points=\"\n",
       "  572.692,1427.31 572.692,1204.72 \n",
       "  \"/>\n",
       "<polyline clip-path=\"url(#clip572)\" style=\"stroke:#000000; stroke-width:4; stroke-opacity:1; fill:none\" points=\"\n",
       "  1017.87,1427.31 1017.87,1204.72 \n",
       "  \"/>\n",
       "<polyline clip-path=\"url(#clip572)\" style=\"stroke:#000000; stroke-width:4; stroke-opacity:1; fill:none\" points=\"\n",
       "  1463.06,1427.31 1463.06,1204.72 \n",
       "  \"/>\n",
       "<polyline clip-path=\"url(#clip572)\" style=\"stroke:#000000; stroke-width:4; stroke-opacity:1; fill:none\" points=\"\n",
       "  572.692,1204.72 795.283,1204.72 \n",
       "  \"/>\n",
       "<polyline clip-path=\"url(#clip572)\" style=\"stroke:#000000; stroke-width:4; stroke-opacity:1; fill:none\" points=\"\n",
       "  572.692,1204.72 572.692,982.126 \n",
       "  \"/>\n",
       "<polyline clip-path=\"url(#clip572)\" style=\"stroke:#000000; stroke-width:4; stroke-opacity:1; fill:none\" points=\"\n",
       "  795.283,1204.72 1017.87,1204.72 \n",
       "  \"/>\n",
       "<polyline clip-path=\"url(#clip572)\" style=\"stroke:#000000; stroke-width:4; stroke-opacity:1; fill:none\" points=\"\n",
       "  1017.87,1204.72 1240.46,1204.72 \n",
       "  \"/>\n",
       "<polyline clip-path=\"url(#clip572)\" style=\"stroke:#000000; stroke-width:4; stroke-opacity:1; fill:none\" points=\"\n",
       "  1017.87,1204.72 1017.87,982.126 \n",
       "  \"/>\n",
       "<polyline clip-path=\"url(#clip572)\" style=\"stroke:#000000; stroke-width:4; stroke-opacity:1; fill:none\" points=\"\n",
       "  1240.46,1204.72 1463.06,1204.72 \n",
       "  \"/>\n",
       "<polyline clip-path=\"url(#clip572)\" style=\"stroke:#000000; stroke-width:4; stroke-opacity:1; fill:none\" points=\"\n",
       "  1463.06,1204.72 1463.06,982.126 \n",
       "  \"/>\n",
       "<polyline clip-path=\"url(#clip572)\" style=\"stroke:#000000; stroke-width:4; stroke-opacity:1; fill:none\" points=\"\n",
       "  572.692,982.126 572.692,759.535 \n",
       "  \"/>\n",
       "<polyline clip-path=\"url(#clip572)\" style=\"stroke:#000000; stroke-width:4; stroke-opacity:1; fill:none\" points=\"\n",
       "  1017.87,982.126 1017.87,759.535 \n",
       "  \"/>\n",
       "<polyline clip-path=\"url(#clip572)\" style=\"stroke:#000000; stroke-width:4; stroke-opacity:1; fill:none\" points=\"\n",
       "  1463.06,982.126 1463.06,759.535 \n",
       "  \"/>\n",
       "<polyline clip-path=\"url(#clip572)\" style=\"stroke:#000000; stroke-width:4; stroke-opacity:1; fill:none\" points=\"\n",
       "  572.692,759.535 795.283,759.535 \n",
       "  \"/>\n",
       "<polyline clip-path=\"url(#clip572)\" style=\"stroke:#000000; stroke-width:4; stroke-opacity:1; fill:none\" points=\"\n",
       "  572.692,759.535 572.692,536.944 \n",
       "  \"/>\n",
       "<polyline clip-path=\"url(#clip572)\" style=\"stroke:#000000; stroke-width:4; stroke-opacity:1; fill:none\" points=\"\n",
       "  795.283,759.535 1017.87,759.535 \n",
       "  \"/>\n",
       "<polyline clip-path=\"url(#clip572)\" style=\"stroke:#000000; stroke-width:4; stroke-opacity:1; fill:none\" points=\"\n",
       "  1017.87,759.535 1240.46,759.535 \n",
       "  \"/>\n",
       "<polyline clip-path=\"url(#clip572)\" style=\"stroke:#000000; stroke-width:4; stroke-opacity:1; fill:none\" points=\"\n",
       "  1017.87,759.535 1017.87,536.944 \n",
       "  \"/>\n",
       "<polyline clip-path=\"url(#clip572)\" style=\"stroke:#000000; stroke-width:4; stroke-opacity:1; fill:none\" points=\"\n",
       "  1240.46,759.535 1463.06,759.535 \n",
       "  \"/>\n",
       "<polyline clip-path=\"url(#clip572)\" style=\"stroke:#000000; stroke-width:4; stroke-opacity:1; fill:none\" points=\"\n",
       "  1463.06,759.535 1463.06,536.944 \n",
       "  \"/>\n",
       "<polyline clip-path=\"url(#clip572)\" style=\"stroke:#000000; stroke-width:4; stroke-opacity:1; fill:none\" points=\"\n",
       "  572.692,536.944 572.692,314.353 \n",
       "  \"/>\n",
       "<polyline clip-path=\"url(#clip572)\" style=\"stroke:#000000; stroke-width:4; stroke-opacity:1; fill:none\" points=\"\n",
       "  1017.87,536.944 1017.87,314.353 \n",
       "  \"/>\n",
       "<polyline clip-path=\"url(#clip572)\" style=\"stroke:#000000; stroke-width:4; stroke-opacity:1; fill:none\" points=\"\n",
       "  1463.06,536.944 1463.06,314.353 \n",
       "  \"/>\n",
       "<polyline clip-path=\"url(#clip572)\" style=\"stroke:#000000; stroke-width:4; stroke-opacity:1; fill:none\" points=\"\n",
       "  572.692,314.353 795.283,314.353 \n",
       "  \"/>\n",
       "<polyline clip-path=\"url(#clip572)\" style=\"stroke:#000000; stroke-width:4; stroke-opacity:1; fill:none\" points=\"\n",
       "  795.283,314.353 1017.87,314.353 \n",
       "  \"/>\n",
       "<polyline clip-path=\"url(#clip572)\" style=\"stroke:#000000; stroke-width:4; stroke-opacity:1; fill:none\" points=\"\n",
       "  1017.87,314.353 1240.46,314.353 \n",
       "  \"/>\n",
       "<polyline clip-path=\"url(#clip572)\" style=\"stroke:#000000; stroke-width:4; stroke-opacity:1; fill:none\" points=\"\n",
       "  1240.46,314.353 1463.06,314.353 \n",
       "  \"/>\n",
       "<path clip-path=\"url(#clip572)\" d=\"\n",
       "M588.719 1649.9 L580.705 1636.02 L564.679 1636.02 L556.666 1649.9 L564.679 1663.78 L580.705 1663.78 L588.719 1649.9 L588.719 1649.9  Z\n",
       "  \" fill=\"#009af9\" fill-rule=\"evenodd\" fill-opacity=\"1\"/>\n",
       "<polyline clip-path=\"url(#clip572)\" style=\"stroke:#000000; stroke-width:4; stroke-opacity:1; fill:none\" points=\"\n",
       "  588.719,1649.9 580.705,1636.02 564.679,1636.02 556.666,1649.9 564.679,1663.78 580.705,1663.78 588.719,1649.9 \n",
       "  \"/>\n",
       "<path clip-path=\"url(#clip572)\" d=\"\n",
       "M811.31 1649.9 L803.296 1636.02 L787.27 1636.02 L779.257 1649.9 L787.27 1663.78 L803.296 1663.78 L811.31 1649.9 L811.31 1649.9  Z\n",
       "  \" fill=\"#009af9\" fill-rule=\"evenodd\" fill-opacity=\"1\"/>\n",
       "<polyline clip-path=\"url(#clip572)\" style=\"stroke:#000000; stroke-width:4; stroke-opacity:1; fill:none\" points=\"\n",
       "  811.31,1649.9 803.296,1636.02 787.27,1636.02 779.257,1649.9 787.27,1663.78 803.296,1663.78 811.31,1649.9 \n",
       "  \"/>\n",
       "<path clip-path=\"url(#clip572)\" d=\"\n",
       "M1033.9 1649.9 L1025.89 1636.02 L1009.86 1636.02 L1001.85 1649.9 L1009.86 1663.78 L1025.89 1663.78 L1033.9 1649.9 L1033.9 1649.9  Z\n",
       "  \" fill=\"#009af9\" fill-rule=\"evenodd\" fill-opacity=\"1\"/>\n",
       "<polyline clip-path=\"url(#clip572)\" style=\"stroke:#000000; stroke-width:4; stroke-opacity:1; fill:none\" points=\"\n",
       "  1033.9,1649.9 1025.89,1636.02 1009.86,1636.02 1001.85,1649.9 1009.86,1663.78 1025.89,1663.78 1033.9,1649.9 \n",
       "  \"/>\n",
       "<path clip-path=\"url(#clip572)\" d=\"\n",
       "M1256.49 1649.9 L1248.48 1636.02 L1232.45 1636.02 L1224.44 1649.9 L1232.45 1663.78 L1248.48 1663.78 L1256.49 1649.9 L1256.49 1649.9  Z\n",
       "  \" fill=\"#009af9\" fill-rule=\"evenodd\" fill-opacity=\"1\"/>\n",
       "<polyline clip-path=\"url(#clip572)\" style=\"stroke:#000000; stroke-width:4; stroke-opacity:1; fill:none\" points=\"\n",
       "  1256.49,1649.9 1248.48,1636.02 1232.45,1636.02 1224.44,1649.9 1232.45,1663.78 1248.48,1663.78 1256.49,1649.9 \n",
       "  \"/>\n",
       "<path clip-path=\"url(#clip572)\" d=\"\n",
       "M1479.08 1649.9 L1471.07 1636.02 L1455.04 1636.02 L1447.03 1649.9 L1455.04 1663.78 L1471.07 1663.78 L1479.08 1649.9 L1479.08 1649.9  Z\n",
       "  \" fill=\"#009af9\" fill-rule=\"evenodd\" fill-opacity=\"1\"/>\n",
       "<polyline clip-path=\"url(#clip572)\" style=\"stroke:#000000; stroke-width:4; stroke-opacity:1; fill:none\" points=\"\n",
       "  1479.08,1649.9 1471.07,1636.02 1455.04,1636.02 1447.03,1649.9 1455.04,1663.78 1471.07,1663.78 1479.08,1649.9 \n",
       "  \"/>\n",
       "<path clip-path=\"url(#clip572)\" d=\"\n",
       "M588.719 1427.31 L580.705 1413.43 L564.679 1413.43 L556.666 1427.31 L564.679 1441.19 L580.705 1441.19 L588.719 1427.31 L588.719 1427.31  Z\n",
       "  \" fill=\"#009af9\" fill-rule=\"evenodd\" fill-opacity=\"1\"/>\n",
       "<polyline clip-path=\"url(#clip572)\" style=\"stroke:#000000; stroke-width:4; stroke-opacity:1; fill:none\" points=\"\n",
       "  588.719,1427.31 580.705,1413.43 564.679,1413.43 556.666,1427.31 564.679,1441.19 580.705,1441.19 588.719,1427.31 \n",
       "  \"/>\n",
       "<path clip-path=\"url(#clip572)\" d=\"\n",
       "M811.31 1427.31 L803.296 1413.43 L787.27 1413.43 L779.257 1427.31 L787.27 1441.19 L803.296 1441.19 L811.31 1427.31 L811.31 1427.31  Z\n",
       "  \" fill=\"#009af9\" fill-rule=\"evenodd\" fill-opacity=\"1\"/>\n",
       "<polyline clip-path=\"url(#clip572)\" style=\"stroke:#000000; stroke-width:4; stroke-opacity:1; fill:none\" points=\"\n",
       "  811.31,1427.31 803.296,1413.43 787.27,1413.43 779.257,1427.31 787.27,1441.19 803.296,1441.19 811.31,1427.31 \n",
       "  \"/>\n",
       "<path clip-path=\"url(#clip572)\" d=\"\n",
       "M1033.9 1427.31 L1025.89 1413.43 L1009.86 1413.43 L1001.85 1427.31 L1009.86 1441.19 L1025.89 1441.19 L1033.9 1427.31 L1033.9 1427.31  Z\n",
       "  \" fill=\"#009af9\" fill-rule=\"evenodd\" fill-opacity=\"1\"/>\n",
       "<polyline clip-path=\"url(#clip572)\" style=\"stroke:#000000; stroke-width:4; stroke-opacity:1; fill:none\" points=\"\n",
       "  1033.9,1427.31 1025.89,1413.43 1009.86,1413.43 1001.85,1427.31 1009.86,1441.19 1025.89,1441.19 1033.9,1427.31 \n",
       "  \"/>\n",
       "<path clip-path=\"url(#clip572)\" d=\"\n",
       "M1256.49 1427.31 L1248.48 1413.43 L1232.45 1413.43 L1224.44 1427.31 L1232.45 1441.19 L1248.48 1441.19 L1256.49 1427.31 L1256.49 1427.31  Z\n",
       "  \" fill=\"#009af9\" fill-rule=\"evenodd\" fill-opacity=\"1\"/>\n",
       "<polyline clip-path=\"url(#clip572)\" style=\"stroke:#000000; stroke-width:4; stroke-opacity:1; fill:none\" points=\"\n",
       "  1256.49,1427.31 1248.48,1413.43 1232.45,1413.43 1224.44,1427.31 1232.45,1441.19 1248.48,1441.19 1256.49,1427.31 \n",
       "  \"/>\n",
       "<path clip-path=\"url(#clip572)\" d=\"\n",
       "M1490.96 1427.31 L1477.01 1403.14 L1449.1 1403.14 L1435.15 1427.31 L1449.1 1451.47 L1477.01 1451.47 L1490.96 1427.31 L1490.96 1427.31  Z\n",
       "  \" fill=\"#009af9\" fill-rule=\"evenodd\" fill-opacity=\"1\"/>\n",
       "<polyline clip-path=\"url(#clip572)\" style=\"stroke:#000000; stroke-width:4; stroke-opacity:1; fill:none\" points=\"\n",
       "  1490.96,1427.31 1477.01,1403.14 1449.1,1403.14 1435.15,1427.31 1449.1,1451.47 1477.01,1451.47 1490.96,1427.31 \n",
       "  \"/>\n",
       "<path clip-path=\"url(#clip572)\" d=\"\n",
       "M600.596 1204.72 L586.644 1180.55 L558.74 1180.55 L544.788 1204.72 L558.74 1228.88 L586.644 1228.88 L600.596 1204.72 L600.596 1204.72  Z\n",
       "  \" fill=\"#009af9\" fill-rule=\"evenodd\" fill-opacity=\"1\"/>\n",
       "<polyline clip-path=\"url(#clip572)\" style=\"stroke:#000000; stroke-width:4; stroke-opacity:1; fill:none\" points=\"\n",
       "  600.596,1204.72 586.644,1180.55 558.74,1180.55 544.788,1204.72 558.74,1228.88 586.644,1228.88 600.596,1204.72 \n",
       "  \"/>\n",
       "<path clip-path=\"url(#clip572)\" d=\"\n",
       "M823.187 1204.72 L809.235 1180.55 L781.331 1180.55 L767.379 1204.72 L781.331 1228.88 L809.235 1228.88 L823.187 1204.72 L823.187 1204.72  Z\n",
       "  \" fill=\"#009af9\" fill-rule=\"evenodd\" fill-opacity=\"1\"/>\n",
       "<polyline clip-path=\"url(#clip572)\" style=\"stroke:#000000; stroke-width:4; stroke-opacity:1; fill:none\" points=\"\n",
       "  823.187,1204.72 809.235,1180.55 781.331,1180.55 767.379,1204.72 781.331,1228.88 809.235,1228.88 823.187,1204.72 \n",
       "  \"/>\n",
       "<path clip-path=\"url(#clip572)\" d=\"\n",
       "M1045.78 1204.72 L1031.83 1180.55 L1003.92 1180.55 L989.97 1204.72 L1003.92 1228.88 L1031.83 1228.88 L1045.78 1204.72 L1045.78 1204.72  Z\n",
       "  \" fill=\"#009af9\" fill-rule=\"evenodd\" fill-opacity=\"1\"/>\n",
       "<polyline clip-path=\"url(#clip572)\" style=\"stroke:#000000; stroke-width:4; stroke-opacity:1; fill:none\" points=\"\n",
       "  1045.78,1204.72 1031.83,1180.55 1003.92,1180.55 989.97,1204.72 1003.92,1228.88 1031.83,1228.88 1045.78,1204.72 \n",
       "  \"/>\n",
       "<path clip-path=\"url(#clip572)\" d=\"\n",
       "M1268.37 1204.72 L1254.42 1180.55 L1226.51 1180.55 L1212.56 1204.72 L1226.51 1228.88 L1254.42 1228.88 L1268.37 1204.72 L1268.37 1204.72  Z\n",
       "  \" fill=\"#009af9\" fill-rule=\"evenodd\" fill-opacity=\"1\"/>\n",
       "<polyline clip-path=\"url(#clip572)\" style=\"stroke:#000000; stroke-width:4; stroke-opacity:1; fill:none\" points=\"\n",
       "  1268.37,1204.72 1254.42,1180.55 1226.51,1180.55 1212.56,1204.72 1226.51,1228.88 1254.42,1228.88 1268.37,1204.72 \n",
       "  \"/>\n",
       "<path clip-path=\"url(#clip572)\" d=\"\n",
       "M1490.96 1204.72 L1477.01 1180.55 L1449.1 1180.55 L1435.15 1204.72 L1449.1 1228.88 L1477.01 1228.88 L1490.96 1204.72 L1490.96 1204.72  Z\n",
       "  \" fill=\"#009af9\" fill-rule=\"evenodd\" fill-opacity=\"1\"/>\n",
       "<polyline clip-path=\"url(#clip572)\" style=\"stroke:#000000; stroke-width:4; stroke-opacity:1; fill:none\" points=\"\n",
       "  1490.96,1204.72 1477.01,1180.55 1449.1,1180.55 1435.15,1204.72 1449.1,1228.88 1477.01,1228.88 1490.96,1204.72 \n",
       "  \"/>\n",
       "<path clip-path=\"url(#clip572)\" d=\"\n",
       "M600.596 982.126 L586.644 957.961 L558.74 957.961 L544.788 982.126 L558.74 1006.29 L586.644 1006.29 L600.596 982.126 L600.596 982.126  Z\n",
       "  \" fill=\"#009af9\" fill-rule=\"evenodd\" fill-opacity=\"1\"/>\n",
       "<polyline clip-path=\"url(#clip572)\" style=\"stroke:#000000; stroke-width:4; stroke-opacity:1; fill:none\" points=\"\n",
       "  600.596,982.126 586.644,957.961 558.74,957.961 544.788,982.126 558.74,1006.29 586.644,1006.29 600.596,982.126 \n",
       "  \"/>\n",
       "<path clip-path=\"url(#clip572)\" d=\"\n",
       "M823.187 982.126 L809.235 957.961 L781.331 957.961 L767.379 982.126 L781.331 1006.29 L809.235 1006.29 L823.187 982.126 L823.187 982.126  Z\n",
       "  \" fill=\"#009af9\" fill-rule=\"evenodd\" fill-opacity=\"1\"/>\n",
       "<polyline clip-path=\"url(#clip572)\" style=\"stroke:#000000; stroke-width:4; stroke-opacity:1; fill:none\" points=\"\n",
       "  823.187,982.126 809.235,957.961 781.331,957.961 767.379,982.126 781.331,1006.29 809.235,1006.29 823.187,982.126 \n",
       "  \"/>\n",
       "<path clip-path=\"url(#clip572)\" d=\"\n",
       "M1045.78 982.126 L1031.83 957.961 L1003.92 957.961 L989.97 982.126 L1003.92 1006.29 L1031.83 1006.29 L1045.78 982.126 L1045.78 982.126  Z\n",
       "  \" fill=\"#009af9\" fill-rule=\"evenodd\" fill-opacity=\"1\"/>\n",
       "<polyline clip-path=\"url(#clip572)\" style=\"stroke:#000000; stroke-width:4; stroke-opacity:1; fill:none\" points=\"\n",
       "  1045.78,982.126 1031.83,957.961 1003.92,957.961 989.97,982.126 1003.92,1006.29 1031.83,1006.29 1045.78,982.126 \n",
       "  \"/>\n",
       "<path clip-path=\"url(#clip572)\" d=\"\n",
       "M1268.37 982.126 L1254.42 957.961 L1226.51 957.961 L1212.56 982.126 L1226.51 1006.29 L1254.42 1006.29 L1268.37 982.126 L1268.37 982.126  Z\n",
       "  \" fill=\"#009af9\" fill-rule=\"evenodd\" fill-opacity=\"1\"/>\n",
       "<polyline clip-path=\"url(#clip572)\" style=\"stroke:#000000; stroke-width:4; stroke-opacity:1; fill:none\" points=\"\n",
       "  1268.37,982.126 1254.42,957.961 1226.51,957.961 1212.56,982.126 1226.51,1006.29 1254.42,1006.29 1268.37,982.126 \n",
       "  \"/>\n",
       "<path clip-path=\"url(#clip572)\" d=\"\n",
       "M1490.96 982.126 L1477.01 957.961 L1449.1 957.961 L1435.15 982.126 L1449.1 1006.29 L1477.01 1006.29 L1490.96 982.126 L1490.96 982.126  Z\n",
       "  \" fill=\"#009af9\" fill-rule=\"evenodd\" fill-opacity=\"1\"/>\n",
       "<polyline clip-path=\"url(#clip572)\" style=\"stroke:#000000; stroke-width:4; stroke-opacity:1; fill:none\" points=\"\n",
       "  1490.96,982.126 1477.01,957.961 1449.1,957.961 1435.15,982.126 1449.1,1006.29 1477.01,1006.29 1490.96,982.126 \n",
       "  \"/>\n",
       "<path clip-path=\"url(#clip572)\" d=\"\n",
       "M600.596 759.535 L586.644 735.37 L558.74 735.37 L544.788 759.535 L558.74 783.7 L586.644 783.7 L600.596 759.535 L600.596 759.535  Z\n",
       "  \" fill=\"#009af9\" fill-rule=\"evenodd\" fill-opacity=\"1\"/>\n",
       "<polyline clip-path=\"url(#clip572)\" style=\"stroke:#000000; stroke-width:4; stroke-opacity:1; fill:none\" points=\"\n",
       "  600.596,759.535 586.644,735.37 558.74,735.37 544.788,759.535 558.74,783.7 586.644,783.7 600.596,759.535 \n",
       "  \"/>\n",
       "<path clip-path=\"url(#clip572)\" d=\"\n",
       "M823.187 759.535 L809.235 735.37 L781.331 735.37 L767.379 759.535 L781.331 783.7 L809.235 783.7 L823.187 759.535 L823.187 759.535  Z\n",
       "  \" fill=\"#009af9\" fill-rule=\"evenodd\" fill-opacity=\"1\"/>\n",
       "<polyline clip-path=\"url(#clip572)\" style=\"stroke:#000000; stroke-width:4; stroke-opacity:1; fill:none\" points=\"\n",
       "  823.187,759.535 809.235,735.37 781.331,735.37 767.379,759.535 781.331,783.7 809.235,783.7 823.187,759.535 \n",
       "  \"/>\n",
       "<path clip-path=\"url(#clip572)\" d=\"\n",
       "M1045.78 759.535 L1031.83 735.37 L1003.92 735.37 L989.97 759.535 L1003.92 783.7 L1031.83 783.7 L1045.78 759.535 L1045.78 759.535  Z\n",
       "  \" fill=\"#009af9\" fill-rule=\"evenodd\" fill-opacity=\"1\"/>\n",
       "<polyline clip-path=\"url(#clip572)\" style=\"stroke:#000000; stroke-width:4; stroke-opacity:1; fill:none\" points=\"\n",
       "  1045.78,759.535 1031.83,735.37 1003.92,735.37 989.97,759.535 1003.92,783.7 1031.83,783.7 1045.78,759.535 \n",
       "  \"/>\n",
       "<path clip-path=\"url(#clip572)\" d=\"\n",
       "M1268.37 759.535 L1254.42 735.37 L1226.51 735.37 L1212.56 759.535 L1226.51 783.7 L1254.42 783.7 L1268.37 759.535 L1268.37 759.535  Z\n",
       "  \" fill=\"#009af9\" fill-rule=\"evenodd\" fill-opacity=\"1\"/>\n",
       "<polyline clip-path=\"url(#clip572)\" style=\"stroke:#000000; stroke-width:4; stroke-opacity:1; fill:none\" points=\"\n",
       "  1268.37,759.535 1254.42,735.37 1226.51,735.37 1212.56,759.535 1226.51,783.7 1254.42,783.7 1268.37,759.535 \n",
       "  \"/>\n",
       "<path clip-path=\"url(#clip572)\" d=\"\n",
       "M1490.96 759.535 L1477.01 735.37 L1449.1 735.37 L1435.15 759.535 L1449.1 783.7 L1477.01 783.7 L1490.96 759.535 L1490.96 759.535  Z\n",
       "  \" fill=\"#009af9\" fill-rule=\"evenodd\" fill-opacity=\"1\"/>\n",
       "<polyline clip-path=\"url(#clip572)\" style=\"stroke:#000000; stroke-width:4; stroke-opacity:1; fill:none\" points=\"\n",
       "  1490.96,759.535 1477.01,735.37 1449.1,735.37 1435.15,759.535 1449.1,783.7 1477.01,783.7 1490.96,759.535 \n",
       "  \"/>\n",
       "<path clip-path=\"url(#clip572)\" d=\"\n",
       "M600.596 536.944 L586.644 512.779 L558.74 512.779 L544.788 536.944 L558.74 561.11 L586.644 561.11 L600.596 536.944 L600.596 536.944  Z\n",
       "  \" fill=\"#009af9\" fill-rule=\"evenodd\" fill-opacity=\"1\"/>\n",
       "<polyline clip-path=\"url(#clip572)\" style=\"stroke:#000000; stroke-width:4; stroke-opacity:1; fill:none\" points=\"\n",
       "  600.596,536.944 586.644,512.779 558.74,512.779 544.788,536.944 558.74,561.11 586.644,561.11 600.596,536.944 \n",
       "  \"/>\n",
       "<path clip-path=\"url(#clip572)\" d=\"\n",
       "M823.187 536.944 L809.235 512.779 L781.331 512.779 L767.379 536.944 L781.331 561.11 L809.235 561.11 L823.187 536.944 L823.187 536.944  Z\n",
       "  \" fill=\"#009af9\" fill-rule=\"evenodd\" fill-opacity=\"1\"/>\n",
       "<polyline clip-path=\"url(#clip572)\" style=\"stroke:#000000; stroke-width:4; stroke-opacity:1; fill:none\" points=\"\n",
       "  823.187,536.944 809.235,512.779 781.331,512.779 767.379,536.944 781.331,561.11 809.235,561.11 823.187,536.944 \n",
       "  \"/>\n",
       "<path clip-path=\"url(#clip572)\" d=\"\n",
       "M1045.78 536.944 L1031.83 512.779 L1003.92 512.779 L989.97 536.944 L1003.92 561.11 L1031.83 561.11 L1045.78 536.944 L1045.78 536.944  Z\n",
       "  \" fill=\"#009af9\" fill-rule=\"evenodd\" fill-opacity=\"1\"/>\n",
       "<polyline clip-path=\"url(#clip572)\" style=\"stroke:#000000; stroke-width:4; stroke-opacity:1; fill:none\" points=\"\n",
       "  1045.78,536.944 1031.83,512.779 1003.92,512.779 989.97,536.944 1003.92,561.11 1031.83,561.11 1045.78,536.944 \n",
       "  \"/>\n",
       "<path clip-path=\"url(#clip572)\" d=\"\n",
       "M1268.37 536.944 L1254.42 512.779 L1226.51 512.779 L1212.56 536.944 L1226.51 561.11 L1254.42 561.11 L1268.37 536.944 L1268.37 536.944  Z\n",
       "  \" fill=\"#009af9\" fill-rule=\"evenodd\" fill-opacity=\"1\"/>\n",
       "<polyline clip-path=\"url(#clip572)\" style=\"stroke:#000000; stroke-width:4; stroke-opacity:1; fill:none\" points=\"\n",
       "  1268.37,536.944 1254.42,512.779 1226.51,512.779 1212.56,536.944 1226.51,561.11 1254.42,561.11 1268.37,536.944 \n",
       "  \"/>\n",
       "<path clip-path=\"url(#clip572)\" d=\"\n",
       "M1490.96 536.944 L1477.01 512.779 L1449.1 512.779 L1435.15 536.944 L1449.1 561.11 L1477.01 561.11 L1490.96 536.944 L1490.96 536.944  Z\n",
       "  \" fill=\"#009af9\" fill-rule=\"evenodd\" fill-opacity=\"1\"/>\n",
       "<polyline clip-path=\"url(#clip572)\" style=\"stroke:#000000; stroke-width:4; stroke-opacity:1; fill:none\" points=\"\n",
       "  1490.96,536.944 1477.01,512.779 1449.1,512.779 1435.15,536.944 1449.1,561.11 1477.01,561.11 1490.96,536.944 \n",
       "  \"/>\n",
       "<path clip-path=\"url(#clip572)\" d=\"\n",
       "M600.596 314.353 L586.644 290.188 L558.74 290.188 L544.788 314.353 L558.74 338.519 L586.644 338.519 L600.596 314.353 L600.596 314.353  Z\n",
       "  \" fill=\"#009af9\" fill-rule=\"evenodd\" fill-opacity=\"1\"/>\n",
       "<polyline clip-path=\"url(#clip572)\" style=\"stroke:#000000; stroke-width:4; stroke-opacity:1; fill:none\" points=\"\n",
       "  600.596,314.353 586.644,290.188 558.74,290.188 544.788,314.353 558.74,338.519 586.644,338.519 600.596,314.353 \n",
       "  \"/>\n",
       "<path clip-path=\"url(#clip572)\" d=\"\n",
       "M823.187 314.353 L809.235 290.188 L781.331 290.188 L767.379 314.353 L781.331 338.519 L809.235 338.519 L823.187 314.353 L823.187 314.353  Z\n",
       "  \" fill=\"#009af9\" fill-rule=\"evenodd\" fill-opacity=\"1\"/>\n",
       "<polyline clip-path=\"url(#clip572)\" style=\"stroke:#000000; stroke-width:4; stroke-opacity:1; fill:none\" points=\"\n",
       "  823.187,314.353 809.235,290.188 781.331,290.188 767.379,314.353 781.331,338.519 809.235,338.519 823.187,314.353 \n",
       "  \"/>\n",
       "<path clip-path=\"url(#clip572)\" d=\"\n",
       "M1045.78 314.353 L1031.83 290.188 L1003.92 290.188 L989.97 314.353 L1003.92 338.519 L1031.83 338.519 L1045.78 314.353 L1045.78 314.353  Z\n",
       "  \" fill=\"#009af9\" fill-rule=\"evenodd\" fill-opacity=\"1\"/>\n",
       "<polyline clip-path=\"url(#clip572)\" style=\"stroke:#000000; stroke-width:4; stroke-opacity:1; fill:none\" points=\"\n",
       "  1045.78,314.353 1031.83,290.188 1003.92,290.188 989.97,314.353 1003.92,338.519 1031.83,338.519 1045.78,314.353 \n",
       "  \"/>\n",
       "<path clip-path=\"url(#clip572)\" d=\"\n",
       "M1268.37 314.353 L1254.42 290.188 L1226.51 290.188 L1212.56 314.353 L1226.51 338.519 L1254.42 338.519 L1268.37 314.353 L1268.37 314.353  Z\n",
       "  \" fill=\"#009af9\" fill-rule=\"evenodd\" fill-opacity=\"1\"/>\n",
       "<polyline clip-path=\"url(#clip572)\" style=\"stroke:#000000; stroke-width:4; stroke-opacity:1; fill:none\" points=\"\n",
       "  1268.37,314.353 1254.42,290.188 1226.51,290.188 1212.56,314.353 1226.51,338.519 1254.42,338.519 1268.37,314.353 \n",
       "  \"/>\n",
       "<path clip-path=\"url(#clip572)\" d=\"\n",
       "M1490.96 314.353 L1477.01 290.188 L1449.1 290.188 L1435.15 314.353 L1449.1 338.519 L1477.01 338.519 L1490.96 314.353 L1490.96 314.353  Z\n",
       "  \" fill=\"#009af9\" fill-rule=\"evenodd\" fill-opacity=\"1\"/>\n",
       "<polyline clip-path=\"url(#clip572)\" style=\"stroke:#000000; stroke-width:4; stroke-opacity:1; fill:none\" points=\"\n",
       "  1490.96,314.353 1477.01,290.188 1449.1,290.188 1435.15,314.353 1449.1,338.519 1477.01,338.519 1490.96,314.353 \n",
       "  \"/>\n",
       "<circle clip-path=\"url(#clip572)\" style=\"fill:#009af9; stroke:none; fill-opacity:1\" cx=\"572.692\" cy=\"1649.9\" r=\"2\"/>\n",
       "<circle clip-path=\"url(#clip572)\" style=\"fill:#009af9; stroke:none; fill-opacity:1\" cx=\"795.283\" cy=\"1649.9\" r=\"2\"/>\n",
       "<circle clip-path=\"url(#clip572)\" style=\"fill:#009af9; stroke:none; fill-opacity:1\" cx=\"1017.87\" cy=\"1649.9\" r=\"2\"/>\n",
       "<circle clip-path=\"url(#clip572)\" style=\"fill:#009af9; stroke:none; fill-opacity:1\" cx=\"1240.46\" cy=\"1649.9\" r=\"2\"/>\n",
       "<circle clip-path=\"url(#clip572)\" style=\"fill:#009af9; stroke:none; fill-opacity:1\" cx=\"1463.06\" cy=\"1649.9\" r=\"2\"/>\n",
       "<circle clip-path=\"url(#clip572)\" style=\"fill:#009af9; stroke:none; fill-opacity:1\" cx=\"572.692\" cy=\"1427.31\" r=\"2\"/>\n",
       "<circle clip-path=\"url(#clip572)\" style=\"fill:#009af9; stroke:none; fill-opacity:1\" cx=\"795.283\" cy=\"1427.31\" r=\"2\"/>\n",
       "<circle clip-path=\"url(#clip572)\" style=\"fill:#009af9; stroke:none; fill-opacity:1\" cx=\"1017.87\" cy=\"1427.31\" r=\"2\"/>\n",
       "<circle clip-path=\"url(#clip572)\" style=\"fill:#009af9; stroke:none; fill-opacity:1\" cx=\"1240.46\" cy=\"1427.31\" r=\"2\"/>\n",
       "<circle clip-path=\"url(#clip572)\" style=\"fill:#009af9; stroke:none; fill-opacity:1\" cx=\"1463.06\" cy=\"1427.31\" r=\"2\"/>\n",
       "<circle clip-path=\"url(#clip572)\" style=\"fill:#009af9; stroke:none; fill-opacity:1\" cx=\"572.692\" cy=\"1204.72\" r=\"2\"/>\n",
       "<circle clip-path=\"url(#clip572)\" style=\"fill:#009af9; stroke:none; fill-opacity:1\" cx=\"795.283\" cy=\"1204.72\" r=\"2\"/>\n",
       "<circle clip-path=\"url(#clip572)\" style=\"fill:#009af9; stroke:none; fill-opacity:1\" cx=\"1017.87\" cy=\"1204.72\" r=\"2\"/>\n",
       "<circle clip-path=\"url(#clip572)\" style=\"fill:#009af9; stroke:none; fill-opacity:1\" cx=\"1240.46\" cy=\"1204.72\" r=\"2\"/>\n",
       "<circle clip-path=\"url(#clip572)\" style=\"fill:#009af9; stroke:none; fill-opacity:1\" cx=\"1463.06\" cy=\"1204.72\" r=\"2\"/>\n",
       "<circle clip-path=\"url(#clip572)\" style=\"fill:#009af9; stroke:none; fill-opacity:1\" cx=\"572.692\" cy=\"982.126\" r=\"2\"/>\n",
       "<circle clip-path=\"url(#clip572)\" style=\"fill:#009af9; stroke:none; fill-opacity:1\" cx=\"795.283\" cy=\"982.126\" r=\"2\"/>\n",
       "<circle clip-path=\"url(#clip572)\" style=\"fill:#009af9; stroke:none; fill-opacity:1\" cx=\"1017.87\" cy=\"982.126\" r=\"2\"/>\n",
       "<circle clip-path=\"url(#clip572)\" style=\"fill:#009af9; stroke:none; fill-opacity:1\" cx=\"1240.46\" cy=\"982.126\" r=\"2\"/>\n",
       "<circle clip-path=\"url(#clip572)\" style=\"fill:#009af9; stroke:none; fill-opacity:1\" cx=\"1463.06\" cy=\"982.126\" r=\"2\"/>\n",
       "<circle clip-path=\"url(#clip572)\" style=\"fill:#009af9; stroke:none; fill-opacity:1\" cx=\"572.692\" cy=\"759.535\" r=\"2\"/>\n",
       "<circle clip-path=\"url(#clip572)\" style=\"fill:#009af9; stroke:none; fill-opacity:1\" cx=\"795.283\" cy=\"759.535\" r=\"2\"/>\n",
       "<circle clip-path=\"url(#clip572)\" style=\"fill:#009af9; stroke:none; fill-opacity:1\" cx=\"1017.87\" cy=\"759.535\" r=\"2\"/>\n",
       "<circle clip-path=\"url(#clip572)\" style=\"fill:#009af9; stroke:none; fill-opacity:1\" cx=\"1240.46\" cy=\"759.535\" r=\"2\"/>\n",
       "<circle clip-path=\"url(#clip572)\" style=\"fill:#009af9; stroke:none; fill-opacity:1\" cx=\"1463.06\" cy=\"759.535\" r=\"2\"/>\n",
       "<circle clip-path=\"url(#clip572)\" style=\"fill:#009af9; stroke:none; fill-opacity:1\" cx=\"572.692\" cy=\"536.944\" r=\"2\"/>\n",
       "<circle clip-path=\"url(#clip572)\" style=\"fill:#009af9; stroke:none; fill-opacity:1\" cx=\"795.283\" cy=\"536.944\" r=\"2\"/>\n",
       "<circle clip-path=\"url(#clip572)\" style=\"fill:#009af9; stroke:none; fill-opacity:1\" cx=\"1017.87\" cy=\"536.944\" r=\"2\"/>\n",
       "<circle clip-path=\"url(#clip572)\" style=\"fill:#009af9; stroke:none; fill-opacity:1\" cx=\"1240.46\" cy=\"536.944\" r=\"2\"/>\n",
       "<circle clip-path=\"url(#clip572)\" style=\"fill:#009af9; stroke:none; fill-opacity:1\" cx=\"1463.06\" cy=\"536.944\" r=\"2\"/>\n",
       "<circle clip-path=\"url(#clip572)\" style=\"fill:#009af9; stroke:none; fill-opacity:1\" cx=\"572.692\" cy=\"314.353\" r=\"2\"/>\n",
       "<circle clip-path=\"url(#clip572)\" style=\"fill:#009af9; stroke:none; fill-opacity:1\" cx=\"795.283\" cy=\"314.353\" r=\"2\"/>\n",
       "<circle clip-path=\"url(#clip572)\" style=\"fill:#009af9; stroke:none; fill-opacity:1\" cx=\"1017.87\" cy=\"314.353\" r=\"2\"/>\n",
       "<circle clip-path=\"url(#clip572)\" style=\"fill:#009af9; stroke:none; fill-opacity:1\" cx=\"1240.46\" cy=\"314.353\" r=\"2\"/>\n",
       "<circle clip-path=\"url(#clip572)\" style=\"fill:#009af9; stroke:none; fill-opacity:1\" cx=\"1463.06\" cy=\"314.353\" r=\"2\"/>\n",
       "<path clip-path=\"url(#clip570)\" d=\"M 0 0 M566.681 1658.24 L571.455 1658.24 L571.455 1641.76 L566.261 1642.8 L566.261 1640.14 L571.426 1639.1 L574.349 1639.1 L574.349 1658.24 L579.123 1658.24 L579.123 1660.7 L566.681 1660.7 L566.681 1658.24 Z\" fill=\"#000000\" fill-rule=\"evenodd\" fill-opacity=\"1\" /><path clip-path=\"url(#clip570)\" d=\"M 0 0 M791.941 1658.24 L802.141 1658.24 L802.141 1660.7 L788.425 1660.7 L788.425 1658.24 Q790.089 1656.52 792.954 1653.62 Q795.833 1650.72 796.571 1649.88 Q797.974 1648.3 798.524 1647.22 Q799.088 1646.12 799.088 1645.06 Q799.088 1643.34 797.873 1642.25 Q796.672 1641.17 794.733 1641.17 Q793.359 1641.17 791.825 1641.65 Q790.306 1642.12 788.57 1643.09 L788.57 1640.14 Q790.335 1639.43 791.869 1639.07 Q793.402 1638.71 794.675 1638.71 Q798.032 1638.71 800.028 1640.39 Q802.025 1642.06 802.025 1644.87 Q802.025 1646.2 801.519 1647.4 Q801.027 1648.59 799.71 1650.21 Q799.348 1650.63 797.41 1652.64 Q795.471 1654.64 791.941 1658.24 Z\" fill=\"#000000\" fill-rule=\"evenodd\" fill-opacity=\"1\" /><path clip-path=\"url(#clip570)\" d=\"M 0 0 M1020.53 1649.05 Q1022.63 1649.5 1023.8 1650.92 Q1024.98 1652.34 1024.98 1654.42 Q1024.98 1657.62 1022.79 1659.37 Q1020.59 1661.12 1016.54 1661.12 Q1015.18 1661.12 1013.73 1660.84 Q1012.3 1660.58 1010.76 1660.05 L1010.76 1657.23 Q1011.98 1657.94 1013.43 1658.3 Q1014.87 1658.66 1016.45 1658.66 Q1019.2 1658.66 1020.63 1657.57 Q1022.08 1656.49 1022.08 1654.42 Q1022.08 1652.51 1020.73 1651.44 Q1019.4 1650.35 1017.01 1650.35 L1014.5 1650.35 L1014.5 1647.95 L1017.13 1647.95 Q1019.28 1647.95 1020.43 1647.1 Q1021.57 1646.23 1021.57 1644.61 Q1021.57 1642.95 1020.38 1642.06 Q1019.21 1641.17 1017.01 1641.17 Q1015.81 1641.17 1014.44 1641.43 Q1013.06 1641.69 1011.41 1642.24 L1011.41 1639.63 Q1013.08 1639.17 1014.52 1638.94 Q1015.99 1638.71 1017.27 1638.71 Q1020.6 1638.71 1022.54 1640.23 Q1024.48 1641.73 1024.48 1644.31 Q1024.48 1646.1 1023.45 1647.35 Q1022.42 1648.57 1020.53 1649.05 Z\" fill=\"#000000\" fill-rule=\"evenodd\" fill-opacity=\"1\" /><path clip-path=\"url(#clip570)\" d=\"M 0 0 M1242.35 1641.65 L1234.97 1653.18 L1242.35 1653.18 L1242.35 1641.65 M1241.58 1639.1 L1245.25 1639.1 L1245.25 1653.18 L1248.34 1653.18 L1248.34 1655.61 L1245.25 1655.61 L1245.25 1660.7 L1242.35 1660.7 L1242.35 1655.61 L1232.59 1655.61 L1232.59 1652.79 L1241.58 1639.1 Z\" fill=\"#000000\" fill-rule=\"evenodd\" fill-opacity=\"1\" /><path clip-path=\"url(#clip570)\" d=\"M 0 0 M1456.98 1639.1 L1468.45 1639.1 L1468.45 1641.56 L1459.66 1641.56 L1459.66 1646.85 Q1460.29 1646.64 1460.93 1646.54 Q1461.57 1646.42 1462.2 1646.42 Q1465.82 1646.42 1467.93 1648.4 Q1470.04 1650.38 1470.04 1653.77 Q1470.04 1657.26 1467.87 1659.19 Q1465.7 1661.12 1461.75 1661.12 Q1460.39 1661.12 1458.98 1660.89 Q1457.57 1660.66 1456.07 1660.19 L1456.07 1657.26 Q1457.37 1657.96 1458.76 1658.31 Q1460.15 1658.66 1461.7 1658.66 Q1464.2 1658.66 1465.66 1657.34 Q1467.12 1656.03 1467.12 1653.77 Q1467.12 1651.51 1465.66 1650.2 Q1464.2 1648.88 1461.7 1648.88 Q1460.52 1648.88 1459.35 1649.14 Q1458.19 1649.4 1456.98 1649.95 L1456.98 1639.1 Z\" fill=\"#000000\" fill-rule=\"evenodd\" fill-opacity=\"1\" /><path clip-path=\"url(#clip570)\" d=\"M 0 0 M572.945 1426.14 Q570.978 1426.14 569.82 1427.49 Q568.677 1428.83 568.677 1431.18 Q568.677 1433.51 569.82 1434.87 Q570.978 1436.21 572.945 1436.21 Q574.913 1436.21 576.056 1434.87 Q577.213 1433.51 577.213 1431.18 Q577.213 1428.83 576.056 1427.49 Q574.913 1426.14 572.945 1426.14 M578.747 1416.99 L578.747 1419.65 Q577.647 1419.13 576.519 1418.85 Q575.405 1418.58 574.305 1418.58 Q571.412 1418.58 569.878 1420.53 Q568.359 1422.48 568.142 1426.43 Q568.996 1425.17 570.283 1424.51 Q571.571 1423.83 573.119 1423.83 Q576.374 1423.83 578.255 1425.81 Q580.15 1427.78 580.15 1431.18 Q580.15 1434.51 578.183 1436.52 Q576.215 1438.53 572.945 1438.53 Q569.198 1438.53 567.216 1435.66 Q565.234 1432.78 565.234 1427.33 Q565.234 1422.21 567.665 1419.17 Q570.095 1416.12 574.19 1416.12 Q575.289 1416.12 576.403 1416.33 Q577.532 1416.55 578.747 1416.99 Z\" fill=\"#000000\" fill-rule=\"evenodd\" fill-opacity=\"1\" /><path clip-path=\"url(#clip570)\" d=\"M 0 0 M788.339 1416.51 L802.227 1416.51 L802.227 1417.75 L794.386 1438.11 L791.333 1438.11 L798.712 1418.97 L788.339 1418.97 L788.339 1416.51 Z\" fill=\"#000000\" fill-rule=\"evenodd\" fill-opacity=\"1\" /><path clip-path=\"url(#clip570)\" d=\"M 0 0 M1017.87 1427.85 Q1015.79 1427.85 1014.59 1428.96 Q1013.4 1430.08 1013.4 1432.03 Q1013.4 1433.98 1014.59 1435.1 Q1015.79 1436.21 1017.87 1436.21 Q1019.96 1436.21 1021.16 1435.1 Q1022.36 1433.97 1022.36 1432.03 Q1022.36 1430.08 1021.16 1428.96 Q1019.97 1427.85 1017.87 1427.85 M1014.95 1426.61 Q1013.07 1426.14 1012.01 1424.86 Q1010.97 1423.57 1010.97 1421.72 Q1010.97 1419.13 1012.81 1417.62 Q1014.66 1416.12 1017.87 1416.12 Q1021.1 1416.12 1022.94 1417.62 Q1024.78 1419.13 1024.78 1421.72 Q1024.78 1423.57 1023.72 1424.86 Q1022.68 1426.14 1020.81 1426.61 Q1022.92 1427.1 1024.1 1428.53 Q1025.28 1429.96 1025.28 1432.03 Q1025.28 1435.17 1023.36 1436.85 Q1021.45 1438.53 1017.87 1438.53 Q1014.3 1438.53 1012.38 1436.85 Q1010.47 1435.17 1010.47 1432.03 Q1010.47 1429.96 1011.65 1428.53 Q1012.84 1427.1 1014.95 1426.61 M1013.88 1421.99 Q1013.88 1423.67 1014.92 1424.61 Q1015.98 1425.55 1017.87 1425.55 Q1019.75 1425.55 1020.81 1424.61 Q1021.88 1423.67 1021.88 1421.99 Q1021.88 1420.31 1020.81 1419.37 Q1019.75 1418.43 1017.87 1418.43 Q1015.98 1418.43 1014.92 1419.37 Q1013.88 1420.31 1013.88 1421.99 Z\" fill=\"#000000\" fill-rule=\"evenodd\" fill-opacity=\"1\" /><path clip-path=\"url(#clip570)\" d=\"M 0 0 M1234.4 1437.66 L1234.4 1435 Q1235.5 1435.52 1236.63 1435.79 Q1237.76 1436.07 1238.84 1436.07 Q1241.74 1436.07 1243.26 1434.13 Q1244.79 1432.18 1245.01 1428.21 Q1244.17 1429.46 1242.88 1430.12 Q1241.59 1430.79 1240.03 1430.79 Q1236.79 1430.79 1234.89 1428.83 Q1233.01 1426.87 1233.01 1423.47 Q1233.01 1420.14 1234.98 1418.13 Q1236.95 1416.12 1240.22 1416.12 Q1243.97 1416.12 1245.93 1419 Q1247.92 1421.86 1247.92 1427.33 Q1247.92 1432.44 1245.49 1435.49 Q1243.07 1438.53 1238.97 1438.53 Q1237.88 1438.53 1236.75 1438.31 Q1235.62 1438.09 1234.4 1437.66 M1240.22 1428.5 Q1242.19 1428.5 1243.33 1427.16 Q1244.49 1425.81 1244.49 1423.47 Q1244.49 1421.14 1243.33 1419.79 Q1242.19 1418.43 1240.22 1418.43 Q1238.25 1418.43 1237.09 1419.79 Q1235.95 1421.14 1235.95 1423.47 Q1235.95 1425.81 1237.09 1427.16 Q1238.25 1428.5 1240.22 1428.5 Z\" fill=\"#000000\" fill-rule=\"evenodd\" fill-opacity=\"1\" /><path clip-path=\"url(#clip570)\" d=\"M 0 0 M1448.6 1435.65 L1453.38 1435.65 L1453.38 1419.17 L1448.18 1420.21 L1448.18 1417.55 L1453.35 1416.51 L1456.27 1416.51 L1456.27 1435.65 L1461.04 1435.65 L1461.04 1438.11 L1448.6 1438.11 L1448.6 1435.65 Z\" fill=\"#000000\" fill-rule=\"evenodd\" fill-opacity=\"1\" /><path clip-path=\"url(#clip570)\" d=\"M 0 0 M1470.46 1418.43 Q1468.21 1418.43 1467.06 1420.66 Q1465.93 1422.87 1465.93 1427.33 Q1465.93 1431.77 1467.06 1434 Q1468.21 1436.21 1470.46 1436.21 Q1472.73 1436.21 1473.86 1434 Q1475.01 1431.77 1475.01 1427.33 Q1475.01 1422.87 1473.86 1420.66 Q1472.73 1418.43 1470.46 1418.43 M1470.46 1416.12 Q1474.09 1416.12 1476 1419 Q1477.93 1421.86 1477.93 1427.33 Q1477.93 1432.78 1476 1435.66 Q1474.09 1438.53 1470.46 1438.53 Q1466.83 1438.53 1464.91 1435.66 Q1463 1432.78 1463 1427.33 Q1463 1421.86 1464.91 1419 Q1466.83 1416.12 1470.46 1416.12 Z\" fill=\"#000000\" fill-rule=\"evenodd\" fill-opacity=\"1\" /><path clip-path=\"url(#clip570)\" d=\"M 0 0 M558.623 1213.06 L563.397 1213.06 L563.397 1196.58 L558.203 1197.62 L558.203 1194.96 L563.368 1193.92 L566.29 1193.92 L566.29 1213.06 L571.065 1213.06 L571.065 1215.52 L558.623 1215.52 L558.623 1213.06 Z\" fill=\"#000000\" fill-rule=\"evenodd\" fill-opacity=\"1\" /><path clip-path=\"url(#clip570)\" d=\"M 0 0 M574.739 1213.06 L579.514 1213.06 L579.514 1196.58 L574.32 1197.62 L574.32 1194.96 L579.485 1193.92 L582.407 1193.92 L582.407 1213.06 L587.181 1213.06 L587.181 1215.52 L574.739 1215.52 L574.739 1213.06 Z\" fill=\"#000000\" fill-rule=\"evenodd\" fill-opacity=\"1\" /><path clip-path=\"url(#clip570)\" d=\"M 0 0 M781.329 1213.06 L786.103 1213.06 L786.103 1196.58 L780.91 1197.62 L780.91 1194.96 L786.075 1193.92 L788.997 1193.92 L788.997 1213.06 L793.771 1213.06 L793.771 1215.52 L781.329 1215.52 L781.329 1213.06 Z\" fill=\"#000000\" fill-rule=\"evenodd\" fill-opacity=\"1\" /><path clip-path=\"url(#clip570)\" d=\"M 0 0 M799.457 1213.06 L809.657 1213.06 L809.657 1215.52 L795.941 1215.52 L795.941 1213.06 Q797.605 1211.34 800.47 1208.44 Q803.349 1205.53 804.087 1204.7 Q805.49 1203.12 806.04 1202.03 Q806.604 1200.93 806.604 1199.88 Q806.604 1198.16 805.389 1197.07 Q804.188 1195.99 802.249 1195.99 Q800.875 1195.99 799.341 1196.46 Q797.822 1196.94 796.086 1197.91 L796.086 1194.96 Q797.851 1194.25 799.385 1193.89 Q800.918 1193.53 802.191 1193.53 Q805.548 1193.53 807.544 1195.2 Q809.541 1196.88 809.541 1199.69 Q809.541 1201.02 809.034 1202.22 Q808.543 1203.41 807.226 1205.03 Q806.864 1205.45 804.926 1207.46 Q802.987 1209.46 799.457 1213.06 Z\" fill=\"#000000\" fill-rule=\"evenodd\" fill-opacity=\"1\" /><path clip-path=\"url(#clip570)\" d=\"M 0 0 M1003.62 1213.06 L1008.4 1213.06 L1008.4 1196.58 L1003.2 1197.62 L1003.2 1194.96 L1008.37 1193.92 L1011.29 1193.92 L1011.29 1213.06 L1016.07 1213.06 L1016.07 1215.52 L1003.62 1215.52 L1003.62 1213.06 Z\" fill=\"#000000\" fill-rule=\"evenodd\" fill-opacity=\"1\" /><path clip-path=\"url(#clip570)\" d=\"M 0 0 M1028.09 1203.87 Q1030.19 1204.32 1031.36 1205.74 Q1032.54 1207.15 1032.54 1209.24 Q1032.54 1212.44 1030.35 1214.19 Q1028.15 1215.94 1024.1 1215.94 Q1022.74 1215.94 1021.29 1215.66 Q1019.86 1215.4 1018.32 1214.87 L1018.32 1212.04 Q1019.54 1212.75 1020.98 1213.12 Q1022.43 1213.48 1024.01 1213.48 Q1026.76 1213.48 1028.19 1212.39 Q1029.64 1211.31 1029.64 1209.24 Q1029.64 1207.33 1028.29 1206.26 Q1026.96 1205.17 1024.57 1205.17 L1022.06 1205.17 L1022.06 1202.77 L1024.69 1202.77 Q1026.84 1202.77 1027.99 1201.92 Q1029.13 1201.05 1029.13 1199.43 Q1029.13 1197.77 1027.94 1196.88 Q1026.77 1195.99 1024.57 1195.99 Q1023.37 1195.99 1022 1196.25 Q1020.62 1196.51 1018.97 1197.06 L1018.97 1194.45 Q1020.64 1193.99 1022.08 1193.76 Q1023.55 1193.53 1024.83 1193.53 Q1028.16 1193.53 1030.1 1195.05 Q1032.04 1196.55 1032.04 1199.13 Q1032.04 1200.92 1031.01 1202.16 Q1029.98 1203.39 1028.09 1203.87 Z\" fill=\"#000000\" fill-rule=\"evenodd\" fill-opacity=\"1\" /><path clip-path=\"url(#clip570)\" d=\"M 0 0 M1225.86 1213.06 L1230.63 1213.06 L1230.63 1196.58 L1225.44 1197.62 L1225.44 1194.96 L1230.61 1193.92 L1233.53 1193.92 L1233.53 1213.06 L1238.3 1213.06 L1238.3 1215.52 L1225.86 1215.52 L1225.86 1213.06 Z\" fill=\"#000000\" fill-rule=\"evenodd\" fill-opacity=\"1\" /><path clip-path=\"url(#clip570)\" d=\"M 0 0 M1249.5 1196.46 L1242.12 1207.99 L1249.5 1207.99 L1249.5 1196.46 M1248.73 1193.92 L1252.41 1193.92 L1252.41 1207.99 L1255.49 1207.99 L1255.49 1210.42 L1252.41 1210.42 L1252.41 1215.52 L1249.5 1215.52 L1249.5 1210.42 L1239.75 1210.42 L1239.75 1207.6 L1248.73 1193.92 Z\" fill=\"#000000\" fill-rule=\"evenodd\" fill-opacity=\"1\" /><path clip-path=\"url(#clip570)\" d=\"M 0 0 M1448.91 1213.06 L1453.69 1213.06 L1453.69 1196.58 L1448.49 1197.62 L1448.49 1194.96 L1453.66 1193.92 L1456.58 1193.92 L1456.58 1213.06 L1461.36 1213.06 L1461.36 1215.52 L1448.91 1215.52 L1448.91 1213.06 Z\" fill=\"#000000\" fill-rule=\"evenodd\" fill-opacity=\"1\" /><path clip-path=\"url(#clip570)\" d=\"M 0 0 M1464.55 1193.92 L1476.03 1193.92 L1476.03 1196.38 L1467.23 1196.38 L1467.23 1201.67 Q1467.87 1201.45 1468.5 1201.35 Q1469.14 1201.24 1469.78 1201.24 Q1473.39 1201.24 1475.51 1203.22 Q1477.62 1205.2 1477.62 1208.59 Q1477.62 1212.07 1475.45 1214.01 Q1473.28 1215.94 1469.33 1215.94 Q1467.97 1215.94 1466.55 1215.7 Q1465.15 1215.47 1463.64 1215.01 L1463.64 1212.07 Q1464.94 1212.78 1466.33 1213.13 Q1467.72 1213.48 1469.27 1213.48 Q1471.77 1213.48 1473.23 1212.16 Q1474.69 1210.84 1474.69 1208.59 Q1474.69 1206.33 1473.23 1205.01 Q1471.77 1203.7 1469.27 1203.7 Q1468.1 1203.7 1466.93 1203.96 Q1465.77 1204.22 1464.55 1204.77 L1464.55 1193.92 Z\" fill=\"#000000\" fill-rule=\"evenodd\" fill-opacity=\"1\" /><path clip-path=\"url(#clip570)\" d=\"M 0 0 M558.188 990.467 L562.963 990.467 L562.963 973.988 L557.769 975.03 L557.769 972.368 L562.934 971.326 L565.856 971.326 L565.856 990.467 L570.631 990.467 L570.631 992.926 L558.188 992.926 L558.188 990.467 Z\" fill=\"#000000\" fill-rule=\"evenodd\" fill-opacity=\"1\" /><path clip-path=\"url(#clip570)\" d=\"M 0 0 M580.411 980.961 Q578.443 980.961 577.286 982.307 Q576.143 983.652 576.143 985.996 Q576.143 988.325 577.286 989.685 Q578.443 991.031 580.411 991.031 Q582.378 991.031 583.521 989.685 Q584.678 988.325 584.678 985.996 Q584.678 983.652 583.521 982.307 Q582.378 980.961 580.411 980.961 M586.212 971.803 L586.212 974.465 Q585.113 973.945 583.984 973.67 Q582.87 973.395 581.771 973.395 Q578.877 973.395 577.343 975.348 Q575.824 977.301 575.607 981.251 Q576.461 979.992 577.749 979.327 Q579.036 978.647 580.584 978.647 Q583.839 978.647 585.72 980.629 Q587.615 982.596 587.615 985.996 Q587.615 989.324 585.648 991.335 Q583.68 993.346 580.411 993.346 Q576.663 993.346 574.681 990.481 Q572.699 987.602 572.699 982.148 Q572.699 977.026 575.13 973.988 Q577.56 970.935 581.655 970.935 Q582.754 970.935 583.868 971.152 Q584.997 971.369 586.212 971.803 Z\" fill=\"#000000\" fill-rule=\"evenodd\" fill-opacity=\"1\" /><path clip-path=\"url(#clip570)\" d=\"M 0 0 M781.112 990.467 L785.886 990.467 L785.886 973.988 L780.693 975.03 L780.693 972.368 L785.858 971.326 L788.78 971.326 L788.78 990.467 L793.554 990.467 L793.554 992.926 L781.112 992.926 L781.112 990.467 Z\" fill=\"#000000\" fill-rule=\"evenodd\" fill-opacity=\"1\" /><path clip-path=\"url(#clip570)\" d=\"M 0 0 M795.985 971.326 L809.874 971.326 L809.874 972.57 L802.032 992.926 L798.98 992.926 L806.358 973.785 L795.985 973.785 L795.985 971.326 Z\" fill=\"#000000\" fill-rule=\"evenodd\" fill-opacity=\"1\" /><path clip-path=\"url(#clip570)\" d=\"M 0 0 M1003.45 990.467 L1008.22 990.467 L1008.22 973.988 L1003.03 975.03 L1003.03 972.368 L1008.2 971.326 L1011.12 971.326 L1011.12 990.467 L1015.89 990.467 L1015.89 992.926 L1003.45 992.926 L1003.45 990.467 Z\" fill=\"#000000\" fill-rule=\"evenodd\" fill-opacity=\"1\" /><path clip-path=\"url(#clip570)\" d=\"M 0 0 M1025.31 982.669 Q1023.23 982.669 1022.03 983.783 Q1020.84 984.897 1020.84 986.85 Q1020.84 988.803 1022.03 989.917 Q1023.23 991.031 1025.31 991.031 Q1027.39 991.031 1028.59 989.917 Q1029.8 988.788 1029.8 986.85 Q1029.8 984.897 1028.59 983.783 Q1027.41 982.669 1025.31 982.669 M1022.39 981.424 Q1020.51 980.961 1019.45 979.674 Q1018.41 978.386 1018.41 976.534 Q1018.41 973.945 1020.25 972.44 Q1022.1 970.935 1025.31 970.935 Q1028.54 970.935 1030.37 972.44 Q1032.21 973.945 1032.21 976.534 Q1032.21 978.386 1031.16 979.674 Q1030.11 980.961 1028.25 981.424 Q1030.36 981.916 1031.53 983.348 Q1032.72 984.781 1032.72 986.85 Q1032.72 989.989 1030.79 991.667 Q1028.88 993.346 1025.31 993.346 Q1021.74 993.346 1019.81 991.667 Q1017.9 989.989 1017.9 986.85 Q1017.9 984.781 1019.09 983.348 Q1020.28 981.916 1022.39 981.424 M1021.32 976.809 Q1021.32 978.487 1022.36 979.428 Q1023.42 980.368 1025.31 980.368 Q1027.19 980.368 1028.25 979.428 Q1029.32 978.487 1029.32 976.809 Q1029.32 975.131 1028.25 974.191 Q1027.19 973.25 1025.31 973.25 Q1023.42 973.25 1022.36 974.191 Q1021.32 975.131 1021.32 976.809 Z\" fill=\"#000000\" fill-rule=\"evenodd\" fill-opacity=\"1\" /><path clip-path=\"url(#clip570)\" d=\"M 0 0 M1226.07 990.467 L1230.84 990.467 L1230.84 973.988 L1225.65 975.03 L1225.65 972.368 L1230.82 971.326 L1233.74 971.326 L1233.74 990.467 L1238.51 990.467 L1238.51 992.926 L1226.07 992.926 L1226.07 990.467 Z\" fill=\"#000000\" fill-rule=\"evenodd\" fill-opacity=\"1\" /><path clip-path=\"url(#clip570)\" d=\"M 0 0 M1241.77 992.477 L1241.77 989.815 Q1242.87 990.336 1244 990.611 Q1245.12 990.886 1246.21 990.886 Q1249.1 990.886 1250.62 988.947 Q1252.15 986.994 1252.37 983.03 Q1251.53 984.274 1250.24 984.94 Q1248.96 985.605 1247.39 985.605 Q1244.15 985.605 1242.26 983.652 Q1240.38 981.685 1240.38 978.285 Q1240.38 974.957 1242.35 972.946 Q1244.31 970.935 1247.58 970.935 Q1251.33 970.935 1253.3 973.814 Q1255.28 976.679 1255.28 982.148 Q1255.28 987.255 1252.85 990.307 Q1250.43 993.346 1246.34 993.346 Q1245.24 993.346 1244.11 993.129 Q1242.98 992.912 1241.77 992.477 M1247.58 983.32 Q1249.55 983.32 1250.69 981.974 Q1251.85 980.629 1251.85 978.285 Q1251.85 975.956 1250.69 974.61 Q1249.55 973.25 1247.58 973.25 Q1245.62 973.25 1244.46 974.61 Q1243.32 975.956 1243.32 978.285 Q1243.32 980.629 1244.46 981.974 Q1245.62 983.32 1247.58 983.32 Z\" fill=\"#000000\" fill-rule=\"evenodd\" fill-opacity=\"1\" /><path clip-path=\"url(#clip570)\" d=\"M 0 0 M1451.27 990.467 L1461.47 990.467 L1461.47 992.926 L1447.76 992.926 L1447.76 990.467 Q1449.42 988.745 1452.28 985.851 Q1455.16 982.943 1455.9 982.104 Q1457.31 980.527 1457.85 979.442 Q1458.42 978.343 1458.42 977.287 Q1458.42 975.565 1457.2 974.48 Q1456 973.395 1454.06 973.395 Q1452.69 973.395 1451.16 973.872 Q1449.64 974.35 1447.9 975.319 L1447.9 972.368 Q1449.67 971.659 1451.2 971.297 Q1452.73 970.935 1454.01 970.935 Q1457.36 970.935 1459.36 972.614 Q1461.36 974.292 1461.36 977.099 Q1461.36 978.43 1460.85 979.63 Q1460.36 980.817 1459.04 982.437 Q1458.68 982.857 1456.74 984.868 Q1454.8 986.864 1451.27 990.467 Z\" fill=\"#000000\" fill-rule=\"evenodd\" fill-opacity=\"1\" /><path clip-path=\"url(#clip570)\" d=\"M 0 0 M1470.89 973.25 Q1468.63 973.25 1467.49 975.478 Q1466.36 977.692 1466.36 982.148 Q1466.36 986.589 1467.49 988.817 Q1468.63 991.031 1470.89 991.031 Q1473.16 991.031 1474.29 988.817 Q1475.43 986.589 1475.43 982.148 Q1475.43 977.692 1474.29 975.478 Q1473.16 973.25 1470.89 973.25 M1470.89 970.935 Q1474.52 970.935 1476.43 973.814 Q1478.36 976.679 1478.36 982.148 Q1478.36 987.602 1476.43 990.481 Q1474.52 993.346 1470.89 993.346 Q1467.26 993.346 1465.33 990.481 Q1463.42 987.602 1463.42 982.148 Q1463.42 976.679 1465.33 973.814 Q1467.26 970.935 1470.89 970.935 Z\" fill=\"#000000\" fill-rule=\"evenodd\" fill-opacity=\"1\" /><path clip-path=\"url(#clip570)\" d=\"M 0 0 M561.292 767.876 L571.491 767.876 L571.491 770.335 L557.776 770.335 L557.776 767.876 Q559.44 766.154 562.304 763.26 Q565.184 760.352 565.921 759.513 Q567.325 757.936 567.874 756.851 Q568.439 755.752 568.439 754.696 Q568.439 752.974 567.223 751.889 Q566.023 750.804 564.084 750.804 Q562.71 750.804 561.176 751.281 Q559.657 751.759 557.921 752.728 L557.921 749.777 Q559.686 749.068 561.219 748.706 Q562.753 748.344 564.026 748.344 Q567.383 748.344 569.379 750.023 Q571.376 751.701 571.376 754.508 Q571.376 755.839 570.869 757.039 Q570.377 758.226 569.061 759.846 Q568.699 760.266 566.76 762.277 Q564.822 764.273 561.292 767.876 Z\" fill=\"#000000\" fill-rule=\"evenodd\" fill-opacity=\"1\" /><path clip-path=\"url(#clip570)\" d=\"M 0 0 M575.166 767.876 L579.94 767.876 L579.94 751.397 L574.747 752.439 L574.747 749.777 L579.911 748.735 L582.834 748.735 L582.834 767.876 L587.608 767.876 L587.608 770.335 L575.166 770.335 L575.166 767.876 Z\" fill=\"#000000\" fill-rule=\"evenodd\" fill-opacity=\"1\" /><path clip-path=\"url(#clip570)\" d=\"M 0 0 M783.998 767.876 L794.198 767.876 L794.198 770.335 L780.483 770.335 L780.483 767.876 Q782.147 766.154 785.011 763.26 Q787.89 760.352 788.628 759.513 Q790.031 757.936 790.581 756.851 Q791.145 755.752 791.145 754.696 Q791.145 752.974 789.93 751.889 Q788.729 750.804 786.791 750.804 Q785.416 750.804 783.883 751.281 Q782.364 751.759 780.627 752.728 L780.627 749.777 Q782.393 749.068 783.926 748.706 Q785.46 748.344 786.733 748.344 Q790.089 748.344 792.086 750.023 Q794.082 751.701 794.082 754.508 Q794.082 755.839 793.576 757.039 Q793.084 758.226 791.767 759.846 Q791.406 760.266 789.467 762.277 Q787.529 764.273 783.998 767.876 Z\" fill=\"#000000\" fill-rule=\"evenodd\" fill-opacity=\"1\" /><path clip-path=\"url(#clip570)\" d=\"M 0 0 M799.884 767.876 L810.083 767.876 L810.083 770.335 L796.368 770.335 L796.368 767.876 Q798.032 766.154 800.896 763.26 Q803.776 760.352 804.513 759.513 Q805.917 757.936 806.466 756.851 Q807.031 755.752 807.031 754.696 Q807.031 752.974 805.815 751.889 Q804.615 750.804 802.676 750.804 Q801.302 750.804 799.768 751.281 Q798.249 751.759 796.513 752.728 L796.513 749.777 Q798.278 749.068 799.811 748.706 Q801.345 748.344 802.618 748.344 Q805.975 748.344 807.971 750.023 Q809.968 751.701 809.968 754.508 Q809.968 755.839 809.461 757.039 Q808.969 758.226 807.653 759.846 Q807.291 760.266 805.352 762.277 Q803.414 764.273 799.884 767.876 Z\" fill=\"#000000\" fill-rule=\"evenodd\" fill-opacity=\"1\" /><path clip-path=\"url(#clip570)\" d=\"M 0 0 M1006.29 767.876 L1016.49 767.876 L1016.49 770.335 L1002.78 770.335 L1002.78 767.876 Q1004.44 766.154 1007.31 763.26 Q1010.18 760.352 1010.92 759.513 Q1012.33 757.936 1012.88 756.851 Q1013.44 755.752 1013.44 754.696 Q1013.44 752.974 1012.22 751.889 Q1011.02 750.804 1009.09 750.804 Q1007.71 750.804 1006.18 751.281 Q1004.66 751.759 1002.92 752.728 L1002.92 749.777 Q1004.69 749.068 1006.22 748.706 Q1007.75 748.344 1009.03 748.344 Q1012.38 748.344 1014.38 750.023 Q1016.38 751.701 1016.38 754.508 Q1016.38 755.839 1015.87 757.039 Q1015.38 758.226 1014.06 759.846 Q1013.7 760.266 1011.76 762.277 Q1009.82 764.273 1006.29 767.876 Z\" fill=\"#000000\" fill-rule=\"evenodd\" fill-opacity=\"1\" /><path clip-path=\"url(#clip570)\" d=\"M 0 0 M1028.51 758.689 Q1030.61 759.137 1031.78 760.555 Q1032.97 761.973 1032.97 764.056 Q1032.97 767.253 1030.77 769.004 Q1028.57 770.755 1024.52 770.755 Q1023.16 770.755 1021.72 770.48 Q1020.28 770.219 1018.75 769.684 L1018.75 766.863 Q1019.96 767.572 1021.41 767.933 Q1022.86 768.295 1024.44 768.295 Q1027.18 768.295 1028.62 767.21 Q1030.06 766.125 1030.06 764.056 Q1030.06 762.146 1028.72 761.076 Q1027.39 759.991 1025 759.991 L1022.48 759.991 L1022.48 757.589 L1025.12 757.589 Q1027.27 757.589 1028.41 756.736 Q1029.56 755.868 1029.56 754.247 Q1029.56 752.583 1028.37 751.701 Q1027.2 750.804 1025 750.804 Q1023.8 750.804 1022.42 751.064 Q1021.05 751.325 1019.4 751.875 L1019.4 749.27 Q1021.06 748.807 1022.51 748.576 Q1023.97 748.344 1025.26 748.344 Q1028.59 748.344 1030.53 749.864 Q1032.46 751.368 1032.46 753.943 Q1032.46 755.737 1031.44 756.982 Q1030.41 758.211 1028.51 758.689 Z\" fill=\"#000000\" fill-rule=\"evenodd\" fill-opacity=\"1\" /><path clip-path=\"url(#clip570)\" d=\"M 0 0 M1228.53 767.876 L1238.73 767.876 L1238.73 770.335 L1225.01 770.335 L1225.01 767.876 Q1226.68 766.154 1229.54 763.26 Q1232.42 760.352 1233.16 759.513 Q1234.56 757.936 1235.11 756.851 Q1235.68 755.752 1235.68 754.696 Q1235.68 752.974 1234.46 751.889 Q1233.26 750.804 1231.32 750.804 Q1229.95 750.804 1228.41 751.281 Q1226.89 751.759 1225.16 752.728 L1225.16 749.777 Q1226.92 749.068 1228.46 748.706 Q1229.99 748.344 1231.26 748.344 Q1234.62 748.344 1236.62 750.023 Q1238.61 751.701 1238.61 754.508 Q1238.61 755.839 1238.11 757.039 Q1237.61 758.226 1236.3 759.846 Q1235.94 760.266 1234 762.277 Q1232.06 764.273 1228.53 767.876 Z\" fill=\"#000000\" fill-rule=\"evenodd\" fill-opacity=\"1\" /><path clip-path=\"url(#clip570)\" d=\"M 0 0 M1249.93 751.281 L1242.55 762.812 L1249.93 762.812 L1249.93 751.281 M1249.16 748.735 L1252.83 748.735 L1252.83 762.812 L1255.92 762.812 L1255.92 765.242 L1252.83 765.242 L1252.83 770.335 L1249.93 770.335 L1249.93 765.242 L1240.18 765.242 L1240.18 762.421 L1249.16 748.735 Z\" fill=\"#000000\" fill-rule=\"evenodd\" fill-opacity=\"1\" /><path clip-path=\"url(#clip570)\" d=\"M 0 0 M1451.58 767.876 L1461.78 767.876 L1461.78 770.335 L1448.07 770.335 L1448.07 767.876 Q1449.73 766.154 1452.6 763.26 Q1455.47 760.352 1456.21 759.513 Q1457.62 757.936 1458.17 756.851 Q1458.73 755.752 1458.73 754.696 Q1458.73 752.974 1457.51 751.889 Q1456.31 750.804 1454.38 750.804 Q1453 750.804 1451.47 751.281 Q1449.95 751.759 1448.21 752.728 L1448.21 749.777 Q1449.98 749.068 1451.51 748.706 Q1453.04 748.344 1454.32 748.344 Q1457.67 748.344 1459.67 750.023 Q1461.67 751.701 1461.67 754.508 Q1461.67 755.839 1461.16 757.039 Q1460.67 758.226 1459.35 759.846 Q1458.99 760.266 1457.05 762.277 Q1455.11 764.273 1451.58 767.876 Z\" fill=\"#000000\" fill-rule=\"evenodd\" fill-opacity=\"1\" /><path clip-path=\"url(#clip570)\" d=\"M 0 0 M1464.98 748.735 L1476.45 748.735 L1476.45 751.195 L1467.66 751.195 L1467.66 756.49 Q1468.29 756.273 1468.93 756.171 Q1469.57 756.056 1470.2 756.056 Q1473.82 756.056 1475.93 758.038 Q1478.04 760.02 1478.04 763.405 Q1478.04 766.892 1475.87 768.83 Q1473.7 770.755 1469.75 770.755 Q1468.39 770.755 1466.98 770.523 Q1465.57 770.292 1464.07 769.829 L1464.07 766.892 Q1465.37 767.601 1466.76 767.948 Q1468.15 768.295 1469.7 768.295 Q1472.2 768.295 1473.66 766.979 Q1475.12 765.662 1475.12 763.405 Q1475.12 761.148 1473.66 759.832 Q1472.2 758.515 1469.7 758.515 Q1468.52 758.515 1467.35 758.776 Q1466.2 759.036 1464.98 759.586 L1464.98 748.735 Z\" fill=\"#000000\" fill-rule=\"evenodd\" fill-opacity=\"1\" /><path clip-path=\"url(#clip570)\" d=\"M 0 0 M560.858 545.285 L571.057 545.285 L571.057 547.744 L557.342 547.744 L557.342 545.285 Q559.006 543.563 561.87 540.67 Q564.749 537.762 565.487 536.922 Q566.891 535.345 567.44 534.26 Q568.005 533.161 568.005 532.105 Q568.005 530.383 566.789 529.298 Q565.589 528.213 563.65 528.213 Q562.276 528.213 560.742 528.69 Q559.223 529.168 557.487 530.137 L557.487 527.186 Q559.252 526.477 560.785 526.115 Q562.319 525.754 563.592 525.754 Q566.949 525.754 568.945 527.432 Q570.942 529.11 570.942 531.917 Q570.942 533.248 570.435 534.448 Q569.943 535.635 568.627 537.255 Q568.265 537.675 566.326 539.686 Q564.388 541.682 560.858 545.285 Z\" fill=\"#000000\" fill-rule=\"evenodd\" fill-opacity=\"1\" /><path clip-path=\"url(#clip570)\" d=\"M 0 0 M580.837 535.779 Q578.87 535.779 577.712 537.125 Q576.569 538.47 576.569 540.814 Q576.569 543.143 577.712 544.503 Q578.87 545.849 580.837 545.849 Q582.805 545.849 583.948 544.503 Q585.105 543.143 585.105 540.814 Q585.105 538.47 583.948 537.125 Q582.805 535.779 580.837 535.779 M586.639 526.622 L586.639 529.284 Q585.539 528.763 584.411 528.488 Q583.297 528.213 582.197 528.213 Q579.304 528.213 577.77 530.166 Q576.251 532.119 576.034 536.069 Q576.888 534.81 578.175 534.145 Q579.463 533.465 581.011 533.465 Q584.266 533.465 586.147 535.447 Q588.042 537.414 588.042 540.814 Q588.042 544.142 586.075 546.153 Q584.107 548.164 580.837 548.164 Q577.09 548.164 575.108 545.299 Q573.126 542.42 573.126 536.966 Q573.126 531.844 575.557 528.806 Q577.987 525.754 582.082 525.754 Q583.181 525.754 584.295 525.971 Q585.424 526.188 586.639 526.622 Z\" fill=\"#000000\" fill-rule=\"evenodd\" fill-opacity=\"1\" /><path clip-path=\"url(#clip570)\" d=\"M 0 0 M783.781 545.285 L793.981 545.285 L793.981 547.744 L780.266 547.744 L780.266 545.285 Q781.93 543.563 784.794 540.67 Q787.673 537.762 788.411 536.922 Q789.814 535.345 790.364 534.26 Q790.928 533.161 790.928 532.105 Q790.928 530.383 789.713 529.298 Q788.512 528.213 786.574 528.213 Q785.199 528.213 783.666 528.69 Q782.147 529.168 780.41 530.137 L780.41 527.186 Q782.176 526.477 783.709 526.115 Q785.243 525.754 786.516 525.754 Q789.872 525.754 791.869 527.432 Q793.865 529.11 793.865 531.917 Q793.865 533.248 793.359 534.448 Q792.867 535.635 791.55 537.255 Q791.189 537.675 789.25 539.686 Q787.311 541.682 783.781 545.285 Z\" fill=\"#000000\" fill-rule=\"evenodd\" fill-opacity=\"1\" /><path clip-path=\"url(#clip570)\" d=\"M 0 0 M796.412 526.144 L810.3 526.144 L810.3 527.388 L802.459 547.744 L799.406 547.744 L806.785 528.604 L796.412 528.604 L796.412 526.144 Z\" fill=\"#000000\" fill-rule=\"evenodd\" fill-opacity=\"1\" /><path clip-path=\"url(#clip570)\" d=\"M 0 0 M1006.12 545.285 L1016.32 545.285 L1016.32 547.744 L1002.6 547.744 L1002.6 545.285 Q1004.27 543.563 1007.13 540.67 Q1010.01 537.762 1010.75 536.922 Q1012.15 535.345 1012.7 534.26 Q1013.27 533.161 1013.27 532.105 Q1013.27 530.383 1012.05 529.298 Q1010.85 528.213 1008.91 528.213 Q1007.54 528.213 1006 528.69 Q1004.48 529.168 1002.75 530.137 L1002.75 527.186 Q1004.51 526.477 1006.05 526.115 Q1007.58 525.754 1008.85 525.754 Q1012.21 525.754 1014.21 527.432 Q1016.2 529.11 1016.2 531.917 Q1016.2 533.248 1015.7 534.448 Q1015.2 535.635 1013.89 537.255 Q1013.53 537.675 1011.59 539.686 Q1009.65 541.682 1006.12 545.285 Z\" fill=\"#000000\" fill-rule=\"evenodd\" fill-opacity=\"1\" /><path clip-path=\"url(#clip570)\" d=\"M 0 0 M1025.74 537.487 Q1023.65 537.487 1022.45 538.601 Q1021.27 539.715 1021.27 541.668 Q1021.27 543.621 1022.45 544.735 Q1023.65 545.849 1025.74 545.849 Q1027.82 545.849 1029.02 544.735 Q1030.22 543.606 1030.22 541.668 Q1030.22 539.715 1029.02 538.601 Q1027.83 537.487 1025.74 537.487 M1022.81 536.242 Q1020.93 535.779 1019.88 534.492 Q1018.84 533.204 1018.84 531.352 Q1018.84 528.763 1020.67 527.258 Q1022.53 525.754 1025.74 525.754 Q1028.96 525.754 1030.8 527.258 Q1032.64 528.763 1032.64 531.352 Q1032.64 533.204 1031.58 534.492 Q1030.54 535.779 1028.67 536.242 Q1030.79 536.734 1031.96 538.167 Q1033.14 539.599 1033.14 541.668 Q1033.14 544.807 1031.22 546.485 Q1029.31 548.164 1025.74 548.164 Q1022.16 548.164 1020.24 546.485 Q1018.33 544.807 1018.33 541.668 Q1018.33 539.599 1019.52 538.167 Q1020.7 536.734 1022.81 536.242 M1021.74 531.627 Q1021.74 533.306 1022.79 534.246 Q1023.84 535.186 1025.74 535.186 Q1027.62 535.186 1028.67 534.246 Q1029.74 533.306 1029.74 531.627 Q1029.74 529.949 1028.67 529.009 Q1027.62 528.068 1025.74 528.068 Q1023.84 528.068 1022.79 529.009 Q1021.74 529.949 1021.74 531.627 Z\" fill=\"#000000\" fill-rule=\"evenodd\" fill-opacity=\"1\" /><path clip-path=\"url(#clip570)\" d=\"M 0 0 M1228.74 545.285 L1238.94 545.285 L1238.94 547.744 L1225.22 547.744 L1225.22 545.285 Q1226.89 543.563 1229.75 540.67 Q1232.63 537.762 1233.37 536.922 Q1234.77 535.345 1235.32 534.26 Q1235.89 533.161 1235.89 532.105 Q1235.89 530.383 1234.67 529.298 Q1233.47 528.213 1231.53 528.213 Q1230.16 528.213 1228.62 528.69 Q1227.1 529.168 1225.37 530.137 L1225.37 527.186 Q1227.13 526.477 1228.67 526.115 Q1230.2 525.754 1231.47 525.754 Q1234.83 525.754 1236.83 527.432 Q1238.82 529.11 1238.82 531.917 Q1238.82 533.248 1238.32 534.448 Q1237.82 535.635 1236.51 537.255 Q1236.15 537.675 1234.21 539.686 Q1232.27 541.682 1228.74 545.285 Z\" fill=\"#000000\" fill-rule=\"evenodd\" fill-opacity=\"1\" /><path clip-path=\"url(#clip570)\" d=\"M 0 0 M1242.19 547.296 L1242.19 544.634 Q1243.29 545.154 1244.42 545.429 Q1245.55 545.704 1246.64 545.704 Q1249.53 545.704 1251.05 543.766 Q1252.58 541.812 1252.8 537.848 Q1251.96 539.093 1250.67 539.758 Q1249.38 540.424 1247.82 540.424 Q1244.58 540.424 1242.69 538.47 Q1240.8 536.503 1240.8 533.103 Q1240.8 529.775 1242.77 527.764 Q1244.74 525.754 1248.01 525.754 Q1251.76 525.754 1253.72 528.633 Q1255.71 531.497 1255.71 536.966 Q1255.71 542.073 1253.28 545.126 Q1250.86 548.164 1246.77 548.164 Q1245.67 548.164 1244.54 547.947 Q1243.41 547.73 1242.19 547.296 M1248.01 538.138 Q1249.98 538.138 1251.12 536.792 Q1252.28 535.447 1252.28 533.103 Q1252.28 530.774 1251.12 529.428 Q1249.98 528.068 1248.01 528.068 Q1246.04 528.068 1244.88 529.428 Q1243.74 530.774 1243.74 533.103 Q1243.74 535.447 1244.88 536.792 Q1246.04 538.138 1248.01 538.138 Z\" fill=\"#000000\" fill-rule=\"evenodd\" fill-opacity=\"1\" /><path clip-path=\"url(#clip570)\" d=\"M 0 0 M1457.27 536.098 Q1459.37 536.546 1460.54 537.964 Q1461.72 539.382 1461.72 541.465 Q1461.72 544.663 1459.53 546.413 Q1457.33 548.164 1453.28 548.164 Q1451.92 548.164 1450.47 547.889 Q1449.04 547.628 1447.5 547.093 L1447.5 544.272 Q1448.72 544.981 1450.17 545.343 Q1451.61 545.704 1453.19 545.704 Q1455.94 545.704 1457.37 544.619 Q1458.82 543.534 1458.82 541.465 Q1458.82 539.556 1457.47 538.485 Q1456.14 537.4 1453.75 537.4 L1451.24 537.4 L1451.24 534.998 L1453.87 534.998 Q1456.02 534.998 1457.17 534.145 Q1458.31 533.277 1458.31 531.656 Q1458.31 529.992 1457.12 529.11 Q1455.95 528.213 1453.75 528.213 Q1452.55 528.213 1451.18 528.473 Q1449.8 528.734 1448.15 529.284 L1448.15 526.679 Q1449.82 526.216 1451.26 525.985 Q1452.73 525.754 1454.01 525.754 Q1457.34 525.754 1459.28 527.273 Q1461.22 528.777 1461.22 531.352 Q1461.22 533.146 1460.19 534.391 Q1459.16 535.62 1457.27 536.098 Z\" fill=\"#000000\" fill-rule=\"evenodd\" fill-opacity=\"1\" /><path clip-path=\"url(#clip570)\" d=\"M 0 0 M1471.14 528.068 Q1468.89 528.068 1467.74 530.296 Q1466.61 532.51 1466.61 536.966 Q1466.61 541.407 1467.74 543.635 Q1468.89 545.849 1471.14 545.849 Q1473.41 545.849 1474.54 543.635 Q1475.69 541.407 1475.69 536.966 Q1475.69 532.51 1474.54 530.296 Q1473.41 528.068 1471.14 528.068 M1471.14 525.754 Q1474.77 525.754 1476.68 528.633 Q1478.61 531.497 1478.61 536.966 Q1478.61 542.42 1476.68 545.299 Q1474.77 548.164 1471.14 548.164 Q1467.51 548.164 1465.59 545.299 Q1463.68 542.42 1463.68 536.966 Q1463.68 531.497 1465.59 528.633 Q1467.51 525.754 1471.14 525.754 Z\" fill=\"#000000\" fill-rule=\"evenodd\" fill-opacity=\"1\" /><path clip-path=\"url(#clip570)\" d=\"M 0 0 M567.289 313.507 Q569.386 313.955 570.558 315.373 Q571.745 316.791 571.745 318.874 Q571.745 322.072 569.545 323.822 Q567.346 325.573 563.296 325.573 Q561.936 325.573 560.489 325.298 Q559.057 325.037 557.523 324.502 L557.523 321.681 Q558.738 322.39 560.185 322.752 Q561.632 323.113 563.209 323.113 Q565.958 323.113 567.39 322.028 Q568.837 320.943 568.837 318.874 Q568.837 316.965 567.491 315.894 Q566.16 314.809 563.773 314.809 L561.256 314.809 L561.256 312.407 L563.889 312.407 Q566.044 312.407 567.187 311.554 Q568.33 310.686 568.33 309.065 Q568.33 307.402 567.144 306.519 Q565.972 305.622 563.773 305.622 Q562.572 305.622 561.198 305.882 Q559.823 306.143 558.174 306.693 L558.174 304.089 Q559.838 303.626 561.285 303.394 Q562.746 303.163 564.033 303.163 Q567.361 303.163 569.3 304.682 Q571.238 306.186 571.238 308.762 Q571.238 310.555 570.211 311.8 Q569.184 313.029 567.289 313.507 Z\" fill=\"#000000\" fill-rule=\"evenodd\" fill-opacity=\"1\" /><path clip-path=\"url(#clip570)\" d=\"M 0 0 M575.419 322.694 L580.194 322.694 L580.194 306.215 L575 307.257 L575 304.595 L580.165 303.553 L583.087 303.553 L583.087 322.694 L587.861 322.694 L587.861 325.153 L575.419 325.153 L575.419 322.694 Z\" fill=\"#000000\" fill-rule=\"evenodd\" fill-opacity=\"1\" /><path clip-path=\"url(#clip570)\" d=\"M 0 0 M789.995 313.507 Q792.093 313.955 793.265 315.373 Q794.451 316.791 794.451 318.874 Q794.451 322.072 792.252 323.822 Q790.053 325.573 786.002 325.573 Q784.642 325.573 783.195 325.298 Q781.763 325.037 780.23 324.502 L780.23 321.681 Q781.445 322.39 782.892 322.752 Q784.338 323.113 785.915 323.113 Q788.664 323.113 790.096 322.028 Q791.543 320.943 791.543 318.874 Q791.543 316.965 790.198 315.894 Q788.867 314.809 786.48 314.809 L783.962 314.809 L783.962 312.407 L786.595 312.407 Q788.751 312.407 789.894 311.554 Q791.037 310.686 791.037 309.065 Q791.037 307.402 789.851 306.519 Q788.679 305.622 786.48 305.622 Q785.279 305.622 783.904 305.882 Q782.53 306.143 780.881 306.693 L780.881 304.089 Q782.544 303.626 783.991 303.394 Q785.452 303.163 786.74 303.163 Q790.068 303.163 792.006 304.682 Q793.945 306.186 793.945 308.762 Q793.945 310.555 792.918 311.8 Q791.89 313.029 789.995 313.507 Z\" fill=\"#000000\" fill-rule=\"evenodd\" fill-opacity=\"1\" /><path clip-path=\"url(#clip570)\" d=\"M 0 0 M800.137 322.694 L810.337 322.694 L810.337 325.153 L796.621 325.153 L796.621 322.694 Q798.285 320.972 801.15 318.079 Q804.029 315.171 804.767 314.332 Q806.17 312.755 806.72 311.669 Q807.284 310.57 807.284 309.514 Q807.284 307.792 806.069 306.707 Q804.868 305.622 802.929 305.622 Q801.555 305.622 800.021 306.099 Q798.502 306.577 796.766 307.546 L796.766 304.595 Q798.531 303.886 800.065 303.524 Q801.598 303.163 802.871 303.163 Q806.228 303.163 808.224 304.841 Q810.221 306.519 810.221 309.326 Q810.221 310.657 809.714 311.858 Q809.223 313.044 807.906 314.664 Q807.544 315.084 805.606 317.095 Q803.667 319.091 800.137 322.694 Z\" fill=\"#000000\" fill-rule=\"evenodd\" fill-opacity=\"1\" /><path clip-path=\"url(#clip570)\" d=\"M 0 0 M1012.29 313.507 Q1014.39 313.955 1015.56 315.373 Q1016.75 316.791 1016.75 318.874 Q1016.75 322.072 1014.55 323.822 Q1012.35 325.573 1008.3 325.573 Q1006.94 325.573 1005.49 325.298 Q1004.06 325.037 1002.52 324.502 L1002.52 321.681 Q1003.74 322.39 1005.19 322.752 Q1006.63 323.113 1008.21 323.113 Q1010.96 323.113 1012.39 322.028 Q1013.84 320.943 1013.84 318.874 Q1013.84 316.965 1012.49 315.894 Q1011.16 314.809 1008.77 314.809 L1006.26 314.809 L1006.26 312.407 L1008.89 312.407 Q1011.05 312.407 1012.19 311.554 Q1013.33 310.686 1013.33 309.065 Q1013.33 307.402 1012.14 306.519 Q1010.97 305.622 1008.77 305.622 Q1007.57 305.622 1006.2 305.882 Q1004.82 306.143 1003.18 306.693 L1003.18 304.089 Q1004.84 303.626 1006.29 303.394 Q1007.75 303.163 1009.03 303.163 Q1012.36 303.163 1014.3 304.682 Q1016.24 306.186 1016.24 308.762 Q1016.24 310.555 1015.21 311.8 Q1014.18 313.029 1012.29 313.507 Z\" fill=\"#000000\" fill-rule=\"evenodd\" fill-opacity=\"1\" /><path clip-path=\"url(#clip570)\" d=\"M 0 0 M1028.77 313.507 Q1030.87 313.955 1032.04 315.373 Q1033.22 316.791 1033.22 318.874 Q1033.22 322.072 1031.02 323.822 Q1028.83 325.573 1024.78 325.573 Q1023.42 325.573 1021.97 325.298 Q1020.54 325.037 1019 324.502 L1019 321.681 Q1020.22 322.39 1021.66 322.752 Q1023.11 323.113 1024.69 323.113 Q1027.44 323.113 1028.87 322.028 Q1030.32 320.943 1030.32 318.874 Q1030.32 316.965 1028.97 315.894 Q1027.64 314.809 1025.25 314.809 L1022.74 314.809 L1022.74 312.407 L1025.37 312.407 Q1027.52 312.407 1028.67 311.554 Q1029.81 310.686 1029.81 309.065 Q1029.81 307.402 1028.62 306.519 Q1027.45 305.622 1025.25 305.622 Q1024.05 305.622 1022.68 305.882 Q1021.3 306.143 1019.65 306.693 L1019.65 304.089 Q1021.32 303.626 1022.76 303.394 Q1024.23 303.163 1025.51 303.163 Q1028.84 303.163 1030.78 304.682 Q1032.72 306.186 1032.72 308.762 Q1032.72 310.555 1031.69 311.8 Q1030.66 313.029 1028.77 313.507 Z\" fill=\"#000000\" fill-rule=\"evenodd\" fill-opacity=\"1\" /><path clip-path=\"url(#clip570)\" d=\"M 0 0 M1234.53 313.507 Q1236.62 313.955 1237.8 315.373 Q1238.98 316.791 1238.98 318.874 Q1238.98 322.072 1236.78 323.822 Q1234.58 325.573 1230.53 325.573 Q1229.17 325.573 1227.73 325.298 Q1226.29 325.037 1224.76 324.502 L1224.76 321.681 Q1225.98 322.39 1227.42 322.752 Q1228.87 323.113 1230.45 323.113 Q1233.2 323.113 1234.63 322.028 Q1236.07 320.943 1236.07 318.874 Q1236.07 316.965 1234.73 315.894 Q1233.4 314.809 1231.01 314.809 L1228.49 314.809 L1228.49 312.407 L1231.13 312.407 Q1233.28 312.407 1234.42 311.554 Q1235.57 310.686 1235.57 309.065 Q1235.57 307.402 1234.38 306.519 Q1233.21 305.622 1231.01 305.622 Q1229.81 305.622 1228.44 305.882 Q1227.06 306.143 1225.41 306.693 L1225.41 304.089 Q1227.08 303.626 1228.52 303.394 Q1229.98 303.163 1231.27 303.163 Q1234.6 303.163 1236.54 304.682 Q1238.48 306.186 1238.48 308.762 Q1238.48 310.555 1237.45 311.8 Q1236.42 313.029 1234.53 313.507 Z\" fill=\"#000000\" fill-rule=\"evenodd\" fill-opacity=\"1\" /><path clip-path=\"url(#clip570)\" d=\"M 0 0 M1250.18 306.099 L1242.8 317.63 L1250.18 317.63 L1250.18 306.099 M1249.41 303.553 L1253.09 303.553 L1253.09 317.63 L1256.17 317.63 L1256.17 320.061 L1253.09 320.061 L1253.09 325.153 L1250.18 325.153 L1250.18 320.061 L1240.43 320.061 L1240.43 317.239 L1249.41 303.553 Z\" fill=\"#000000\" fill-rule=\"evenodd\" fill-opacity=\"1\" /><path clip-path=\"url(#clip570)\" d=\"M 0 0 M1457.58 313.507 Q1459.68 313.955 1460.85 315.373 Q1462.04 316.791 1462.04 318.874 Q1462.04 322.072 1459.84 323.822 Q1457.64 325.573 1453.59 325.573 Q1452.23 325.573 1450.78 325.298 Q1449.35 325.037 1447.81 324.502 L1447.81 321.681 Q1449.03 322.39 1450.48 322.752 Q1451.92 323.113 1453.5 323.113 Q1456.25 323.113 1457.68 322.028 Q1459.13 320.943 1459.13 318.874 Q1459.13 316.965 1457.78 315.894 Q1456.45 314.809 1454.06 314.809 L1451.55 314.809 L1451.55 312.407 L1454.18 312.407 Q1456.34 312.407 1457.48 311.554 Q1458.62 310.686 1458.62 309.065 Q1458.62 307.402 1457.44 306.519 Q1456.26 305.622 1454.06 305.622 Q1452.86 305.622 1451.49 305.882 Q1450.11 306.143 1448.47 306.693 L1448.47 304.089 Q1450.13 303.626 1451.58 303.394 Q1453.04 303.163 1454.32 303.163 Q1457.65 303.163 1459.59 304.682 Q1461.53 306.186 1461.53 308.762 Q1461.53 310.555 1460.5 311.8 Q1459.48 313.029 1457.58 313.507 Z\" fill=\"#000000\" fill-rule=\"evenodd\" fill-opacity=\"1\" /><path clip-path=\"url(#clip570)\" d=\"M 0 0 M1465.23 303.553 L1476.71 303.553 L1476.71 306.013 L1467.91 306.013 L1467.91 311.308 Q1468.55 311.091 1469.18 310.99 Q1469.82 310.874 1470.46 310.874 Q1474.07 310.874 1476.19 312.856 Q1478.3 314.838 1478.3 318.223 Q1478.3 321.71 1476.13 323.649 Q1473.96 325.573 1470.01 325.573 Q1468.65 325.573 1467.23 325.341 Q1465.83 325.11 1464.32 324.647 L1464.32 321.71 Q1465.62 322.419 1467.01 322.766 Q1468.4 323.113 1469.95 323.113 Q1472.45 323.113 1473.91 321.797 Q1475.37 320.48 1475.37 318.223 Q1475.37 315.966 1473.91 314.65 Q1472.45 313.333 1469.95 313.333 Q1468.78 313.333 1467.61 313.594 Q1466.45 313.854 1465.23 314.404 L1465.23 303.553 Z\" fill=\"#000000\" fill-rule=\"evenodd\" fill-opacity=\"1\" /></svg>\n"
      ]
     },
     "execution_count": 58,
     "metadata": {},
     "output_type": "execute_result"
    }
   ],
   "source": [
    "m,n = 3,2\n",
    "g,p,d = generate_warehouse_struct(m,n,d_start=2,graph_type=SimpleGraph)\n",
    "graphplot(Matrix(adjacency_matrix(g)),x=p[:,2],y=p[:,1],size=(500,500),curves=false,names=1:nv(w),fontsize=5)"
   ]
  },
  {
   "cell_type": "code",
   "execution_count": 241,
   "id": "public-relief",
   "metadata": {},
   "outputs": [
    {
     "data": {
      "text/plain": [
       "init_warehouse (generic function with 1 method)"
      ]
     },
     "execution_count": 241,
     "metadata": {},
     "output_type": "execute_result"
    }
   ],
   "source": [
    "function init_warehouse()\n",
    "    Random.seed!(1234)\n",
    "\n",
    "    ## Simulation \n",
    "    n_packages = 10\n",
    "    load_spots = [6,10]\n",
    "    package_list = rand(1:length(d),n_packages);\n",
    "\n",
    "    warehouse_space = GraphSpace(g)\n",
    "    model_props = Dict(:package_list=>package_list,\n",
    "    :load_spot=>load_spots,\n",
    "    :last_spot=> length(load_spots),\n",
    "    :dest_spot=>d,\n",
    "    :graph => g,\n",
    "    :step => 1,\n",
    "    :check_next_step => true,\n",
    "    :used_load_spots=>zeros(Int,(length(load_spots))))\n",
    "\n",
    "    warehouse = ABM(Robot, warehouse_space;properties= model_props)\n",
    "\n",
    "    add_agent!(Robot(1,2,0,1,[]),2, warehouse)\n",
    "    add_agent!(Robot(2,4,0,1,[]),4, warehouse)\n",
    "    return warehouse\n",
    "end"
   ]
  },
  {
   "cell_type": "code",
   "execution_count": 69,
   "id": "italian-crazy",
   "metadata": {},
   "outputs": [
    {
     "data": {
      "text/plain": [
       "#88 (generic function with 1 method)"
      ]
     },
     "execution_count": 69,
     "metadata": {},
     "output_type": "execute_result"
    }
   ],
   "source": [
    "dest_spot_grid = model_props[:dest_spot].-(2*n+1)\n",
    "\n",
    "robot_colors = (x,y)-> robot_colors_spots(x,y,model_props[:load_spot],dest_spot_grid)\n",
    "robot_sizes = (x,y,z) -> robot_sizes_spots(x,y,z,model_props[:load_spot],model_props[:dest_spot],dest_spot_grid,factor)\n",
    "\n",
    "cs=fill(0.05, nv(g), nv(g));\n",
    "\n",
    "plot_warehouse = ()-> plotabm(warehouse;am=(x,y)->:rect,as=robot_sizes,ac=robot_colors,x=p[:,2],y=p[:,1],curves=false,curvature_scalar=cs,size=(750,750),linealpha=0.5,markerstrokewidth=0.0)"
   ]
  },
  {
   "cell_type": "code",
   "execution_count": 121,
   "id": "seventh-drawing",
   "metadata": {},
   "outputs": [
    {
     "data": {
      "image/svg+xml": [
       "<?xml version=\"1.0\" encoding=\"utf-8\"?>\n",
       "<svg xmlns=\"http://www.w3.org/2000/svg\" xmlns:xlink=\"http://www.w3.org/1999/xlink\" width=\"750\" height=\"750\" viewBox=\"0 0 3000 3000\">\n",
       "<defs>\n",
       "  <clipPath id=\"clip770\">\n",
       "    <rect x=\"0\" y=\"0\" width=\"3000\" height=\"3000\"/>\n",
       "  </clipPath>\n",
       "</defs>\n",
       "<path clip-path=\"url(#clip770)\" d=\"\n",
       "M0 3000 L3000 3000 L3000 0 L0 0  Z\n",
       "  \" fill=\"#ffffff\" fill-rule=\"evenodd\" fill-opacity=\"1\"/>\n",
       "<defs>\n",
       "  <clipPath id=\"clip771\">\n",
       "    <rect x=\"600\" y=\"300\" width=\"2101\" height=\"2101\"/>\n",
       "  </clipPath>\n",
       "</defs>\n",
       "<path clip-path=\"url(#clip770)\" d=\"\n",
       "M569.619 2907.01 L2476.13 2907.01 L2476.13 47.2441 L569.619 47.2441  Z\n",
       "  \" fill=\"#ffffff\" fill-rule=\"evenodd\" fill-opacity=\"1\"/>\n",
       "<defs>\n",
       "  <clipPath id=\"clip772\">\n",
       "    <rect x=\"569\" y=\"47\" width=\"1908\" height=\"2861\"/>\n",
       "  </clipPath>\n",
       "</defs>\n",
       "<polyline clip-path=\"url(#clip772)\" style=\"stroke:#000000; stroke-width:4; stroke-opacity:0.5; fill:none\" points=\"\n",
       "  841.978,2498.47 1182.43,2498.47 \n",
       "  \"/>\n",
       "<polyline clip-path=\"url(#clip772)\" style=\"stroke:#000000; stroke-width:4; stroke-opacity:0.5; fill:none\" points=\"\n",
       "  841.978,2498.47 841.978,2158.02 \n",
       "  \"/>\n",
       "<polyline clip-path=\"url(#clip772)\" style=\"stroke:#000000; stroke-width:4; stroke-opacity:0.5; fill:none\" points=\"\n",
       "  1182.43,2498.47 841.978,2498.47 \n",
       "  \"/>\n",
       "<polyline clip-path=\"url(#clip772)\" style=\"stroke:#000000; stroke-width:4; stroke-opacity:0.5; fill:none\" points=\"\n",
       "  1182.43,2498.47 1522.87,2498.47 \n",
       "  \"/>\n",
       "<polyline clip-path=\"url(#clip772)\" style=\"stroke:#000000; stroke-width:4; stroke-opacity:0.5; fill:none\" points=\"\n",
       "  1522.87,2498.47 1182.43,2498.47 \n",
       "  \"/>\n",
       "<polyline clip-path=\"url(#clip772)\" style=\"stroke:#000000; stroke-width:4; stroke-opacity:0.5; fill:none\" points=\"\n",
       "  1522.87,2498.47 1863.32,2498.47 \n",
       "  \"/>\n",
       "<polyline clip-path=\"url(#clip772)\" style=\"stroke:#000000; stroke-width:4; stroke-opacity:0.5; fill:none\" points=\"\n",
       "  1522.87,2498.47 1522.87,2158.02 \n",
       "  \"/>\n",
       "<polyline clip-path=\"url(#clip772)\" style=\"stroke:#000000; stroke-width:4; stroke-opacity:0.5; fill:none\" points=\"\n",
       "  1863.32,2498.47 1522.87,2498.47 \n",
       "  \"/>\n",
       "<polyline clip-path=\"url(#clip772)\" style=\"stroke:#000000; stroke-width:4; stroke-opacity:0.5; fill:none\" points=\"\n",
       "  1863.32,2498.47 2203.77,2498.47 \n",
       "  \"/>\n",
       "<polyline clip-path=\"url(#clip772)\" style=\"stroke:#000000; stroke-width:4; stroke-opacity:0.5; fill:none\" points=\"\n",
       "  2203.77,2498.47 1863.32,2498.47 \n",
       "  \"/>\n",
       "<polyline clip-path=\"url(#clip772)\" style=\"stroke:#000000; stroke-width:4; stroke-opacity:0.5; fill:none\" points=\"\n",
       "  2203.77,2498.47 2203.77,2158.02 \n",
       "  \"/>\n",
       "<polyline clip-path=\"url(#clip772)\" style=\"stroke:#000000; stroke-width:4; stroke-opacity:0.5; fill:none\" points=\"\n",
       "  841.978,2158.02 841.978,2498.47 \n",
       "  \"/>\n",
       "<polyline clip-path=\"url(#clip772)\" style=\"stroke:#000000; stroke-width:4; stroke-opacity:0.5; fill:none\" points=\"\n",
       "  841.978,2158.02 841.978,1817.57 \n",
       "  \"/>\n",
       "<polyline clip-path=\"url(#clip772)\" style=\"stroke:#000000; stroke-width:4; stroke-opacity:0.5; fill:none\" points=\"\n",
       "  1522.87,2158.02 1522.87,2498.47 \n",
       "  \"/>\n",
       "<polyline clip-path=\"url(#clip772)\" style=\"stroke:#000000; stroke-width:4; stroke-opacity:0.5; fill:none\" points=\"\n",
       "  1522.87,2158.02 1522.87,1817.57 \n",
       "  \"/>\n",
       "<polyline clip-path=\"url(#clip772)\" style=\"stroke:#000000; stroke-width:4; stroke-opacity:0.5; fill:none\" points=\"\n",
       "  2203.77,2158.02 2203.77,2498.47 \n",
       "  \"/>\n",
       "<polyline clip-path=\"url(#clip772)\" style=\"stroke:#000000; stroke-width:4; stroke-opacity:0.5; fill:none\" points=\"\n",
       "  2203.77,2158.02 2203.77,1817.57 \n",
       "  \"/>\n",
       "<polyline clip-path=\"url(#clip772)\" style=\"stroke:#000000; stroke-width:4; stroke-opacity:0.5; fill:none\" points=\"\n",
       "  841.978,1817.57 841.978,2158.02 \n",
       "  \"/>\n",
       "<polyline clip-path=\"url(#clip772)\" style=\"stroke:#000000; stroke-width:4; stroke-opacity:0.5; fill:none\" points=\"\n",
       "  841.978,1817.57 1182.43,1817.57 \n",
       "  \"/>\n",
       "<polyline clip-path=\"url(#clip772)\" style=\"stroke:#000000; stroke-width:4; stroke-opacity:0.5; fill:none\" points=\"\n",
       "  841.978,1817.57 841.978,1477.13 \n",
       "  \"/>\n",
       "<polyline clip-path=\"url(#clip772)\" style=\"stroke:#000000; stroke-width:4; stroke-opacity:0.5; fill:none\" points=\"\n",
       "  1182.43,1817.57 841.978,1817.57 \n",
       "  \"/>\n",
       "<polyline clip-path=\"url(#clip772)\" style=\"stroke:#000000; stroke-width:4; stroke-opacity:0.5; fill:none\" points=\"\n",
       "  1182.43,1817.57 1522.87,1817.57 \n",
       "  \"/>\n",
       "<polyline clip-path=\"url(#clip772)\" style=\"stroke:#000000; stroke-width:4; stroke-opacity:0.5; fill:none\" points=\"\n",
       "  1522.87,1817.57 1522.87,2158.02 \n",
       "  \"/>\n",
       "<polyline clip-path=\"url(#clip772)\" style=\"stroke:#000000; stroke-width:4; stroke-opacity:0.5; fill:none\" points=\"\n",
       "  1522.87,1817.57 1182.43,1817.57 \n",
       "  \"/>\n",
       "<polyline clip-path=\"url(#clip772)\" style=\"stroke:#000000; stroke-width:4; stroke-opacity:0.5; fill:none\" points=\"\n",
       "  1522.87,1817.57 1863.32,1817.57 \n",
       "  \"/>\n",
       "<polyline clip-path=\"url(#clip772)\" style=\"stroke:#000000; stroke-width:4; stroke-opacity:0.5; fill:none\" points=\"\n",
       "  1522.87,1817.57 1522.87,1477.13 \n",
       "  \"/>\n",
       "<polyline clip-path=\"url(#clip772)\" style=\"stroke:#000000; stroke-width:4; stroke-opacity:0.5; fill:none\" points=\"\n",
       "  1863.32,1817.57 1522.87,1817.57 \n",
       "  \"/>\n",
       "<polyline clip-path=\"url(#clip772)\" style=\"stroke:#000000; stroke-width:4; stroke-opacity:0.5; fill:none\" points=\"\n",
       "  1863.32,1817.57 2203.77,1817.57 \n",
       "  \"/>\n",
       "<polyline clip-path=\"url(#clip772)\" style=\"stroke:#000000; stroke-width:4; stroke-opacity:0.5; fill:none\" points=\"\n",
       "  2203.77,1817.57 2203.77,2158.02 \n",
       "  \"/>\n",
       "<polyline clip-path=\"url(#clip772)\" style=\"stroke:#000000; stroke-width:4; stroke-opacity:0.5; fill:none\" points=\"\n",
       "  2203.77,1817.57 1863.32,1817.57 \n",
       "  \"/>\n",
       "<polyline clip-path=\"url(#clip772)\" style=\"stroke:#000000; stroke-width:4; stroke-opacity:0.5; fill:none\" points=\"\n",
       "  2203.77,1817.57 2203.77,1477.13 \n",
       "  \"/>\n",
       "<polyline clip-path=\"url(#clip772)\" style=\"stroke:#000000; stroke-width:4; stroke-opacity:0.5; fill:none\" points=\"\n",
       "  841.978,1477.13 841.978,1817.57 \n",
       "  \"/>\n",
       "<polyline clip-path=\"url(#clip772)\" style=\"stroke:#000000; stroke-width:4; stroke-opacity:0.5; fill:none\" points=\"\n",
       "  841.978,1477.13 841.978,1136.68 \n",
       "  \"/>\n",
       "<polyline clip-path=\"url(#clip772)\" style=\"stroke:#000000; stroke-width:4; stroke-opacity:0.5; fill:none\" points=\"\n",
       "  1522.87,1477.13 1522.87,1817.57 \n",
       "  \"/>\n",
       "<polyline clip-path=\"url(#clip772)\" style=\"stroke:#000000; stroke-width:4; stroke-opacity:0.5; fill:none\" points=\"\n",
       "  1522.87,1477.13 1522.87,1136.68 \n",
       "  \"/>\n",
       "<polyline clip-path=\"url(#clip772)\" style=\"stroke:#000000; stroke-width:4; stroke-opacity:0.5; fill:none\" points=\"\n",
       "  2203.77,1477.13 2203.77,1817.57 \n",
       "  \"/>\n",
       "<polyline clip-path=\"url(#clip772)\" style=\"stroke:#000000; stroke-width:4; stroke-opacity:0.5; fill:none\" points=\"\n",
       "  2203.77,1477.13 2203.77,1136.68 \n",
       "  \"/>\n",
       "<polyline clip-path=\"url(#clip772)\" style=\"stroke:#000000; stroke-width:4; stroke-opacity:0.5; fill:none\" points=\"\n",
       "  841.978,1136.68 841.978,1477.13 \n",
       "  \"/>\n",
       "<polyline clip-path=\"url(#clip772)\" style=\"stroke:#000000; stroke-width:4; stroke-opacity:0.5; fill:none\" points=\"\n",
       "  841.978,1136.68 1182.43,1136.68 \n",
       "  \"/>\n",
       "<polyline clip-path=\"url(#clip772)\" style=\"stroke:#000000; stroke-width:4; stroke-opacity:0.5; fill:none\" points=\"\n",
       "  841.978,1136.68 841.978,796.23 \n",
       "  \"/>\n",
       "<polyline clip-path=\"url(#clip772)\" style=\"stroke:#000000; stroke-width:4; stroke-opacity:0.5; fill:none\" points=\"\n",
       "  1182.43,1136.68 841.978,1136.68 \n",
       "  \"/>\n",
       "<polyline clip-path=\"url(#clip772)\" style=\"stroke:#000000; stroke-width:4; stroke-opacity:0.5; fill:none\" points=\"\n",
       "  1182.43,1136.68 1522.87,1136.68 \n",
       "  \"/>\n",
       "<polyline clip-path=\"url(#clip772)\" style=\"stroke:#000000; stroke-width:4; stroke-opacity:0.5; fill:none\" points=\"\n",
       "  1522.87,1136.68 1522.87,1477.13 \n",
       "  \"/>\n",
       "<polyline clip-path=\"url(#clip772)\" style=\"stroke:#000000; stroke-width:4; stroke-opacity:0.5; fill:none\" points=\"\n",
       "  1522.87,1136.68 1182.43,1136.68 \n",
       "  \"/>\n",
       "<polyline clip-path=\"url(#clip772)\" style=\"stroke:#000000; stroke-width:4; stroke-opacity:0.5; fill:none\" points=\"\n",
       "  1522.87,1136.68 1863.32,1136.68 \n",
       "  \"/>\n",
       "<polyline clip-path=\"url(#clip772)\" style=\"stroke:#000000; stroke-width:4; stroke-opacity:0.5; fill:none\" points=\"\n",
       "  1522.87,1136.68 1522.87,796.23 \n",
       "  \"/>\n",
       "<polyline clip-path=\"url(#clip772)\" style=\"stroke:#000000; stroke-width:4; stroke-opacity:0.5; fill:none\" points=\"\n",
       "  1863.32,1136.68 1522.87,1136.68 \n",
       "  \"/>\n",
       "<polyline clip-path=\"url(#clip772)\" style=\"stroke:#000000; stroke-width:4; stroke-opacity:0.5; fill:none\" points=\"\n",
       "  1863.32,1136.68 2203.77,1136.68 \n",
       "  \"/>\n",
       "<polyline clip-path=\"url(#clip772)\" style=\"stroke:#000000; stroke-width:4; stroke-opacity:0.5; fill:none\" points=\"\n",
       "  2203.77,1136.68 2203.77,1477.13 \n",
       "  \"/>\n",
       "<polyline clip-path=\"url(#clip772)\" style=\"stroke:#000000; stroke-width:4; stroke-opacity:0.5; fill:none\" points=\"\n",
       "  2203.77,1136.68 1863.32,1136.68 \n",
       "  \"/>\n",
       "<polyline clip-path=\"url(#clip772)\" style=\"stroke:#000000; stroke-width:4; stroke-opacity:0.5; fill:none\" points=\"\n",
       "  2203.77,1136.68 2203.77,796.23 \n",
       "  \"/>\n",
       "<polyline clip-path=\"url(#clip772)\" style=\"stroke:#000000; stroke-width:4; stroke-opacity:0.5; fill:none\" points=\"\n",
       "  841.978,796.23 841.978,1136.68 \n",
       "  \"/>\n",
       "<polyline clip-path=\"url(#clip772)\" style=\"stroke:#000000; stroke-width:4; stroke-opacity:0.5; fill:none\" points=\"\n",
       "  841.978,796.23 841.978,455.782 \n",
       "  \"/>\n",
       "<polyline clip-path=\"url(#clip772)\" style=\"stroke:#000000; stroke-width:4; stroke-opacity:0.5; fill:none\" points=\"\n",
       "  1522.87,796.23 1522.87,1136.68 \n",
       "  \"/>\n",
       "<polyline clip-path=\"url(#clip772)\" style=\"stroke:#000000; stroke-width:4; stroke-opacity:0.5; fill:none\" points=\"\n",
       "  1522.87,796.23 1522.87,455.782 \n",
       "  \"/>\n",
       "<polyline clip-path=\"url(#clip772)\" style=\"stroke:#000000; stroke-width:4; stroke-opacity:0.5; fill:none\" points=\"\n",
       "  2203.77,796.23 2203.77,1136.68 \n",
       "  \"/>\n",
       "<polyline clip-path=\"url(#clip772)\" style=\"stroke:#000000; stroke-width:4; stroke-opacity:0.5; fill:none\" points=\"\n",
       "  2203.77,796.23 2203.77,455.782 \n",
       "  \"/>\n",
       "<polyline clip-path=\"url(#clip772)\" style=\"stroke:#000000; stroke-width:4; stroke-opacity:0.5; fill:none\" points=\"\n",
       "  841.978,455.782 841.978,796.23 \n",
       "  \"/>\n",
       "<polyline clip-path=\"url(#clip772)\" style=\"stroke:#000000; stroke-width:4; stroke-opacity:0.5; fill:none\" points=\"\n",
       "  841.978,455.782 1182.43,455.782 \n",
       "  \"/>\n",
       "<polyline clip-path=\"url(#clip772)\" style=\"stroke:#000000; stroke-width:4; stroke-opacity:0.5; fill:none\" points=\"\n",
       "  1182.43,455.782 841.978,455.782 \n",
       "  \"/>\n",
       "<polyline clip-path=\"url(#clip772)\" style=\"stroke:#000000; stroke-width:4; stroke-opacity:0.5; fill:none\" points=\"\n",
       "  1182.43,455.782 1522.87,455.782 \n",
       "  \"/>\n",
       "<polyline clip-path=\"url(#clip772)\" style=\"stroke:#000000; stroke-width:4; stroke-opacity:0.5; fill:none\" points=\"\n",
       "  1522.87,455.782 1522.87,796.23 \n",
       "  \"/>\n",
       "<polyline clip-path=\"url(#clip772)\" style=\"stroke:#000000; stroke-width:4; stroke-opacity:0.5; fill:none\" points=\"\n",
       "  1522.87,455.782 1182.43,455.782 \n",
       "  \"/>\n",
       "<polyline clip-path=\"url(#clip772)\" style=\"stroke:#000000; stroke-width:4; stroke-opacity:0.5; fill:none\" points=\"\n",
       "  1522.87,455.782 1863.32,455.782 \n",
       "  \"/>\n",
       "<polyline clip-path=\"url(#clip772)\" style=\"stroke:#000000; stroke-width:4; stroke-opacity:0.5; fill:none\" points=\"\n",
       "  1863.32,455.782 1522.87,455.782 \n",
       "  \"/>\n",
       "<polyline clip-path=\"url(#clip772)\" style=\"stroke:#000000; stroke-width:4; stroke-opacity:0.5; fill:none\" points=\"\n",
       "  1863.32,455.782 2203.77,455.782 \n",
       "  \"/>\n",
       "<polyline clip-path=\"url(#clip772)\" style=\"stroke:#000000; stroke-width:4; stroke-opacity:0.5; fill:none\" points=\"\n",
       "  2203.77,455.782 2203.77,796.23 \n",
       "  \"/>\n",
       "<polyline clip-path=\"url(#clip772)\" style=\"stroke:#000000; stroke-width:4; stroke-opacity:0.5; fill:none\" points=\"\n",
       "  2203.77,455.782 1863.32,455.782 \n",
       "  \"/>\n",
       "<path clip-path=\"url(#clip772)\" d=\"\n",
       "M824.955 2515.49 L859 2515.49 L859 2481.45 L824.955 2481.45 L824.955 2515.49 L824.955 2515.49  Z\n",
       "  \" fill=\"#808080\" fill-rule=\"evenodd\" fill-opacity=\"1\"/>\n",
       "<polyline clip-path=\"url(#clip772)\" style=\"stroke:#000000; stroke-width:0; stroke-opacity:1; fill:none\" points=\"\n",
       "  824.955,2515.49 859,2515.49 859,2481.45 824.955,2481.45 824.955,2515.49 \n",
       "  \"/>\n",
       "<path clip-path=\"url(#clip772)\" d=\"\n",
       "M1131.36 2549.54 L1233.49 2549.54 L1233.49 2447.4 L1131.36 2447.4 L1131.36 2549.54 L1131.36 2549.54  Z\n",
       "  \" fill=\"#fbb419\" fill-rule=\"evenodd\" fill-opacity=\"1\"/>\n",
       "<polyline clip-path=\"url(#clip772)\" style=\"stroke:#000000; stroke-width:0; stroke-opacity:1; fill:none\" points=\"\n",
       "  1131.36,2549.54 1233.49,2549.54 1233.49,2447.4 1131.36,2447.4 1131.36,2549.54 \n",
       "  \"/>\n",
       "<path clip-path=\"url(#clip772)\" d=\"\n",
       "M1505.85 2515.49 L1539.9 2515.49 L1539.9 2481.45 L1505.85 2481.45 L1505.85 2515.49 L1505.85 2515.49  Z\n",
       "  \" fill=\"#808080\" fill-rule=\"evenodd\" fill-opacity=\"1\"/>\n",
       "<polyline clip-path=\"url(#clip772)\" style=\"stroke:#000000; stroke-width:0; stroke-opacity:1; fill:none\" points=\"\n",
       "  1505.85,2515.49 1539.9,2515.49 1539.9,2481.45 1505.85,2481.45 1505.85,2515.49 \n",
       "  \"/>\n",
       "<path clip-path=\"url(#clip772)\" d=\"\n",
       "M1812.25 2549.54 L1914.39 2549.54 L1914.39 2447.4 L1812.25 2447.4 L1812.25 2549.54 L1812.25 2549.54  Z\n",
       "  \" fill=\"#fbb419\" fill-rule=\"evenodd\" fill-opacity=\"1\"/>\n",
       "<polyline clip-path=\"url(#clip772)\" style=\"stroke:#000000; stroke-width:0; stroke-opacity:1; fill:none\" points=\"\n",
       "  1812.25,2549.54 1914.39,2549.54 1914.39,2447.4 1812.25,2447.4 1812.25,2549.54 \n",
       "  \"/>\n",
       "<path clip-path=\"url(#clip772)\" d=\"\n",
       "M2186.75 2515.49 L2220.79 2515.49 L2220.79 2481.45 L2186.75 2481.45 L2186.75 2515.49 L2186.75 2515.49  Z\n",
       "  \" fill=\"#808080\" fill-rule=\"evenodd\" fill-opacity=\"1\"/>\n",
       "<polyline clip-path=\"url(#clip772)\" style=\"stroke:#000000; stroke-width:0; stroke-opacity:1; fill:none\" points=\"\n",
       "  2186.75,2515.49 2220.79,2515.49 2220.79,2481.45 2186.75,2481.45 2186.75,2515.49 \n",
       "  \"/>\n",
       "<path clip-path=\"url(#clip772)\" d=\"\n",
       "M824.955 2175.04 L859 2175.04 L859 2141 L824.955 2141 L824.955 2175.04 L824.955 2175.04  Z\n",
       "  \" fill=\"#808080\" fill-rule=\"evenodd\" fill-opacity=\"1\"/>\n",
       "<polyline clip-path=\"url(#clip772)\" style=\"stroke:#000000; stroke-width:0; stroke-opacity:1; fill:none\" points=\"\n",
       "  824.955,2175.04 859,2175.04 859,2141 824.955,2141 824.955,2175.04 \n",
       "  \"/>\n",
       "<path clip-path=\"url(#clip772)\" d=\"\n",
       "M1097.31 2243.13 L1267.54 2243.13 L1267.54 2072.91 L1097.31 2072.91 L1097.31 2243.13 L1097.31 2243.13  Z\n",
       "  \" fill=\"#ba3654\" fill-rule=\"evenodd\" fill-opacity=\"1\"/>\n",
       "<polyline clip-path=\"url(#clip772)\" style=\"stroke:#000000; stroke-width:0; stroke-opacity:1; fill:none\" points=\"\n",
       "  1097.31,2243.13 1267.54,2243.13 1267.54,2072.91 1097.31,2072.91 1097.31,2243.13 \n",
       "  \"/>\n",
       "<path clip-path=\"url(#clip772)\" d=\"\n",
       "M1505.85 2175.04 L1539.9 2175.04 L1539.9 2141 L1505.85 2141 L1505.85 2175.04 L1505.85 2175.04  Z\n",
       "  \" fill=\"#808080\" fill-rule=\"evenodd\" fill-opacity=\"1\"/>\n",
       "<polyline clip-path=\"url(#clip772)\" style=\"stroke:#000000; stroke-width:0; stroke-opacity:1; fill:none\" points=\"\n",
       "  1505.85,2175.04 1539.9,2175.04 1539.9,2141 1505.85,2141 1505.85,2175.04 \n",
       "  \"/>\n",
       "<path clip-path=\"url(#clip772)\" d=\"\n",
       "M1778.21 2243.13 L1948.43 2243.13 L1948.43 2072.91 L1778.21 2072.91 L1778.21 2243.13 L1778.21 2243.13  Z\n",
       "  \" fill=\"#ba3654\" fill-rule=\"evenodd\" fill-opacity=\"1\"/>\n",
       "<polyline clip-path=\"url(#clip772)\" style=\"stroke:#000000; stroke-width:0; stroke-opacity:1; fill:none\" points=\"\n",
       "  1778.21,2243.13 1948.43,2243.13 1948.43,2072.91 1778.21,2072.91 1778.21,2243.13 \n",
       "  \"/>\n",
       "<path clip-path=\"url(#clip772)\" d=\"\n",
       "M2186.75 2175.04 L2220.79 2175.04 L2220.79 2141 L2186.75 2141 L2186.75 2175.04 L2186.75 2175.04  Z\n",
       "  \" fill=\"#808080\" fill-rule=\"evenodd\" fill-opacity=\"1\"/>\n",
       "<polyline clip-path=\"url(#clip772)\" style=\"stroke:#000000; stroke-width:0; stroke-opacity:1; fill:none\" points=\"\n",
       "  2186.75,2175.04 2220.79,2175.04 2220.79,2141 2186.75,2141 2186.75,2175.04 \n",
       "  \"/>\n",
       "<path clip-path=\"url(#clip772)\" d=\"\n",
       "M824.955 1834.6 L859 1834.6 L859 1800.55 L824.955 1800.55 L824.955 1834.6 L824.955 1834.6  Z\n",
       "  \" fill=\"#808080\" fill-rule=\"evenodd\" fill-opacity=\"1\"/>\n",
       "<polyline clip-path=\"url(#clip772)\" style=\"stroke:#000000; stroke-width:0; stroke-opacity:1; fill:none\" points=\"\n",
       "  824.955,1834.6 859,1834.6 859,1800.55 824.955,1800.55 824.955,1834.6 \n",
       "  \"/>\n",
       "<path clip-path=\"url(#clip772)\" d=\"\n",
       "M1165.4 1834.6 L1199.45 1834.6 L1199.45 1800.55 L1165.4 1800.55 L1165.4 1834.6 L1165.4 1834.6  Z\n",
       "  \" fill=\"#808080\" fill-rule=\"evenodd\" fill-opacity=\"1\"/>\n",
       "<polyline clip-path=\"url(#clip772)\" style=\"stroke:#000000; stroke-width:0; stroke-opacity:1; fill:none\" points=\"\n",
       "  1165.4,1834.6 1199.45,1834.6 1199.45,1800.55 1165.4,1800.55 1165.4,1834.6 \n",
       "  \"/>\n",
       "<path clip-path=\"url(#clip772)\" d=\"\n",
       "M1505.85 1834.6 L1539.9 1834.6 L1539.9 1800.55 L1505.85 1800.55 L1505.85 1834.6 L1505.85 1834.6  Z\n",
       "  \" fill=\"#808080\" fill-rule=\"evenodd\" fill-opacity=\"1\"/>\n",
       "<polyline clip-path=\"url(#clip772)\" style=\"stroke:#000000; stroke-width:0; stroke-opacity:1; fill:none\" points=\"\n",
       "  1505.85,1834.6 1539.9,1834.6 1539.9,1800.55 1505.85,1800.55 1505.85,1834.6 \n",
       "  \"/>\n",
       "<path clip-path=\"url(#clip772)\" d=\"\n",
       "M1846.3 1834.6 L1880.34 1834.6 L1880.34 1800.55 L1846.3 1800.55 L1846.3 1834.6 L1846.3 1834.6  Z\n",
       "  \" fill=\"#808080\" fill-rule=\"evenodd\" fill-opacity=\"1\"/>\n",
       "<polyline clip-path=\"url(#clip772)\" style=\"stroke:#000000; stroke-width:0; stroke-opacity:1; fill:none\" points=\"\n",
       "  1846.3,1834.6 1880.34,1834.6 1880.34,1800.55 1846.3,1800.55 1846.3,1834.6 \n",
       "  \"/>\n",
       "<path clip-path=\"url(#clip772)\" d=\"\n",
       "M2186.75 1834.6 L2220.79 1834.6 L2220.79 1800.55 L2186.75 1800.55 L2186.75 1834.6 L2186.75 1834.6  Z\n",
       "  \" fill=\"#808080\" fill-rule=\"evenodd\" fill-opacity=\"1\"/>\n",
       "<polyline clip-path=\"url(#clip772)\" style=\"stroke:#000000; stroke-width:0; stroke-opacity:1; fill:none\" points=\"\n",
       "  2186.75,1834.6 2220.79,1834.6 2220.79,1800.55 2186.75,1800.55 2186.75,1834.6 \n",
       "  \"/>\n",
       "<path clip-path=\"url(#clip772)\" d=\"\n",
       "M824.955 1494.15 L859 1494.15 L859 1460.1 L824.955 1460.1 L824.955 1494.15 L824.955 1494.15  Z\n",
       "  \" fill=\"#808080\" fill-rule=\"evenodd\" fill-opacity=\"1\"/>\n",
       "<polyline clip-path=\"url(#clip772)\" style=\"stroke:#000000; stroke-width:0; stroke-opacity:1; fill:none\" points=\"\n",
       "  824.955,1494.15 859,1494.15 859,1460.1 824.955,1460.1 824.955,1494.15 \n",
       "  \"/>\n",
       "<path clip-path=\"url(#clip772)\" d=\"\n",
       "M1131.36 1528.19 L1233.49 1528.19 L1233.49 1426.06 L1131.36 1426.06 L1131.36 1528.19 L1131.36 1528.19  Z\n",
       "  \" fill=\"#fbb419\" fill-rule=\"evenodd\" fill-opacity=\"1\"/>\n",
       "<polyline clip-path=\"url(#clip772)\" style=\"stroke:#000000; stroke-width:0; stroke-opacity:1; fill:none\" points=\"\n",
       "  1131.36,1528.19 1233.49,1528.19 1233.49,1426.06 1131.36,1426.06 1131.36,1528.19 \n",
       "  \"/>\n",
       "<path clip-path=\"url(#clip772)\" d=\"\n",
       "M1505.85 1494.15 L1539.9 1494.15 L1539.9 1460.1 L1505.85 1460.1 L1505.85 1494.15 L1505.85 1494.15  Z\n",
       "  \" fill=\"#808080\" fill-rule=\"evenodd\" fill-opacity=\"1\"/>\n",
       "<polyline clip-path=\"url(#clip772)\" style=\"stroke:#000000; stroke-width:0; stroke-opacity:1; fill:none\" points=\"\n",
       "  1505.85,1494.15 1539.9,1494.15 1539.9,1460.1 1505.85,1460.1 1505.85,1494.15 \n",
       "  \"/>\n",
       "<path clip-path=\"url(#clip772)\" d=\"\n",
       "M1812.25 1528.19 L1914.39 1528.19 L1914.39 1426.06 L1812.25 1426.06 L1812.25 1528.19 L1812.25 1528.19  Z\n",
       "  \" fill=\"#fbb419\" fill-rule=\"evenodd\" fill-opacity=\"1\"/>\n",
       "<polyline clip-path=\"url(#clip772)\" style=\"stroke:#000000; stroke-width:0; stroke-opacity:1; fill:none\" points=\"\n",
       "  1812.25,1528.19 1914.39,1528.19 1914.39,1426.06 1812.25,1426.06 1812.25,1528.19 \n",
       "  \"/>\n",
       "<path clip-path=\"url(#clip772)\" d=\"\n",
       "M2186.75 1494.15 L2220.79 1494.15 L2220.79 1460.1 L2186.75 1460.1 L2186.75 1494.15 L2186.75 1494.15  Z\n",
       "  \" fill=\"#808080\" fill-rule=\"evenodd\" fill-opacity=\"1\"/>\n",
       "<polyline clip-path=\"url(#clip772)\" style=\"stroke:#000000; stroke-width:0; stroke-opacity:1; fill:none\" points=\"\n",
       "  2186.75,1494.15 2220.79,1494.15 2220.79,1460.1 2186.75,1460.1 2186.75,1494.15 \n",
       "  \"/>\n",
       "<path clip-path=\"url(#clip772)\" d=\"\n",
       "M824.955 1153.7 L859 1153.7 L859 1119.66 L824.955 1119.66 L824.955 1153.7 L824.955 1153.7  Z\n",
       "  \" fill=\"#808080\" fill-rule=\"evenodd\" fill-opacity=\"1\"/>\n",
       "<polyline clip-path=\"url(#clip772)\" style=\"stroke:#000000; stroke-width:0; stroke-opacity:1; fill:none\" points=\"\n",
       "  824.955,1153.7 859,1153.7 859,1119.66 824.955,1119.66 824.955,1153.7 \n",
       "  \"/>\n",
       "<path clip-path=\"url(#clip772)\" d=\"\n",
       "M1165.4 1153.7 L1199.45 1153.7 L1199.45 1119.66 L1165.4 1119.66 L1165.4 1153.7 L1165.4 1153.7  Z\n",
       "  \" fill=\"#808080\" fill-rule=\"evenodd\" fill-opacity=\"1\"/>\n",
       "<polyline clip-path=\"url(#clip772)\" style=\"stroke:#000000; stroke-width:0; stroke-opacity:1; fill:none\" points=\"\n",
       "  1165.4,1153.7 1199.45,1153.7 1199.45,1119.66 1165.4,1119.66 1165.4,1153.7 \n",
       "  \"/>\n",
       "<path clip-path=\"url(#clip772)\" d=\"\n",
       "M1505.85 1153.7 L1539.9 1153.7 L1539.9 1119.66 L1505.85 1119.66 L1505.85 1153.7 L1505.85 1153.7  Z\n",
       "  \" fill=\"#808080\" fill-rule=\"evenodd\" fill-opacity=\"1\"/>\n",
       "<polyline clip-path=\"url(#clip772)\" style=\"stroke:#000000; stroke-width:0; stroke-opacity:1; fill:none\" points=\"\n",
       "  1505.85,1153.7 1539.9,1153.7 1539.9,1119.66 1505.85,1119.66 1505.85,1153.7 \n",
       "  \"/>\n",
       "<path clip-path=\"url(#clip772)\" d=\"\n",
       "M1846.3 1153.7 L1880.34 1153.7 L1880.34 1119.66 L1846.3 1119.66 L1846.3 1153.7 L1846.3 1153.7  Z\n",
       "  \" fill=\"#808080\" fill-rule=\"evenodd\" fill-opacity=\"1\"/>\n",
       "<polyline clip-path=\"url(#clip772)\" style=\"stroke:#000000; stroke-width:0; stroke-opacity:1; fill:none\" points=\"\n",
       "  1846.3,1153.7 1880.34,1153.7 1880.34,1119.66 1846.3,1119.66 1846.3,1153.7 \n",
       "  \"/>\n",
       "<path clip-path=\"url(#clip772)\" d=\"\n",
       "M2186.75 1153.7 L2220.79 1153.7 L2220.79 1119.66 L2186.75 1119.66 L2186.75 1153.7 L2186.75 1153.7  Z\n",
       "  \" fill=\"#808080\" fill-rule=\"evenodd\" fill-opacity=\"1\"/>\n",
       "<polyline clip-path=\"url(#clip772)\" style=\"stroke:#000000; stroke-width:0; stroke-opacity:1; fill:none\" points=\"\n",
       "  2186.75,1153.7 2220.79,1153.7 2220.79,1119.66 2186.75,1119.66 2186.75,1153.7 \n",
       "  \"/>\n",
       "<path clip-path=\"url(#clip772)\" d=\"\n",
       "M824.955 813.252 L859 813.252 L859 779.207 L824.955 779.207 L824.955 813.252 L824.955 813.252  Z\n",
       "  \" fill=\"#808080\" fill-rule=\"evenodd\" fill-opacity=\"1\"/>\n",
       "<polyline clip-path=\"url(#clip772)\" style=\"stroke:#000000; stroke-width:0; stroke-opacity:1; fill:none\" points=\"\n",
       "  824.955,813.252 859,813.252 859,779.207 824.955,779.207 824.955,813.252 \n",
       "  \"/>\n",
       "<path clip-path=\"url(#clip772)\" d=\"\n",
       "M1131.36 847.297 L1233.49 847.297 L1233.49 745.163 L1131.36 745.163 L1131.36 847.297 L1131.36 847.297  Z\n",
       "  \" fill=\"#fbb419\" fill-rule=\"evenodd\" fill-opacity=\"1\"/>\n",
       "<polyline clip-path=\"url(#clip772)\" style=\"stroke:#000000; stroke-width:0; stroke-opacity:1; fill:none\" points=\"\n",
       "  1131.36,847.297 1233.49,847.297 1233.49,745.163 1131.36,745.163 1131.36,847.297 \n",
       "  \"/>\n",
       "<path clip-path=\"url(#clip772)\" d=\"\n",
       "M1505.85 813.252 L1539.9 813.252 L1539.9 779.207 L1505.85 779.207 L1505.85 813.252 L1505.85 813.252  Z\n",
       "  \" fill=\"#808080\" fill-rule=\"evenodd\" fill-opacity=\"1\"/>\n",
       "<polyline clip-path=\"url(#clip772)\" style=\"stroke:#000000; stroke-width:0; stroke-opacity:1; fill:none\" points=\"\n",
       "  1505.85,813.252 1539.9,813.252 1539.9,779.207 1505.85,779.207 1505.85,813.252 \n",
       "  \"/>\n",
       "<path clip-path=\"url(#clip772)\" d=\"\n",
       "M1812.25 847.297 L1914.39 847.297 L1914.39 745.163 L1812.25 745.163 L1812.25 847.297 L1812.25 847.297  Z\n",
       "  \" fill=\"#fbb419\" fill-rule=\"evenodd\" fill-opacity=\"1\"/>\n",
       "<polyline clip-path=\"url(#clip772)\" style=\"stroke:#000000; stroke-width:0; stroke-opacity:1; fill:none\" points=\"\n",
       "  1812.25,847.297 1914.39,847.297 1914.39,745.163 1812.25,745.163 1812.25,847.297 \n",
       "  \"/>\n",
       "<path clip-path=\"url(#clip772)\" d=\"\n",
       "M2186.75 813.252 L2220.79 813.252 L2220.79 779.207 L2186.75 779.207 L2186.75 813.252 L2186.75 813.252  Z\n",
       "  \" fill=\"#808080\" fill-rule=\"evenodd\" fill-opacity=\"1\"/>\n",
       "<polyline clip-path=\"url(#clip772)\" style=\"stroke:#000000; stroke-width:0; stroke-opacity:1; fill:none\" points=\"\n",
       "  2186.75,813.252 2220.79,813.252 2220.79,779.207 2186.75,779.207 2186.75,813.252 \n",
       "  \"/>\n",
       "<path clip-path=\"url(#clip772)\" d=\"\n",
       "M824.955 472.804 L859 472.804 L859 438.759 L824.955 438.759 L824.955 472.804 L824.955 472.804  Z\n",
       "  \" fill=\"#808080\" fill-rule=\"evenodd\" fill-opacity=\"1\"/>\n",
       "<polyline clip-path=\"url(#clip772)\" style=\"stroke:#000000; stroke-width:0; stroke-opacity:1; fill:none\" points=\"\n",
       "  824.955,472.804 859,472.804 859,438.759 824.955,438.759 824.955,472.804 \n",
       "  \"/>\n",
       "<path clip-path=\"url(#clip772)\" d=\"\n",
       "M1165.4 472.804 L1199.45 472.804 L1199.45 438.759 L1165.4 438.759 L1165.4 472.804 L1165.4 472.804  Z\n",
       "  \" fill=\"#808080\" fill-rule=\"evenodd\" fill-opacity=\"1\"/>\n",
       "<polyline clip-path=\"url(#clip772)\" style=\"stroke:#000000; stroke-width:0; stroke-opacity:1; fill:none\" points=\"\n",
       "  1165.4,472.804 1199.45,472.804 1199.45,438.759 1165.4,438.759 1165.4,472.804 \n",
       "  \"/>\n",
       "<path clip-path=\"url(#clip772)\" d=\"\n",
       "M1505.85 472.804 L1539.9 472.804 L1539.9 438.759 L1505.85 438.759 L1505.85 472.804 L1505.85 472.804  Z\n",
       "  \" fill=\"#808080\" fill-rule=\"evenodd\" fill-opacity=\"1\"/>\n",
       "<polyline clip-path=\"url(#clip772)\" style=\"stroke:#000000; stroke-width:0; stroke-opacity:1; fill:none\" points=\"\n",
       "  1505.85,472.804 1539.9,472.804 1539.9,438.759 1505.85,438.759 1505.85,472.804 \n",
       "  \"/>\n",
       "<path clip-path=\"url(#clip772)\" d=\"\n",
       "M1846.3 472.804 L1880.34 472.804 L1880.34 438.759 L1846.3 438.759 L1846.3 472.804 L1846.3 472.804  Z\n",
       "  \" fill=\"#808080\" fill-rule=\"evenodd\" fill-opacity=\"1\"/>\n",
       "<polyline clip-path=\"url(#clip772)\" style=\"stroke:#000000; stroke-width:0; stroke-opacity:1; fill:none\" points=\"\n",
       "  1846.3,472.804 1880.34,472.804 1880.34,438.759 1846.3,438.759 1846.3,472.804 \n",
       "  \"/>\n",
       "<path clip-path=\"url(#clip772)\" d=\"\n",
       "M2186.75 472.804 L2220.79 472.804 L2220.79 438.759 L2186.75 438.759 L2186.75 472.804 L2186.75 472.804  Z\n",
       "  \" fill=\"#808080\" fill-rule=\"evenodd\" fill-opacity=\"1\"/>\n",
       "<polyline clip-path=\"url(#clip772)\" style=\"stroke:#000000; stroke-width:0; stroke-opacity:1; fill:none\" points=\"\n",
       "  2186.75,472.804 2220.79,472.804 2220.79,438.759 2186.75,438.759 2186.75,472.804 \n",
       "  \"/>\n",
       "<circle clip-path=\"url(#clip772)\" style=\"fill:#808080; stroke:none; fill-opacity:1\" cx=\"841.978\" cy=\"2498.47\" r=\"2\"/>\n",
       "<circle clip-path=\"url(#clip772)\" style=\"fill:#fbb419; stroke:none; fill-opacity:1\" cx=\"1182.43\" cy=\"2498.47\" r=\"2\"/>\n",
       "<circle clip-path=\"url(#clip772)\" style=\"fill:#808080; stroke:none; fill-opacity:1\" cx=\"1522.87\" cy=\"2498.47\" r=\"2\"/>\n",
       "<circle clip-path=\"url(#clip772)\" style=\"fill:#fbb419; stroke:none; fill-opacity:1\" cx=\"1863.32\" cy=\"2498.47\" r=\"2\"/>\n",
       "<circle clip-path=\"url(#clip772)\" style=\"fill:#808080; stroke:none; fill-opacity:1\" cx=\"2203.77\" cy=\"2498.47\" r=\"2\"/>\n",
       "<circle clip-path=\"url(#clip772)\" style=\"fill:#808080; stroke:none; fill-opacity:1\" cx=\"841.978\" cy=\"2158.02\" r=\"2\"/>\n",
       "<circle clip-path=\"url(#clip772)\" style=\"fill:#ba3654; stroke:none; fill-opacity:1\" cx=\"1182.43\" cy=\"2158.02\" r=\"2\"/>\n",
       "<circle clip-path=\"url(#clip772)\" style=\"fill:#808080; stroke:none; fill-opacity:1\" cx=\"1522.87\" cy=\"2158.02\" r=\"2\"/>\n",
       "<circle clip-path=\"url(#clip772)\" style=\"fill:#ba3654; stroke:none; fill-opacity:1\" cx=\"1863.32\" cy=\"2158.02\" r=\"2\"/>\n",
       "<circle clip-path=\"url(#clip772)\" style=\"fill:#808080; stroke:none; fill-opacity:1\" cx=\"2203.77\" cy=\"2158.02\" r=\"2\"/>\n",
       "<circle clip-path=\"url(#clip772)\" style=\"fill:#808080; stroke:none; fill-opacity:1\" cx=\"841.978\" cy=\"1817.57\" r=\"2\"/>\n",
       "<circle clip-path=\"url(#clip772)\" style=\"fill:#808080; stroke:none; fill-opacity:1\" cx=\"1182.43\" cy=\"1817.57\" r=\"2\"/>\n",
       "<circle clip-path=\"url(#clip772)\" style=\"fill:#808080; stroke:none; fill-opacity:1\" cx=\"1522.87\" cy=\"1817.57\" r=\"2\"/>\n",
       "<circle clip-path=\"url(#clip772)\" style=\"fill:#808080; stroke:none; fill-opacity:1\" cx=\"1863.32\" cy=\"1817.57\" r=\"2\"/>\n",
       "<circle clip-path=\"url(#clip772)\" style=\"fill:#808080; stroke:none; fill-opacity:1\" cx=\"2203.77\" cy=\"1817.57\" r=\"2\"/>\n",
       "<circle clip-path=\"url(#clip772)\" style=\"fill:#808080; stroke:none; fill-opacity:1\" cx=\"841.978\" cy=\"1477.13\" r=\"2\"/>\n",
       "<circle clip-path=\"url(#clip772)\" style=\"fill:#fbb419; stroke:none; fill-opacity:1\" cx=\"1182.43\" cy=\"1477.13\" r=\"2\"/>\n",
       "<circle clip-path=\"url(#clip772)\" style=\"fill:#808080; stroke:none; fill-opacity:1\" cx=\"1522.87\" cy=\"1477.13\" r=\"2\"/>\n",
       "<circle clip-path=\"url(#clip772)\" style=\"fill:#fbb419; stroke:none; fill-opacity:1\" cx=\"1863.32\" cy=\"1477.13\" r=\"2\"/>\n",
       "<circle clip-path=\"url(#clip772)\" style=\"fill:#808080; stroke:none; fill-opacity:1\" cx=\"2203.77\" cy=\"1477.13\" r=\"2\"/>\n",
       "<circle clip-path=\"url(#clip772)\" style=\"fill:#808080; stroke:none; fill-opacity:1\" cx=\"841.978\" cy=\"1136.68\" r=\"2\"/>\n",
       "<circle clip-path=\"url(#clip772)\" style=\"fill:#808080; stroke:none; fill-opacity:1\" cx=\"1182.43\" cy=\"1136.68\" r=\"2\"/>\n",
       "<circle clip-path=\"url(#clip772)\" style=\"fill:#808080; stroke:none; fill-opacity:1\" cx=\"1522.87\" cy=\"1136.68\" r=\"2\"/>\n",
       "<circle clip-path=\"url(#clip772)\" style=\"fill:#808080; stroke:none; fill-opacity:1\" cx=\"1863.32\" cy=\"1136.68\" r=\"2\"/>\n",
       "<circle clip-path=\"url(#clip772)\" style=\"fill:#808080; stroke:none; fill-opacity:1\" cx=\"2203.77\" cy=\"1136.68\" r=\"2\"/>\n",
       "<circle clip-path=\"url(#clip772)\" style=\"fill:#808080; stroke:none; fill-opacity:1\" cx=\"841.978\" cy=\"796.23\" r=\"2\"/>\n",
       "<circle clip-path=\"url(#clip772)\" style=\"fill:#fbb419; stroke:none; fill-opacity:1\" cx=\"1182.43\" cy=\"796.23\" r=\"2\"/>\n",
       "<circle clip-path=\"url(#clip772)\" style=\"fill:#808080; stroke:none; fill-opacity:1\" cx=\"1522.87\" cy=\"796.23\" r=\"2\"/>\n",
       "<circle clip-path=\"url(#clip772)\" style=\"fill:#fbb419; stroke:none; fill-opacity:1\" cx=\"1863.32\" cy=\"796.23\" r=\"2\"/>\n",
       "<circle clip-path=\"url(#clip772)\" style=\"fill:#808080; stroke:none; fill-opacity:1\" cx=\"2203.77\" cy=\"796.23\" r=\"2\"/>\n",
       "<circle clip-path=\"url(#clip772)\" style=\"fill:#808080; stroke:none; fill-opacity:1\" cx=\"841.978\" cy=\"455.782\" r=\"2\"/>\n",
       "<circle clip-path=\"url(#clip772)\" style=\"fill:#808080; stroke:none; fill-opacity:1\" cx=\"1182.43\" cy=\"455.782\" r=\"2\"/>\n",
       "<circle clip-path=\"url(#clip772)\" style=\"fill:#808080; stroke:none; fill-opacity:1\" cx=\"1522.87\" cy=\"455.782\" r=\"2\"/>\n",
       "<circle clip-path=\"url(#clip772)\" style=\"fill:#808080; stroke:none; fill-opacity:1\" cx=\"1863.32\" cy=\"455.782\" r=\"2\"/>\n",
       "<circle clip-path=\"url(#clip772)\" style=\"fill:#808080; stroke:none; fill-opacity:1\" cx=\"2203.77\" cy=\"455.782\" r=\"2\"/>\n",
       "</svg>\n"
      ]
     },
     "execution_count": 121,
     "metadata": {},
     "output_type": "execute_result"
    }
   ],
   "source": [
    "plot_warehouse()"
   ]
  },
  {
   "cell_type": "code",
   "execution_count": null,
   "id": "possible-parish",
   "metadata": {},
   "outputs": [],
   "source": [
    "adata = [:pos, :dest,:head]\n",
    "data, _ = run!(warehouse, robot_step!,warehouse_step!,terminate_warehouse_sim; adata)"
   ]
  },
  {
   "cell_type": "markdown",
   "id": "informed-generation",
   "metadata": {},
   "source": [
    "## CBS Warehouse Step"
   ]
  },
  {
   "cell_type": "code",
   "execution_count": 228,
   "id": "important-battery",
   "metadata": {},
   "outputs": [],
   "source": [
    "function warehouse_step!(model)\n",
    "\n",
    "    replan = false\n",
    "    \n",
    "    #TODO collision test\n",
    "    \n",
    "    for robot in allagents(model)\n",
    "#         display(robot)\n",
    "        if robot.dest == 0\n",
    "            replan = true\n",
    "            if robot.pos in model.load_spot && !isempty(model.package_list)# nalozeni\n",
    "                next_package_dest = popfirst!(model.package_list)\n",
    "                robot.dest = model.dest_spot[next_package_dest]\n",
    "            elseif robot.pos in model.dest_spot || model.step == 1 #vylozeni\n",
    "                robot.dest = get_load_spot(model)                \n",
    "            end                                                                        \n",
    "        end\n",
    "#         display(robot)\n",
    "    end\n",
    "    \n",
    "    if replan\n",
    "         \n",
    "        et = edgetype(model.graph)\n",
    "        n_agents = nagents(model)\n",
    "\n",
    "        constraints = init_constraints(n_agents,et)\n",
    "        paths = [a_star(model.graph, robot.pos,robot.dest) for robot in [getindex(model,idx) for idx in 1:n_agents]]\n",
    "        root= CBSNode(constraints,paths,length.(paths))\n",
    "\n",
    "        solution = cbs(root,model.graph)\n",
    "        for i in 1:n_agents\n",
    "            robot = getindex(model,i)\n",
    "            robot.path = solution[i]\n",
    "        end\n",
    "#         display(solution)\n",
    "\n",
    "    end\n",
    "    \n",
    "    model.step += 1\n",
    "end;"
   ]
  },
  {
   "cell_type": "code",
   "execution_count": 180,
   "id": "printable-bullet",
   "metadata": {},
   "outputs": [],
   "source": [
    "function robot_step!(robot,model)    \n",
    "    if !isempty(robot.path)        \n",
    "        next_step = robot.path[1].dst\n",
    "        move_agent!(robot,next_step,model)\n",
    "        popfirst!(robot.path)\n",
    "    end\n",
    "    \n",
    "    if robot.dest == robot.pos || robot.pos in model.load_spot\n",
    "        robot.dest = 0        \n",
    "    end\n",
    "end;"
   ]
  },
  {
   "cell_type": "code",
   "execution_count": 178,
   "id": "flexible-eleven",
   "metadata": {},
   "outputs": [
    {
     "data": {
      "text/plain": [
       "2-element Vector{Robot}:\n",
       " Robot(2, 21, 32, 1, LightGraphs.SimpleGraphs.SimpleEdge{Int64}[Edge 21 => 26, Edge 26 => 31, Edge 31 => 32])\n",
       " Robot(1, 24, 0, 1, LightGraphs.SimpleGraphs.SimpleEdge{Int64}[])"
      ]
     },
     "execution_count": 178,
     "metadata": {},
     "output_type": "execute_result"
    }
   ],
   "source": [
    "robots = collect(allagents(warehouse))"
   ]
  },
  {
   "cell_type": "code",
   "execution_count": 182,
   "id": "working-sailing",
   "metadata": {},
   "outputs": [
    {
     "data": {
      "text/plain": [
       "AgentBasedModel with 2 agents of type Robot\n",
       " space: GraphSpace with 35 positions and 34 edges\n",
       " scheduler: fastest\n",
       " properties: Dict{Symbol, Any}(:load_spot => [6, 8], :graph => {35, 34} undirected simple Int64 graph, :last_spot => 2, :step => 1, :used_load_spots => [0, 0], :package_list => [2, 3, 4, 3, 1, 2, 4, 1, 1, 3], :dest_spot => [22, 24, 32, 34])"
      ]
     },
     "execution_count": 182,
     "metadata": {},
     "output_type": "execute_result"
    }
   ],
   "source": [
    "warehouse = init_warehouse()"
   ]
  },
  {
   "cell_type": "code",
   "execution_count": 216,
   "id": "steady-insulation",
   "metadata": {},
   "outputs": [
    {
     "data": {
      "text/plain": [
       "2-element Vector{Vector{LightGraphs.SimpleGraphs.SimpleEdge{Int64}}}:\n",
       " [Edge 21 => 16, Edge 16 => 11, Edge 11 => 6]\n",
       " [Edge 24 => 23, Edge 23 => 18, Edge 18 => 13, Edge 13 => 8]"
      ]
     },
     "metadata": {},
     "output_type": "display_data"
    },
    {
     "data": {
      "image/svg+xml": [
       "<?xml version=\"1.0\" encoding=\"utf-8\"?>\n",
       "<svg xmlns=\"http://www.w3.org/2000/svg\" xmlns:xlink=\"http://www.w3.org/1999/xlink\" width=\"750\" height=\"750\" viewBox=\"0 0 3000 3000\">\n",
       "<defs>\n",
       "  <clipPath id=\"clip130\">\n",
       "    <rect x=\"0\" y=\"0\" width=\"3000\" height=\"3000\"/>\n",
       "  </clipPath>\n",
       "</defs>\n",
       "<path clip-path=\"url(#clip130)\" d=\"\n",
       "M0 3000 L3000 3000 L3000 0 L0 0  Z\n",
       "  \" fill=\"#ffffff\" fill-rule=\"evenodd\" fill-opacity=\"1\"/>\n",
       "<defs>\n",
       "  <clipPath id=\"clip131\">\n",
       "    <rect x=\"600\" y=\"300\" width=\"2101\" height=\"2101\"/>\n",
       "  </clipPath>\n",
       "</defs>\n",
       "<path clip-path=\"url(#clip130)\" d=\"\n",
       "M569.619 2907.01 L2476.13 2907.01 L2476.13 47.2441 L569.619 47.2441  Z\n",
       "  \" fill=\"#ffffff\" fill-rule=\"evenodd\" fill-opacity=\"1\"/>\n",
       "<defs>\n",
       "  <clipPath id=\"clip132\">\n",
       "    <rect x=\"569\" y=\"47\" width=\"1908\" height=\"2861\"/>\n",
       "  </clipPath>\n",
       "</defs>\n",
       "<polyline clip-path=\"url(#clip132)\" style=\"stroke:#000000; stroke-width:4; stroke-opacity:0.5; fill:none\" points=\"\n",
       "  841.978,2498.47 1182.43,2498.47 \n",
       "  \"/>\n",
       "<polyline clip-path=\"url(#clip132)\" style=\"stroke:#000000; stroke-width:4; stroke-opacity:0.5; fill:none\" points=\"\n",
       "  841.978,2498.47 841.978,2158.02 \n",
       "  \"/>\n",
       "<polyline clip-path=\"url(#clip132)\" style=\"stroke:#000000; stroke-width:4; stroke-opacity:0.5; fill:none\" points=\"\n",
       "  1182.43,2498.47 841.978,2498.47 \n",
       "  \"/>\n",
       "<polyline clip-path=\"url(#clip132)\" style=\"stroke:#000000; stroke-width:4; stroke-opacity:0.5; fill:none\" points=\"\n",
       "  1182.43,2498.47 1522.87,2498.47 \n",
       "  \"/>\n",
       "<polyline clip-path=\"url(#clip132)\" style=\"stroke:#000000; stroke-width:4; stroke-opacity:0.5; fill:none\" points=\"\n",
       "  1522.87,2498.47 1182.43,2498.47 \n",
       "  \"/>\n",
       "<polyline clip-path=\"url(#clip132)\" style=\"stroke:#000000; stroke-width:4; stroke-opacity:0.5; fill:none\" points=\"\n",
       "  1522.87,2498.47 1863.32,2498.47 \n",
       "  \"/>\n",
       "<polyline clip-path=\"url(#clip132)\" style=\"stroke:#000000; stroke-width:4; stroke-opacity:0.5; fill:none\" points=\"\n",
       "  1522.87,2498.47 1522.87,2158.02 \n",
       "  \"/>\n",
       "<polyline clip-path=\"url(#clip132)\" style=\"stroke:#000000; stroke-width:4; stroke-opacity:0.5; fill:none\" points=\"\n",
       "  1863.32,2498.47 1522.87,2498.47 \n",
       "  \"/>\n",
       "<polyline clip-path=\"url(#clip132)\" style=\"stroke:#000000; stroke-width:4; stroke-opacity:0.5; fill:none\" points=\"\n",
       "  1863.32,2498.47 2203.77,2498.47 \n",
       "  \"/>\n",
       "<polyline clip-path=\"url(#clip132)\" style=\"stroke:#000000; stroke-width:4; stroke-opacity:0.5; fill:none\" points=\"\n",
       "  2203.77,2498.47 1863.32,2498.47 \n",
       "  \"/>\n",
       "<polyline clip-path=\"url(#clip132)\" style=\"stroke:#000000; stroke-width:4; stroke-opacity:0.5; fill:none\" points=\"\n",
       "  2203.77,2498.47 2203.77,2158.02 \n",
       "  \"/>\n",
       "<polyline clip-path=\"url(#clip132)\" style=\"stroke:#000000; stroke-width:4; stroke-opacity:0.5; fill:none\" points=\"\n",
       "  841.978,2158.02 841.978,2498.47 \n",
       "  \"/>\n",
       "<polyline clip-path=\"url(#clip132)\" style=\"stroke:#000000; stroke-width:4; stroke-opacity:0.5; fill:none\" points=\"\n",
       "  841.978,2158.02 841.978,1817.57 \n",
       "  \"/>\n",
       "<polyline clip-path=\"url(#clip132)\" style=\"stroke:#000000; stroke-width:4; stroke-opacity:0.5; fill:none\" points=\"\n",
       "  1522.87,2158.02 1522.87,2498.47 \n",
       "  \"/>\n",
       "<polyline clip-path=\"url(#clip132)\" style=\"stroke:#000000; stroke-width:4; stroke-opacity:0.5; fill:none\" points=\"\n",
       "  1522.87,2158.02 1522.87,1817.57 \n",
       "  \"/>\n",
       "<polyline clip-path=\"url(#clip132)\" style=\"stroke:#000000; stroke-width:4; stroke-opacity:0.5; fill:none\" points=\"\n",
       "  2203.77,2158.02 2203.77,2498.47 \n",
       "  \"/>\n",
       "<polyline clip-path=\"url(#clip132)\" style=\"stroke:#000000; stroke-width:4; stroke-opacity:0.5; fill:none\" points=\"\n",
       "  2203.77,2158.02 2203.77,1817.57 \n",
       "  \"/>\n",
       "<polyline clip-path=\"url(#clip132)\" style=\"stroke:#000000; stroke-width:4; stroke-opacity:0.5; fill:none\" points=\"\n",
       "  841.978,1817.57 841.978,2158.02 \n",
       "  \"/>\n",
       "<polyline clip-path=\"url(#clip132)\" style=\"stroke:#000000; stroke-width:4; stroke-opacity:0.5; fill:none\" points=\"\n",
       "  841.978,1817.57 1182.43,1817.57 \n",
       "  \"/>\n",
       "<polyline clip-path=\"url(#clip132)\" style=\"stroke:#000000; stroke-width:4; stroke-opacity:0.5; fill:none\" points=\"\n",
       "  841.978,1817.57 841.978,1477.13 \n",
       "  \"/>\n",
       "<polyline clip-path=\"url(#clip132)\" style=\"stroke:#000000; stroke-width:4; stroke-opacity:0.5; fill:none\" points=\"\n",
       "  1182.43,1817.57 841.978,1817.57 \n",
       "  \"/>\n",
       "<polyline clip-path=\"url(#clip132)\" style=\"stroke:#000000; stroke-width:4; stroke-opacity:0.5; fill:none\" points=\"\n",
       "  1182.43,1817.57 1522.87,1817.57 \n",
       "  \"/>\n",
       "<polyline clip-path=\"url(#clip132)\" style=\"stroke:#000000; stroke-width:4; stroke-opacity:0.5; fill:none\" points=\"\n",
       "  1522.87,1817.57 1522.87,2158.02 \n",
       "  \"/>\n",
       "<polyline clip-path=\"url(#clip132)\" style=\"stroke:#000000; stroke-width:4; stroke-opacity:0.5; fill:none\" points=\"\n",
       "  1522.87,1817.57 1182.43,1817.57 \n",
       "  \"/>\n",
       "<polyline clip-path=\"url(#clip132)\" style=\"stroke:#000000; stroke-width:4; stroke-opacity:0.5; fill:none\" points=\"\n",
       "  1522.87,1817.57 1863.32,1817.57 \n",
       "  \"/>\n",
       "<polyline clip-path=\"url(#clip132)\" style=\"stroke:#000000; stroke-width:4; stroke-opacity:0.5; fill:none\" points=\"\n",
       "  1522.87,1817.57 1522.87,1477.13 \n",
       "  \"/>\n",
       "<polyline clip-path=\"url(#clip132)\" style=\"stroke:#000000; stroke-width:4; stroke-opacity:0.5; fill:none\" points=\"\n",
       "  1863.32,1817.57 1522.87,1817.57 \n",
       "  \"/>\n",
       "<polyline clip-path=\"url(#clip132)\" style=\"stroke:#000000; stroke-width:4; stroke-opacity:0.5; fill:none\" points=\"\n",
       "  1863.32,1817.57 2203.77,1817.57 \n",
       "  \"/>\n",
       "<polyline clip-path=\"url(#clip132)\" style=\"stroke:#000000; stroke-width:4; stroke-opacity:0.5; fill:none\" points=\"\n",
       "  2203.77,1817.57 2203.77,2158.02 \n",
       "  \"/>\n",
       "<polyline clip-path=\"url(#clip132)\" style=\"stroke:#000000; stroke-width:4; stroke-opacity:0.5; fill:none\" points=\"\n",
       "  2203.77,1817.57 1863.32,1817.57 \n",
       "  \"/>\n",
       "<polyline clip-path=\"url(#clip132)\" style=\"stroke:#000000; stroke-width:4; stroke-opacity:0.5; fill:none\" points=\"\n",
       "  2203.77,1817.57 2203.77,1477.13 \n",
       "  \"/>\n",
       "<polyline clip-path=\"url(#clip132)\" style=\"stroke:#000000; stroke-width:4; stroke-opacity:0.5; fill:none\" points=\"\n",
       "  841.978,1477.13 841.978,1817.57 \n",
       "  \"/>\n",
       "<polyline clip-path=\"url(#clip132)\" style=\"stroke:#000000; stroke-width:4; stroke-opacity:0.5; fill:none\" points=\"\n",
       "  841.978,1477.13 841.978,1136.68 \n",
       "  \"/>\n",
       "<polyline clip-path=\"url(#clip132)\" style=\"stroke:#000000; stroke-width:4; stroke-opacity:0.5; fill:none\" points=\"\n",
       "  1522.87,1477.13 1522.87,1817.57 \n",
       "  \"/>\n",
       "<polyline clip-path=\"url(#clip132)\" style=\"stroke:#000000; stroke-width:4; stroke-opacity:0.5; fill:none\" points=\"\n",
       "  1522.87,1477.13 1522.87,1136.68 \n",
       "  \"/>\n",
       "<polyline clip-path=\"url(#clip132)\" style=\"stroke:#000000; stroke-width:4; stroke-opacity:0.5; fill:none\" points=\"\n",
       "  2203.77,1477.13 2203.77,1817.57 \n",
       "  \"/>\n",
       "<polyline clip-path=\"url(#clip132)\" style=\"stroke:#000000; stroke-width:4; stroke-opacity:0.5; fill:none\" points=\"\n",
       "  2203.77,1477.13 2203.77,1136.68 \n",
       "  \"/>\n",
       "<polyline clip-path=\"url(#clip132)\" style=\"stroke:#000000; stroke-width:4; stroke-opacity:0.5; fill:none\" points=\"\n",
       "  841.978,1136.68 841.978,1477.13 \n",
       "  \"/>\n",
       "<polyline clip-path=\"url(#clip132)\" style=\"stroke:#000000; stroke-width:4; stroke-opacity:0.5; fill:none\" points=\"\n",
       "  841.978,1136.68 1182.43,1136.68 \n",
       "  \"/>\n",
       "<polyline clip-path=\"url(#clip132)\" style=\"stroke:#000000; stroke-width:4; stroke-opacity:0.5; fill:none\" points=\"\n",
       "  841.978,1136.68 841.978,796.23 \n",
       "  \"/>\n",
       "<polyline clip-path=\"url(#clip132)\" style=\"stroke:#000000; stroke-width:4; stroke-opacity:0.5; fill:none\" points=\"\n",
       "  1182.43,1136.68 841.978,1136.68 \n",
       "  \"/>\n",
       "<polyline clip-path=\"url(#clip132)\" style=\"stroke:#000000; stroke-width:4; stroke-opacity:0.5; fill:none\" points=\"\n",
       "  1182.43,1136.68 1522.87,1136.68 \n",
       "  \"/>\n",
       "<polyline clip-path=\"url(#clip132)\" style=\"stroke:#000000; stroke-width:4; stroke-opacity:0.5; fill:none\" points=\"\n",
       "  1522.87,1136.68 1522.87,1477.13 \n",
       "  \"/>\n",
       "<polyline clip-path=\"url(#clip132)\" style=\"stroke:#000000; stroke-width:4; stroke-opacity:0.5; fill:none\" points=\"\n",
       "  1522.87,1136.68 1182.43,1136.68 \n",
       "  \"/>\n",
       "<polyline clip-path=\"url(#clip132)\" style=\"stroke:#000000; stroke-width:4; stroke-opacity:0.5; fill:none\" points=\"\n",
       "  1522.87,1136.68 1863.32,1136.68 \n",
       "  \"/>\n",
       "<polyline clip-path=\"url(#clip132)\" style=\"stroke:#000000; stroke-width:4; stroke-opacity:0.5; fill:none\" points=\"\n",
       "  1522.87,1136.68 1522.87,796.23 \n",
       "  \"/>\n",
       "<polyline clip-path=\"url(#clip132)\" style=\"stroke:#000000; stroke-width:4; stroke-opacity:0.5; fill:none\" points=\"\n",
       "  1863.32,1136.68 1522.87,1136.68 \n",
       "  \"/>\n",
       "<polyline clip-path=\"url(#clip132)\" style=\"stroke:#000000; stroke-width:4; stroke-opacity:0.5; fill:none\" points=\"\n",
       "  1863.32,1136.68 2203.77,1136.68 \n",
       "  \"/>\n",
       "<polyline clip-path=\"url(#clip132)\" style=\"stroke:#000000; stroke-width:4; stroke-opacity:0.5; fill:none\" points=\"\n",
       "  2203.77,1136.68 2203.77,1477.13 \n",
       "  \"/>\n",
       "<polyline clip-path=\"url(#clip132)\" style=\"stroke:#000000; stroke-width:4; stroke-opacity:0.5; fill:none\" points=\"\n",
       "  2203.77,1136.68 1863.32,1136.68 \n",
       "  \"/>\n",
       "<polyline clip-path=\"url(#clip132)\" style=\"stroke:#000000; stroke-width:4; stroke-opacity:0.5; fill:none\" points=\"\n",
       "  2203.77,1136.68 2203.77,796.23 \n",
       "  \"/>\n",
       "<polyline clip-path=\"url(#clip132)\" style=\"stroke:#000000; stroke-width:4; stroke-opacity:0.5; fill:none\" points=\"\n",
       "  841.978,796.23 841.978,1136.68 \n",
       "  \"/>\n",
       "<polyline clip-path=\"url(#clip132)\" style=\"stroke:#000000; stroke-width:4; stroke-opacity:0.5; fill:none\" points=\"\n",
       "  841.978,796.23 841.978,455.782 \n",
       "  \"/>\n",
       "<polyline clip-path=\"url(#clip132)\" style=\"stroke:#000000; stroke-width:4; stroke-opacity:0.5; fill:none\" points=\"\n",
       "  1522.87,796.23 1522.87,1136.68 \n",
       "  \"/>\n",
       "<polyline clip-path=\"url(#clip132)\" style=\"stroke:#000000; stroke-width:4; stroke-opacity:0.5; fill:none\" points=\"\n",
       "  1522.87,796.23 1522.87,455.782 \n",
       "  \"/>\n",
       "<polyline clip-path=\"url(#clip132)\" style=\"stroke:#000000; stroke-width:4; stroke-opacity:0.5; fill:none\" points=\"\n",
       "  2203.77,796.23 2203.77,1136.68 \n",
       "  \"/>\n",
       "<polyline clip-path=\"url(#clip132)\" style=\"stroke:#000000; stroke-width:4; stroke-opacity:0.5; fill:none\" points=\"\n",
       "  2203.77,796.23 2203.77,455.782 \n",
       "  \"/>\n",
       "<polyline clip-path=\"url(#clip132)\" style=\"stroke:#000000; stroke-width:4; stroke-opacity:0.5; fill:none\" points=\"\n",
       "  841.978,455.782 841.978,796.23 \n",
       "  \"/>\n",
       "<polyline clip-path=\"url(#clip132)\" style=\"stroke:#000000; stroke-width:4; stroke-opacity:0.5; fill:none\" points=\"\n",
       "  841.978,455.782 1182.43,455.782 \n",
       "  \"/>\n",
       "<polyline clip-path=\"url(#clip132)\" style=\"stroke:#000000; stroke-width:4; stroke-opacity:0.5; fill:none\" points=\"\n",
       "  1182.43,455.782 841.978,455.782 \n",
       "  \"/>\n",
       "<polyline clip-path=\"url(#clip132)\" style=\"stroke:#000000; stroke-width:4; stroke-opacity:0.5; fill:none\" points=\"\n",
       "  1182.43,455.782 1522.87,455.782 \n",
       "  \"/>\n",
       "<polyline clip-path=\"url(#clip132)\" style=\"stroke:#000000; stroke-width:4; stroke-opacity:0.5; fill:none\" points=\"\n",
       "  1522.87,455.782 1522.87,796.23 \n",
       "  \"/>\n",
       "<polyline clip-path=\"url(#clip132)\" style=\"stroke:#000000; stroke-width:4; stroke-opacity:0.5; fill:none\" points=\"\n",
       "  1522.87,455.782 1182.43,455.782 \n",
       "  \"/>\n",
       "<polyline clip-path=\"url(#clip132)\" style=\"stroke:#000000; stroke-width:4; stroke-opacity:0.5; fill:none\" points=\"\n",
       "  1522.87,455.782 1863.32,455.782 \n",
       "  \"/>\n",
       "<polyline clip-path=\"url(#clip132)\" style=\"stroke:#000000; stroke-width:4; stroke-opacity:0.5; fill:none\" points=\"\n",
       "  1863.32,455.782 1522.87,455.782 \n",
       "  \"/>\n",
       "<polyline clip-path=\"url(#clip132)\" style=\"stroke:#000000; stroke-width:4; stroke-opacity:0.5; fill:none\" points=\"\n",
       "  1863.32,455.782 2203.77,455.782 \n",
       "  \"/>\n",
       "<polyline clip-path=\"url(#clip132)\" style=\"stroke:#000000; stroke-width:4; stroke-opacity:0.5; fill:none\" points=\"\n",
       "  2203.77,455.782 2203.77,796.23 \n",
       "  \"/>\n",
       "<polyline clip-path=\"url(#clip132)\" style=\"stroke:#000000; stroke-width:4; stroke-opacity:0.5; fill:none\" points=\"\n",
       "  2203.77,455.782 1863.32,455.782 \n",
       "  \"/>\n",
       "<path clip-path=\"url(#clip132)\" d=\"\n",
       "M824.955 2515.49 L859 2515.49 L859 2481.45 L824.955 2481.45 L824.955 2515.49 L824.955 2515.49  Z\n",
       "  \" fill=\"#808080\" fill-rule=\"evenodd\" fill-opacity=\"1\"/>\n",
       "<polyline clip-path=\"url(#clip132)\" style=\"stroke:#000000; stroke-width:0; stroke-opacity:1; fill:none\" points=\"\n",
       "  824.955,2515.49 859,2515.49 859,2481.45 824.955,2481.45 824.955,2515.49 \n",
       "  \"/>\n",
       "<path clip-path=\"url(#clip132)\" d=\"\n",
       "M1165.4 2515.49 L1199.45 2515.49 L1199.45 2481.45 L1165.4 2481.45 L1165.4 2515.49 L1165.4 2515.49  Z\n",
       "  \" fill=\"#808080\" fill-rule=\"evenodd\" fill-opacity=\"1\"/>\n",
       "<polyline clip-path=\"url(#clip132)\" style=\"stroke:#000000; stroke-width:0; stroke-opacity:1; fill:none\" points=\"\n",
       "  1165.4,2515.49 1199.45,2515.49 1199.45,2481.45 1165.4,2481.45 1165.4,2515.49 \n",
       "  \"/>\n",
       "<path clip-path=\"url(#clip132)\" d=\"\n",
       "M1505.85 2515.49 L1539.9 2515.49 L1539.9 2481.45 L1505.85 2481.45 L1505.85 2515.49 L1505.85 2515.49  Z\n",
       "  \" fill=\"#808080\" fill-rule=\"evenodd\" fill-opacity=\"1\"/>\n",
       "<polyline clip-path=\"url(#clip132)\" style=\"stroke:#000000; stroke-width:0; stroke-opacity:1; fill:none\" points=\"\n",
       "  1505.85,2515.49 1539.9,2515.49 1539.9,2481.45 1505.85,2481.45 1505.85,2515.49 \n",
       "  \"/>\n",
       "<path clip-path=\"url(#clip132)\" d=\"\n",
       "M1846.3 2515.49 L1880.34 2515.49 L1880.34 2481.45 L1846.3 2481.45 L1846.3 2515.49 L1846.3 2515.49  Z\n",
       "  \" fill=\"#808080\" fill-rule=\"evenodd\" fill-opacity=\"1\"/>\n",
       "<polyline clip-path=\"url(#clip132)\" style=\"stroke:#000000; stroke-width:0; stroke-opacity:1; fill:none\" points=\"\n",
       "  1846.3,2515.49 1880.34,2515.49 1880.34,2481.45 1846.3,2481.45 1846.3,2515.49 \n",
       "  \"/>\n",
       "<path clip-path=\"url(#clip132)\" d=\"\n",
       "M2186.75 2515.49 L2220.79 2515.49 L2220.79 2481.45 L2186.75 2481.45 L2186.75 2515.49 L2186.75 2515.49  Z\n",
       "  \" fill=\"#808080\" fill-rule=\"evenodd\" fill-opacity=\"1\"/>\n",
       "<polyline clip-path=\"url(#clip132)\" style=\"stroke:#000000; stroke-width:0; stroke-opacity:1; fill:none\" points=\"\n",
       "  2186.75,2515.49 2220.79,2515.49 2220.79,2481.45 2186.75,2481.45 2186.75,2515.49 \n",
       "  \"/>\n",
       "<path clip-path=\"url(#clip132)\" d=\"\n",
       "M824.955 2175.04 L859 2175.04 L859 2141 L824.955 2141 L824.955 2175.04 L824.955 2175.04  Z\n",
       "  \" fill=\"#808080\" fill-rule=\"evenodd\" fill-opacity=\"1\"/>\n",
       "<polyline clip-path=\"url(#clip132)\" style=\"stroke:#000000; stroke-width:0; stroke-opacity:1; fill:none\" points=\"\n",
       "  824.955,2175.04 859,2175.04 859,2141 824.955,2141 824.955,2175.04 \n",
       "  \"/>\n",
       "<path clip-path=\"url(#clip132)\" d=\"\n",
       "M1097.31 2243.13 L1267.54 2243.13 L1267.54 2072.91 L1097.31 2072.91 L1097.31 2243.13 L1097.31 2243.13  Z\n",
       "  \" fill=\"#ba3654\" fill-rule=\"evenodd\" fill-opacity=\"1\"/>\n",
       "<polyline clip-path=\"url(#clip132)\" style=\"stroke:#000000; stroke-width:0; stroke-opacity:1; fill:none\" points=\"\n",
       "  1097.31,2243.13 1267.54,2243.13 1267.54,2072.91 1097.31,2072.91 1097.31,2243.13 \n",
       "  \"/>\n",
       "<path clip-path=\"url(#clip132)\" d=\"\n",
       "M1505.85 2175.04 L1539.9 2175.04 L1539.9 2141 L1505.85 2141 L1505.85 2175.04 L1505.85 2175.04  Z\n",
       "  \" fill=\"#808080\" fill-rule=\"evenodd\" fill-opacity=\"1\"/>\n",
       "<polyline clip-path=\"url(#clip132)\" style=\"stroke:#000000; stroke-width:0; stroke-opacity:1; fill:none\" points=\"\n",
       "  1505.85,2175.04 1539.9,2175.04 1539.9,2141 1505.85,2141 1505.85,2175.04 \n",
       "  \"/>\n",
       "<path clip-path=\"url(#clip132)\" d=\"\n",
       "M1778.21 2243.13 L1948.43 2243.13 L1948.43 2072.91 L1778.21 2072.91 L1778.21 2243.13 L1778.21 2243.13  Z\n",
       "  \" fill=\"#ba3654\" fill-rule=\"evenodd\" fill-opacity=\"1\"/>\n",
       "<polyline clip-path=\"url(#clip132)\" style=\"stroke:#000000; stroke-width:0; stroke-opacity:1; fill:none\" points=\"\n",
       "  1778.21,2243.13 1948.43,2243.13 1948.43,2072.91 1778.21,2072.91 1778.21,2243.13 \n",
       "  \"/>\n",
       "<path clip-path=\"url(#clip132)\" d=\"\n",
       "M2186.75 2175.04 L2220.79 2175.04 L2220.79 2141 L2186.75 2141 L2186.75 2175.04 L2186.75 2175.04  Z\n",
       "  \" fill=\"#808080\" fill-rule=\"evenodd\" fill-opacity=\"1\"/>\n",
       "<polyline clip-path=\"url(#clip132)\" style=\"stroke:#000000; stroke-width:0; stroke-opacity:1; fill:none\" points=\"\n",
       "  2186.75,2175.04 2220.79,2175.04 2220.79,2141 2186.75,2141 2186.75,2175.04 \n",
       "  \"/>\n",
       "<path clip-path=\"url(#clip132)\" d=\"\n",
       "M824.955 1834.6 L859 1834.6 L859 1800.55 L824.955 1800.55 L824.955 1834.6 L824.955 1834.6  Z\n",
       "  \" fill=\"#808080\" fill-rule=\"evenodd\" fill-opacity=\"1\"/>\n",
       "<polyline clip-path=\"url(#clip132)\" style=\"stroke:#000000; stroke-width:0; stroke-opacity:1; fill:none\" points=\"\n",
       "  824.955,1834.6 859,1834.6 859,1800.55 824.955,1800.55 824.955,1834.6 \n",
       "  \"/>\n",
       "<path clip-path=\"url(#clip132)\" d=\"\n",
       "M1165.4 1834.6 L1199.45 1834.6 L1199.45 1800.55 L1165.4 1800.55 L1165.4 1834.6 L1165.4 1834.6  Z\n",
       "  \" fill=\"#808080\" fill-rule=\"evenodd\" fill-opacity=\"1\"/>\n",
       "<polyline clip-path=\"url(#clip132)\" style=\"stroke:#000000; stroke-width:0; stroke-opacity:1; fill:none\" points=\"\n",
       "  1165.4,1834.6 1199.45,1834.6 1199.45,1800.55 1165.4,1800.55 1165.4,1834.6 \n",
       "  \"/>\n",
       "<path clip-path=\"url(#clip132)\" d=\"\n",
       "M1505.85 1834.6 L1539.9 1834.6 L1539.9 1800.55 L1505.85 1800.55 L1505.85 1834.6 L1505.85 1834.6  Z\n",
       "  \" fill=\"#808080\" fill-rule=\"evenodd\" fill-opacity=\"1\"/>\n",
       "<polyline clip-path=\"url(#clip132)\" style=\"stroke:#000000; stroke-width:0; stroke-opacity:1; fill:none\" points=\"\n",
       "  1505.85,1834.6 1539.9,1834.6 1539.9,1800.55 1505.85,1800.55 1505.85,1834.6 \n",
       "  \"/>\n",
       "<path clip-path=\"url(#clip132)\" d=\"\n",
       "M1846.3 1834.6 L1880.34 1834.6 L1880.34 1800.55 L1846.3 1800.55 L1846.3 1834.6 L1846.3 1834.6  Z\n",
       "  \" fill=\"#808080\" fill-rule=\"evenodd\" fill-opacity=\"1\"/>\n",
       "<polyline clip-path=\"url(#clip132)\" style=\"stroke:#000000; stroke-width:0; stroke-opacity:1; fill:none\" points=\"\n",
       "  1846.3,1834.6 1880.34,1834.6 1880.34,1800.55 1846.3,1800.55 1846.3,1834.6 \n",
       "  \"/>\n",
       "<path clip-path=\"url(#clip132)\" d=\"\n",
       "M2186.75 1834.6 L2220.79 1834.6 L2220.79 1800.55 L2186.75 1800.55 L2186.75 1834.6 L2186.75 1834.6  Z\n",
       "  \" fill=\"#808080\" fill-rule=\"evenodd\" fill-opacity=\"1\"/>\n",
       "<polyline clip-path=\"url(#clip132)\" style=\"stroke:#000000; stroke-width:0; stroke-opacity:1; fill:none\" points=\"\n",
       "  2186.75,1834.6 2220.79,1834.6 2220.79,1800.55 2186.75,1800.55 2186.75,1834.6 \n",
       "  \"/>\n",
       "<path clip-path=\"url(#clip132)\" d=\"\n",
       "M790.911 1528.19 L893.045 1528.19 L893.045 1426.06 L790.911 1426.06 L790.911 1528.19 L790.911 1528.19  Z\n",
       "  \" fill=\"#ba3654\" fill-rule=\"evenodd\" fill-opacity=\"1\"/>\n",
       "<polyline clip-path=\"url(#clip132)\" style=\"stroke:#000000; stroke-width:0; stroke-opacity:1; fill:none\" points=\"\n",
       "  790.911,1528.19 893.045,1528.19 893.045,1426.06 790.911,1426.06 790.911,1528.19 \n",
       "  \"/>\n",
       "<path clip-path=\"url(#clip132)\" d=\"\n",
       "M1131.36 1528.19 L1233.49 1528.19 L1233.49 1426.06 L1131.36 1426.06 L1131.36 1528.19 L1131.36 1528.19  Z\n",
       "  \" fill=\"#fbb419\" fill-rule=\"evenodd\" fill-opacity=\"1\"/>\n",
       "<polyline clip-path=\"url(#clip132)\" style=\"stroke:#000000; stroke-width:0; stroke-opacity:1; fill:none\" points=\"\n",
       "  1131.36,1528.19 1233.49,1528.19 1233.49,1426.06 1131.36,1426.06 1131.36,1528.19 \n",
       "  \"/>\n",
       "<path clip-path=\"url(#clip132)\" d=\"\n",
       "M1505.85 1494.15 L1539.9 1494.15 L1539.9 1460.1 L1505.85 1460.1 L1505.85 1494.15 L1505.85 1494.15  Z\n",
       "  \" fill=\"#808080\" fill-rule=\"evenodd\" fill-opacity=\"1\"/>\n",
       "<polyline clip-path=\"url(#clip132)\" style=\"stroke:#000000; stroke-width:0; stroke-opacity:1; fill:none\" points=\"\n",
       "  1505.85,1494.15 1539.9,1494.15 1539.9,1460.1 1505.85,1460.1 1505.85,1494.15 \n",
       "  \"/>\n",
       "<path clip-path=\"url(#clip132)\" d=\"\n",
       "M1812.25 1528.19 L1914.39 1528.19 L1914.39 1426.06 L1812.25 1426.06 L1812.25 1528.19 L1812.25 1528.19  Z\n",
       "  \" fill=\"#fbb419\" fill-rule=\"evenodd\" fill-opacity=\"1\"/>\n",
       "<polyline clip-path=\"url(#clip132)\" style=\"stroke:#000000; stroke-width:0; stroke-opacity:1; fill:none\" points=\"\n",
       "  1812.25,1528.19 1914.39,1528.19 1914.39,1426.06 1812.25,1426.06 1812.25,1528.19 \n",
       "  \"/>\n",
       "<path clip-path=\"url(#clip132)\" d=\"\n",
       "M2186.75 1494.15 L2220.79 1494.15 L2220.79 1460.1 L2186.75 1460.1 L2186.75 1494.15 L2186.75 1494.15  Z\n",
       "  \" fill=\"#808080\" fill-rule=\"evenodd\" fill-opacity=\"1\"/>\n",
       "<polyline clip-path=\"url(#clip132)\" style=\"stroke:#000000; stroke-width:0; stroke-opacity:1; fill:none\" points=\"\n",
       "  2186.75,1494.15 2220.79,1494.15 2220.79,1460.1 2186.75,1460.1 2186.75,1494.15 \n",
       "  \"/>\n",
       "<path clip-path=\"url(#clip132)\" d=\"\n",
       "M824.955 1153.7 L859 1153.7 L859 1119.66 L824.955 1119.66 L824.955 1153.7 L824.955 1153.7  Z\n",
       "  \" fill=\"#808080\" fill-rule=\"evenodd\" fill-opacity=\"1\"/>\n",
       "<polyline clip-path=\"url(#clip132)\" style=\"stroke:#000000; stroke-width:0; stroke-opacity:1; fill:none\" points=\"\n",
       "  824.955,1153.7 859,1153.7 859,1119.66 824.955,1119.66 824.955,1153.7 \n",
       "  \"/>\n",
       "<path clip-path=\"url(#clip132)\" d=\"\n",
       "M1165.4 1153.7 L1199.45 1153.7 L1199.45 1119.66 L1165.4 1119.66 L1165.4 1153.7 L1165.4 1153.7  Z\n",
       "  \" fill=\"#808080\" fill-rule=\"evenodd\" fill-opacity=\"1\"/>\n",
       "<polyline clip-path=\"url(#clip132)\" style=\"stroke:#000000; stroke-width:0; stroke-opacity:1; fill:none\" points=\"\n",
       "  1165.4,1153.7 1199.45,1153.7 1199.45,1119.66 1165.4,1119.66 1165.4,1153.7 \n",
       "  \"/>\n",
       "<path clip-path=\"url(#clip132)\" d=\"\n",
       "M1471.81 1187.75 L1573.94 1187.75 L1573.94 1085.61 L1471.81 1085.61 L1471.81 1187.75 L1471.81 1187.75  Z\n",
       "  \" fill=\"#ba3654\" fill-rule=\"evenodd\" fill-opacity=\"1\"/>\n",
       "<polyline clip-path=\"url(#clip132)\" style=\"stroke:#000000; stroke-width:0; stroke-opacity:1; fill:none\" points=\"\n",
       "  1471.81,1187.75 1573.94,1187.75 1573.94,1085.61 1471.81,1085.61 1471.81,1187.75 \n",
       "  \"/>\n",
       "<path clip-path=\"url(#clip132)\" d=\"\n",
       "M1846.3 1153.7 L1880.34 1153.7 L1880.34 1119.66 L1846.3 1119.66 L1846.3 1153.7 L1846.3 1153.7  Z\n",
       "  \" fill=\"#808080\" fill-rule=\"evenodd\" fill-opacity=\"1\"/>\n",
       "<polyline clip-path=\"url(#clip132)\" style=\"stroke:#000000; stroke-width:0; stroke-opacity:1; fill:none\" points=\"\n",
       "  1846.3,1153.7 1880.34,1153.7 1880.34,1119.66 1846.3,1119.66 1846.3,1153.7 \n",
       "  \"/>\n",
       "<path clip-path=\"url(#clip132)\" d=\"\n",
       "M2186.75 1153.7 L2220.79 1153.7 L2220.79 1119.66 L2186.75 1119.66 L2186.75 1153.7 L2186.75 1153.7  Z\n",
       "  \" fill=\"#808080\" fill-rule=\"evenodd\" fill-opacity=\"1\"/>\n",
       "<polyline clip-path=\"url(#clip132)\" style=\"stroke:#000000; stroke-width:0; stroke-opacity:1; fill:none\" points=\"\n",
       "  2186.75,1153.7 2220.79,1153.7 2220.79,1119.66 2186.75,1119.66 2186.75,1153.7 \n",
       "  \"/>\n",
       "<path clip-path=\"url(#clip132)\" d=\"\n",
       "M824.955 813.252 L859 813.252 L859 779.207 L824.955 779.207 L824.955 813.252 L824.955 813.252  Z\n",
       "  \" fill=\"#808080\" fill-rule=\"evenodd\" fill-opacity=\"1\"/>\n",
       "<polyline clip-path=\"url(#clip132)\" style=\"stroke:#000000; stroke-width:0; stroke-opacity:1; fill:none\" points=\"\n",
       "  824.955,813.252 859,813.252 859,779.207 824.955,779.207 824.955,813.252 \n",
       "  \"/>\n",
       "<path clip-path=\"url(#clip132)\" d=\"\n",
       "M1131.36 847.297 L1233.49 847.297 L1233.49 745.163 L1131.36 745.163 L1131.36 847.297 L1131.36 847.297  Z\n",
       "  \" fill=\"#fbb419\" fill-rule=\"evenodd\" fill-opacity=\"1\"/>\n",
       "<polyline clip-path=\"url(#clip132)\" style=\"stroke:#000000; stroke-width:0; stroke-opacity:1; fill:none\" points=\"\n",
       "  1131.36,847.297 1233.49,847.297 1233.49,745.163 1131.36,745.163 1131.36,847.297 \n",
       "  \"/>\n",
       "<path clip-path=\"url(#clip132)\" d=\"\n",
       "M1505.85 813.252 L1539.9 813.252 L1539.9 779.207 L1505.85 779.207 L1505.85 813.252 L1505.85 813.252  Z\n",
       "  \" fill=\"#808080\" fill-rule=\"evenodd\" fill-opacity=\"1\"/>\n",
       "<polyline clip-path=\"url(#clip132)\" style=\"stroke:#000000; stroke-width:0; stroke-opacity:1; fill:none\" points=\"\n",
       "  1505.85,813.252 1539.9,813.252 1539.9,779.207 1505.85,779.207 1505.85,813.252 \n",
       "  \"/>\n",
       "<path clip-path=\"url(#clip132)\" d=\"\n",
       "M1812.25 847.297 L1914.39 847.297 L1914.39 745.163 L1812.25 745.163 L1812.25 847.297 L1812.25 847.297  Z\n",
       "  \" fill=\"#fbb419\" fill-rule=\"evenodd\" fill-opacity=\"1\"/>\n",
       "<polyline clip-path=\"url(#clip132)\" style=\"stroke:#000000; stroke-width:0; stroke-opacity:1; fill:none\" points=\"\n",
       "  1812.25,847.297 1914.39,847.297 1914.39,745.163 1812.25,745.163 1812.25,847.297 \n",
       "  \"/>\n",
       "<path clip-path=\"url(#clip132)\" d=\"\n",
       "M2186.75 813.252 L2220.79 813.252 L2220.79 779.207 L2186.75 779.207 L2186.75 813.252 L2186.75 813.252  Z\n",
       "  \" fill=\"#808080\" fill-rule=\"evenodd\" fill-opacity=\"1\"/>\n",
       "<polyline clip-path=\"url(#clip132)\" style=\"stroke:#000000; stroke-width:0; stroke-opacity:1; fill:none\" points=\"\n",
       "  2186.75,813.252 2220.79,813.252 2220.79,779.207 2186.75,779.207 2186.75,813.252 \n",
       "  \"/>\n",
       "<path clip-path=\"url(#clip132)\" d=\"\n",
       "M824.955 472.804 L859 472.804 L859 438.759 L824.955 438.759 L824.955 472.804 L824.955 472.804  Z\n",
       "  \" fill=\"#808080\" fill-rule=\"evenodd\" fill-opacity=\"1\"/>\n",
       "<polyline clip-path=\"url(#clip132)\" style=\"stroke:#000000; stroke-width:0; stroke-opacity:1; fill:none\" points=\"\n",
       "  824.955,472.804 859,472.804 859,438.759 824.955,438.759 824.955,472.804 \n",
       "  \"/>\n",
       "<path clip-path=\"url(#clip132)\" d=\"\n",
       "M1165.4 472.804 L1199.45 472.804 L1199.45 438.759 L1165.4 438.759 L1165.4 472.804 L1165.4 472.804  Z\n",
       "  \" fill=\"#808080\" fill-rule=\"evenodd\" fill-opacity=\"1\"/>\n",
       "<polyline clip-path=\"url(#clip132)\" style=\"stroke:#000000; stroke-width:0; stroke-opacity:1; fill:none\" points=\"\n",
       "  1165.4,472.804 1199.45,472.804 1199.45,438.759 1165.4,438.759 1165.4,472.804 \n",
       "  \"/>\n",
       "<path clip-path=\"url(#clip132)\" d=\"\n",
       "M1505.85 472.804 L1539.9 472.804 L1539.9 438.759 L1505.85 438.759 L1505.85 472.804 L1505.85 472.804  Z\n",
       "  \" fill=\"#808080\" fill-rule=\"evenodd\" fill-opacity=\"1\"/>\n",
       "<polyline clip-path=\"url(#clip132)\" style=\"stroke:#000000; stroke-width:0; stroke-opacity:1; fill:none\" points=\"\n",
       "  1505.85,472.804 1539.9,472.804 1539.9,438.759 1505.85,438.759 1505.85,472.804 \n",
       "  \"/>\n",
       "<path clip-path=\"url(#clip132)\" d=\"\n",
       "M1846.3 472.804 L1880.34 472.804 L1880.34 438.759 L1846.3 438.759 L1846.3 472.804 L1846.3 472.804  Z\n",
       "  \" fill=\"#808080\" fill-rule=\"evenodd\" fill-opacity=\"1\"/>\n",
       "<polyline clip-path=\"url(#clip132)\" style=\"stroke:#000000; stroke-width:0; stroke-opacity:1; fill:none\" points=\"\n",
       "  1846.3,472.804 1880.34,472.804 1880.34,438.759 1846.3,438.759 1846.3,472.804 \n",
       "  \"/>\n",
       "<path clip-path=\"url(#clip132)\" d=\"\n",
       "M2186.75 472.804 L2220.79 472.804 L2220.79 438.759 L2186.75 438.759 L2186.75 472.804 L2186.75 472.804  Z\n",
       "  \" fill=\"#808080\" fill-rule=\"evenodd\" fill-opacity=\"1\"/>\n",
       "<polyline clip-path=\"url(#clip132)\" style=\"stroke:#000000; stroke-width:0; stroke-opacity:1; fill:none\" points=\"\n",
       "  2186.75,472.804 2220.79,472.804 2220.79,438.759 2186.75,438.759 2186.75,472.804 \n",
       "  \"/>\n",
       "<circle clip-path=\"url(#clip132)\" style=\"fill:#808080; stroke:none; fill-opacity:1\" cx=\"841.978\" cy=\"2498.47\" r=\"2\"/>\n",
       "<circle clip-path=\"url(#clip132)\" style=\"fill:#808080; stroke:none; fill-opacity:1\" cx=\"1182.43\" cy=\"2498.47\" r=\"2\"/>\n",
       "<circle clip-path=\"url(#clip132)\" style=\"fill:#808080; stroke:none; fill-opacity:1\" cx=\"1522.87\" cy=\"2498.47\" r=\"2\"/>\n",
       "<circle clip-path=\"url(#clip132)\" style=\"fill:#808080; stroke:none; fill-opacity:1\" cx=\"1863.32\" cy=\"2498.47\" r=\"2\"/>\n",
       "<circle clip-path=\"url(#clip132)\" style=\"fill:#808080; stroke:none; fill-opacity:1\" cx=\"2203.77\" cy=\"2498.47\" r=\"2\"/>\n",
       "<circle clip-path=\"url(#clip132)\" style=\"fill:#808080; stroke:none; fill-opacity:1\" cx=\"841.978\" cy=\"2158.02\" r=\"2\"/>\n",
       "<circle clip-path=\"url(#clip132)\" style=\"fill:#ba3654; stroke:none; fill-opacity:1\" cx=\"1182.43\" cy=\"2158.02\" r=\"2\"/>\n",
       "<circle clip-path=\"url(#clip132)\" style=\"fill:#808080; stroke:none; fill-opacity:1\" cx=\"1522.87\" cy=\"2158.02\" r=\"2\"/>\n",
       "<circle clip-path=\"url(#clip132)\" style=\"fill:#ba3654; stroke:none; fill-opacity:1\" cx=\"1863.32\" cy=\"2158.02\" r=\"2\"/>\n",
       "<circle clip-path=\"url(#clip132)\" style=\"fill:#808080; stroke:none; fill-opacity:1\" cx=\"2203.77\" cy=\"2158.02\" r=\"2\"/>\n",
       "<circle clip-path=\"url(#clip132)\" style=\"fill:#808080; stroke:none; fill-opacity:1\" cx=\"841.978\" cy=\"1817.57\" r=\"2\"/>\n",
       "<circle clip-path=\"url(#clip132)\" style=\"fill:#808080; stroke:none; fill-opacity:1\" cx=\"1182.43\" cy=\"1817.57\" r=\"2\"/>\n",
       "<circle clip-path=\"url(#clip132)\" style=\"fill:#808080; stroke:none; fill-opacity:1\" cx=\"1522.87\" cy=\"1817.57\" r=\"2\"/>\n",
       "<circle clip-path=\"url(#clip132)\" style=\"fill:#808080; stroke:none; fill-opacity:1\" cx=\"1863.32\" cy=\"1817.57\" r=\"2\"/>\n",
       "<circle clip-path=\"url(#clip132)\" style=\"fill:#808080; stroke:none; fill-opacity:1\" cx=\"2203.77\" cy=\"1817.57\" r=\"2\"/>\n",
       "<circle clip-path=\"url(#clip132)\" style=\"fill:#ba3654; stroke:none; fill-opacity:1\" cx=\"841.978\" cy=\"1477.13\" r=\"2\"/>\n",
       "<circle clip-path=\"url(#clip132)\" style=\"fill:#fbb419; stroke:none; fill-opacity:1\" cx=\"1182.43\" cy=\"1477.13\" r=\"2\"/>\n",
       "<circle clip-path=\"url(#clip132)\" style=\"fill:#808080; stroke:none; fill-opacity:1\" cx=\"1522.87\" cy=\"1477.13\" r=\"2\"/>\n",
       "<circle clip-path=\"url(#clip132)\" style=\"fill:#fbb419; stroke:none; fill-opacity:1\" cx=\"1863.32\" cy=\"1477.13\" r=\"2\"/>\n",
       "<circle clip-path=\"url(#clip132)\" style=\"fill:#808080; stroke:none; fill-opacity:1\" cx=\"2203.77\" cy=\"1477.13\" r=\"2\"/>\n",
       "<circle clip-path=\"url(#clip132)\" style=\"fill:#808080; stroke:none; fill-opacity:1\" cx=\"841.978\" cy=\"1136.68\" r=\"2\"/>\n",
       "<circle clip-path=\"url(#clip132)\" style=\"fill:#808080; stroke:none; fill-opacity:1\" cx=\"1182.43\" cy=\"1136.68\" r=\"2\"/>\n",
       "<circle clip-path=\"url(#clip132)\" style=\"fill:#ba3654; stroke:none; fill-opacity:1\" cx=\"1522.87\" cy=\"1136.68\" r=\"2\"/>\n",
       "<circle clip-path=\"url(#clip132)\" style=\"fill:#808080; stroke:none; fill-opacity:1\" cx=\"1863.32\" cy=\"1136.68\" r=\"2\"/>\n",
       "<circle clip-path=\"url(#clip132)\" style=\"fill:#808080; stroke:none; fill-opacity:1\" cx=\"2203.77\" cy=\"1136.68\" r=\"2\"/>\n",
       "<circle clip-path=\"url(#clip132)\" style=\"fill:#808080; stroke:none; fill-opacity:1\" cx=\"841.978\" cy=\"796.23\" r=\"2\"/>\n",
       "<circle clip-path=\"url(#clip132)\" style=\"fill:#fbb419; stroke:none; fill-opacity:1\" cx=\"1182.43\" cy=\"796.23\" r=\"2\"/>\n",
       "<circle clip-path=\"url(#clip132)\" style=\"fill:#808080; stroke:none; fill-opacity:1\" cx=\"1522.87\" cy=\"796.23\" r=\"2\"/>\n",
       "<circle clip-path=\"url(#clip132)\" style=\"fill:#fbb419; stroke:none; fill-opacity:1\" cx=\"1863.32\" cy=\"796.23\" r=\"2\"/>\n",
       "<circle clip-path=\"url(#clip132)\" style=\"fill:#808080; stroke:none; fill-opacity:1\" cx=\"2203.77\" cy=\"796.23\" r=\"2\"/>\n",
       "<circle clip-path=\"url(#clip132)\" style=\"fill:#808080; stroke:none; fill-opacity:1\" cx=\"841.978\" cy=\"455.782\" r=\"2\"/>\n",
       "<circle clip-path=\"url(#clip132)\" style=\"fill:#808080; stroke:none; fill-opacity:1\" cx=\"1182.43\" cy=\"455.782\" r=\"2\"/>\n",
       "<circle clip-path=\"url(#clip132)\" style=\"fill:#808080; stroke:none; fill-opacity:1\" cx=\"1522.87\" cy=\"455.782\" r=\"2\"/>\n",
       "<circle clip-path=\"url(#clip132)\" style=\"fill:#808080; stroke:none; fill-opacity:1\" cx=\"1863.32\" cy=\"455.782\" r=\"2\"/>\n",
       "<circle clip-path=\"url(#clip132)\" style=\"fill:#808080; stroke:none; fill-opacity:1\" cx=\"2203.77\" cy=\"455.782\" r=\"2\"/>\n",
       "</svg>\n"
      ]
     },
     "execution_count": 216,
     "metadata": {},
     "output_type": "execute_result"
    }
   ],
   "source": [
    "step!(warehouse, robot_step!,warehouse_step!, 1,false)                    \n",
    "plot_warehouse()"
   ]
  },
  {
   "cell_type": "code",
   "execution_count": 240,
   "id": "amber-shock",
   "metadata": {},
   "outputs": [
    {
     "data": {
      "image/svg+xml": [
       "<?xml version=\"1.0\" encoding=\"utf-8\"?>\n",
       "<svg xmlns=\"http://www.w3.org/2000/svg\" xmlns:xlink=\"http://www.w3.org/1999/xlink\" width=\"750\" height=\"750\" viewBox=\"0 0 3000 3000\">\n",
       "<defs>\n",
       "  <clipPath id=\"clip010\">\n",
       "    <rect x=\"0\" y=\"0\" width=\"3000\" height=\"3000\"/>\n",
       "  </clipPath>\n",
       "</defs>\n",
       "<path clip-path=\"url(#clip010)\" d=\"\n",
       "M0 3000 L3000 3000 L3000 0 L0 0  Z\n",
       "  \" fill=\"#ffffff\" fill-rule=\"evenodd\" fill-opacity=\"1\"/>\n",
       "<defs>\n",
       "  <clipPath id=\"clip011\">\n",
       "    <rect x=\"600\" y=\"300\" width=\"2101\" height=\"2101\"/>\n",
       "  </clipPath>\n",
       "</defs>\n",
       "<path clip-path=\"url(#clip010)\" d=\"\n",
       "M569.619 2907.01 L2476.13 2907.01 L2476.13 47.2441 L569.619 47.2441  Z\n",
       "  \" fill=\"#ffffff\" fill-rule=\"evenodd\" fill-opacity=\"1\"/>\n",
       "<defs>\n",
       "  <clipPath id=\"clip012\">\n",
       "    <rect x=\"569\" y=\"47\" width=\"1908\" height=\"2861\"/>\n",
       "  </clipPath>\n",
       "</defs>\n",
       "<polyline clip-path=\"url(#clip012)\" style=\"stroke:#000000; stroke-width:4; stroke-opacity:0.5; fill:none\" points=\"\n",
       "  841.978,2498.47 1182.43,2498.47 \n",
       "  \"/>\n",
       "<polyline clip-path=\"url(#clip012)\" style=\"stroke:#000000; stroke-width:4; stroke-opacity:0.5; fill:none\" points=\"\n",
       "  841.978,2498.47 841.978,2158.02 \n",
       "  \"/>\n",
       "<polyline clip-path=\"url(#clip012)\" style=\"stroke:#000000; stroke-width:4; stroke-opacity:0.5; fill:none\" points=\"\n",
       "  1182.43,2498.47 841.978,2498.47 \n",
       "  \"/>\n",
       "<polyline clip-path=\"url(#clip012)\" style=\"stroke:#000000; stroke-width:4; stroke-opacity:0.5; fill:none\" points=\"\n",
       "  1182.43,2498.47 1522.87,2498.47 \n",
       "  \"/>\n",
       "<polyline clip-path=\"url(#clip012)\" style=\"stroke:#000000; stroke-width:4; stroke-opacity:0.5; fill:none\" points=\"\n",
       "  1522.87,2498.47 1182.43,2498.47 \n",
       "  \"/>\n",
       "<polyline clip-path=\"url(#clip012)\" style=\"stroke:#000000; stroke-width:4; stroke-opacity:0.5; fill:none\" points=\"\n",
       "  1522.87,2498.47 1863.32,2498.47 \n",
       "  \"/>\n",
       "<polyline clip-path=\"url(#clip012)\" style=\"stroke:#000000; stroke-width:4; stroke-opacity:0.5; fill:none\" points=\"\n",
       "  1522.87,2498.47 1522.87,2158.02 \n",
       "  \"/>\n",
       "<polyline clip-path=\"url(#clip012)\" style=\"stroke:#000000; stroke-width:4; stroke-opacity:0.5; fill:none\" points=\"\n",
       "  1863.32,2498.47 1522.87,2498.47 \n",
       "  \"/>\n",
       "<polyline clip-path=\"url(#clip012)\" style=\"stroke:#000000; stroke-width:4; stroke-opacity:0.5; fill:none\" points=\"\n",
       "  1863.32,2498.47 2203.77,2498.47 \n",
       "  \"/>\n",
       "<polyline clip-path=\"url(#clip012)\" style=\"stroke:#000000; stroke-width:4; stroke-opacity:0.5; fill:none\" points=\"\n",
       "  2203.77,2498.47 1863.32,2498.47 \n",
       "  \"/>\n",
       "<polyline clip-path=\"url(#clip012)\" style=\"stroke:#000000; stroke-width:4; stroke-opacity:0.5; fill:none\" points=\"\n",
       "  2203.77,2498.47 2203.77,2158.02 \n",
       "  \"/>\n",
       "<polyline clip-path=\"url(#clip012)\" style=\"stroke:#000000; stroke-width:4; stroke-opacity:0.5; fill:none\" points=\"\n",
       "  841.978,2158.02 841.978,2498.47 \n",
       "  \"/>\n",
       "<polyline clip-path=\"url(#clip012)\" style=\"stroke:#000000; stroke-width:4; stroke-opacity:0.5; fill:none\" points=\"\n",
       "  841.978,2158.02 841.978,1817.57 \n",
       "  \"/>\n",
       "<polyline clip-path=\"url(#clip012)\" style=\"stroke:#000000; stroke-width:4; stroke-opacity:0.5; fill:none\" points=\"\n",
       "  1522.87,2158.02 1522.87,2498.47 \n",
       "  \"/>\n",
       "<polyline clip-path=\"url(#clip012)\" style=\"stroke:#000000; stroke-width:4; stroke-opacity:0.5; fill:none\" points=\"\n",
       "  1522.87,2158.02 1522.87,1817.57 \n",
       "  \"/>\n",
       "<polyline clip-path=\"url(#clip012)\" style=\"stroke:#000000; stroke-width:4; stroke-opacity:0.5; fill:none\" points=\"\n",
       "  2203.77,2158.02 2203.77,2498.47 \n",
       "  \"/>\n",
       "<polyline clip-path=\"url(#clip012)\" style=\"stroke:#000000; stroke-width:4; stroke-opacity:0.5; fill:none\" points=\"\n",
       "  2203.77,2158.02 2203.77,1817.57 \n",
       "  \"/>\n",
       "<polyline clip-path=\"url(#clip012)\" style=\"stroke:#000000; stroke-width:4; stroke-opacity:0.5; fill:none\" points=\"\n",
       "  841.978,1817.57 841.978,2158.02 \n",
       "  \"/>\n",
       "<polyline clip-path=\"url(#clip012)\" style=\"stroke:#000000; stroke-width:4; stroke-opacity:0.5; fill:none\" points=\"\n",
       "  841.978,1817.57 1182.43,1817.57 \n",
       "  \"/>\n",
       "<polyline clip-path=\"url(#clip012)\" style=\"stroke:#000000; stroke-width:4; stroke-opacity:0.5; fill:none\" points=\"\n",
       "  841.978,1817.57 841.978,1477.13 \n",
       "  \"/>\n",
       "<polyline clip-path=\"url(#clip012)\" style=\"stroke:#000000; stroke-width:4; stroke-opacity:0.5; fill:none\" points=\"\n",
       "  1182.43,1817.57 841.978,1817.57 \n",
       "  \"/>\n",
       "<polyline clip-path=\"url(#clip012)\" style=\"stroke:#000000; stroke-width:4; stroke-opacity:0.5; fill:none\" points=\"\n",
       "  1182.43,1817.57 1522.87,1817.57 \n",
       "  \"/>\n",
       "<polyline clip-path=\"url(#clip012)\" style=\"stroke:#000000; stroke-width:4; stroke-opacity:0.5; fill:none\" points=\"\n",
       "  1522.87,1817.57 1522.87,2158.02 \n",
       "  \"/>\n",
       "<polyline clip-path=\"url(#clip012)\" style=\"stroke:#000000; stroke-width:4; stroke-opacity:0.5; fill:none\" points=\"\n",
       "  1522.87,1817.57 1182.43,1817.57 \n",
       "  \"/>\n",
       "<polyline clip-path=\"url(#clip012)\" style=\"stroke:#000000; stroke-width:4; stroke-opacity:0.5; fill:none\" points=\"\n",
       "  1522.87,1817.57 1863.32,1817.57 \n",
       "  \"/>\n",
       "<polyline clip-path=\"url(#clip012)\" style=\"stroke:#000000; stroke-width:4; stroke-opacity:0.5; fill:none\" points=\"\n",
       "  1522.87,1817.57 1522.87,1477.13 \n",
       "  \"/>\n",
       "<polyline clip-path=\"url(#clip012)\" style=\"stroke:#000000; stroke-width:4; stroke-opacity:0.5; fill:none\" points=\"\n",
       "  1863.32,1817.57 1522.87,1817.57 \n",
       "  \"/>\n",
       "<polyline clip-path=\"url(#clip012)\" style=\"stroke:#000000; stroke-width:4; stroke-opacity:0.5; fill:none\" points=\"\n",
       "  1863.32,1817.57 2203.77,1817.57 \n",
       "  \"/>\n",
       "<polyline clip-path=\"url(#clip012)\" style=\"stroke:#000000; stroke-width:4; stroke-opacity:0.5; fill:none\" points=\"\n",
       "  2203.77,1817.57 2203.77,2158.02 \n",
       "  \"/>\n",
       "<polyline clip-path=\"url(#clip012)\" style=\"stroke:#000000; stroke-width:4; stroke-opacity:0.5; fill:none\" points=\"\n",
       "  2203.77,1817.57 1863.32,1817.57 \n",
       "  \"/>\n",
       "<polyline clip-path=\"url(#clip012)\" style=\"stroke:#000000; stroke-width:4; stroke-opacity:0.5; fill:none\" points=\"\n",
       "  2203.77,1817.57 2203.77,1477.13 \n",
       "  \"/>\n",
       "<polyline clip-path=\"url(#clip012)\" style=\"stroke:#000000; stroke-width:4; stroke-opacity:0.5; fill:none\" points=\"\n",
       "  841.978,1477.13 841.978,1817.57 \n",
       "  \"/>\n",
       "<polyline clip-path=\"url(#clip012)\" style=\"stroke:#000000; stroke-width:4; stroke-opacity:0.5; fill:none\" points=\"\n",
       "  841.978,1477.13 841.978,1136.68 \n",
       "  \"/>\n",
       "<polyline clip-path=\"url(#clip012)\" style=\"stroke:#000000; stroke-width:4; stroke-opacity:0.5; fill:none\" points=\"\n",
       "  1522.87,1477.13 1522.87,1817.57 \n",
       "  \"/>\n",
       "<polyline clip-path=\"url(#clip012)\" style=\"stroke:#000000; stroke-width:4; stroke-opacity:0.5; fill:none\" points=\"\n",
       "  1522.87,1477.13 1522.87,1136.68 \n",
       "  \"/>\n",
       "<polyline clip-path=\"url(#clip012)\" style=\"stroke:#000000; stroke-width:4; stroke-opacity:0.5; fill:none\" points=\"\n",
       "  2203.77,1477.13 2203.77,1817.57 \n",
       "  \"/>\n",
       "<polyline clip-path=\"url(#clip012)\" style=\"stroke:#000000; stroke-width:4; stroke-opacity:0.5; fill:none\" points=\"\n",
       "  2203.77,1477.13 2203.77,1136.68 \n",
       "  \"/>\n",
       "<polyline clip-path=\"url(#clip012)\" style=\"stroke:#000000; stroke-width:4; stroke-opacity:0.5; fill:none\" points=\"\n",
       "  841.978,1136.68 841.978,1477.13 \n",
       "  \"/>\n",
       "<polyline clip-path=\"url(#clip012)\" style=\"stroke:#000000; stroke-width:4; stroke-opacity:0.5; fill:none\" points=\"\n",
       "  841.978,1136.68 1182.43,1136.68 \n",
       "  \"/>\n",
       "<polyline clip-path=\"url(#clip012)\" style=\"stroke:#000000; stroke-width:4; stroke-opacity:0.5; fill:none\" points=\"\n",
       "  841.978,1136.68 841.978,796.23 \n",
       "  \"/>\n",
       "<polyline clip-path=\"url(#clip012)\" style=\"stroke:#000000; stroke-width:4; stroke-opacity:0.5; fill:none\" points=\"\n",
       "  1182.43,1136.68 841.978,1136.68 \n",
       "  \"/>\n",
       "<polyline clip-path=\"url(#clip012)\" style=\"stroke:#000000; stroke-width:4; stroke-opacity:0.5; fill:none\" points=\"\n",
       "  1182.43,1136.68 1522.87,1136.68 \n",
       "  \"/>\n",
       "<polyline clip-path=\"url(#clip012)\" style=\"stroke:#000000; stroke-width:4; stroke-opacity:0.5; fill:none\" points=\"\n",
       "  1522.87,1136.68 1522.87,1477.13 \n",
       "  \"/>\n",
       "<polyline clip-path=\"url(#clip012)\" style=\"stroke:#000000; stroke-width:4; stroke-opacity:0.5; fill:none\" points=\"\n",
       "  1522.87,1136.68 1182.43,1136.68 \n",
       "  \"/>\n",
       "<polyline clip-path=\"url(#clip012)\" style=\"stroke:#000000; stroke-width:4; stroke-opacity:0.5; fill:none\" points=\"\n",
       "  1522.87,1136.68 1863.32,1136.68 \n",
       "  \"/>\n",
       "<polyline clip-path=\"url(#clip012)\" style=\"stroke:#000000; stroke-width:4; stroke-opacity:0.5; fill:none\" points=\"\n",
       "  1522.87,1136.68 1522.87,796.23 \n",
       "  \"/>\n",
       "<polyline clip-path=\"url(#clip012)\" style=\"stroke:#000000; stroke-width:4; stroke-opacity:0.5; fill:none\" points=\"\n",
       "  1863.32,1136.68 1522.87,1136.68 \n",
       "  \"/>\n",
       "<polyline clip-path=\"url(#clip012)\" style=\"stroke:#000000; stroke-width:4; stroke-opacity:0.5; fill:none\" points=\"\n",
       "  1863.32,1136.68 2203.77,1136.68 \n",
       "  \"/>\n",
       "<polyline clip-path=\"url(#clip012)\" style=\"stroke:#000000; stroke-width:4; stroke-opacity:0.5; fill:none\" points=\"\n",
       "  2203.77,1136.68 2203.77,1477.13 \n",
       "  \"/>\n",
       "<polyline clip-path=\"url(#clip012)\" style=\"stroke:#000000; stroke-width:4; stroke-opacity:0.5; fill:none\" points=\"\n",
       "  2203.77,1136.68 1863.32,1136.68 \n",
       "  \"/>\n",
       "<polyline clip-path=\"url(#clip012)\" style=\"stroke:#000000; stroke-width:4; stroke-opacity:0.5; fill:none\" points=\"\n",
       "  2203.77,1136.68 2203.77,796.23 \n",
       "  \"/>\n",
       "<polyline clip-path=\"url(#clip012)\" style=\"stroke:#000000; stroke-width:4; stroke-opacity:0.5; fill:none\" points=\"\n",
       "  841.978,796.23 841.978,1136.68 \n",
       "  \"/>\n",
       "<polyline clip-path=\"url(#clip012)\" style=\"stroke:#000000; stroke-width:4; stroke-opacity:0.5; fill:none\" points=\"\n",
       "  841.978,796.23 841.978,455.782 \n",
       "  \"/>\n",
       "<polyline clip-path=\"url(#clip012)\" style=\"stroke:#000000; stroke-width:4; stroke-opacity:0.5; fill:none\" points=\"\n",
       "  1522.87,796.23 1522.87,1136.68 \n",
       "  \"/>\n",
       "<polyline clip-path=\"url(#clip012)\" style=\"stroke:#000000; stroke-width:4; stroke-opacity:0.5; fill:none\" points=\"\n",
       "  1522.87,796.23 1522.87,455.782 \n",
       "  \"/>\n",
       "<polyline clip-path=\"url(#clip012)\" style=\"stroke:#000000; stroke-width:4; stroke-opacity:0.5; fill:none\" points=\"\n",
       "  2203.77,796.23 2203.77,1136.68 \n",
       "  \"/>\n",
       "<polyline clip-path=\"url(#clip012)\" style=\"stroke:#000000; stroke-width:4; stroke-opacity:0.5; fill:none\" points=\"\n",
       "  2203.77,796.23 2203.77,455.782 \n",
       "  \"/>\n",
       "<polyline clip-path=\"url(#clip012)\" style=\"stroke:#000000; stroke-width:4; stroke-opacity:0.5; fill:none\" points=\"\n",
       "  841.978,455.782 841.978,796.23 \n",
       "  \"/>\n",
       "<polyline clip-path=\"url(#clip012)\" style=\"stroke:#000000; stroke-width:4; stroke-opacity:0.5; fill:none\" points=\"\n",
       "  841.978,455.782 1182.43,455.782 \n",
       "  \"/>\n",
       "<polyline clip-path=\"url(#clip012)\" style=\"stroke:#000000; stroke-width:4; stroke-opacity:0.5; fill:none\" points=\"\n",
       "  1182.43,455.782 841.978,455.782 \n",
       "  \"/>\n",
       "<polyline clip-path=\"url(#clip012)\" style=\"stroke:#000000; stroke-width:4; stroke-opacity:0.5; fill:none\" points=\"\n",
       "  1182.43,455.782 1522.87,455.782 \n",
       "  \"/>\n",
       "<polyline clip-path=\"url(#clip012)\" style=\"stroke:#000000; stroke-width:4; stroke-opacity:0.5; fill:none\" points=\"\n",
       "  1522.87,455.782 1522.87,796.23 \n",
       "  \"/>\n",
       "<polyline clip-path=\"url(#clip012)\" style=\"stroke:#000000; stroke-width:4; stroke-opacity:0.5; fill:none\" points=\"\n",
       "  1522.87,455.782 1182.43,455.782 \n",
       "  \"/>\n",
       "<polyline clip-path=\"url(#clip012)\" style=\"stroke:#000000; stroke-width:4; stroke-opacity:0.5; fill:none\" points=\"\n",
       "  1522.87,455.782 1863.32,455.782 \n",
       "  \"/>\n",
       "<polyline clip-path=\"url(#clip012)\" style=\"stroke:#000000; stroke-width:4; stroke-opacity:0.5; fill:none\" points=\"\n",
       "  1863.32,455.782 1522.87,455.782 \n",
       "  \"/>\n",
       "<polyline clip-path=\"url(#clip012)\" style=\"stroke:#000000; stroke-width:4; stroke-opacity:0.5; fill:none\" points=\"\n",
       "  1863.32,455.782 2203.77,455.782 \n",
       "  \"/>\n",
       "<polyline clip-path=\"url(#clip012)\" style=\"stroke:#000000; stroke-width:4; stroke-opacity:0.5; fill:none\" points=\"\n",
       "  2203.77,455.782 2203.77,796.23 \n",
       "  \"/>\n",
       "<polyline clip-path=\"url(#clip012)\" style=\"stroke:#000000; stroke-width:4; stroke-opacity:0.5; fill:none\" points=\"\n",
       "  2203.77,455.782 1863.32,455.782 \n",
       "  \"/>\n",
       "<path clip-path=\"url(#clip012)\" d=\"\n",
       "M824.955 2515.49 L859 2515.49 L859 2481.45 L824.955 2481.45 L824.955 2515.49 L824.955 2515.49  Z\n",
       "  \" fill=\"#808080\" fill-rule=\"evenodd\" fill-opacity=\"1\"/>\n",
       "<polyline clip-path=\"url(#clip012)\" style=\"stroke:#000000; stroke-width:0; stroke-opacity:1; fill:none\" points=\"\n",
       "  824.955,2515.49 859,2515.49 859,2481.45 824.955,2481.45 824.955,2515.49 \n",
       "  \"/>\n",
       "<path clip-path=\"url(#clip012)\" d=\"\n",
       "M1165.4 2515.49 L1199.45 2515.49 L1199.45 2481.45 L1165.4 2481.45 L1165.4 2515.49 L1165.4 2515.49  Z\n",
       "  \" fill=\"#808080\" fill-rule=\"evenodd\" fill-opacity=\"1\"/>\n",
       "<polyline clip-path=\"url(#clip012)\" style=\"stroke:#000000; stroke-width:0; stroke-opacity:1; fill:none\" points=\"\n",
       "  1165.4,2515.49 1199.45,2515.49 1199.45,2481.45 1165.4,2481.45 1165.4,2515.49 \n",
       "  \"/>\n",
       "<path clip-path=\"url(#clip012)\" d=\"\n",
       "M1505.85 2515.49 L1539.9 2515.49 L1539.9 2481.45 L1505.85 2481.45 L1505.85 2515.49 L1505.85 2515.49  Z\n",
       "  \" fill=\"#808080\" fill-rule=\"evenodd\" fill-opacity=\"1\"/>\n",
       "<polyline clip-path=\"url(#clip012)\" style=\"stroke:#000000; stroke-width:0; stroke-opacity:1; fill:none\" points=\"\n",
       "  1505.85,2515.49 1539.9,2515.49 1539.9,2481.45 1505.85,2481.45 1505.85,2515.49 \n",
       "  \"/>\n",
       "<path clip-path=\"url(#clip012)\" d=\"\n",
       "M1846.3 2515.49 L1880.34 2515.49 L1880.34 2481.45 L1846.3 2481.45 L1846.3 2515.49 L1846.3 2515.49  Z\n",
       "  \" fill=\"#808080\" fill-rule=\"evenodd\" fill-opacity=\"1\"/>\n",
       "<polyline clip-path=\"url(#clip012)\" style=\"stroke:#000000; stroke-width:0; stroke-opacity:1; fill:none\" points=\"\n",
       "  1846.3,2515.49 1880.34,2515.49 1880.34,2481.45 1846.3,2481.45 1846.3,2515.49 \n",
       "  \"/>\n",
       "<path clip-path=\"url(#clip012)\" d=\"\n",
       "M2186.75 2515.49 L2220.79 2515.49 L2220.79 2481.45 L2186.75 2481.45 L2186.75 2515.49 L2186.75 2515.49  Z\n",
       "  \" fill=\"#808080\" fill-rule=\"evenodd\" fill-opacity=\"1\"/>\n",
       "<polyline clip-path=\"url(#clip012)\" style=\"stroke:#000000; stroke-width:0; stroke-opacity:1; fill:none\" points=\"\n",
       "  2186.75,2515.49 2220.79,2515.49 2220.79,2481.45 2186.75,2481.45 2186.75,2515.49 \n",
       "  \"/>\n",
       "<path clip-path=\"url(#clip012)\" d=\"\n",
       "M790.911 2209.09 L893.045 2209.09 L893.045 2106.95 L790.911 2106.95 L790.911 2209.09 L790.911 2209.09  Z\n",
       "  \" fill=\"#fbb419\" fill-rule=\"evenodd\" fill-opacity=\"1\"/>\n",
       "<polyline clip-path=\"url(#clip012)\" style=\"stroke:#000000; stroke-width:0; stroke-opacity:1; fill:none\" points=\"\n",
       "  790.911,2209.09 893.045,2209.09 893.045,2106.95 790.911,2106.95 790.911,2209.09 \n",
       "  \"/>\n",
       "<path clip-path=\"url(#clip012)\" d=\"\n",
       "M1097.31 2243.13 L1267.54 2243.13 L1267.54 2072.91 L1097.31 2072.91 L1097.31 2243.13 L1097.31 2243.13  Z\n",
       "  \" fill=\"#ba3654\" fill-rule=\"evenodd\" fill-opacity=\"1\"/>\n",
       "<polyline clip-path=\"url(#clip012)\" style=\"stroke:#000000; stroke-width:0; stroke-opacity:1; fill:none\" points=\"\n",
       "  1097.31,2243.13 1267.54,2243.13 1267.54,2072.91 1097.31,2072.91 1097.31,2243.13 \n",
       "  \"/>\n",
       "<path clip-path=\"url(#clip012)\" d=\"\n",
       "M1505.85 2175.04 L1539.9 2175.04 L1539.9 2141 L1505.85 2141 L1505.85 2175.04 L1505.85 2175.04  Z\n",
       "  \" fill=\"#808080\" fill-rule=\"evenodd\" fill-opacity=\"1\"/>\n",
       "<polyline clip-path=\"url(#clip012)\" style=\"stroke:#000000; stroke-width:0; stroke-opacity:1; fill:none\" points=\"\n",
       "  1505.85,2175.04 1539.9,2175.04 1539.9,2141 1505.85,2141 1505.85,2175.04 \n",
       "  \"/>\n",
       "<path clip-path=\"url(#clip012)\" d=\"\n",
       "M1778.21 2243.13 L1948.43 2243.13 L1948.43 2072.91 L1778.21 2072.91 L1778.21 2243.13 L1778.21 2243.13  Z\n",
       "  \" fill=\"#ba3654\" fill-rule=\"evenodd\" fill-opacity=\"1\"/>\n",
       "<polyline clip-path=\"url(#clip012)\" style=\"stroke:#000000; stroke-width:0; stroke-opacity:1; fill:none\" points=\"\n",
       "  1778.21,2243.13 1948.43,2243.13 1948.43,2072.91 1778.21,2072.91 1778.21,2243.13 \n",
       "  \"/>\n",
       "<path clip-path=\"url(#clip012)\" d=\"\n",
       "M2186.75 2175.04 L2220.79 2175.04 L2220.79 2141 L2186.75 2141 L2186.75 2175.04 L2186.75 2175.04  Z\n",
       "  \" fill=\"#808080\" fill-rule=\"evenodd\" fill-opacity=\"1\"/>\n",
       "<polyline clip-path=\"url(#clip012)\" style=\"stroke:#000000; stroke-width:0; stroke-opacity:1; fill:none\" points=\"\n",
       "  2186.75,2175.04 2220.79,2175.04 2220.79,2141 2186.75,2141 2186.75,2175.04 \n",
       "  \"/>\n",
       "<path clip-path=\"url(#clip012)\" d=\"\n",
       "M824.955 1834.6 L859 1834.6 L859 1800.55 L824.955 1800.55 L824.955 1834.6 L824.955 1834.6  Z\n",
       "  \" fill=\"#808080\" fill-rule=\"evenodd\" fill-opacity=\"1\"/>\n",
       "<polyline clip-path=\"url(#clip012)\" style=\"stroke:#000000; stroke-width:0; stroke-opacity:1; fill:none\" points=\"\n",
       "  824.955,1834.6 859,1834.6 859,1800.55 824.955,1800.55 824.955,1834.6 \n",
       "  \"/>\n",
       "<path clip-path=\"url(#clip012)\" d=\"\n",
       "M1165.4 1834.6 L1199.45 1834.6 L1199.45 1800.55 L1165.4 1800.55 L1165.4 1834.6 L1165.4 1834.6  Z\n",
       "  \" fill=\"#808080\" fill-rule=\"evenodd\" fill-opacity=\"1\"/>\n",
       "<polyline clip-path=\"url(#clip012)\" style=\"stroke:#000000; stroke-width:0; stroke-opacity:1; fill:none\" points=\"\n",
       "  1165.4,1834.6 1199.45,1834.6 1199.45,1800.55 1165.4,1800.55 1165.4,1834.6 \n",
       "  \"/>\n",
       "<path clip-path=\"url(#clip012)\" d=\"\n",
       "M1505.85 1834.6 L1539.9 1834.6 L1539.9 1800.55 L1505.85 1800.55 L1505.85 1834.6 L1505.85 1834.6  Z\n",
       "  \" fill=\"#808080\" fill-rule=\"evenodd\" fill-opacity=\"1\"/>\n",
       "<polyline clip-path=\"url(#clip012)\" style=\"stroke:#000000; stroke-width:0; stroke-opacity:1; fill:none\" points=\"\n",
       "  1505.85,1834.6 1539.9,1834.6 1539.9,1800.55 1505.85,1800.55 1505.85,1834.6 \n",
       "  \"/>\n",
       "<path clip-path=\"url(#clip012)\" d=\"\n",
       "M1846.3 1834.6 L1880.34 1834.6 L1880.34 1800.55 L1846.3 1800.55 L1846.3 1834.6 L1846.3 1834.6  Z\n",
       "  \" fill=\"#808080\" fill-rule=\"evenodd\" fill-opacity=\"1\"/>\n",
       "<polyline clip-path=\"url(#clip012)\" style=\"stroke:#000000; stroke-width:0; stroke-opacity:1; fill:none\" points=\"\n",
       "  1846.3,1834.6 1880.34,1834.6 1880.34,1800.55 1846.3,1800.55 1846.3,1834.6 \n",
       "  \"/>\n",
       "<path clip-path=\"url(#clip012)\" d=\"\n",
       "M2186.75 1834.6 L2220.79 1834.6 L2220.79 1800.55 L2186.75 1800.55 L2186.75 1834.6 L2186.75 1834.6  Z\n",
       "  \" fill=\"#808080\" fill-rule=\"evenodd\" fill-opacity=\"1\"/>\n",
       "<polyline clip-path=\"url(#clip012)\" style=\"stroke:#000000; stroke-width:0; stroke-opacity:1; fill:none\" points=\"\n",
       "  2186.75,1834.6 2220.79,1834.6 2220.79,1800.55 2186.75,1800.55 2186.75,1834.6 \n",
       "  \"/>\n",
       "<path clip-path=\"url(#clip012)\" d=\"\n",
       "M824.955 1494.15 L859 1494.15 L859 1460.1 L824.955 1460.1 L824.955 1494.15 L824.955 1494.15  Z\n",
       "  \" fill=\"#808080\" fill-rule=\"evenodd\" fill-opacity=\"1\"/>\n",
       "<polyline clip-path=\"url(#clip012)\" style=\"stroke:#000000; stroke-width:0; stroke-opacity:1; fill:none\" points=\"\n",
       "  824.955,1494.15 859,1494.15 859,1460.1 824.955,1460.1 824.955,1494.15 \n",
       "  \"/>\n",
       "<path clip-path=\"url(#clip012)\" d=\"\n",
       "M1131.36 1528.19 L1233.49 1528.19 L1233.49 1426.06 L1131.36 1426.06 L1131.36 1528.19 L1131.36 1528.19  Z\n",
       "  \" fill=\"#fbb419\" fill-rule=\"evenodd\" fill-opacity=\"1\"/>\n",
       "<polyline clip-path=\"url(#clip012)\" style=\"stroke:#000000; stroke-width:0; stroke-opacity:1; fill:none\" points=\"\n",
       "  1131.36,1528.19 1233.49,1528.19 1233.49,1426.06 1131.36,1426.06 1131.36,1528.19 \n",
       "  \"/>\n",
       "<path clip-path=\"url(#clip012)\" d=\"\n",
       "M1471.81 1528.19 L1573.94 1528.19 L1573.94 1426.06 L1471.81 1426.06 L1471.81 1528.19 L1471.81 1528.19  Z\n",
       "  \" fill=\"#ba3654\" fill-rule=\"evenodd\" fill-opacity=\"1\"/>\n",
       "<polyline clip-path=\"url(#clip012)\" style=\"stroke:#000000; stroke-width:0; stroke-opacity:1; fill:none\" points=\"\n",
       "  1471.81,1528.19 1573.94,1528.19 1573.94,1426.06 1471.81,1426.06 1471.81,1528.19 \n",
       "  \"/>\n",
       "<path clip-path=\"url(#clip012)\" d=\"\n",
       "M1812.25 1528.19 L1914.39 1528.19 L1914.39 1426.06 L1812.25 1426.06 L1812.25 1528.19 L1812.25 1528.19  Z\n",
       "  \" fill=\"#fbb419\" fill-rule=\"evenodd\" fill-opacity=\"1\"/>\n",
       "<polyline clip-path=\"url(#clip012)\" style=\"stroke:#000000; stroke-width:0; stroke-opacity:1; fill:none\" points=\"\n",
       "  1812.25,1528.19 1914.39,1528.19 1914.39,1426.06 1812.25,1426.06 1812.25,1528.19 \n",
       "  \"/>\n",
       "<path clip-path=\"url(#clip012)\" d=\"\n",
       "M2186.75 1494.15 L2220.79 1494.15 L2220.79 1460.1 L2186.75 1460.1 L2186.75 1494.15 L2186.75 1494.15  Z\n",
       "  \" fill=\"#808080\" fill-rule=\"evenodd\" fill-opacity=\"1\"/>\n",
       "<polyline clip-path=\"url(#clip012)\" style=\"stroke:#000000; stroke-width:0; stroke-opacity:1; fill:none\" points=\"\n",
       "  2186.75,1494.15 2220.79,1494.15 2220.79,1460.1 2186.75,1460.1 2186.75,1494.15 \n",
       "  \"/>\n",
       "<path clip-path=\"url(#clip012)\" d=\"\n",
       "M824.955 1153.7 L859 1153.7 L859 1119.66 L824.955 1119.66 L824.955 1153.7 L824.955 1153.7  Z\n",
       "  \" fill=\"#808080\" fill-rule=\"evenodd\" fill-opacity=\"1\"/>\n",
       "<polyline clip-path=\"url(#clip012)\" style=\"stroke:#000000; stroke-width:0; stroke-opacity:1; fill:none\" points=\"\n",
       "  824.955,1153.7 859,1153.7 859,1119.66 824.955,1119.66 824.955,1153.7 \n",
       "  \"/>\n",
       "<path clip-path=\"url(#clip012)\" d=\"\n",
       "M1165.4 1153.7 L1199.45 1153.7 L1199.45 1119.66 L1165.4 1119.66 L1165.4 1153.7 L1165.4 1153.7  Z\n",
       "  \" fill=\"#808080\" fill-rule=\"evenodd\" fill-opacity=\"1\"/>\n",
       "<polyline clip-path=\"url(#clip012)\" style=\"stroke:#000000; stroke-width:0; stroke-opacity:1; fill:none\" points=\"\n",
       "  1165.4,1153.7 1199.45,1153.7 1199.45,1119.66 1165.4,1119.66 1165.4,1153.7 \n",
       "  \"/>\n",
       "<path clip-path=\"url(#clip012)\" d=\"\n",
       "M1505.85 1153.7 L1539.9 1153.7 L1539.9 1119.66 L1505.85 1119.66 L1505.85 1153.7 L1505.85 1153.7  Z\n",
       "  \" fill=\"#808080\" fill-rule=\"evenodd\" fill-opacity=\"1\"/>\n",
       "<polyline clip-path=\"url(#clip012)\" style=\"stroke:#000000; stroke-width:0; stroke-opacity:1; fill:none\" points=\"\n",
       "  1505.85,1153.7 1539.9,1153.7 1539.9,1119.66 1505.85,1119.66 1505.85,1153.7 \n",
       "  \"/>\n",
       "<path clip-path=\"url(#clip012)\" d=\"\n",
       "M1846.3 1153.7 L1880.34 1153.7 L1880.34 1119.66 L1846.3 1119.66 L1846.3 1153.7 L1846.3 1153.7  Z\n",
       "  \" fill=\"#808080\" fill-rule=\"evenodd\" fill-opacity=\"1\"/>\n",
       "<polyline clip-path=\"url(#clip012)\" style=\"stroke:#000000; stroke-width:0; stroke-opacity:1; fill:none\" points=\"\n",
       "  1846.3,1153.7 1880.34,1153.7 1880.34,1119.66 1846.3,1119.66 1846.3,1153.7 \n",
       "  \"/>\n",
       "<path clip-path=\"url(#clip012)\" d=\"\n",
       "M2186.75 1153.7 L2220.79 1153.7 L2220.79 1119.66 L2186.75 1119.66 L2186.75 1153.7 L2186.75 1153.7  Z\n",
       "  \" fill=\"#808080\" fill-rule=\"evenodd\" fill-opacity=\"1\"/>\n",
       "<polyline clip-path=\"url(#clip012)\" style=\"stroke:#000000; stroke-width:0; stroke-opacity:1; fill:none\" points=\"\n",
       "  2186.75,1153.7 2220.79,1153.7 2220.79,1119.66 2186.75,1119.66 2186.75,1153.7 \n",
       "  \"/>\n",
       "<path clip-path=\"url(#clip012)\" d=\"\n",
       "M824.955 813.252 L859 813.252 L859 779.207 L824.955 779.207 L824.955 813.252 L824.955 813.252  Z\n",
       "  \" fill=\"#808080\" fill-rule=\"evenodd\" fill-opacity=\"1\"/>\n",
       "<polyline clip-path=\"url(#clip012)\" style=\"stroke:#000000; stroke-width:0; stroke-opacity:1; fill:none\" points=\"\n",
       "  824.955,813.252 859,813.252 859,779.207 824.955,779.207 824.955,813.252 \n",
       "  \"/>\n",
       "<path clip-path=\"url(#clip012)\" d=\"\n",
       "M1131.36 847.297 L1233.49 847.297 L1233.49 745.163 L1131.36 745.163 L1131.36 847.297 L1131.36 847.297  Z\n",
       "  \" fill=\"#fbb419\" fill-rule=\"evenodd\" fill-opacity=\"1\"/>\n",
       "<polyline clip-path=\"url(#clip012)\" style=\"stroke:#000000; stroke-width:0; stroke-opacity:1; fill:none\" points=\"\n",
       "  1131.36,847.297 1233.49,847.297 1233.49,745.163 1131.36,745.163 1131.36,847.297 \n",
       "  \"/>\n",
       "<path clip-path=\"url(#clip012)\" d=\"\n",
       "M1505.85 813.252 L1539.9 813.252 L1539.9 779.207 L1505.85 779.207 L1505.85 813.252 L1505.85 813.252  Z\n",
       "  \" fill=\"#808080\" fill-rule=\"evenodd\" fill-opacity=\"1\"/>\n",
       "<polyline clip-path=\"url(#clip012)\" style=\"stroke:#000000; stroke-width:0; stroke-opacity:1; fill:none\" points=\"\n",
       "  1505.85,813.252 1539.9,813.252 1539.9,779.207 1505.85,779.207 1505.85,813.252 \n",
       "  \"/>\n",
       "<path clip-path=\"url(#clip012)\" d=\"\n",
       "M1812.25 847.297 L1914.39 847.297 L1914.39 745.163 L1812.25 745.163 L1812.25 847.297 L1812.25 847.297  Z\n",
       "  \" fill=\"#fbb419\" fill-rule=\"evenodd\" fill-opacity=\"1\"/>\n",
       "<polyline clip-path=\"url(#clip012)\" style=\"stroke:#000000; stroke-width:0; stroke-opacity:1; fill:none\" points=\"\n",
       "  1812.25,847.297 1914.39,847.297 1914.39,745.163 1812.25,745.163 1812.25,847.297 \n",
       "  \"/>\n",
       "<path clip-path=\"url(#clip012)\" d=\"\n",
       "M2186.75 813.252 L2220.79 813.252 L2220.79 779.207 L2186.75 779.207 L2186.75 813.252 L2186.75 813.252  Z\n",
       "  \" fill=\"#808080\" fill-rule=\"evenodd\" fill-opacity=\"1\"/>\n",
       "<polyline clip-path=\"url(#clip012)\" style=\"stroke:#000000; stroke-width:0; stroke-opacity:1; fill:none\" points=\"\n",
       "  2186.75,813.252 2220.79,813.252 2220.79,779.207 2186.75,779.207 2186.75,813.252 \n",
       "  \"/>\n",
       "<path clip-path=\"url(#clip012)\" d=\"\n",
       "M824.955 472.804 L859 472.804 L859 438.759 L824.955 438.759 L824.955 472.804 L824.955 472.804  Z\n",
       "  \" fill=\"#808080\" fill-rule=\"evenodd\" fill-opacity=\"1\"/>\n",
       "<polyline clip-path=\"url(#clip012)\" style=\"stroke:#000000; stroke-width:0; stroke-opacity:1; fill:none\" points=\"\n",
       "  824.955,472.804 859,472.804 859,438.759 824.955,438.759 824.955,472.804 \n",
       "  \"/>\n",
       "<path clip-path=\"url(#clip012)\" d=\"\n",
       "M1165.4 472.804 L1199.45 472.804 L1199.45 438.759 L1165.4 438.759 L1165.4 472.804 L1165.4 472.804  Z\n",
       "  \" fill=\"#808080\" fill-rule=\"evenodd\" fill-opacity=\"1\"/>\n",
       "<polyline clip-path=\"url(#clip012)\" style=\"stroke:#000000; stroke-width:0; stroke-opacity:1; fill:none\" points=\"\n",
       "  1165.4,472.804 1199.45,472.804 1199.45,438.759 1165.4,438.759 1165.4,472.804 \n",
       "  \"/>\n",
       "<path clip-path=\"url(#clip012)\" d=\"\n",
       "M1505.85 472.804 L1539.9 472.804 L1539.9 438.759 L1505.85 438.759 L1505.85 472.804 L1505.85 472.804  Z\n",
       "  \" fill=\"#808080\" fill-rule=\"evenodd\" fill-opacity=\"1\"/>\n",
       "<polyline clip-path=\"url(#clip012)\" style=\"stroke:#000000; stroke-width:0; stroke-opacity:1; fill:none\" points=\"\n",
       "  1505.85,472.804 1539.9,472.804 1539.9,438.759 1505.85,438.759 1505.85,472.804 \n",
       "  \"/>\n",
       "<path clip-path=\"url(#clip012)\" d=\"\n",
       "M1846.3 472.804 L1880.34 472.804 L1880.34 438.759 L1846.3 438.759 L1846.3 472.804 L1846.3 472.804  Z\n",
       "  \" fill=\"#808080\" fill-rule=\"evenodd\" fill-opacity=\"1\"/>\n",
       "<polyline clip-path=\"url(#clip012)\" style=\"stroke:#000000; stroke-width:0; stroke-opacity:1; fill:none\" points=\"\n",
       "  1846.3,472.804 1880.34,472.804 1880.34,438.759 1846.3,438.759 1846.3,472.804 \n",
       "  \"/>\n",
       "<path clip-path=\"url(#clip012)\" d=\"\n",
       "M2186.75 472.804 L2220.79 472.804 L2220.79 438.759 L2186.75 438.759 L2186.75 472.804 L2186.75 472.804  Z\n",
       "  \" fill=\"#808080\" fill-rule=\"evenodd\" fill-opacity=\"1\"/>\n",
       "<polyline clip-path=\"url(#clip012)\" style=\"stroke:#000000; stroke-width:0; stroke-opacity:1; fill:none\" points=\"\n",
       "  2186.75,472.804 2220.79,472.804 2220.79,438.759 2186.75,438.759 2186.75,472.804 \n",
       "  \"/>\n",
       "<circle clip-path=\"url(#clip012)\" style=\"fill:#808080; stroke:none; fill-opacity:1\" cx=\"841.978\" cy=\"2498.47\" r=\"2\"/>\n",
       "<circle clip-path=\"url(#clip012)\" style=\"fill:#808080; stroke:none; fill-opacity:1\" cx=\"1182.43\" cy=\"2498.47\" r=\"2\"/>\n",
       "<circle clip-path=\"url(#clip012)\" style=\"fill:#808080; stroke:none; fill-opacity:1\" cx=\"1522.87\" cy=\"2498.47\" r=\"2\"/>\n",
       "<circle clip-path=\"url(#clip012)\" style=\"fill:#808080; stroke:none; fill-opacity:1\" cx=\"1863.32\" cy=\"2498.47\" r=\"2\"/>\n",
       "<circle clip-path=\"url(#clip012)\" style=\"fill:#808080; stroke:none; fill-opacity:1\" cx=\"2203.77\" cy=\"2498.47\" r=\"2\"/>\n",
       "<circle clip-path=\"url(#clip012)\" style=\"fill:#fbb419; stroke:none; fill-opacity:1\" cx=\"841.978\" cy=\"2158.02\" r=\"2\"/>\n",
       "<circle clip-path=\"url(#clip012)\" style=\"fill:#ba3654; stroke:none; fill-opacity:1\" cx=\"1182.43\" cy=\"2158.02\" r=\"2\"/>\n",
       "<circle clip-path=\"url(#clip012)\" style=\"fill:#808080; stroke:none; fill-opacity:1\" cx=\"1522.87\" cy=\"2158.02\" r=\"2\"/>\n",
       "<circle clip-path=\"url(#clip012)\" style=\"fill:#ba3654; stroke:none; fill-opacity:1\" cx=\"1863.32\" cy=\"2158.02\" r=\"2\"/>\n",
       "<circle clip-path=\"url(#clip012)\" style=\"fill:#808080; stroke:none; fill-opacity:1\" cx=\"2203.77\" cy=\"2158.02\" r=\"2\"/>\n",
       "<circle clip-path=\"url(#clip012)\" style=\"fill:#808080; stroke:none; fill-opacity:1\" cx=\"841.978\" cy=\"1817.57\" r=\"2\"/>\n",
       "<circle clip-path=\"url(#clip012)\" style=\"fill:#808080; stroke:none; fill-opacity:1\" cx=\"1182.43\" cy=\"1817.57\" r=\"2\"/>\n",
       "<circle clip-path=\"url(#clip012)\" style=\"fill:#808080; stroke:none; fill-opacity:1\" cx=\"1522.87\" cy=\"1817.57\" r=\"2\"/>\n",
       "<circle clip-path=\"url(#clip012)\" style=\"fill:#808080; stroke:none; fill-opacity:1\" cx=\"1863.32\" cy=\"1817.57\" r=\"2\"/>\n",
       "<circle clip-path=\"url(#clip012)\" style=\"fill:#808080; stroke:none; fill-opacity:1\" cx=\"2203.77\" cy=\"1817.57\" r=\"2\"/>\n",
       "<circle clip-path=\"url(#clip012)\" style=\"fill:#808080; stroke:none; fill-opacity:1\" cx=\"841.978\" cy=\"1477.13\" r=\"2\"/>\n",
       "<circle clip-path=\"url(#clip012)\" style=\"fill:#fbb419; stroke:none; fill-opacity:1\" cx=\"1182.43\" cy=\"1477.13\" r=\"2\"/>\n",
       "<circle clip-path=\"url(#clip012)\" style=\"fill:#ba3654; stroke:none; fill-opacity:1\" cx=\"1522.87\" cy=\"1477.13\" r=\"2\"/>\n",
       "<circle clip-path=\"url(#clip012)\" style=\"fill:#fbb419; stroke:none; fill-opacity:1\" cx=\"1863.32\" cy=\"1477.13\" r=\"2\"/>\n",
       "<circle clip-path=\"url(#clip012)\" style=\"fill:#808080; stroke:none; fill-opacity:1\" cx=\"2203.77\" cy=\"1477.13\" r=\"2\"/>\n",
       "<circle clip-path=\"url(#clip012)\" style=\"fill:#808080; stroke:none; fill-opacity:1\" cx=\"841.978\" cy=\"1136.68\" r=\"2\"/>\n",
       "<circle clip-path=\"url(#clip012)\" style=\"fill:#808080; stroke:none; fill-opacity:1\" cx=\"1182.43\" cy=\"1136.68\" r=\"2\"/>\n",
       "<circle clip-path=\"url(#clip012)\" style=\"fill:#808080; stroke:none; fill-opacity:1\" cx=\"1522.87\" cy=\"1136.68\" r=\"2\"/>\n",
       "<circle clip-path=\"url(#clip012)\" style=\"fill:#808080; stroke:none; fill-opacity:1\" cx=\"1863.32\" cy=\"1136.68\" r=\"2\"/>\n",
       "<circle clip-path=\"url(#clip012)\" style=\"fill:#808080; stroke:none; fill-opacity:1\" cx=\"2203.77\" cy=\"1136.68\" r=\"2\"/>\n",
       "<circle clip-path=\"url(#clip012)\" style=\"fill:#808080; stroke:none; fill-opacity:1\" cx=\"841.978\" cy=\"796.23\" r=\"2\"/>\n",
       "<circle clip-path=\"url(#clip012)\" style=\"fill:#fbb419; stroke:none; fill-opacity:1\" cx=\"1182.43\" cy=\"796.23\" r=\"2\"/>\n",
       "<circle clip-path=\"url(#clip012)\" style=\"fill:#808080; stroke:none; fill-opacity:1\" cx=\"1522.87\" cy=\"796.23\" r=\"2\"/>\n",
       "<circle clip-path=\"url(#clip012)\" style=\"fill:#fbb419; stroke:none; fill-opacity:1\" cx=\"1863.32\" cy=\"796.23\" r=\"2\"/>\n",
       "<circle clip-path=\"url(#clip012)\" style=\"fill:#808080; stroke:none; fill-opacity:1\" cx=\"2203.77\" cy=\"796.23\" r=\"2\"/>\n",
       "<circle clip-path=\"url(#clip012)\" style=\"fill:#808080; stroke:none; fill-opacity:1\" cx=\"841.978\" cy=\"455.782\" r=\"2\"/>\n",
       "<circle clip-path=\"url(#clip012)\" style=\"fill:#808080; stroke:none; fill-opacity:1\" cx=\"1182.43\" cy=\"455.782\" r=\"2\"/>\n",
       "<circle clip-path=\"url(#clip012)\" style=\"fill:#808080; stroke:none; fill-opacity:1\" cx=\"1522.87\" cy=\"455.782\" r=\"2\"/>\n",
       "<circle clip-path=\"url(#clip012)\" style=\"fill:#808080; stroke:none; fill-opacity:1\" cx=\"1863.32\" cy=\"455.782\" r=\"2\"/>\n",
       "<circle clip-path=\"url(#clip012)\" style=\"fill:#808080; stroke:none; fill-opacity:1\" cx=\"2203.77\" cy=\"455.782\" r=\"2\"/>\n",
       "</svg>\n"
      ]
     },
     "execution_count": 240,
     "metadata": {},
     "output_type": "execute_result"
    }
   ],
   "source": [
    "plot_warehouse()"
   ]
  },
  {
   "cell_type": "code",
   "execution_count": 239,
   "id": "tropical-blake",
   "metadata": {},
   "outputs": [
    {
     "data": {
      "text/plain": [
       "35-element Vector{Int64}:\n",
       "  6\n",
       " 18\n",
       " 19\n",
       " 34\n",
       " 33\n",
       " 32\n",
       " 31\n",
       " 30\n",
       " 29\n",
       " 28\n",
       " 27\n",
       " 26\n",
       " 25\n",
       "  ⋮\n",
       " 13\n",
       " 12\n",
       " 11\n",
       " 10\n",
       "  9\n",
       "  8\n",
       "  7\n",
       "  5\n",
       "  4\n",
       "  3\n",
       "  2\n",
       " 35"
      ]
     },
     "execution_count": 239,
     "metadata": {},
     "output_type": "execute_result"
    }
   ],
   "source": [
    "positions(warehouse, :population)"
   ]
  },
  {
   "cell_type": "code",
   "execution_count": 229,
   "id": "solar-activation",
   "metadata": {},
   "outputs": [
    {
     "data": {
      "text/plain": [
       "Dict{Symbol, Any} with 7 entries:\n",
       "  :load_spot       => [6, 8]\n",
       "  :graph           => {35, 34} undirected simple Int64 graph\n",
       "  :last_spot       => 2\n",
       "  :step            => 1\n",
       "  :used_load_spots => [0, 0]\n",
       "  :package_list    => [2, 3, 4, 3, 1, 2, 4, 1, 1, 3]\n",
       "  :dest_spot       => [22, 24, 32, 34]"
      ]
     },
     "metadata": {},
     "output_type": "display_data"
    },
    {
     "data": {
      "text/plain": [
       "0"
      ]
     },
     "metadata": {},
     "output_type": "display_data"
    },
    {
     "data": {
      "text/plain": [
       "1"
      ]
     },
     "metadata": {},
     "output_type": "display_data"
    },
    {
     "data": {
      "text/plain": [
       "2"
      ]
     },
     "metadata": {},
     "output_type": "display_data"
    },
    {
     "data": {
      "text/plain": [
       "3"
      ]
     },
     "metadata": {},
     "output_type": "display_data"
    },
    {
     "data": {
      "text/plain": [
       "4"
      ]
     },
     "metadata": {},
     "output_type": "display_data"
    },
    {
     "data": {
      "text/plain": [
       "5"
      ]
     },
     "metadata": {},
     "output_type": "display_data"
    },
    {
     "data": {
      "text/plain": [
       "6"
      ]
     },
     "metadata": {},
     "output_type": "display_data"
    },
    {
     "data": {
      "text/plain": [
       "7"
      ]
     },
     "metadata": {},
     "output_type": "display_data"
    },
    {
     "data": {
      "text/plain": [
       "8"
      ]
     },
     "metadata": {},
     "output_type": "display_data"
    },
    {
     "data": {
      "text/plain": [
       "9"
      ]
     },
     "metadata": {},
     "output_type": "display_data"
    },
    {
     "data": {
      "text/plain": [
       "10"
      ]
     },
     "metadata": {},
     "output_type": "display_data"
    },
    {
     "data": {
      "text/plain": [
       "11"
      ]
     },
     "metadata": {},
     "output_type": "display_data"
    },
    {
     "data": {
      "text/plain": [
       "12"
      ]
     },
     "metadata": {},
     "output_type": "display_data"
    },
    {
     "data": {
      "text/plain": [
       "13"
      ]
     },
     "metadata": {},
     "output_type": "display_data"
    },
    {
     "data": {
      "text/plain": [
       "14"
      ]
     },
     "metadata": {},
     "output_type": "display_data"
    },
    {
     "data": {
      "text/plain": [
       "15"
      ]
     },
     "metadata": {},
     "output_type": "display_data"
    },
    {
     "data": {
      "text/plain": [
       "16"
      ]
     },
     "metadata": {},
     "output_type": "display_data"
    },
    {
     "data": {
      "text/plain": [
       "17"
      ]
     },
     "metadata": {},
     "output_type": "display_data"
    },
    {
     "data": {
      "text/plain": [
       "18"
      ]
     },
     "metadata": {},
     "output_type": "display_data"
    },
    {
     "data": {
      "text/plain": [
       "19"
      ]
     },
     "metadata": {},
     "output_type": "display_data"
    },
    {
     "data": {
      "text/plain": [
       "20"
      ]
     },
     "metadata": {},
     "output_type": "display_data"
    },
    {
     "data": {
      "text/plain": [
       "21"
      ]
     },
     "metadata": {},
     "output_type": "display_data"
    },
    {
     "data": {
      "text/plain": [
       "22"
      ]
     },
     "metadata": {},
     "output_type": "display_data"
    },
    {
     "data": {
      "text/plain": [
       "23"
      ]
     },
     "metadata": {},
     "output_type": "display_data"
    },
    {
     "data": {
      "text/plain": [
       "24"
      ]
     },
     "metadata": {},
     "output_type": "display_data"
    },
    {
     "data": {
      "text/plain": [
       "25"
      ]
     },
     "metadata": {},
     "output_type": "display_data"
    },
    {
     "data": {
      "text/plain": [
       "26"
      ]
     },
     "metadata": {},
     "output_type": "display_data"
    },
    {
     "data": {
      "text/plain": [
       "27"
      ]
     },
     "metadata": {},
     "output_type": "display_data"
    },
    {
     "data": {
      "text/plain": [
       "28"
      ]
     },
     "metadata": {},
     "output_type": "display_data"
    },
    {
     "data": {
      "text/plain": [
       "29"
      ]
     },
     "metadata": {},
     "output_type": "display_data"
    },
    {
     "data": {
      "text/plain": [
       "30"
      ]
     },
     "metadata": {},
     "output_type": "display_data"
    },
    {
     "data": {
      "text/plain": [
       "31"
      ]
     },
     "metadata": {},
     "output_type": "display_data"
    },
    {
     "data": {
      "text/plain": [
       "32"
      ]
     },
     "metadata": {},
     "output_type": "display_data"
    },
    {
     "data": {
      "text/plain": [
       "33"
      ]
     },
     "metadata": {},
     "output_type": "display_data"
    },
    {
     "data": {
      "text/plain": [
       "34"
      ]
     },
     "metadata": {},
     "output_type": "display_data"
    },
    {
     "data": {
      "text/plain": [
       "35"
      ]
     },
     "metadata": {},
     "output_type": "display_data"
    },
    {
     "data": {
      "text/plain": [
       "36"
      ]
     },
     "metadata": {},
     "output_type": "display_data"
    },
    {
     "data": {
      "text/plain": [
       "37"
      ]
     },
     "metadata": {},
     "output_type": "display_data"
    },
    {
     "data": {
      "text/plain": [
       "38"
      ]
     },
     "metadata": {},
     "output_type": "display_data"
    },
    {
     "data": {
      "text/plain": [
       "39"
      ]
     },
     "metadata": {},
     "output_type": "display_data"
    },
    {
     "data": {
      "text/plain": [
       "40"
      ]
     },
     "metadata": {},
     "output_type": "display_data"
    },
    {
     "data": {
      "text/plain": [
       "41"
      ]
     },
     "metadata": {},
     "output_type": "display_data"
    },
    {
     "data": {
      "text/plain": [
       "42"
      ]
     },
     "metadata": {},
     "output_type": "display_data"
    },
    {
     "data": {
      "text/plain": [
       "43"
      ]
     },
     "metadata": {},
     "output_type": "display_data"
    },
    {
     "data": {
      "text/plain": [
       "44"
      ]
     },
     "metadata": {},
     "output_type": "display_data"
    },
    {
     "data": {
      "text/plain": [
       "45"
      ]
     },
     "metadata": {},
     "output_type": "display_data"
    },
    {
     "data": {
      "text/plain": [
       "46"
      ]
     },
     "metadata": {},
     "output_type": "display_data"
    },
    {
     "data": {
      "text/plain": [
       "47"
      ]
     },
     "metadata": {},
     "output_type": "display_data"
    },
    {
     "data": {
      "text/plain": [
       "48"
      ]
     },
     "metadata": {},
     "output_type": "display_data"
    },
    {
     "data": {
      "text/plain": [
       "49"
      ]
     },
     "metadata": {},
     "output_type": "display_data"
    },
    {
     "data": {
      "text/plain": [
       "50"
      ]
     },
     "metadata": {},
     "output_type": "display_data"
    },
    {
     "data": {
      "text/plain": [
       "51"
      ]
     },
     "metadata": {},
     "output_type": "display_data"
    },
    {
     "data": {
      "text/plain": [
       "52"
      ]
     },
     "metadata": {},
     "output_type": "display_data"
    },
    {
     "data": {
      "text/plain": [
       "53"
      ]
     },
     "metadata": {},
     "output_type": "display_data"
    },
    {
     "data": {
      "text/plain": [
       "54"
      ]
     },
     "metadata": {},
     "output_type": "display_data"
    },
    {
     "data": {
      "text/plain": [
       "55"
      ]
     },
     "metadata": {},
     "output_type": "display_data"
    },
    {
     "data": {
      "text/plain": [
       "56"
      ]
     },
     "metadata": {},
     "output_type": "display_data"
    },
    {
     "data": {
      "text/plain": [
       "57"
      ]
     },
     "metadata": {},
     "output_type": "display_data"
    },
    {
     "data": {
      "text/plain": [
       "58"
      ]
     },
     "metadata": {},
     "output_type": "display_data"
    },
    {
     "data": {
      "text/plain": [
       "59"
      ]
     },
     "metadata": {},
     "output_type": "display_data"
    },
    {
     "data": {
      "text/plain": [
       "60"
      ]
     },
     "metadata": {},
     "output_type": "display_data"
    },
    {
     "name": "stderr",
     "output_type": "stream",
     "text": [
      "┌ Info: Saved animation to \n",
      "│   fn = /home/vojta/data/agents/warehouse2/cbs_warehouse_3_2_2.mp4\n",
      "└ @ Plots /home/vojta/.julia/packages/Plots/oZheM/src/animation.jl:104\n"
     ]
    }
   ],
   "source": [
    "warehouse = init_warehouse()\n",
    "display(warehouse.properties)\n",
    "anim = @animate for i in 0:60\n",
    "    # p1 = plotabm(warehouse;am=(x,y)->:circle,as=robot_sizes,ac=robot_colors,x=p[:,2],y=p[:,1],curves=false,arrow=true,curvature_scalar=cs,size=(1000,1000))\n",
    "#     p1 = plotabm(warehouse;am=(x,y)->:rect,as=robot_sizes,ac=robot_colors,x=p[:,2],y=p[:,1],curves=false,arrow=false,curvature_scalar=cs,size=(2000,2000),linealpha=0.5,markerstrokewidth=0.0)\n",
    "    p1 = plot_warehouse()\n",
    "    display(i)    \n",
    "    title!(p1, \"step:$(i),packages to dispatch:$(length(warehouse.properties[:package_list]))\")\n",
    "    if terminate_warehouse_sim(warehouse,i)\n",
    "        # gif(anim, \"warehouse_$(m)_$(n)_$(n_agents).mp4\", fps = 4)\n",
    "        break\n",
    "    end\n",
    "    step!(warehouse, robot_step!,warehouse_step!, 1)\n",
    "end\n",
    "gif(anim, \"cbs_warehouse_$(m)_$(n)_$(n_agents).mp4\", fps = 4);"
   ]
  }
 ],
 "metadata": {
  "kernelspec": {
   "display_name": "Julia 1.6.1",
   "language": "julia",
   "name": "julia-1.6"
  },
  "language_info": {
   "file_extension": ".jl",
   "mimetype": "application/julia",
   "name": "julia",
   "version": "1.6.1"
  }
 },
 "nbformat": 4,
 "nbformat_minor": 5
}
