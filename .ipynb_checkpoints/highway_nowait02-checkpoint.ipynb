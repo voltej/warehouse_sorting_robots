{
 "cells": [
  {
   "cell_type": "code",
   "execution_count": 1,
   "metadata": {},
   "outputs": [],
   "source": [
    "using Agents, Plots, LightGraphs, GraphRecipes, MetaGraphs, Random\n",
    "include(\"src/warehouse.jl\")\n",
    "include(\"src/highway.jl\");"
   ]
  },
  {
   "cell_type": "markdown",
   "metadata": {},
   "source": [
    "# Init Warehouse"
   ]
  },
  {
   "cell_type": "code",
   "execution_count": 2,
   "metadata": {},
   "outputs": [
    {
     "data": {
      "text/plain": [
       "init_robots_3x3_2 (generic function with 1 method)"
      ]
     },
     "execution_count": 2,
     "metadata": {},
     "output_type": "execute_result"
    }
   ],
   "source": [
    "function init_warehouse(g,p,d,n_packages,load_spots;seed=1234)\n",
    "    Random.seed!(seed)\n",
    "\n",
    "    \n",
    "    package_list = rand(1:length(d),n_packages);\n",
    "\n",
    "    warehouse_space = GraphSpace(g)\n",
    "    model_props = Dict(:package_list=>package_list,\n",
    "    :load_spot=>load_spots,\n",
    "    :last_spot=> length(load_spots),\n",
    "    :dest_spot=>d,\n",
    "    :graph => g,\n",
    "    :step => 1,\n",
    "    :check_next_step => true,\n",
    "    :used_load_spots=>zeros(Int,(length(load_spots))))\n",
    "\n",
    "    warehouse = ABM(Robot, warehouse_space;properties= model_props)\n",
    "\n",
    "    return warehouse\n",
    "end\n",
    "\n",
    "function init_robots_3x3_2(warehouse)\n",
    "    add_agent!(Robot(1,2,0,1,[]),2, warehouse)\n",
    "    add_agent!(Robot(2,6,0,1,[]),6, warehouse)\n",
    "end"
   ]
  },
  {
   "cell_type": "code",
   "execution_count": 3,
   "metadata": {},
   "outputs": [],
   "source": [
    "pl(model) = Vector(model.package_list);\n",
    "adata = [:pos, :dest,:head]\n",
    "mdata =[:last_spot,pl];"
   ]
  },
  {
   "cell_type": "code",
   "execution_count": 4,
   "metadata": {},
   "outputs": [
    {
     "data": {
      "text/plain": [
       "ExperimentDefinition(3, 3, 10, SimpleDiGraph, init_warehouse, init_robots_3x3_2, [8, 12])"
      ]
     },
     "execution_count": 4,
     "metadata": {},
     "output_type": "execute_result"
    }
   ],
   "source": [
    "struct ExperimentDefinition{}\n",
    "    m::Int\n",
    "    n::Int\n",
    "    n_packages::Int\n",
    "    graph_type\n",
    "    init_warehouse\n",
    "    init_robots\n",
    "    load_spots::Vector{Int64}  \n",
    "end\n",
    "ed01 = ExperimentDefinition(3,3,10,SimpleDiGraph,init_warehouse,init_robots_3x3_2,[8,12])"
   ]
  },
  {
   "cell_type": "code",
   "execution_count": 5,
   "metadata": {},
   "outputs": [
    {
     "data": {
      "text/plain": [
       "init_experiment (generic function with 1 method)"
      ]
     },
     "execution_count": 5,
     "metadata": {},
     "output_type": "execute_result"
    }
   ],
   "source": [
    "function init_experiment(ed::ExperimentDefinition;factor=2)\n",
    "    m,n,n_packages,graph_type,init_warehouse,init_robots,load_spots = ed.m,ed.n,ed.n_packages,ed.graph_type,ed.init_warehouse,ed.init_robots,ed.load_spots\n",
    "    \n",
    "    g,p,d = generate_warehouse_struct(m,n,graph_type=graph_type)\n",
    "    \n",
    "    warehouse= init_warehouse(g,p,d,n_packages,load_spots;seed=1234)\n",
    "    init_robots(warehouse)\n",
    "    \n",
    "    model_props = warehouse.properties    \n",
    "    dest_spot_grid = model_props[:dest_spot].-(2*n+1)\n",
    "    robot_colors = (x,y)-> robot_colors_spots(x,y,model_props[:load_spot],dest_spot_grid)\n",
    "    robot_sizes = (x,y,z) -> robot_sizes_spots(x,y,z,model_props[:load_spot],model_props[:dest_spot],dest_spot_grid,factor)\n",
    "    cs=fill(0.05, nv(g), nv(g));\n",
    "    plot_warehouse = ()-> plotabm(warehouse;am=(x,y)->:rect,as=robot_sizes,ac=robot_colors,x=p[:,2],y=p[:,1],curves=false,curvature_scalar=cs,size=(750,750),linealpha=0.5,markerstrokewidth=0.0,arrow=true);\n",
    "    \n",
    "    return warehouse, plot_warehouse\n",
    "end"
   ]
  },
  {
   "cell_type": "code",
   "execution_count": 6,
   "metadata": {},
   "outputs": [],
   "source": [
    "warehouse,plot_warehouse = init_experiment(ed01);"
   ]
  },
  {
   "cell_type": "code",
   "execution_count": 7,
   "metadata": {},
   "outputs": [
    {
     "data": {
      "image/svg+xml": [
       "<?xml version=\"1.0\" encoding=\"utf-8\"?>\n",
       "<svg xmlns=\"http://www.w3.org/2000/svg\" xmlns:xlink=\"http://www.w3.org/1999/xlink\" width=\"750\" height=\"750\" viewBox=\"0 0 3000 3000\">\n",
       "<defs>\n",
       "  <clipPath id=\"clip900\">\n",
       "    <rect x=\"0\" y=\"0\" width=\"3000\" height=\"3000\"/>\n",
       "  </clipPath>\n",
       "</defs>\n",
       "<path clip-path=\"url(#clip900)\" d=\"\n",
       "M0 3000 L3000 3000 L3000 0 L0 0  Z\n",
       "  \" fill=\"#ffffff\" fill-rule=\"evenodd\" fill-opacity=\"1\"/>\n",
       "<defs>\n",
       "  <clipPath id=\"clip901\">\n",
       "    <rect x=\"600\" y=\"300\" width=\"2101\" height=\"2101\"/>\n",
       "  </clipPath>\n",
       "</defs>\n",
       "<path clip-path=\"url(#clip900)\" d=\"\n",
       "M92.9921 2907.01 L2952.76 2907.01 L2952.76 47.2441 L92.9921 47.2441  Z\n",
       "  \" fill=\"#ffffff\" fill-rule=\"evenodd\" fill-opacity=\"1\"/>\n",
       "<defs>\n",
       "  <clipPath id=\"clip902\">\n",
       "    <rect x=\"92\" y=\"47\" width=\"2861\" height=\"2861\"/>\n",
       "  </clipPath>\n",
       "</defs>\n",
       "<polyline clip-path=\"url(#clip902)\" style=\"stroke:#000000; stroke-width:4; stroke-opacity:0.5; fill:none\" points=\"\n",
       "  501.53,2498.47 503.232,2175.04 \n",
       "  \"/>\n",
       "<polyline clip-path=\"url(#clip902)\" style=\"stroke:#000000; stroke-width:4; stroke-opacity:0.5; fill:none\" points=\"\n",
       "  480.496,2219.93 503.232,2175.04 525.495,2220.16 \n",
       "  \"/>\n",
       "<polyline clip-path=\"url(#clip902)\" style=\"stroke:#000000; stroke-width:4; stroke-opacity:0.5; fill:none\" points=\"\n",
       "  503.232,2175.04 501.53,2498.47 \n",
       "  \"/>\n",
       "<polyline clip-path=\"url(#clip902)\" style=\"stroke:#000000; stroke-width:4; stroke-opacity:0.5; fill:none\" points=\"\n",
       "  841.978,2498.47 518.552,2496.77 \n",
       "  \"/>\n",
       "<polyline clip-path=\"url(#clip902)\" style=\"stroke:#000000; stroke-width:4; stroke-opacity:0.5; fill:none\" points=\"\n",
       "  563.433,2519.5 518.552,2496.77 563.67,2474.51 \n",
       "  \"/>\n",
       "<polyline clip-path=\"url(#clip902)\" style=\"stroke:#000000; stroke-width:4; stroke-opacity:0.5; fill:none\" points=\"\n",
       "  518.552,2496.77 841.978,2498.47 \n",
       "  \"/>\n",
       "<polyline clip-path=\"url(#clip902)\" style=\"stroke:#000000; stroke-width:4; stroke-opacity:0.5; fill:none\" points=\"\n",
       "  1182.43,2498.47 893.045,2493.36 \n",
       "  \"/>\n",
       "<polyline clip-path=\"url(#clip902)\" style=\"stroke:#000000; stroke-width:4; stroke-opacity:0.5; fill:none\" points=\"\n",
       "  937.641,2516.65 893.045,2493.36 938.435,2471.66 \n",
       "  \"/>\n",
       "<polyline clip-path=\"url(#clip902)\" style=\"stroke:#000000; stroke-width:4; stroke-opacity:0.5; fill:none\" points=\"\n",
       "  893.045,2493.36 1182.43,2498.47 \n",
       "  \"/>\n",
       "<polyline clip-path=\"url(#clip902)\" style=\"stroke:#000000; stroke-width:4; stroke-opacity:0.5; fill:none\" points=\"\n",
       "  1522.87,2498.47 1199.45,2496.77 \n",
       "  \"/>\n",
       "<polyline clip-path=\"url(#clip902)\" style=\"stroke:#000000; stroke-width:4; stroke-opacity:0.5; fill:none\" points=\"\n",
       "  1244.33,2519.5 1199.45,2496.77 1244.57,2474.51 \n",
       "  \"/>\n",
       "<polyline clip-path=\"url(#clip902)\" style=\"stroke:#000000; stroke-width:4; stroke-opacity:0.5; fill:none\" points=\"\n",
       "  1199.45,2496.77 1522.87,2498.47 \n",
       "  \"/>\n",
       "<polyline clip-path=\"url(#clip902)\" style=\"stroke:#000000; stroke-width:4; stroke-opacity:0.5; fill:none\" points=\"\n",
       "  1863.32,2498.47 1539.9,2496.77 \n",
       "  \"/>\n",
       "<polyline clip-path=\"url(#clip902)\" style=\"stroke:#000000; stroke-width:4; stroke-opacity:0.5; fill:none\" points=\"\n",
       "  1584.78,2519.5 1539.9,2496.77 1585.01,2474.51 \n",
       "  \"/>\n",
       "<polyline clip-path=\"url(#clip902)\" style=\"stroke:#000000; stroke-width:4; stroke-opacity:0.5; fill:none\" points=\"\n",
       "  1539.9,2496.77 1863.32,2498.47 \n",
       "  \"/>\n",
       "<polyline clip-path=\"url(#clip902)\" style=\"stroke:#000000; stroke-width:4; stroke-opacity:0.5; fill:none\" points=\"\n",
       "  1863.32,2498.47 1865.02,2175.04 \n",
       "  \"/>\n",
       "<polyline clip-path=\"url(#clip902)\" style=\"stroke:#000000; stroke-width:4; stroke-opacity:0.5; fill:none\" points=\"\n",
       "  1842.29,2219.93 1865.02,2175.04 1887.29,2220.16 \n",
       "  \"/>\n",
       "<polyline clip-path=\"url(#clip902)\" style=\"stroke:#000000; stroke-width:4; stroke-opacity:0.5; fill:none\" points=\"\n",
       "  1865.02,2175.04 1863.32,2498.47 \n",
       "  \"/>\n",
       "<polyline clip-path=\"url(#clip902)\" style=\"stroke:#000000; stroke-width:4; stroke-opacity:0.5; fill:none\" points=\"\n",
       "  2203.77,2498.47 1880.34,2496.77 \n",
       "  \"/>\n",
       "<polyline clip-path=\"url(#clip902)\" style=\"stroke:#000000; stroke-width:4; stroke-opacity:0.5; fill:none\" points=\"\n",
       "  1925.23,2519.5 1880.34,2496.77 1925.46,2474.51 \n",
       "  \"/>\n",
       "<polyline clip-path=\"url(#clip902)\" style=\"stroke:#000000; stroke-width:4; stroke-opacity:0.5; fill:none\" points=\"\n",
       "  1880.34,2496.77 2203.77,2498.47 \n",
       "  \"/>\n",
       "<polyline clip-path=\"url(#clip902)\" style=\"stroke:#000000; stroke-width:4; stroke-opacity:0.5; fill:none\" points=\"\n",
       "  2544.22,2498.47 2254.84,2493.36 \n",
       "  \"/>\n",
       "<polyline clip-path=\"url(#clip902)\" style=\"stroke:#000000; stroke-width:4; stroke-opacity:0.5; fill:none\" points=\"\n",
       "  2299.43,2516.65 2254.84,2493.36 2300.23,2471.66 \n",
       "  \"/>\n",
       "<polyline clip-path=\"url(#clip902)\" style=\"stroke:#000000; stroke-width:4; stroke-opacity:0.5; fill:none\" points=\"\n",
       "  2254.84,2493.36 2544.22,2498.47 \n",
       "  \"/>\n",
       "<polyline clip-path=\"url(#clip902)\" style=\"stroke:#000000; stroke-width:4; stroke-opacity:0.5; fill:none\" points=\"\n",
       "  501.53,2158.02 503.232,1834.6 \n",
       "  \"/>\n",
       "<polyline clip-path=\"url(#clip902)\" style=\"stroke:#000000; stroke-width:4; stroke-opacity:0.5; fill:none\" points=\"\n",
       "  480.496,1879.48 503.232,1834.6 525.495,1879.71 \n",
       "  \"/>\n",
       "<polyline clip-path=\"url(#clip902)\" style=\"stroke:#000000; stroke-width:4; stroke-opacity:0.5; fill:none\" points=\"\n",
       "  503.232,1834.6 501.53,2158.02 \n",
       "  \"/>\n",
       "<polyline clip-path=\"url(#clip902)\" style=\"stroke:#000000; stroke-width:4; stroke-opacity:0.5; fill:none\" points=\"\n",
       "  1182.43,2158.02 1184.13,2481.45 \n",
       "  \"/>\n",
       "<polyline clip-path=\"url(#clip902)\" style=\"stroke:#000000; stroke-width:4; stroke-opacity:0.5; fill:none\" points=\"\n",
       "  1206.39,2436.33 1184.13,2481.45 1161.39,2436.57 \n",
       "  \"/>\n",
       "<polyline clip-path=\"url(#clip902)\" style=\"stroke:#000000; stroke-width:4; stroke-opacity:0.5; fill:none\" points=\"\n",
       "  1184.13,2481.45 1182.43,2158.02 \n",
       "  \"/>\n",
       "<polyline clip-path=\"url(#clip902)\" style=\"stroke:#000000; stroke-width:4; stroke-opacity:0.5; fill:none\" points=\"\n",
       "  1863.32,2158.02 1865.02,1834.6 \n",
       "  \"/>\n",
       "<polyline clip-path=\"url(#clip902)\" style=\"stroke:#000000; stroke-width:4; stroke-opacity:0.5; fill:none\" points=\"\n",
       "  1842.29,1879.48 1865.02,1834.6 1887.29,1879.71 \n",
       "  \"/>\n",
       "<polyline clip-path=\"url(#clip902)\" style=\"stroke:#000000; stroke-width:4; stroke-opacity:0.5; fill:none\" points=\"\n",
       "  1865.02,1834.6 1863.32,2158.02 \n",
       "  \"/>\n",
       "<polyline clip-path=\"url(#clip902)\" style=\"stroke:#000000; stroke-width:4; stroke-opacity:0.5; fill:none\" points=\"\n",
       "  2544.22,2158.02 2545.92,2481.45 \n",
       "  \"/>\n",
       "<polyline clip-path=\"url(#clip902)\" style=\"stroke:#000000; stroke-width:4; stroke-opacity:0.5; fill:none\" points=\"\n",
       "  2568.18,2436.33 2545.92,2481.45 2523.18,2436.57 \n",
       "  \"/>\n",
       "<polyline clip-path=\"url(#clip902)\" style=\"stroke:#000000; stroke-width:4; stroke-opacity:0.5; fill:none\" points=\"\n",
       "  2545.92,2481.45 2544.22,2158.02 \n",
       "  \"/>\n",
       "<polyline clip-path=\"url(#clip902)\" style=\"stroke:#000000; stroke-width:4; stroke-opacity:0.5; fill:none\" points=\"\n",
       "  501.53,1817.57 824.955,1819.28 \n",
       "  \"/>\n",
       "<polyline clip-path=\"url(#clip902)\" style=\"stroke:#000000; stroke-width:4; stroke-opacity:0.5; fill:none\" points=\"\n",
       "  780.075,1796.54 824.955,1819.28 779.838,1841.54 \n",
       "  \"/>\n",
       "<polyline clip-path=\"url(#clip902)\" style=\"stroke:#000000; stroke-width:4; stroke-opacity:0.5; fill:none\" points=\"\n",
       "  824.955,1819.28 501.53,1817.57 \n",
       "  \"/>\n",
       "<polyline clip-path=\"url(#clip902)\" style=\"stroke:#000000; stroke-width:4; stroke-opacity:0.5; fill:none\" points=\"\n",
       "  501.53,1817.57 503.232,1494.15 \n",
       "  \"/>\n",
       "<polyline clip-path=\"url(#clip902)\" style=\"stroke:#000000; stroke-width:4; stroke-opacity:0.5; fill:none\" points=\"\n",
       "  480.496,1539.03 503.232,1494.15 525.495,1539.27 \n",
       "  \"/>\n",
       "<polyline clip-path=\"url(#clip902)\" style=\"stroke:#000000; stroke-width:4; stroke-opacity:0.5; fill:none\" points=\"\n",
       "  503.232,1494.15 501.53,1817.57 \n",
       "  \"/>\n",
       "<polyline clip-path=\"url(#clip902)\" style=\"stroke:#000000; stroke-width:4; stroke-opacity:0.5; fill:none\" points=\"\n",
       "  841.978,1817.57 1165.4,1819.28 \n",
       "  \"/>\n",
       "<polyline clip-path=\"url(#clip902)\" style=\"stroke:#000000; stroke-width:4; stroke-opacity:0.5; fill:none\" points=\"\n",
       "  1120.52,1796.54 1165.4,1819.28 1120.29,1841.54 \n",
       "  \"/>\n",
       "<polyline clip-path=\"url(#clip902)\" style=\"stroke:#000000; stroke-width:4; stroke-opacity:0.5; fill:none\" points=\"\n",
       "  1165.4,1819.28 841.978,1817.57 \n",
       "  \"/>\n",
       "<polyline clip-path=\"url(#clip902)\" style=\"stroke:#000000; stroke-width:4; stroke-opacity:0.5; fill:none\" points=\"\n",
       "  1182.43,1817.57 1184.13,2141 \n",
       "  \"/>\n",
       "<polyline clip-path=\"url(#clip902)\" style=\"stroke:#000000; stroke-width:4; stroke-opacity:0.5; fill:none\" points=\"\n",
       "  1206.39,2095.88 1184.13,2141 1161.39,2096.12 \n",
       "  \"/>\n",
       "<polyline clip-path=\"url(#clip902)\" style=\"stroke:#000000; stroke-width:4; stroke-opacity:0.5; fill:none\" points=\"\n",
       "  1184.13,2141 1182.43,1817.57 \n",
       "  \"/>\n",
       "<polyline clip-path=\"url(#clip902)\" style=\"stroke:#000000; stroke-width:4; stroke-opacity:0.5; fill:none\" points=\"\n",
       "  1182.43,1817.57 1505.85,1819.28 \n",
       "  \"/>\n",
       "<polyline clip-path=\"url(#clip902)\" style=\"stroke:#000000; stroke-width:4; stroke-opacity:0.5; fill:none\" points=\"\n",
       "  1460.97,1796.54 1505.85,1819.28 1460.73,1841.54 \n",
       "  \"/>\n",
       "<polyline clip-path=\"url(#clip902)\" style=\"stroke:#000000; stroke-width:4; stroke-opacity:0.5; fill:none\" points=\"\n",
       "  1505.85,1819.28 1182.43,1817.57 \n",
       "  \"/>\n",
       "<polyline clip-path=\"url(#clip902)\" style=\"stroke:#000000; stroke-width:4; stroke-opacity:0.5; fill:none\" points=\"\n",
       "  1522.87,1817.57 1846.3,1819.28 \n",
       "  \"/>\n",
       "<polyline clip-path=\"url(#clip902)\" style=\"stroke:#000000; stroke-width:4; stroke-opacity:0.5; fill:none\" points=\"\n",
       "  1801.42,1796.54 1846.3,1819.28 1801.18,1841.54 \n",
       "  \"/>\n",
       "<polyline clip-path=\"url(#clip902)\" style=\"stroke:#000000; stroke-width:4; stroke-opacity:0.5; fill:none\" points=\"\n",
       "  1846.3,1819.28 1522.87,1817.57 \n",
       "  \"/>\n",
       "<polyline clip-path=\"url(#clip902)\" style=\"stroke:#000000; stroke-width:4; stroke-opacity:0.5; fill:none\" points=\"\n",
       "  1863.32,1817.57 2186.75,1819.28 \n",
       "  \"/>\n",
       "<polyline clip-path=\"url(#clip902)\" style=\"stroke:#000000; stroke-width:4; stroke-opacity:0.5; fill:none\" points=\"\n",
       "  2141.87,1796.54 2186.75,1819.28 2141.63,1841.54 \n",
       "  \"/>\n",
       "<polyline clip-path=\"url(#clip902)\" style=\"stroke:#000000; stroke-width:4; stroke-opacity:0.5; fill:none\" points=\"\n",
       "  2186.75,1819.28 1863.32,1817.57 \n",
       "  \"/>\n",
       "<polyline clip-path=\"url(#clip902)\" style=\"stroke:#000000; stroke-width:4; stroke-opacity:0.5; fill:none\" points=\"\n",
       "  1863.32,1817.57 1865.02,1494.15 \n",
       "  \"/>\n",
       "<polyline clip-path=\"url(#clip902)\" style=\"stroke:#000000; stroke-width:4; stroke-opacity:0.5; fill:none\" points=\"\n",
       "  1842.29,1539.03 1865.02,1494.15 1887.29,1539.27 \n",
       "  \"/>\n",
       "<polyline clip-path=\"url(#clip902)\" style=\"stroke:#000000; stroke-width:4; stroke-opacity:0.5; fill:none\" points=\"\n",
       "  1865.02,1494.15 1863.32,1817.57 \n",
       "  \"/>\n",
       "<polyline clip-path=\"url(#clip902)\" style=\"stroke:#000000; stroke-width:4; stroke-opacity:0.5; fill:none\" points=\"\n",
       "  2203.77,1817.57 2527.2,1819.28 \n",
       "  \"/>\n",
       "<polyline clip-path=\"url(#clip902)\" style=\"stroke:#000000; stroke-width:4; stroke-opacity:0.5; fill:none\" points=\"\n",
       "  2482.31,1796.54 2527.2,1819.28 2482.08,1841.54 \n",
       "  \"/>\n",
       "<polyline clip-path=\"url(#clip902)\" style=\"stroke:#000000; stroke-width:4; stroke-opacity:0.5; fill:none\" points=\"\n",
       "  2527.2,1819.28 2203.77,1817.57 \n",
       "  \"/>\n",
       "<polyline clip-path=\"url(#clip902)\" style=\"stroke:#000000; stroke-width:4; stroke-opacity:0.5; fill:none\" points=\"\n",
       "  2544.22,1817.57 2545.92,2141 \n",
       "  \"/>\n",
       "<polyline clip-path=\"url(#clip902)\" style=\"stroke:#000000; stroke-width:4; stroke-opacity:0.5; fill:none\" points=\"\n",
       "  2568.18,2095.88 2545.92,2141 2523.18,2096.12 \n",
       "  \"/>\n",
       "<polyline clip-path=\"url(#clip902)\" style=\"stroke:#000000; stroke-width:4; stroke-opacity:0.5; fill:none\" points=\"\n",
       "  2545.92,2141 2544.22,1817.57 \n",
       "  \"/>\n",
       "<polyline clip-path=\"url(#clip902)\" style=\"stroke:#000000; stroke-width:4; stroke-opacity:0.5; fill:none\" points=\"\n",
       "  501.53,1477.13 503.232,1153.7 \n",
       "  \"/>\n",
       "<polyline clip-path=\"url(#clip902)\" style=\"stroke:#000000; stroke-width:4; stroke-opacity:0.5; fill:none\" points=\"\n",
       "  480.496,1198.58 503.232,1153.7 525.495,1198.82 \n",
       "  \"/>\n",
       "<polyline clip-path=\"url(#clip902)\" style=\"stroke:#000000; stroke-width:4; stroke-opacity:0.5; fill:none\" points=\"\n",
       "  503.232,1153.7 501.53,1477.13 \n",
       "  \"/>\n",
       "<polyline clip-path=\"url(#clip902)\" style=\"stroke:#000000; stroke-width:4; stroke-opacity:0.5; fill:none\" points=\"\n",
       "  1182.43,1477.13 1184.13,1800.55 \n",
       "  \"/>\n",
       "<polyline clip-path=\"url(#clip902)\" style=\"stroke:#000000; stroke-width:4; stroke-opacity:0.5; fill:none\" points=\"\n",
       "  1206.39,1755.43 1184.13,1800.55 1161.39,1755.67 \n",
       "  \"/>\n",
       "<polyline clip-path=\"url(#clip902)\" style=\"stroke:#000000; stroke-width:4; stroke-opacity:0.5; fill:none\" points=\"\n",
       "  1184.13,1800.55 1182.43,1477.13 \n",
       "  \"/>\n",
       "<polyline clip-path=\"url(#clip902)\" style=\"stroke:#000000; stroke-width:4; stroke-opacity:0.5; fill:none\" points=\"\n",
       "  1863.32,1477.13 1865.02,1153.7 \n",
       "  \"/>\n",
       "<polyline clip-path=\"url(#clip902)\" style=\"stroke:#000000; stroke-width:4; stroke-opacity:0.5; fill:none\" points=\"\n",
       "  1842.29,1198.58 1865.02,1153.7 1887.29,1198.82 \n",
       "  \"/>\n",
       "<polyline clip-path=\"url(#clip902)\" style=\"stroke:#000000; stroke-width:4; stroke-opacity:0.5; fill:none\" points=\"\n",
       "  1865.02,1153.7 1863.32,1477.13 \n",
       "  \"/>\n",
       "<polyline clip-path=\"url(#clip902)\" style=\"stroke:#000000; stroke-width:4; stroke-opacity:0.5; fill:none\" points=\"\n",
       "  2544.22,1477.13 2545.92,1800.55 \n",
       "  \"/>\n",
       "<polyline clip-path=\"url(#clip902)\" style=\"stroke:#000000; stroke-width:4; stroke-opacity:0.5; fill:none\" points=\"\n",
       "  2568.18,1755.43 2545.92,1800.55 2523.18,1755.67 \n",
       "  \"/>\n",
       "<polyline clip-path=\"url(#clip902)\" style=\"stroke:#000000; stroke-width:4; stroke-opacity:0.5; fill:none\" points=\"\n",
       "  2545.92,1800.55 2544.22,1477.13 \n",
       "  \"/>\n",
       "<polyline clip-path=\"url(#clip902)\" style=\"stroke:#000000; stroke-width:4; stroke-opacity:0.5; fill:none\" points=\"\n",
       "  501.53,1136.68 503.232,813.252 \n",
       "  \"/>\n",
       "<polyline clip-path=\"url(#clip902)\" style=\"stroke:#000000; stroke-width:4; stroke-opacity:0.5; fill:none\" points=\"\n",
       "  480.496,858.133 503.232,813.252 525.495,858.37 \n",
       "  \"/>\n",
       "<polyline clip-path=\"url(#clip902)\" style=\"stroke:#000000; stroke-width:4; stroke-opacity:0.5; fill:none\" points=\"\n",
       "  503.232,813.252 501.53,1136.68 \n",
       "  \"/>\n",
       "<polyline clip-path=\"url(#clip902)\" style=\"stroke:#000000; stroke-width:4; stroke-opacity:0.5; fill:none\" points=\"\n",
       "  841.978,1136.68 518.552,1134.98 \n",
       "  \"/>\n",
       "<polyline clip-path=\"url(#clip902)\" style=\"stroke:#000000; stroke-width:4; stroke-opacity:0.5; fill:none\" points=\"\n",
       "  563.433,1157.71 518.552,1134.98 563.67,1112.71 \n",
       "  \"/>\n",
       "<polyline clip-path=\"url(#clip902)\" style=\"stroke:#000000; stroke-width:4; stroke-opacity:0.5; fill:none\" points=\"\n",
       "  518.552,1134.98 841.978,1136.68 \n",
       "  \"/>\n",
       "<polyline clip-path=\"url(#clip902)\" style=\"stroke:#000000; stroke-width:4; stroke-opacity:0.5; fill:none\" points=\"\n",
       "  1182.43,1136.68 1184.13,1460.1 \n",
       "  \"/>\n",
       "<polyline clip-path=\"url(#clip902)\" style=\"stroke:#000000; stroke-width:4; stroke-opacity:0.5; fill:none\" points=\"\n",
       "  1206.39,1414.99 1184.13,1460.1 1161.39,1415.22 \n",
       "  \"/>\n",
       "<polyline clip-path=\"url(#clip902)\" style=\"stroke:#000000; stroke-width:4; stroke-opacity:0.5; fill:none\" points=\"\n",
       "  1184.13,1460.1 1182.43,1136.68 \n",
       "  \"/>\n",
       "<polyline clip-path=\"url(#clip902)\" style=\"stroke:#000000; stroke-width:4; stroke-opacity:0.5; fill:none\" points=\"\n",
       "  1182.43,1136.68 859,1134.98 \n",
       "  \"/>\n",
       "<polyline clip-path=\"url(#clip902)\" style=\"stroke:#000000; stroke-width:4; stroke-opacity:0.5; fill:none\" points=\"\n",
       "  903.881,1157.71 859,1134.98 904.118,1112.71 \n",
       "  \"/>\n",
       "<polyline clip-path=\"url(#clip902)\" style=\"stroke:#000000; stroke-width:4; stroke-opacity:0.5; fill:none\" points=\"\n",
       "  859,1134.98 1182.43,1136.68 \n",
       "  \"/>\n",
       "<polyline clip-path=\"url(#clip902)\" style=\"stroke:#000000; stroke-width:4; stroke-opacity:0.5; fill:none\" points=\"\n",
       "  1522.87,1136.68 1199.45,1134.98 \n",
       "  \"/>\n",
       "<polyline clip-path=\"url(#clip902)\" style=\"stroke:#000000; stroke-width:4; stroke-opacity:0.5; fill:none\" points=\"\n",
       "  1244.33,1157.71 1199.45,1134.98 1244.57,1112.71 \n",
       "  \"/>\n",
       "<polyline clip-path=\"url(#clip902)\" style=\"stroke:#000000; stroke-width:4; stroke-opacity:0.5; fill:none\" points=\"\n",
       "  1199.45,1134.98 1522.87,1136.68 \n",
       "  \"/>\n",
       "<polyline clip-path=\"url(#clip902)\" style=\"stroke:#000000; stroke-width:4; stroke-opacity:0.5; fill:none\" points=\"\n",
       "  1863.32,1136.68 1539.9,1134.98 \n",
       "  \"/>\n",
       "<polyline clip-path=\"url(#clip902)\" style=\"stroke:#000000; stroke-width:4; stroke-opacity:0.5; fill:none\" points=\"\n",
       "  1584.78,1157.71 1539.9,1134.98 1585.01,1112.71 \n",
       "  \"/>\n",
       "<polyline clip-path=\"url(#clip902)\" style=\"stroke:#000000; stroke-width:4; stroke-opacity:0.5; fill:none\" points=\"\n",
       "  1539.9,1134.98 1863.32,1136.68 \n",
       "  \"/>\n",
       "<polyline clip-path=\"url(#clip902)\" style=\"stroke:#000000; stroke-width:4; stroke-opacity:0.5; fill:none\" points=\"\n",
       "  1863.32,1136.68 1865.02,813.252 \n",
       "  \"/>\n",
       "<polyline clip-path=\"url(#clip902)\" style=\"stroke:#000000; stroke-width:4; stroke-opacity:0.5; fill:none\" points=\"\n",
       "  1842.29,858.133 1865.02,813.252 1887.29,858.37 \n",
       "  \"/>\n",
       "<polyline clip-path=\"url(#clip902)\" style=\"stroke:#000000; stroke-width:4; stroke-opacity:0.5; fill:none\" points=\"\n",
       "  1865.02,813.252 1863.32,1136.68 \n",
       "  \"/>\n",
       "<polyline clip-path=\"url(#clip902)\" style=\"stroke:#000000; stroke-width:4; stroke-opacity:0.5; fill:none\" points=\"\n",
       "  2203.77,1136.68 1880.34,1134.98 \n",
       "  \"/>\n",
       "<polyline clip-path=\"url(#clip902)\" style=\"stroke:#000000; stroke-width:4; stroke-opacity:0.5; fill:none\" points=\"\n",
       "  1925.23,1157.71 1880.34,1134.98 1925.46,1112.71 \n",
       "  \"/>\n",
       "<polyline clip-path=\"url(#clip902)\" style=\"stroke:#000000; stroke-width:4; stroke-opacity:0.5; fill:none\" points=\"\n",
       "  1880.34,1134.98 2203.77,1136.68 \n",
       "  \"/>\n",
       "<polyline clip-path=\"url(#clip902)\" style=\"stroke:#000000; stroke-width:4; stroke-opacity:0.5; fill:none\" points=\"\n",
       "  2544.22,1136.68 2545.92,1460.1 \n",
       "  \"/>\n",
       "<polyline clip-path=\"url(#clip902)\" style=\"stroke:#000000; stroke-width:4; stroke-opacity:0.5; fill:none\" points=\"\n",
       "  2568.18,1414.99 2545.92,1460.1 2523.18,1415.22 \n",
       "  \"/>\n",
       "<polyline clip-path=\"url(#clip902)\" style=\"stroke:#000000; stroke-width:4; stroke-opacity:0.5; fill:none\" points=\"\n",
       "  2545.92,1460.1 2544.22,1136.68 \n",
       "  \"/>\n",
       "<polyline clip-path=\"url(#clip902)\" style=\"stroke:#000000; stroke-width:4; stroke-opacity:0.5; fill:none\" points=\"\n",
       "  2544.22,1136.68 2220.79,1134.98 \n",
       "  \"/>\n",
       "<polyline clip-path=\"url(#clip902)\" style=\"stroke:#000000; stroke-width:4; stroke-opacity:0.5; fill:none\" points=\"\n",
       "  2265.67,1157.71 2220.79,1134.98 2265.91,1112.71 \n",
       "  \"/>\n",
       "<polyline clip-path=\"url(#clip902)\" style=\"stroke:#000000; stroke-width:4; stroke-opacity:0.5; fill:none\" points=\"\n",
       "  2220.79,1134.98 2544.22,1136.68 \n",
       "  \"/>\n",
       "<polyline clip-path=\"url(#clip902)\" style=\"stroke:#000000; stroke-width:4; stroke-opacity:0.5; fill:none\" points=\"\n",
       "  501.53,796.23 503.232,472.804 \n",
       "  \"/>\n",
       "<polyline clip-path=\"url(#clip902)\" style=\"stroke:#000000; stroke-width:4; stroke-opacity:0.5; fill:none\" points=\"\n",
       "  480.496,517.685 503.232,472.804 525.495,517.922 \n",
       "  \"/>\n",
       "<polyline clip-path=\"url(#clip902)\" style=\"stroke:#000000; stroke-width:4; stroke-opacity:0.5; fill:none\" points=\"\n",
       "  503.232,472.804 501.53,796.23 \n",
       "  \"/>\n",
       "<polyline clip-path=\"url(#clip902)\" style=\"stroke:#000000; stroke-width:4; stroke-opacity:0.5; fill:none\" points=\"\n",
       "  1182.43,796.23 1184.13,1119.66 \n",
       "  \"/>\n",
       "<polyline clip-path=\"url(#clip902)\" style=\"stroke:#000000; stroke-width:4; stroke-opacity:0.5; fill:none\" points=\"\n",
       "  1206.39,1074.54 1184.13,1119.66 1161.39,1074.77 \n",
       "  \"/>\n",
       "<polyline clip-path=\"url(#clip902)\" style=\"stroke:#000000; stroke-width:4; stroke-opacity:0.5; fill:none\" points=\"\n",
       "  1184.13,1119.66 1182.43,796.23 \n",
       "  \"/>\n",
       "<polyline clip-path=\"url(#clip902)\" style=\"stroke:#000000; stroke-width:4; stroke-opacity:0.5; fill:none\" points=\"\n",
       "  1863.32,796.23 1865.02,472.804 \n",
       "  \"/>\n",
       "<polyline clip-path=\"url(#clip902)\" style=\"stroke:#000000; stroke-width:4; stroke-opacity:0.5; fill:none\" points=\"\n",
       "  1842.29,517.685 1865.02,472.804 1887.29,517.922 \n",
       "  \"/>\n",
       "<polyline clip-path=\"url(#clip902)\" style=\"stroke:#000000; stroke-width:4; stroke-opacity:0.5; fill:none\" points=\"\n",
       "  1865.02,472.804 1863.32,796.23 \n",
       "  \"/>\n",
       "<polyline clip-path=\"url(#clip902)\" style=\"stroke:#000000; stroke-width:4; stroke-opacity:0.5; fill:none\" points=\"\n",
       "  2544.22,796.23 2545.92,1119.66 \n",
       "  \"/>\n",
       "<polyline clip-path=\"url(#clip902)\" style=\"stroke:#000000; stroke-width:4; stroke-opacity:0.5; fill:none\" points=\"\n",
       "  2568.18,1074.54 2545.92,1119.66 2523.18,1074.77 \n",
       "  \"/>\n",
       "<polyline clip-path=\"url(#clip902)\" style=\"stroke:#000000; stroke-width:4; stroke-opacity:0.5; fill:none\" points=\"\n",
       "  2545.92,1119.66 2544.22,796.23 \n",
       "  \"/>\n",
       "<polyline clip-path=\"url(#clip902)\" style=\"stroke:#000000; stroke-width:4; stroke-opacity:0.5; fill:none\" points=\"\n",
       "  501.53,455.782 824.955,457.484 \n",
       "  \"/>\n",
       "<polyline clip-path=\"url(#clip902)\" style=\"stroke:#000000; stroke-width:4; stroke-opacity:0.5; fill:none\" points=\"\n",
       "  780.075,434.747 824.955,457.484 779.838,479.747 \n",
       "  \"/>\n",
       "<polyline clip-path=\"url(#clip902)\" style=\"stroke:#000000; stroke-width:4; stroke-opacity:0.5; fill:none\" points=\"\n",
       "  824.955,457.484 501.53,455.782 \n",
       "  \"/>\n",
       "<polyline clip-path=\"url(#clip902)\" style=\"stroke:#000000; stroke-width:4; stroke-opacity:0.5; fill:none\" points=\"\n",
       "  841.978,455.782 1165.4,457.484 \n",
       "  \"/>\n",
       "<polyline clip-path=\"url(#clip902)\" style=\"stroke:#000000; stroke-width:4; stroke-opacity:0.5; fill:none\" points=\"\n",
       "  1120.52,434.747 1165.4,457.484 1120.29,479.747 \n",
       "  \"/>\n",
       "<polyline clip-path=\"url(#clip902)\" style=\"stroke:#000000; stroke-width:4; stroke-opacity:0.5; fill:none\" points=\"\n",
       "  1165.4,457.484 841.978,455.782 \n",
       "  \"/>\n",
       "<polyline clip-path=\"url(#clip902)\" style=\"stroke:#000000; stroke-width:4; stroke-opacity:0.5; fill:none\" points=\"\n",
       "  1182.43,455.782 1184.13,779.207 \n",
       "  \"/>\n",
       "<polyline clip-path=\"url(#clip902)\" style=\"stroke:#000000; stroke-width:4; stroke-opacity:0.5; fill:none\" points=\"\n",
       "  1206.39,734.09 1184.13,779.207 1161.39,734.326 \n",
       "  \"/>\n",
       "<polyline clip-path=\"url(#clip902)\" style=\"stroke:#000000; stroke-width:4; stroke-opacity:0.5; fill:none\" points=\"\n",
       "  1184.13,779.207 1182.43,455.782 \n",
       "  \"/>\n",
       "<polyline clip-path=\"url(#clip902)\" style=\"stroke:#000000; stroke-width:4; stroke-opacity:0.5; fill:none\" points=\"\n",
       "  1182.43,455.782 1505.85,457.484 \n",
       "  \"/>\n",
       "<polyline clip-path=\"url(#clip902)\" style=\"stroke:#000000; stroke-width:4; stroke-opacity:0.5; fill:none\" points=\"\n",
       "  1460.97,434.747 1505.85,457.484 1460.73,479.747 \n",
       "  \"/>\n",
       "<polyline clip-path=\"url(#clip902)\" style=\"stroke:#000000; stroke-width:4; stroke-opacity:0.5; fill:none\" points=\"\n",
       "  1505.85,457.484 1182.43,455.782 \n",
       "  \"/>\n",
       "<polyline clip-path=\"url(#clip902)\" style=\"stroke:#000000; stroke-width:4; stroke-opacity:0.5; fill:none\" points=\"\n",
       "  1522.87,455.782 1846.3,457.484 \n",
       "  \"/>\n",
       "<polyline clip-path=\"url(#clip902)\" style=\"stroke:#000000; stroke-width:4; stroke-opacity:0.5; fill:none\" points=\"\n",
       "  1801.42,434.747 1846.3,457.484 1801.18,479.747 \n",
       "  \"/>\n",
       "<polyline clip-path=\"url(#clip902)\" style=\"stroke:#000000; stroke-width:4; stroke-opacity:0.5; fill:none\" points=\"\n",
       "  1846.3,457.484 1522.87,455.782 \n",
       "  \"/>\n",
       "<polyline clip-path=\"url(#clip902)\" style=\"stroke:#000000; stroke-width:4; stroke-opacity:0.5; fill:none\" points=\"\n",
       "  1863.32,455.782 2186.75,457.484 \n",
       "  \"/>\n",
       "<polyline clip-path=\"url(#clip902)\" style=\"stroke:#000000; stroke-width:4; stroke-opacity:0.5; fill:none\" points=\"\n",
       "  2141.87,434.747 2186.75,457.484 2141.63,479.747 \n",
       "  \"/>\n",
       "<polyline clip-path=\"url(#clip902)\" style=\"stroke:#000000; stroke-width:4; stroke-opacity:0.5; fill:none\" points=\"\n",
       "  2186.75,457.484 1863.32,455.782 \n",
       "  \"/>\n",
       "<polyline clip-path=\"url(#clip902)\" style=\"stroke:#000000; stroke-width:4; stroke-opacity:0.5; fill:none\" points=\"\n",
       "  2203.77,455.782 2527.2,457.484 \n",
       "  \"/>\n",
       "<polyline clip-path=\"url(#clip902)\" style=\"stroke:#000000; stroke-width:4; stroke-opacity:0.5; fill:none\" points=\"\n",
       "  2482.31,434.747 2527.2,457.484 2482.08,479.747 \n",
       "  \"/>\n",
       "<polyline clip-path=\"url(#clip902)\" style=\"stroke:#000000; stroke-width:4; stroke-opacity:0.5; fill:none\" points=\"\n",
       "  2527.2,457.484 2203.77,455.782 \n",
       "  \"/>\n",
       "<polyline clip-path=\"url(#clip902)\" style=\"stroke:#000000; stroke-width:4; stroke-opacity:0.5; fill:none\" points=\"\n",
       "  2544.22,455.782 2545.92,779.207 \n",
       "  \"/>\n",
       "<polyline clip-path=\"url(#clip902)\" style=\"stroke:#000000; stroke-width:4; stroke-opacity:0.5; fill:none\" points=\"\n",
       "  2568.18,734.09 2545.92,779.207 2523.18,734.326 \n",
       "  \"/>\n",
       "<polyline clip-path=\"url(#clip902)\" style=\"stroke:#000000; stroke-width:4; stroke-opacity:0.5; fill:none\" points=\"\n",
       "  2545.92,779.207 2544.22,455.782 \n",
       "  \"/>\n",
       "<path clip-path=\"url(#clip902)\" d=\"\n",
       "M484.507 2515.49 L518.552 2515.49 L518.552 2481.45 L484.507 2481.45 L484.507 2515.49 L484.507 2515.49  Z\n",
       "  \" fill=\"#808080\" fill-rule=\"evenodd\" fill-opacity=\"1\"/>\n",
       "<polyline clip-path=\"url(#clip902)\" style=\"stroke:#000000; stroke-width:0; stroke-opacity:1; fill:none\" points=\"\n",
       "  484.507,2515.49 518.552,2515.49 518.552,2481.45 484.507,2481.45 484.507,2515.49 \n",
       "  \"/>\n",
       "<path clip-path=\"url(#clip902)\" d=\"\n",
       "M790.911 2549.54 L893.045 2549.54 L893.045 2447.4 L790.911 2447.4 L790.911 2549.54 L790.911 2549.54  Z\n",
       "  \" fill=\"#fbb419\" fill-rule=\"evenodd\" fill-opacity=\"1\"/>\n",
       "<polyline clip-path=\"url(#clip902)\" style=\"stroke:#000000; stroke-width:0; stroke-opacity:1; fill:none\" points=\"\n",
       "  790.911,2549.54 893.045,2549.54 893.045,2447.4 790.911,2447.4 790.911,2549.54 \n",
       "  \"/>\n",
       "<path clip-path=\"url(#clip902)\" d=\"\n",
       "M1165.4 2515.49 L1199.45 2515.49 L1199.45 2481.45 L1165.4 2481.45 L1165.4 2515.49 L1165.4 2515.49  Z\n",
       "  \" fill=\"#808080\" fill-rule=\"evenodd\" fill-opacity=\"1\"/>\n",
       "<polyline clip-path=\"url(#clip902)\" style=\"stroke:#000000; stroke-width:0; stroke-opacity:1; fill:none\" points=\"\n",
       "  1165.4,2515.49 1199.45,2515.49 1199.45,2481.45 1165.4,2481.45 1165.4,2515.49 \n",
       "  \"/>\n",
       "<path clip-path=\"url(#clip902)\" d=\"\n",
       "M1505.85 2515.49 L1539.9 2515.49 L1539.9 2481.45 L1505.85 2481.45 L1505.85 2515.49 L1505.85 2515.49  Z\n",
       "  \" fill=\"#808080\" fill-rule=\"evenodd\" fill-opacity=\"1\"/>\n",
       "<polyline clip-path=\"url(#clip902)\" style=\"stroke:#000000; stroke-width:0; stroke-opacity:1; fill:none\" points=\"\n",
       "  1505.85,2515.49 1539.9,2515.49 1539.9,2481.45 1505.85,2481.45 1505.85,2515.49 \n",
       "  \"/>\n",
       "<path clip-path=\"url(#clip902)\" d=\"\n",
       "M1846.3 2515.49 L1880.34 2515.49 L1880.34 2481.45 L1846.3 2481.45 L1846.3 2515.49 L1846.3 2515.49  Z\n",
       "  \" fill=\"#808080\" fill-rule=\"evenodd\" fill-opacity=\"1\"/>\n",
       "<polyline clip-path=\"url(#clip902)\" style=\"stroke:#000000; stroke-width:0; stroke-opacity:1; fill:none\" points=\"\n",
       "  1846.3,2515.49 1880.34,2515.49 1880.34,2481.45 1846.3,2481.45 1846.3,2515.49 \n",
       "  \"/>\n",
       "<path clip-path=\"url(#clip902)\" d=\"\n",
       "M2152.7 2549.54 L2254.84 2549.54 L2254.84 2447.4 L2152.7 2447.4 L2152.7 2549.54 L2152.7 2549.54  Z\n",
       "  \" fill=\"#fbb419\" fill-rule=\"evenodd\" fill-opacity=\"1\"/>\n",
       "<polyline clip-path=\"url(#clip902)\" style=\"stroke:#000000; stroke-width:0; stroke-opacity:1; fill:none\" points=\"\n",
       "  2152.7,2549.54 2254.84,2549.54 2254.84,2447.4 2152.7,2447.4 2152.7,2549.54 \n",
       "  \"/>\n",
       "<path clip-path=\"url(#clip902)\" d=\"\n",
       "M2527.2 2515.49 L2561.24 2515.49 L2561.24 2481.45 L2527.2 2481.45 L2527.2 2515.49 L2527.2 2515.49  Z\n",
       "  \" fill=\"#808080\" fill-rule=\"evenodd\" fill-opacity=\"1\"/>\n",
       "<polyline clip-path=\"url(#clip902)\" style=\"stroke:#000000; stroke-width:0; stroke-opacity:1; fill:none\" points=\"\n",
       "  2527.2,2515.49 2561.24,2515.49 2561.24,2481.45 2527.2,2481.45 2527.2,2515.49 \n",
       "  \"/>\n",
       "<path clip-path=\"url(#clip902)\" d=\"\n",
       "M484.507 2175.04 L518.552 2175.04 L518.552 2141 L484.507 2141 L484.507 2175.04 L484.507 2175.04  Z\n",
       "  \" fill=\"#808080\" fill-rule=\"evenodd\" fill-opacity=\"1\"/>\n",
       "<polyline clip-path=\"url(#clip902)\" style=\"stroke:#000000; stroke-width:0; stroke-opacity:1; fill:none\" points=\"\n",
       "  484.507,2175.04 518.552,2175.04 518.552,2141 484.507,2141 484.507,2175.04 \n",
       "  \"/>\n",
       "<path clip-path=\"url(#clip902)\" d=\"\n",
       "M756.866 2243.13 L927.09 2243.13 L927.09 2072.91 L756.866 2072.91 L756.866 2243.13 L756.866 2243.13  Z\n",
       "  \" fill=\"#ba3654\" fill-rule=\"evenodd\" fill-opacity=\"1\"/>\n",
       "<polyline clip-path=\"url(#clip902)\" style=\"stroke:#000000; stroke-width:0; stroke-opacity:1; fill:none\" points=\"\n",
       "  756.866,2243.13 927.09,2243.13 927.09,2072.91 756.866,2072.91 756.866,2243.13 \n",
       "  \"/>\n",
       "<path clip-path=\"url(#clip902)\" d=\"\n",
       "M1165.4 2175.04 L1199.45 2175.04 L1199.45 2141 L1165.4 2141 L1165.4 2175.04 L1165.4 2175.04  Z\n",
       "  \" fill=\"#808080\" fill-rule=\"evenodd\" fill-opacity=\"1\"/>\n",
       "<polyline clip-path=\"url(#clip902)\" style=\"stroke:#000000; stroke-width:0; stroke-opacity:1; fill:none\" points=\"\n",
       "  1165.4,2175.04 1199.45,2175.04 1199.45,2141 1165.4,2141 1165.4,2175.04 \n",
       "  \"/>\n",
       "<path clip-path=\"url(#clip902)\" d=\"\n",
       "M1505.85 2175.04 L1539.9 2175.04 L1539.9 2141 L1505.85 2141 L1505.85 2175.04 L1505.85 2175.04  Z\n",
       "  \" fill=\"#808080\" fill-rule=\"evenodd\" fill-opacity=\"1\"/>\n",
       "<polyline clip-path=\"url(#clip902)\" style=\"stroke:#000000; stroke-width:0; stroke-opacity:1; fill:none\" points=\"\n",
       "  1505.85,2175.04 1539.9,2175.04 1539.9,2141 1505.85,2141 1505.85,2175.04 \n",
       "  \"/>\n",
       "<path clip-path=\"url(#clip902)\" d=\"\n",
       "M1846.3 2175.04 L1880.34 2175.04 L1880.34 2141 L1846.3 2141 L1846.3 2175.04 L1846.3 2175.04  Z\n",
       "  \" fill=\"#808080\" fill-rule=\"evenodd\" fill-opacity=\"1\"/>\n",
       "<polyline clip-path=\"url(#clip902)\" style=\"stroke:#000000; stroke-width:0; stroke-opacity:1; fill:none\" points=\"\n",
       "  1846.3,2175.04 1880.34,2175.04 1880.34,2141 1846.3,2141 1846.3,2175.04 \n",
       "  \"/>\n",
       "<path clip-path=\"url(#clip902)\" d=\"\n",
       "M2118.66 2243.13 L2288.88 2243.13 L2288.88 2072.91 L2118.66 2072.91 L2118.66 2243.13 L2118.66 2243.13  Z\n",
       "  \" fill=\"#ba3654\" fill-rule=\"evenodd\" fill-opacity=\"1\"/>\n",
       "<polyline clip-path=\"url(#clip902)\" style=\"stroke:#000000; stroke-width:0; stroke-opacity:1; fill:none\" points=\"\n",
       "  2118.66,2243.13 2288.88,2243.13 2288.88,2072.91 2118.66,2072.91 2118.66,2243.13 \n",
       "  \"/>\n",
       "<path clip-path=\"url(#clip902)\" d=\"\n",
       "M2527.2 2175.04 L2561.24 2175.04 L2561.24 2141 L2527.2 2141 L2527.2 2175.04 L2527.2 2175.04  Z\n",
       "  \" fill=\"#808080\" fill-rule=\"evenodd\" fill-opacity=\"1\"/>\n",
       "<polyline clip-path=\"url(#clip902)\" style=\"stroke:#000000; stroke-width:0; stroke-opacity:1; fill:none\" points=\"\n",
       "  2527.2,2175.04 2561.24,2175.04 2561.24,2141 2527.2,2141 2527.2,2175.04 \n",
       "  \"/>\n",
       "<path clip-path=\"url(#clip902)\" d=\"\n",
       "M484.507 1834.6 L518.552 1834.6 L518.552 1800.55 L484.507 1800.55 L484.507 1834.6 L484.507 1834.6  Z\n",
       "  \" fill=\"#808080\" fill-rule=\"evenodd\" fill-opacity=\"1\"/>\n",
       "<polyline clip-path=\"url(#clip902)\" style=\"stroke:#000000; stroke-width:0; stroke-opacity:1; fill:none\" points=\"\n",
       "  484.507,1834.6 518.552,1834.6 518.552,1800.55 484.507,1800.55 484.507,1834.6 \n",
       "  \"/>\n",
       "<path clip-path=\"url(#clip902)\" d=\"\n",
       "M824.955 1834.6 L859 1834.6 L859 1800.55 L824.955 1800.55 L824.955 1834.6 L824.955 1834.6  Z\n",
       "  \" fill=\"#808080\" fill-rule=\"evenodd\" fill-opacity=\"1\"/>\n",
       "<polyline clip-path=\"url(#clip902)\" style=\"stroke:#000000; stroke-width:0; stroke-opacity:1; fill:none\" points=\"\n",
       "  824.955,1834.6 859,1834.6 859,1800.55 824.955,1800.55 824.955,1834.6 \n",
       "  \"/>\n",
       "<path clip-path=\"url(#clip902)\" d=\"\n",
       "M1165.4 1834.6 L1199.45 1834.6 L1199.45 1800.55 L1165.4 1800.55 L1165.4 1834.6 L1165.4 1834.6  Z\n",
       "  \" fill=\"#808080\" fill-rule=\"evenodd\" fill-opacity=\"1\"/>\n",
       "<polyline clip-path=\"url(#clip902)\" style=\"stroke:#000000; stroke-width:0; stroke-opacity:1; fill:none\" points=\"\n",
       "  1165.4,1834.6 1199.45,1834.6 1199.45,1800.55 1165.4,1800.55 1165.4,1834.6 \n",
       "  \"/>\n",
       "<path clip-path=\"url(#clip902)\" d=\"\n",
       "M1505.85 1834.6 L1539.9 1834.6 L1539.9 1800.55 L1505.85 1800.55 L1505.85 1834.6 L1505.85 1834.6  Z\n",
       "  \" fill=\"#808080\" fill-rule=\"evenodd\" fill-opacity=\"1\"/>\n",
       "<polyline clip-path=\"url(#clip902)\" style=\"stroke:#000000; stroke-width:0; stroke-opacity:1; fill:none\" points=\"\n",
       "  1505.85,1834.6 1539.9,1834.6 1539.9,1800.55 1505.85,1800.55 1505.85,1834.6 \n",
       "  \"/>\n",
       "<path clip-path=\"url(#clip902)\" d=\"\n",
       "M1846.3 1834.6 L1880.34 1834.6 L1880.34 1800.55 L1846.3 1800.55 L1846.3 1834.6 L1846.3 1834.6  Z\n",
       "  \" fill=\"#808080\" fill-rule=\"evenodd\" fill-opacity=\"1\"/>\n",
       "<polyline clip-path=\"url(#clip902)\" style=\"stroke:#000000; stroke-width:0; stroke-opacity:1; fill:none\" points=\"\n",
       "  1846.3,1834.6 1880.34,1834.6 1880.34,1800.55 1846.3,1800.55 1846.3,1834.6 \n",
       "  \"/>\n",
       "<path clip-path=\"url(#clip902)\" d=\"\n",
       "M2186.75 1834.6 L2220.79 1834.6 L2220.79 1800.55 L2186.75 1800.55 L2186.75 1834.6 L2186.75 1834.6  Z\n",
       "  \" fill=\"#808080\" fill-rule=\"evenodd\" fill-opacity=\"1\"/>\n",
       "<polyline clip-path=\"url(#clip902)\" style=\"stroke:#000000; stroke-width:0; stroke-opacity:1; fill:none\" points=\"\n",
       "  2186.75,1834.6 2220.79,1834.6 2220.79,1800.55 2186.75,1800.55 2186.75,1834.6 \n",
       "  \"/>\n",
       "<path clip-path=\"url(#clip902)\" d=\"\n",
       "M2527.2 1834.6 L2561.24 1834.6 L2561.24 1800.55 L2527.2 1800.55 L2527.2 1834.6 L2527.2 1834.6  Z\n",
       "  \" fill=\"#808080\" fill-rule=\"evenodd\" fill-opacity=\"1\"/>\n",
       "<polyline clip-path=\"url(#clip902)\" style=\"stroke:#000000; stroke-width:0; stroke-opacity:1; fill:none\" points=\"\n",
       "  2527.2,1834.6 2561.24,1834.6 2561.24,1800.55 2527.2,1800.55 2527.2,1834.6 \n",
       "  \"/>\n",
       "<path clip-path=\"url(#clip902)\" d=\"\n",
       "M484.507 1494.15 L518.552 1494.15 L518.552 1460.1 L484.507 1460.1 L484.507 1494.15 L484.507 1494.15  Z\n",
       "  \" fill=\"#808080\" fill-rule=\"evenodd\" fill-opacity=\"1\"/>\n",
       "<polyline clip-path=\"url(#clip902)\" style=\"stroke:#000000; stroke-width:0; stroke-opacity:1; fill:none\" points=\"\n",
       "  484.507,1494.15 518.552,1494.15 518.552,1460.1 484.507,1460.1 484.507,1494.15 \n",
       "  \"/>\n",
       "<path clip-path=\"url(#clip902)\" d=\"\n",
       "M790.911 1528.19 L893.045 1528.19 L893.045 1426.06 L790.911 1426.06 L790.911 1528.19 L790.911 1528.19  Z\n",
       "  \" fill=\"#fbb419\" fill-rule=\"evenodd\" fill-opacity=\"1\"/>\n",
       "<polyline clip-path=\"url(#clip902)\" style=\"stroke:#000000; stroke-width:0; stroke-opacity:1; fill:none\" points=\"\n",
       "  790.911,1528.19 893.045,1528.19 893.045,1426.06 790.911,1426.06 790.911,1528.19 \n",
       "  \"/>\n",
       "<path clip-path=\"url(#clip902)\" d=\"\n",
       "M1165.4 1494.15 L1199.45 1494.15 L1199.45 1460.1 L1165.4 1460.1 L1165.4 1494.15 L1165.4 1494.15  Z\n",
       "  \" fill=\"#808080\" fill-rule=\"evenodd\" fill-opacity=\"1\"/>\n",
       "<polyline clip-path=\"url(#clip902)\" style=\"stroke:#000000; stroke-width:0; stroke-opacity:1; fill:none\" points=\"\n",
       "  1165.4,1494.15 1199.45,1494.15 1199.45,1460.1 1165.4,1460.1 1165.4,1494.15 \n",
       "  \"/>\n",
       "<path clip-path=\"url(#clip902)\" d=\"\n",
       "M1471.81 1528.19 L1573.94 1528.19 L1573.94 1426.06 L1471.81 1426.06 L1471.81 1528.19 L1471.81 1528.19  Z\n",
       "  \" fill=\"#fbb419\" fill-rule=\"evenodd\" fill-opacity=\"1\"/>\n",
       "<polyline clip-path=\"url(#clip902)\" style=\"stroke:#000000; stroke-width:0; stroke-opacity:1; fill:none\" points=\"\n",
       "  1471.81,1528.19 1573.94,1528.19 1573.94,1426.06 1471.81,1426.06 1471.81,1528.19 \n",
       "  \"/>\n",
       "<path clip-path=\"url(#clip902)\" d=\"\n",
       "M1846.3 1494.15 L1880.34 1494.15 L1880.34 1460.1 L1846.3 1460.1 L1846.3 1494.15 L1846.3 1494.15  Z\n",
       "  \" fill=\"#808080\" fill-rule=\"evenodd\" fill-opacity=\"1\"/>\n",
       "<polyline clip-path=\"url(#clip902)\" style=\"stroke:#000000; stroke-width:0; stroke-opacity:1; fill:none\" points=\"\n",
       "  1846.3,1494.15 1880.34,1494.15 1880.34,1460.1 1846.3,1460.1 1846.3,1494.15 \n",
       "  \"/>\n",
       "<path clip-path=\"url(#clip902)\" d=\"\n",
       "M2152.7 1528.19 L2254.84 1528.19 L2254.84 1426.06 L2152.7 1426.06 L2152.7 1528.19 L2152.7 1528.19  Z\n",
       "  \" fill=\"#fbb419\" fill-rule=\"evenodd\" fill-opacity=\"1\"/>\n",
       "<polyline clip-path=\"url(#clip902)\" style=\"stroke:#000000; stroke-width:0; stroke-opacity:1; fill:none\" points=\"\n",
       "  2152.7,1528.19 2254.84,1528.19 2254.84,1426.06 2152.7,1426.06 2152.7,1528.19 \n",
       "  \"/>\n",
       "<path clip-path=\"url(#clip902)\" d=\"\n",
       "M2527.2 1494.15 L2561.24 1494.15 L2561.24 1460.1 L2527.2 1460.1 L2527.2 1494.15 L2527.2 1494.15  Z\n",
       "  \" fill=\"#808080\" fill-rule=\"evenodd\" fill-opacity=\"1\"/>\n",
       "<polyline clip-path=\"url(#clip902)\" style=\"stroke:#000000; stroke-width:0; stroke-opacity:1; fill:none\" points=\"\n",
       "  2527.2,1494.15 2561.24,1494.15 2561.24,1460.1 2527.2,1460.1 2527.2,1494.15 \n",
       "  \"/>\n",
       "<path clip-path=\"url(#clip902)\" d=\"\n",
       "M484.507 1153.7 L518.552 1153.7 L518.552 1119.66 L484.507 1119.66 L484.507 1153.7 L484.507 1153.7  Z\n",
       "  \" fill=\"#808080\" fill-rule=\"evenodd\" fill-opacity=\"1\"/>\n",
       "<polyline clip-path=\"url(#clip902)\" style=\"stroke:#000000; stroke-width:0; stroke-opacity:1; fill:none\" points=\"\n",
       "  484.507,1153.7 518.552,1153.7 518.552,1119.66 484.507,1119.66 484.507,1153.7 \n",
       "  \"/>\n",
       "<path clip-path=\"url(#clip902)\" d=\"\n",
       "M824.955 1153.7 L859 1153.7 L859 1119.66 L824.955 1119.66 L824.955 1153.7 L824.955 1153.7  Z\n",
       "  \" fill=\"#808080\" fill-rule=\"evenodd\" fill-opacity=\"1\"/>\n",
       "<polyline clip-path=\"url(#clip902)\" style=\"stroke:#000000; stroke-width:0; stroke-opacity:1; fill:none\" points=\"\n",
       "  824.955,1153.7 859,1153.7 859,1119.66 824.955,1119.66 824.955,1153.7 \n",
       "  \"/>\n",
       "<path clip-path=\"url(#clip902)\" d=\"\n",
       "M1165.4 1153.7 L1199.45 1153.7 L1199.45 1119.66 L1165.4 1119.66 L1165.4 1153.7 L1165.4 1153.7  Z\n",
       "  \" fill=\"#808080\" fill-rule=\"evenodd\" fill-opacity=\"1\"/>\n",
       "<polyline clip-path=\"url(#clip902)\" style=\"stroke:#000000; stroke-width:0; stroke-opacity:1; fill:none\" points=\"\n",
       "  1165.4,1153.7 1199.45,1153.7 1199.45,1119.66 1165.4,1119.66 1165.4,1153.7 \n",
       "  \"/>\n",
       "<path clip-path=\"url(#clip902)\" d=\"\n",
       "M1505.85 1153.7 L1539.9 1153.7 L1539.9 1119.66 L1505.85 1119.66 L1505.85 1153.7 L1505.85 1153.7  Z\n",
       "  \" fill=\"#808080\" fill-rule=\"evenodd\" fill-opacity=\"1\"/>\n",
       "<polyline clip-path=\"url(#clip902)\" style=\"stroke:#000000; stroke-width:0; stroke-opacity:1; fill:none\" points=\"\n",
       "  1505.85,1153.7 1539.9,1153.7 1539.9,1119.66 1505.85,1119.66 1505.85,1153.7 \n",
       "  \"/>\n",
       "<path clip-path=\"url(#clip902)\" d=\"\n",
       "M1846.3 1153.7 L1880.34 1153.7 L1880.34 1119.66 L1846.3 1119.66 L1846.3 1153.7 L1846.3 1153.7  Z\n",
       "  \" fill=\"#808080\" fill-rule=\"evenodd\" fill-opacity=\"1\"/>\n",
       "<polyline clip-path=\"url(#clip902)\" style=\"stroke:#000000; stroke-width:0; stroke-opacity:1; fill:none\" points=\"\n",
       "  1846.3,1153.7 1880.34,1153.7 1880.34,1119.66 1846.3,1119.66 1846.3,1153.7 \n",
       "  \"/>\n",
       "<path clip-path=\"url(#clip902)\" d=\"\n",
       "M2186.75 1153.7 L2220.79 1153.7 L2220.79 1119.66 L2186.75 1119.66 L2186.75 1153.7 L2186.75 1153.7  Z\n",
       "  \" fill=\"#808080\" fill-rule=\"evenodd\" fill-opacity=\"1\"/>\n",
       "<polyline clip-path=\"url(#clip902)\" style=\"stroke:#000000; stroke-width:0; stroke-opacity:1; fill:none\" points=\"\n",
       "  2186.75,1153.7 2220.79,1153.7 2220.79,1119.66 2186.75,1119.66 2186.75,1153.7 \n",
       "  \"/>\n",
       "<path clip-path=\"url(#clip902)\" d=\"\n",
       "M2527.2 1153.7 L2561.24 1153.7 L2561.24 1119.66 L2527.2 1119.66 L2527.2 1153.7 L2527.2 1153.7  Z\n",
       "  \" fill=\"#808080\" fill-rule=\"evenodd\" fill-opacity=\"1\"/>\n",
       "<polyline clip-path=\"url(#clip902)\" style=\"stroke:#000000; stroke-width:0; stroke-opacity:1; fill:none\" points=\"\n",
       "  2527.2,1153.7 2561.24,1153.7 2561.24,1119.66 2527.2,1119.66 2527.2,1153.7 \n",
       "  \"/>\n",
       "<path clip-path=\"url(#clip902)\" d=\"\n",
       "M484.507 813.252 L518.552 813.252 L518.552 779.207 L484.507 779.207 L484.507 813.252 L484.507 813.252  Z\n",
       "  \" fill=\"#808080\" fill-rule=\"evenodd\" fill-opacity=\"1\"/>\n",
       "<polyline clip-path=\"url(#clip902)\" style=\"stroke:#000000; stroke-width:0; stroke-opacity:1; fill:none\" points=\"\n",
       "  484.507,813.252 518.552,813.252 518.552,779.207 484.507,779.207 484.507,813.252 \n",
       "  \"/>\n",
       "<path clip-path=\"url(#clip902)\" d=\"\n",
       "M790.911 847.297 L893.045 847.297 L893.045 745.163 L790.911 745.163 L790.911 847.297 L790.911 847.297  Z\n",
       "  \" fill=\"#fbb419\" fill-rule=\"evenodd\" fill-opacity=\"1\"/>\n",
       "<polyline clip-path=\"url(#clip902)\" style=\"stroke:#000000; stroke-width:0; stroke-opacity:1; fill:none\" points=\"\n",
       "  790.911,847.297 893.045,847.297 893.045,745.163 790.911,745.163 790.911,847.297 \n",
       "  \"/>\n",
       "<path clip-path=\"url(#clip902)\" d=\"\n",
       "M1165.4 813.252 L1199.45 813.252 L1199.45 779.207 L1165.4 779.207 L1165.4 813.252 L1165.4 813.252  Z\n",
       "  \" fill=\"#808080\" fill-rule=\"evenodd\" fill-opacity=\"1\"/>\n",
       "<polyline clip-path=\"url(#clip902)\" style=\"stroke:#000000; stroke-width:0; stroke-opacity:1; fill:none\" points=\"\n",
       "  1165.4,813.252 1199.45,813.252 1199.45,779.207 1165.4,779.207 1165.4,813.252 \n",
       "  \"/>\n",
       "<path clip-path=\"url(#clip902)\" d=\"\n",
       "M1471.81 847.297 L1573.94 847.297 L1573.94 745.163 L1471.81 745.163 L1471.81 847.297 L1471.81 847.297  Z\n",
       "  \" fill=\"#fbb419\" fill-rule=\"evenodd\" fill-opacity=\"1\"/>\n",
       "<polyline clip-path=\"url(#clip902)\" style=\"stroke:#000000; stroke-width:0; stroke-opacity:1; fill:none\" points=\"\n",
       "  1471.81,847.297 1573.94,847.297 1573.94,745.163 1471.81,745.163 1471.81,847.297 \n",
       "  \"/>\n",
       "<path clip-path=\"url(#clip902)\" d=\"\n",
       "M1846.3 813.252 L1880.34 813.252 L1880.34 779.207 L1846.3 779.207 L1846.3 813.252 L1846.3 813.252  Z\n",
       "  \" fill=\"#808080\" fill-rule=\"evenodd\" fill-opacity=\"1\"/>\n",
       "<polyline clip-path=\"url(#clip902)\" style=\"stroke:#000000; stroke-width:0; stroke-opacity:1; fill:none\" points=\"\n",
       "  1846.3,813.252 1880.34,813.252 1880.34,779.207 1846.3,779.207 1846.3,813.252 \n",
       "  \"/>\n",
       "<path clip-path=\"url(#clip902)\" d=\"\n",
       "M2152.7 847.297 L2254.84 847.297 L2254.84 745.163 L2152.7 745.163 L2152.7 847.297 L2152.7 847.297  Z\n",
       "  \" fill=\"#fbb419\" fill-rule=\"evenodd\" fill-opacity=\"1\"/>\n",
       "<polyline clip-path=\"url(#clip902)\" style=\"stroke:#000000; stroke-width:0; stroke-opacity:1; fill:none\" points=\"\n",
       "  2152.7,847.297 2254.84,847.297 2254.84,745.163 2152.7,745.163 2152.7,847.297 \n",
       "  \"/>\n",
       "<path clip-path=\"url(#clip902)\" d=\"\n",
       "M2527.2 813.252 L2561.24 813.252 L2561.24 779.207 L2527.2 779.207 L2527.2 813.252 L2527.2 813.252  Z\n",
       "  \" fill=\"#808080\" fill-rule=\"evenodd\" fill-opacity=\"1\"/>\n",
       "<polyline clip-path=\"url(#clip902)\" style=\"stroke:#000000; stroke-width:0; stroke-opacity:1; fill:none\" points=\"\n",
       "  2527.2,813.252 2561.24,813.252 2561.24,779.207 2527.2,779.207 2527.2,813.252 \n",
       "  \"/>\n",
       "<path clip-path=\"url(#clip902)\" d=\"\n",
       "M484.507 472.804 L518.552 472.804 L518.552 438.759 L484.507 438.759 L484.507 472.804 L484.507 472.804  Z\n",
       "  \" fill=\"#808080\" fill-rule=\"evenodd\" fill-opacity=\"1\"/>\n",
       "<polyline clip-path=\"url(#clip902)\" style=\"stroke:#000000; stroke-width:0; stroke-opacity:1; fill:none\" points=\"\n",
       "  484.507,472.804 518.552,472.804 518.552,438.759 484.507,438.759 484.507,472.804 \n",
       "  \"/>\n",
       "<path clip-path=\"url(#clip902)\" d=\"\n",
       "M824.955 472.804 L859 472.804 L859 438.759 L824.955 438.759 L824.955 472.804 L824.955 472.804  Z\n",
       "  \" fill=\"#808080\" fill-rule=\"evenodd\" fill-opacity=\"1\"/>\n",
       "<polyline clip-path=\"url(#clip902)\" style=\"stroke:#000000; stroke-width:0; stroke-opacity:1; fill:none\" points=\"\n",
       "  824.955,472.804 859,472.804 859,438.759 824.955,438.759 824.955,472.804 \n",
       "  \"/>\n",
       "<path clip-path=\"url(#clip902)\" d=\"\n",
       "M1165.4 472.804 L1199.45 472.804 L1199.45 438.759 L1165.4 438.759 L1165.4 472.804 L1165.4 472.804  Z\n",
       "  \" fill=\"#808080\" fill-rule=\"evenodd\" fill-opacity=\"1\"/>\n",
       "<polyline clip-path=\"url(#clip902)\" style=\"stroke:#000000; stroke-width:0; stroke-opacity:1; fill:none\" points=\"\n",
       "  1165.4,472.804 1199.45,472.804 1199.45,438.759 1165.4,438.759 1165.4,472.804 \n",
       "  \"/>\n",
       "<path clip-path=\"url(#clip902)\" d=\"\n",
       "M1505.85 472.804 L1539.9 472.804 L1539.9 438.759 L1505.85 438.759 L1505.85 472.804 L1505.85 472.804  Z\n",
       "  \" fill=\"#808080\" fill-rule=\"evenodd\" fill-opacity=\"1\"/>\n",
       "<polyline clip-path=\"url(#clip902)\" style=\"stroke:#000000; stroke-width:0; stroke-opacity:1; fill:none\" points=\"\n",
       "  1505.85,472.804 1539.9,472.804 1539.9,438.759 1505.85,438.759 1505.85,472.804 \n",
       "  \"/>\n",
       "<path clip-path=\"url(#clip902)\" d=\"\n",
       "M1846.3 472.804 L1880.34 472.804 L1880.34 438.759 L1846.3 438.759 L1846.3 472.804 L1846.3 472.804  Z\n",
       "  \" fill=\"#808080\" fill-rule=\"evenodd\" fill-opacity=\"1\"/>\n",
       "<polyline clip-path=\"url(#clip902)\" style=\"stroke:#000000; stroke-width:0; stroke-opacity:1; fill:none\" points=\"\n",
       "  1846.3,472.804 1880.34,472.804 1880.34,438.759 1846.3,438.759 1846.3,472.804 \n",
       "  \"/>\n",
       "<path clip-path=\"url(#clip902)\" d=\"\n",
       "M2186.75 472.804 L2220.79 472.804 L2220.79 438.759 L2186.75 438.759 L2186.75 472.804 L2186.75 472.804  Z\n",
       "  \" fill=\"#808080\" fill-rule=\"evenodd\" fill-opacity=\"1\"/>\n",
       "<polyline clip-path=\"url(#clip902)\" style=\"stroke:#000000; stroke-width:0; stroke-opacity:1; fill:none\" points=\"\n",
       "  2186.75,472.804 2220.79,472.804 2220.79,438.759 2186.75,438.759 2186.75,472.804 \n",
       "  \"/>\n",
       "<path clip-path=\"url(#clip902)\" d=\"\n",
       "M2527.2 472.804 L2561.24 472.804 L2561.24 438.759 L2527.2 438.759 L2527.2 472.804 L2527.2 472.804  Z\n",
       "  \" fill=\"#808080\" fill-rule=\"evenodd\" fill-opacity=\"1\"/>\n",
       "<polyline clip-path=\"url(#clip902)\" style=\"stroke:#000000; stroke-width:0; stroke-opacity:1; fill:none\" points=\"\n",
       "  2527.2,472.804 2561.24,472.804 2561.24,438.759 2527.2,438.759 2527.2,472.804 \n",
       "  \"/>\n",
       "<circle clip-path=\"url(#clip902)\" style=\"fill:#808080; stroke:none; fill-opacity:1\" cx=\"501.53\" cy=\"2498.47\" r=\"2\"/>\n",
       "<circle clip-path=\"url(#clip902)\" style=\"fill:#fbb419; stroke:none; fill-opacity:1\" cx=\"841.978\" cy=\"2498.47\" r=\"2\"/>\n",
       "<circle clip-path=\"url(#clip902)\" style=\"fill:#808080; stroke:none; fill-opacity:1\" cx=\"1182.43\" cy=\"2498.47\" r=\"2\"/>\n",
       "<circle clip-path=\"url(#clip902)\" style=\"fill:#808080; stroke:none; fill-opacity:1\" cx=\"1522.87\" cy=\"2498.47\" r=\"2\"/>\n",
       "<circle clip-path=\"url(#clip902)\" style=\"fill:#808080; stroke:none; fill-opacity:1\" cx=\"1863.32\" cy=\"2498.47\" r=\"2\"/>\n",
       "<circle clip-path=\"url(#clip902)\" style=\"fill:#fbb419; stroke:none; fill-opacity:1\" cx=\"2203.77\" cy=\"2498.47\" r=\"2\"/>\n",
       "<circle clip-path=\"url(#clip902)\" style=\"fill:#808080; stroke:none; fill-opacity:1\" cx=\"2544.22\" cy=\"2498.47\" r=\"2\"/>\n",
       "<circle clip-path=\"url(#clip902)\" style=\"fill:#808080; stroke:none; fill-opacity:1\" cx=\"501.53\" cy=\"2158.02\" r=\"2\"/>\n",
       "<circle clip-path=\"url(#clip902)\" style=\"fill:#ba3654; stroke:none; fill-opacity:1\" cx=\"841.978\" cy=\"2158.02\" r=\"2\"/>\n",
       "<circle clip-path=\"url(#clip902)\" style=\"fill:#808080; stroke:none; fill-opacity:1\" cx=\"1182.43\" cy=\"2158.02\" r=\"2\"/>\n",
       "<circle clip-path=\"url(#clip902)\" style=\"fill:#808080; stroke:none; fill-opacity:1\" cx=\"1522.87\" cy=\"2158.02\" r=\"2\"/>\n",
       "<circle clip-path=\"url(#clip902)\" style=\"fill:#808080; stroke:none; fill-opacity:1\" cx=\"1863.32\" cy=\"2158.02\" r=\"2\"/>\n",
       "<circle clip-path=\"url(#clip902)\" style=\"fill:#ba3654; stroke:none; fill-opacity:1\" cx=\"2203.77\" cy=\"2158.02\" r=\"2\"/>\n",
       "<circle clip-path=\"url(#clip902)\" style=\"fill:#808080; stroke:none; fill-opacity:1\" cx=\"2544.22\" cy=\"2158.02\" r=\"2\"/>\n",
       "<circle clip-path=\"url(#clip902)\" style=\"fill:#808080; stroke:none; fill-opacity:1\" cx=\"501.53\" cy=\"1817.57\" r=\"2\"/>\n",
       "<circle clip-path=\"url(#clip902)\" style=\"fill:#808080; stroke:none; fill-opacity:1\" cx=\"841.978\" cy=\"1817.57\" r=\"2\"/>\n",
       "<circle clip-path=\"url(#clip902)\" style=\"fill:#808080; stroke:none; fill-opacity:1\" cx=\"1182.43\" cy=\"1817.57\" r=\"2\"/>\n",
       "<circle clip-path=\"url(#clip902)\" style=\"fill:#808080; stroke:none; fill-opacity:1\" cx=\"1522.87\" cy=\"1817.57\" r=\"2\"/>\n",
       "<circle clip-path=\"url(#clip902)\" style=\"fill:#808080; stroke:none; fill-opacity:1\" cx=\"1863.32\" cy=\"1817.57\" r=\"2\"/>\n",
       "<circle clip-path=\"url(#clip902)\" style=\"fill:#808080; stroke:none; fill-opacity:1\" cx=\"2203.77\" cy=\"1817.57\" r=\"2\"/>\n",
       "<circle clip-path=\"url(#clip902)\" style=\"fill:#808080; stroke:none; fill-opacity:1\" cx=\"2544.22\" cy=\"1817.57\" r=\"2\"/>\n",
       "<circle clip-path=\"url(#clip902)\" style=\"fill:#808080; stroke:none; fill-opacity:1\" cx=\"501.53\" cy=\"1477.13\" r=\"2\"/>\n",
       "<circle clip-path=\"url(#clip902)\" style=\"fill:#fbb419; stroke:none; fill-opacity:1\" cx=\"841.978\" cy=\"1477.13\" r=\"2\"/>\n",
       "<circle clip-path=\"url(#clip902)\" style=\"fill:#808080; stroke:none; fill-opacity:1\" cx=\"1182.43\" cy=\"1477.13\" r=\"2\"/>\n",
       "<circle clip-path=\"url(#clip902)\" style=\"fill:#fbb419; stroke:none; fill-opacity:1\" cx=\"1522.87\" cy=\"1477.13\" r=\"2\"/>\n",
       "<circle clip-path=\"url(#clip902)\" style=\"fill:#808080; stroke:none; fill-opacity:1\" cx=\"1863.32\" cy=\"1477.13\" r=\"2\"/>\n",
       "<circle clip-path=\"url(#clip902)\" style=\"fill:#fbb419; stroke:none; fill-opacity:1\" cx=\"2203.77\" cy=\"1477.13\" r=\"2\"/>\n",
       "<circle clip-path=\"url(#clip902)\" style=\"fill:#808080; stroke:none; fill-opacity:1\" cx=\"2544.22\" cy=\"1477.13\" r=\"2\"/>\n",
       "<circle clip-path=\"url(#clip902)\" style=\"fill:#808080; stroke:none; fill-opacity:1\" cx=\"501.53\" cy=\"1136.68\" r=\"2\"/>\n",
       "<circle clip-path=\"url(#clip902)\" style=\"fill:#808080; stroke:none; fill-opacity:1\" cx=\"841.978\" cy=\"1136.68\" r=\"2\"/>\n",
       "<circle clip-path=\"url(#clip902)\" style=\"fill:#808080; stroke:none; fill-opacity:1\" cx=\"1182.43\" cy=\"1136.68\" r=\"2\"/>\n",
       "<circle clip-path=\"url(#clip902)\" style=\"fill:#808080; stroke:none; fill-opacity:1\" cx=\"1522.87\" cy=\"1136.68\" r=\"2\"/>\n",
       "<circle clip-path=\"url(#clip902)\" style=\"fill:#808080; stroke:none; fill-opacity:1\" cx=\"1863.32\" cy=\"1136.68\" r=\"2\"/>\n",
       "<circle clip-path=\"url(#clip902)\" style=\"fill:#808080; stroke:none; fill-opacity:1\" cx=\"2203.77\" cy=\"1136.68\" r=\"2\"/>\n",
       "<circle clip-path=\"url(#clip902)\" style=\"fill:#808080; stroke:none; fill-opacity:1\" cx=\"2544.22\" cy=\"1136.68\" r=\"2\"/>\n",
       "<circle clip-path=\"url(#clip902)\" style=\"fill:#808080; stroke:none; fill-opacity:1\" cx=\"501.53\" cy=\"796.23\" r=\"2\"/>\n",
       "<circle clip-path=\"url(#clip902)\" style=\"fill:#fbb419; stroke:none; fill-opacity:1\" cx=\"841.978\" cy=\"796.23\" r=\"2\"/>\n",
       "<circle clip-path=\"url(#clip902)\" style=\"fill:#808080; stroke:none; fill-opacity:1\" cx=\"1182.43\" cy=\"796.23\" r=\"2\"/>\n",
       "<circle clip-path=\"url(#clip902)\" style=\"fill:#fbb419; stroke:none; fill-opacity:1\" cx=\"1522.87\" cy=\"796.23\" r=\"2\"/>\n",
       "<circle clip-path=\"url(#clip902)\" style=\"fill:#808080; stroke:none; fill-opacity:1\" cx=\"1863.32\" cy=\"796.23\" r=\"2\"/>\n",
       "<circle clip-path=\"url(#clip902)\" style=\"fill:#fbb419; stroke:none; fill-opacity:1\" cx=\"2203.77\" cy=\"796.23\" r=\"2\"/>\n",
       "<circle clip-path=\"url(#clip902)\" style=\"fill:#808080; stroke:none; fill-opacity:1\" cx=\"2544.22\" cy=\"796.23\" r=\"2\"/>\n",
       "<circle clip-path=\"url(#clip902)\" style=\"fill:#808080; stroke:none; fill-opacity:1\" cx=\"501.53\" cy=\"455.782\" r=\"2\"/>\n",
       "<circle clip-path=\"url(#clip902)\" style=\"fill:#808080; stroke:none; fill-opacity:1\" cx=\"841.978\" cy=\"455.782\" r=\"2\"/>\n",
       "<circle clip-path=\"url(#clip902)\" style=\"fill:#808080; stroke:none; fill-opacity:1\" cx=\"1182.43\" cy=\"455.782\" r=\"2\"/>\n",
       "<circle clip-path=\"url(#clip902)\" style=\"fill:#808080; stroke:none; fill-opacity:1\" cx=\"1522.87\" cy=\"455.782\" r=\"2\"/>\n",
       "<circle clip-path=\"url(#clip902)\" style=\"fill:#808080; stroke:none; fill-opacity:1\" cx=\"1863.32\" cy=\"455.782\" r=\"2\"/>\n",
       "<circle clip-path=\"url(#clip902)\" style=\"fill:#808080; stroke:none; fill-opacity:1\" cx=\"2203.77\" cy=\"455.782\" r=\"2\"/>\n",
       "<circle clip-path=\"url(#clip902)\" style=\"fill:#808080; stroke:none; fill-opacity:1\" cx=\"2544.22\" cy=\"455.782\" r=\"2\"/>\n",
       "</svg>\n"
      ]
     },
     "execution_count": 7,
     "metadata": {},
     "output_type": "execute_result"
    }
   ],
   "source": [
    "plot_warehouse()"
   ]
  },
  {
   "cell_type": "markdown",
   "metadata": {},
   "source": [
    "# Init nowait"
   ]
  },
  {
   "cell_type": "code",
   "execution_count": 8,
   "metadata": {},
   "outputs": [
    {
     "data": {
      "text/plain": [
       "robot_step_highway_nowait! (generic function with 1 method)"
      ]
     },
     "execution_count": 8,
     "metadata": {},
     "output_type": "execute_result"
    }
   ],
   "source": [
    "function robot_step_highway_nowait!(robot,model)\n",
    "    \n",
    "    move_now = true    \n",
    "#     println(model.step)\n",
    "    # if isempty(nearby_ids(robot,model))\n",
    "    # if !(robot.dest in [robot.pos for robot in nearby_agents(robot,model)])\n",
    "    \n",
    "    if robot_in_destination(robot,model)\n",
    "        robot.dest = 0        \n",
    "    end\n",
    "    \n",
    "    if robot.dest == 0        \n",
    "        give_robot_destination(robot,model)                                                     \n",
    "    end\n",
    "    \n",
    "    if isempty(model.package_list) & (robot.pos in model.load_spot) & (robot.dest in model.load_spot)\n",
    "        move_now=false\n",
    "    end\n",
    "    \n",
    "      \n",
    "            \n",
    "    if move_now == true #& ~isempty(robot.path)\n",
    "        if isempty(robot.path) & (robot.dest != 0 )\n",
    "            robot.path = a_star(model.graph,robot.pos,robot.dest)\n",
    "        end\n",
    "        if !isempty(robot.path)\n",
    "#             print(\"Hejbu se\")\n",
    "            next_step = robot.path[1].dst\n",
    "            # next_step = popfirst!(robot.path).dst\n",
    "            # pos = robot.pos\n",
    "            if !(next_step in [robot.pos for robot in nearby_agents(robot,model)])\n",
    "                move_agent!(robot,next_step,model)\n",
    "                popfirst!(robot.path)\n",
    "            end\n",
    "        end\n",
    "    end            \n",
    "    \n",
    "end          \n"
   ]
  },
  {
   "cell_type": "markdown",
   "metadata": {},
   "source": [
    "# RUN"
   ]
  },
  {
   "cell_type": "code",
   "execution_count": 9,
   "metadata": {},
   "outputs": [
    {
     "data": {
      "text/plain": [
       "124"
      ]
     },
     "execution_count": 9,
     "metadata": {},
     "output_type": "execute_result"
    }
   ],
   "source": [
    "warehouse,plot_warehouse = init_experiment(ed01);\n",
    "adf, mdf = run!(warehouse, robot_step_highway_nowait!,warehouse_step_highway!,terminate_warehouse_sim; \n",
    "    adata=adata,mdata=mdata,agents_first=true)\n",
    "warehouse.step"
   ]
  },
  {
   "cell_type": "code",
   "execution_count": 15,
   "metadata": {},
   "outputs": [
    {
     "data": {
      "text/html": [
       "<div class=\"data-frame\"><p>21 rows × 5 columns</p><table class=\"data-frame\"><thead><tr><th></th><th>step</th><th>id</th><th>pos</th><th>dest</th><th>head</th></tr><tr><th></th><th title=\"Int64\">Int64</th><th title=\"Int64\">Int64</th><th title=\"Int64\">Int64</th><th title=\"Int64\">Int64</th><th title=\"Int64\">Int64</th></tr></thead><tbody><tr><th>1</th><td>113</td><td>2</td><td>29</td><td>8</td><td>1</td></tr><tr><th>2</th><td>114</td><td>1</td><td>32</td><td>46</td><td>1</td></tr><tr><th>3</th><td>114</td><td>2</td><td>36</td><td>8</td><td>1</td></tr><tr><th>4</th><td>115</td><td>1</td><td>31</td><td>46</td><td>1</td></tr><tr><th>5</th><td>115</td><td>2</td><td>43</td><td>8</td><td>1</td></tr><tr><th>6</th><td>116</td><td>1</td><td>30</td><td>46</td><td>1</td></tr><tr><th>7</th><td>116</td><td>2</td><td>44</td><td>8</td><td>1</td></tr><tr><th>8</th><td>117</td><td>1</td><td>29</td><td>46</td><td>1</td></tr><tr><th>9</th><td>117</td><td>2</td><td>45</td><td>8</td><td>1</td></tr><tr><th>10</th><td>118</td><td>1</td><td>36</td><td>46</td><td>1</td></tr><tr><th>11</th><td>118</td><td>2</td><td>38</td><td>8</td><td>1</td></tr><tr><th>12</th><td>119</td><td>1</td><td>43</td><td>46</td><td>1</td></tr><tr><th>13</th><td>119</td><td>2</td><td>31</td><td>8</td><td>1</td></tr><tr><th>14</th><td>120</td><td>1</td><td>44</td><td>46</td><td>1</td></tr><tr><th>15</th><td>120</td><td>2</td><td>24</td><td>8</td><td>1</td></tr><tr><th>16</th><td>121</td><td>1</td><td>45</td><td>46</td><td>1</td></tr><tr><th>17</th><td>121</td><td>2</td><td>17</td><td>8</td><td>1</td></tr><tr><th>18</th><td>122</td><td>1</td><td>46</td><td>46</td><td>1</td></tr><tr><th>19</th><td>122</td><td>2</td><td>10</td><td>8</td><td>1</td></tr><tr><th>20</th><td>123</td><td>1</td><td>47</td><td>12</td><td>1</td></tr><tr><th>21</th><td>123</td><td>2</td><td>3</td><td>8</td><td>1</td></tr></tbody></table></div>"
      ],
      "text/latex": [
       "\\begin{tabular}{r|ccccc}\n",
       "\t& step & id & pos & dest & head\\\\\n",
       "\t\\hline\n",
       "\t& Int64 & Int64 & Int64 & Int64 & Int64\\\\\n",
       "\t\\hline\n",
       "\t1 & 113 & 2 & 29 & 8 & 1 \\\\\n",
       "\t2 & 114 & 1 & 32 & 46 & 1 \\\\\n",
       "\t3 & 114 & 2 & 36 & 8 & 1 \\\\\n",
       "\t4 & 115 & 1 & 31 & 46 & 1 \\\\\n",
       "\t5 & 115 & 2 & 43 & 8 & 1 \\\\\n",
       "\t6 & 116 & 1 & 30 & 46 & 1 \\\\\n",
       "\t7 & 116 & 2 & 44 & 8 & 1 \\\\\n",
       "\t8 & 117 & 1 & 29 & 46 & 1 \\\\\n",
       "\t9 & 117 & 2 & 45 & 8 & 1 \\\\\n",
       "\t10 & 118 & 1 & 36 & 46 & 1 \\\\\n",
       "\t11 & 118 & 2 & 38 & 8 & 1 \\\\\n",
       "\t12 & 119 & 1 & 43 & 46 & 1 \\\\\n",
       "\t13 & 119 & 2 & 31 & 8 & 1 \\\\\n",
       "\t14 & 120 & 1 & 44 & 46 & 1 \\\\\n",
       "\t15 & 120 & 2 & 24 & 8 & 1 \\\\\n",
       "\t16 & 121 & 1 & 45 & 46 & 1 \\\\\n",
       "\t17 & 121 & 2 & 17 & 8 & 1 \\\\\n",
       "\t18 & 122 & 1 & 46 & 46 & 1 \\\\\n",
       "\t19 & 122 & 2 & 10 & 8 & 1 \\\\\n",
       "\t20 & 123 & 1 & 47 & 12 & 1 \\\\\n",
       "\t21 & 123 & 2 & 3 & 8 & 1 \\\\\n",
       "\\end{tabular}\n"
      ],
      "text/plain": [
       "\u001b[1m21×5 DataFrame\u001b[0m\n",
       "\u001b[1m Row \u001b[0m│\u001b[1m step  \u001b[0m\u001b[1m id    \u001b[0m\u001b[1m pos   \u001b[0m\u001b[1m dest  \u001b[0m\u001b[1m head  \u001b[0m\n",
       "\u001b[1m     \u001b[0m│\u001b[90m Int64 \u001b[0m\u001b[90m Int64 \u001b[0m\u001b[90m Int64 \u001b[0m\u001b[90m Int64 \u001b[0m\u001b[90m Int64 \u001b[0m\n",
       "─────┼───────────────────────────────────\n",
       "   1 │   113      2     29      8      1\n",
       "   2 │   114      1     32     46      1\n",
       "   3 │   114      2     36      8      1\n",
       "   4 │   115      1     31     46      1\n",
       "   5 │   115      2     43      8      1\n",
       "   6 │   116      1     30     46      1\n",
       "   7 │   116      2     44      8      1\n",
       "   8 │   117      1     29     46      1\n",
       "   9 │   117      2     45      8      1\n",
       "  10 │   118      1     36     46      1\n",
       "  11 │   118      2     38      8      1\n",
       "  12 │   119      1     43     46      1\n",
       "  13 │   119      2     31      8      1\n",
       "  14 │   120      1     44     46      1\n",
       "  15 │   120      2     24      8      1\n",
       "  16 │   121      1     45     46      1\n",
       "  17 │   121      2     17      8      1\n",
       "  18 │   122      1     46     46      1\n",
       "  19 │   122      2     10      8      1\n",
       "  20 │   123      1     47     12      1\n",
       "  21 │   123      2      3      8      1"
      ]
     },
     "metadata": {},
     "output_type": "display_data"
    }
   ],
   "source": [
    "display(adf[end-20:end,:])"
   ]
  },
  {
   "cell_type": "code",
   "execution_count": 10,
   "metadata": {},
   "outputs": [
    {
     "data": {
      "text/plain": [
       "animate_warehouse (generic function with 1 method)"
      ]
     },
     "execution_count": 10,
     "metadata": {},
     "output_type": "execute_result"
    }
   ],
   "source": [
    "# function animate_warehouse(;warehouse,robot_step, warehouse_step,terminate_warehouse_sim,name,plot_fn,fps=4)\n",
    "#     n_agents = nagents(warehouse)\n",
    "#     anim = @animate for i in 0:1e6\n",
    "#         p1 = plot_fn()\n",
    "#         title!(p1, \"step:$(i),packages to dispatch:$(length(warehouse.properties[:package_list]))\")\n",
    "    \n",
    "#         if terminate_warehouse_sim(warehouse,i)\n",
    "#             break\n",
    "#         end\n",
    "#         step!(warehouse, robot_step,warehouse_step, 1,true)\n",
    "#     end\n",
    "#     gif(anim, name, fps = fps);\n",
    "# end"
   ]
  },
  {
   "cell_type": "code",
   "execution_count": 11,
   "metadata": {},
   "outputs": [
    {
     "name": "stderr",
     "output_type": "stream",
     "text": [
      "┌ Info: Saved animation to \n",
      "│   fn = /home/datalab/projects/agents/warehouse/nowait_warehouse_3_3_2.mp4\n",
      "└ @ Plots /home/datalab/.julia/packages/Plots/oZheM/src/animation.jl:104\n"
     ]
    },
    {
     "data": {
      "text/html": [
       "<video controls><source src=\"data:video/mp4;base64,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\" type = \"video/mp4\"></video>"
      ],
      "text/plain": [
       "Plots.AnimatedGif(\"/home/datalab/projects/agents/warehouse/nowait_warehouse_3_3_2.mp4\")"
      ]
     },
     "execution_count": 11,
     "metadata": {},
     "output_type": "execute_result"
    }
   ],
   "source": [
    "n_agents = nagents(warehouse)\n",
    "warehouse,plot_warehouse = init_experiment(ed01);\n",
    "m,n = ed01.m,ed01.n\n",
    "name =  \"nowait_warehouse_$(m)_$(n)_$(n_agents).mp4\"\n",
    "\n",
    "animate_warehouse(;warehouse=warehouse,\n",
    "    robot_step=robot_step_highway_nowait!,\n",
    "    warehouse_step = warehouse_step_highway!,\n",
    "    terminate_warehouse_sim=terminate_warehouse_sim,\n",
    "    name=name,\n",
    "    plot_fn=plot_warehouse)\n"
   ]
  },
  {
   "cell_type": "code",
   "execution_count": 9,
   "metadata": {},
   "outputs": [
    {
     "data": {
      "text/plain": [
       "Dict{Symbol, Any} with 8 entries:\n",
       "  :load_spot       => [8, 12]\n",
       "  :graph           => {49, 48} directed simple Int64 graph\n",
       "  :last_spot       => 2\n",
       "  :step            => 1\n",
       "  :used_load_spots => [0, 0]\n",
       "  :package_list    => [3, 4, 6, 4, 1, 3, 6, 1, 1, 5]\n",
       "  :dest_spot       => [30, 32, 34, 44, 46, 48]\n",
       "  :check_next_step => true"
      ]
     },
     "metadata": {},
     "output_type": "display_data"
    },
    {
     "data": {
      "text/plain": [
       "0"
      ]
     },
     "metadata": {},
     "output_type": "display_data"
    },
    {
     "data": {
      "text/plain": [
       "1"
      ]
     },
     "metadata": {},
     "output_type": "display_data"
    },
    {
     "data": {
      "text/plain": [
       "2"
      ]
     },
     "metadata": {},
     "output_type": "display_data"
    },
    {
     "data": {
      "text/plain": [
       "3"
      ]
     },
     "metadata": {},
     "output_type": "display_data"
    },
    {
     "data": {
      "text/plain": [
       "4"
      ]
     },
     "metadata": {},
     "output_type": "display_data"
    },
    {
     "data": {
      "text/plain": [
       "5"
      ]
     },
     "metadata": {},
     "output_type": "display_data"
    },
    {
     "data": {
      "text/plain": [
       "6"
      ]
     },
     "metadata": {},
     "output_type": "display_data"
    },
    {
     "data": {
      "text/plain": [
       "7"
      ]
     },
     "metadata": {},
     "output_type": "display_data"
    },
    {
     "data": {
      "text/plain": [
       "8"
      ]
     },
     "metadata": {},
     "output_type": "display_data"
    },
    {
     "data": {
      "text/plain": [
       "9"
      ]
     },
     "metadata": {},
     "output_type": "display_data"
    },
    {
     "data": {
      "text/plain": [
       "10"
      ]
     },
     "metadata": {},
     "output_type": "display_data"
    },
    {
     "data": {
      "text/plain": [
       "11"
      ]
     },
     "metadata": {},
     "output_type": "display_data"
    },
    {
     "data": {
      "text/plain": [
       "12"
      ]
     },
     "metadata": {},
     "output_type": "display_data"
    },
    {
     "data": {
      "text/plain": [
       "13"
      ]
     },
     "metadata": {},
     "output_type": "display_data"
    },
    {
     "data": {
      "text/plain": [
       "14"
      ]
     },
     "metadata": {},
     "output_type": "display_data"
    },
    {
     "data": {
      "text/plain": [
       "15"
      ]
     },
     "metadata": {},
     "output_type": "display_data"
    },
    {
     "data": {
      "text/plain": [
       "16"
      ]
     },
     "metadata": {},
     "output_type": "display_data"
    },
    {
     "data": {
      "text/plain": [
       "17"
      ]
     },
     "metadata": {},
     "output_type": "display_data"
    },
    {
     "data": {
      "text/plain": [
       "18"
      ]
     },
     "metadata": {},
     "output_type": "display_data"
    },
    {
     "data": {
      "text/plain": [
       "19"
      ]
     },
     "metadata": {},
     "output_type": "display_data"
    },
    {
     "data": {
      "text/plain": [
       "20"
      ]
     },
     "metadata": {},
     "output_type": "display_data"
    },
    {
     "data": {
      "text/plain": [
       "21"
      ]
     },
     "metadata": {},
     "output_type": "display_data"
    },
    {
     "data": {
      "text/plain": [
       "22"
      ]
     },
     "metadata": {},
     "output_type": "display_data"
    },
    {
     "data": {
      "text/plain": [
       "23"
      ]
     },
     "metadata": {},
     "output_type": "display_data"
    },
    {
     "data": {
      "text/plain": [
       "24"
      ]
     },
     "metadata": {},
     "output_type": "display_data"
    },
    {
     "data": {
      "text/plain": [
       "25"
      ]
     },
     "metadata": {},
     "output_type": "display_data"
    },
    {
     "data": {
      "text/plain": [
       "26"
      ]
     },
     "metadata": {},
     "output_type": "display_data"
    },
    {
     "data": {
      "text/plain": [
       "27"
      ]
     },
     "metadata": {},
     "output_type": "display_data"
    },
    {
     "data": {
      "text/plain": [
       "28"
      ]
     },
     "metadata": {},
     "output_type": "display_data"
    },
    {
     "data": {
      "text/plain": [
       "29"
      ]
     },
     "metadata": {},
     "output_type": "display_data"
    },
    {
     "data": {
      "text/plain": [
       "30"
      ]
     },
     "metadata": {},
     "output_type": "display_data"
    },
    {
     "data": {
      "text/plain": [
       "31"
      ]
     },
     "metadata": {},
     "output_type": "display_data"
    },
    {
     "data": {
      "text/plain": [
       "32"
      ]
     },
     "metadata": {},
     "output_type": "display_data"
    },
    {
     "data": {
      "text/plain": [
       "33"
      ]
     },
     "metadata": {},
     "output_type": "display_data"
    },
    {
     "data": {
      "text/plain": [
       "34"
      ]
     },
     "metadata": {},
     "output_type": "display_data"
    },
    {
     "data": {
      "text/plain": [
       "35"
      ]
     },
     "metadata": {},
     "output_type": "display_data"
    },
    {
     "data": {
      "text/plain": [
       "36"
      ]
     },
     "metadata": {},
     "output_type": "display_data"
    },
    {
     "data": {
      "text/plain": [
       "37"
      ]
     },
     "metadata": {},
     "output_type": "display_data"
    },
    {
     "data": {
      "text/plain": [
       "38"
      ]
     },
     "metadata": {},
     "output_type": "display_data"
    },
    {
     "data": {
      "text/plain": [
       "39"
      ]
     },
     "metadata": {},
     "output_type": "display_data"
    },
    {
     "data": {
      "text/plain": [
       "40"
      ]
     },
     "metadata": {},
     "output_type": "display_data"
    },
    {
     "data": {
      "text/plain": [
       "41"
      ]
     },
     "metadata": {},
     "output_type": "display_data"
    },
    {
     "data": {
      "text/plain": [
       "42"
      ]
     },
     "metadata": {},
     "output_type": "display_data"
    },
    {
     "data": {
      "text/plain": [
       "43"
      ]
     },
     "metadata": {},
     "output_type": "display_data"
    },
    {
     "data": {
      "text/plain": [
       "44"
      ]
     },
     "metadata": {},
     "output_type": "display_data"
    },
    {
     "data": {
      "text/plain": [
       "45"
      ]
     },
     "metadata": {},
     "output_type": "display_data"
    },
    {
     "data": {
      "text/plain": [
       "46"
      ]
     },
     "metadata": {},
     "output_type": "display_data"
    },
    {
     "data": {
      "text/plain": [
       "47"
      ]
     },
     "metadata": {},
     "output_type": "display_data"
    },
    {
     "data": {
      "text/plain": [
       "48"
      ]
     },
     "metadata": {},
     "output_type": "display_data"
    },
    {
     "data": {
      "text/plain": [
       "49"
      ]
     },
     "metadata": {},
     "output_type": "display_data"
    },
    {
     "data": {
      "text/plain": [
       "50"
      ]
     },
     "metadata": {},
     "output_type": "display_data"
    },
    {
     "data": {
      "text/plain": [
       "51"
      ]
     },
     "metadata": {},
     "output_type": "display_data"
    },
    {
     "data": {
      "text/plain": [
       "52"
      ]
     },
     "metadata": {},
     "output_type": "display_data"
    },
    {
     "data": {
      "text/plain": [
       "53"
      ]
     },
     "metadata": {},
     "output_type": "display_data"
    },
    {
     "data": {
      "text/plain": [
       "54"
      ]
     },
     "metadata": {},
     "output_type": "display_data"
    },
    {
     "data": {
      "text/plain": [
       "55"
      ]
     },
     "metadata": {},
     "output_type": "display_data"
    },
    {
     "data": {
      "text/plain": [
       "56"
      ]
     },
     "metadata": {},
     "output_type": "display_data"
    },
    {
     "data": {
      "text/plain": [
       "57"
      ]
     },
     "metadata": {},
     "output_type": "display_data"
    },
    {
     "data": {
      "text/plain": [
       "58"
      ]
     },
     "metadata": {},
     "output_type": "display_data"
    },
    {
     "data": {
      "text/plain": [
       "59"
      ]
     },
     "metadata": {},
     "output_type": "display_data"
    },
    {
     "data": {
      "text/plain": [
       "60"
      ]
     },
     "metadata": {},
     "output_type": "display_data"
    },
    {
     "data": {
      "text/plain": [
       "61"
      ]
     },
     "metadata": {},
     "output_type": "display_data"
    },
    {
     "data": {
      "text/plain": [
       "62"
      ]
     },
     "metadata": {},
     "output_type": "display_data"
    },
    {
     "data": {
      "text/plain": [
       "63"
      ]
     },
     "metadata": {},
     "output_type": "display_data"
    },
    {
     "data": {
      "text/plain": [
       "64"
      ]
     },
     "metadata": {},
     "output_type": "display_data"
    },
    {
     "data": {
      "text/plain": [
       "65"
      ]
     },
     "metadata": {},
     "output_type": "display_data"
    },
    {
     "data": {
      "text/plain": [
       "66"
      ]
     },
     "metadata": {},
     "output_type": "display_data"
    },
    {
     "data": {
      "text/plain": [
       "67"
      ]
     },
     "metadata": {},
     "output_type": "display_data"
    },
    {
     "data": {
      "text/plain": [
       "68"
      ]
     },
     "metadata": {},
     "output_type": "display_data"
    },
    {
     "data": {
      "text/plain": [
       "69"
      ]
     },
     "metadata": {},
     "output_type": "display_data"
    },
    {
     "data": {
      "text/plain": [
       "70"
      ]
     },
     "metadata": {},
     "output_type": "display_data"
    },
    {
     "data": {
      "text/plain": [
       "71"
      ]
     },
     "metadata": {},
     "output_type": "display_data"
    },
    {
     "data": {
      "text/plain": [
       "72"
      ]
     },
     "metadata": {},
     "output_type": "display_data"
    },
    {
     "data": {
      "text/plain": [
       "73"
      ]
     },
     "metadata": {},
     "output_type": "display_data"
    },
    {
     "data": {
      "text/plain": [
       "74"
      ]
     },
     "metadata": {},
     "output_type": "display_data"
    },
    {
     "data": {
      "text/plain": [
       "75"
      ]
     },
     "metadata": {},
     "output_type": "display_data"
    },
    {
     "data": {
      "text/plain": [
       "76"
      ]
     },
     "metadata": {},
     "output_type": "display_data"
    },
    {
     "data": {
      "text/plain": [
       "77"
      ]
     },
     "metadata": {},
     "output_type": "display_data"
    },
    {
     "data": {
      "text/plain": [
       "78"
      ]
     },
     "metadata": {},
     "output_type": "display_data"
    },
    {
     "data": {
      "text/plain": [
       "79"
      ]
     },
     "metadata": {},
     "output_type": "display_data"
    },
    {
     "data": {
      "text/plain": [
       "80"
      ]
     },
     "metadata": {},
     "output_type": "display_data"
    },
    {
     "data": {
      "text/plain": [
       "81"
      ]
     },
     "metadata": {},
     "output_type": "display_data"
    },
    {
     "data": {
      "text/plain": [
       "82"
      ]
     },
     "metadata": {},
     "output_type": "display_data"
    },
    {
     "data": {
      "text/plain": [
       "83"
      ]
     },
     "metadata": {},
     "output_type": "display_data"
    },
    {
     "data": {
      "text/plain": [
       "84"
      ]
     },
     "metadata": {},
     "output_type": "display_data"
    },
    {
     "data": {
      "text/plain": [
       "85"
      ]
     },
     "metadata": {},
     "output_type": "display_data"
    },
    {
     "data": {
      "text/plain": [
       "86"
      ]
     },
     "metadata": {},
     "output_type": "display_data"
    },
    {
     "data": {
      "text/plain": [
       "87"
      ]
     },
     "metadata": {},
     "output_type": "display_data"
    },
    {
     "data": {
      "text/plain": [
       "88"
      ]
     },
     "metadata": {},
     "output_type": "display_data"
    },
    {
     "data": {
      "text/plain": [
       "89"
      ]
     },
     "metadata": {},
     "output_type": "display_data"
    },
    {
     "data": {
      "text/plain": [
       "90"
      ]
     },
     "metadata": {},
     "output_type": "display_data"
    },
    {
     "data": {
      "text/plain": [
       "91"
      ]
     },
     "metadata": {},
     "output_type": "display_data"
    },
    {
     "data": {
      "text/plain": [
       "92"
      ]
     },
     "metadata": {},
     "output_type": "display_data"
    },
    {
     "data": {
      "text/plain": [
       "93"
      ]
     },
     "metadata": {},
     "output_type": "display_data"
    },
    {
     "data": {
      "text/plain": [
       "94"
      ]
     },
     "metadata": {},
     "output_type": "display_data"
    },
    {
     "data": {
      "text/plain": [
       "95"
      ]
     },
     "metadata": {},
     "output_type": "display_data"
    },
    {
     "data": {
      "text/plain": [
       "96"
      ]
     },
     "metadata": {},
     "output_type": "display_data"
    },
    {
     "data": {
      "text/plain": [
       "97"
      ]
     },
     "metadata": {},
     "output_type": "display_data"
    },
    {
     "data": {
      "text/plain": [
       "98"
      ]
     },
     "metadata": {},
     "output_type": "display_data"
    },
    {
     "data": {
      "text/plain": [
       "99"
      ]
     },
     "metadata": {},
     "output_type": "display_data"
    },
    {
     "data": {
      "text/plain": [
       "100"
      ]
     },
     "metadata": {},
     "output_type": "display_data"
    },
    {
     "data": {
      "text/plain": [
       "101"
      ]
     },
     "metadata": {},
     "output_type": "display_data"
    },
    {
     "data": {
      "text/plain": [
       "102"
      ]
     },
     "metadata": {},
     "output_type": "display_data"
    },
    {
     "data": {
      "text/plain": [
       "103"
      ]
     },
     "metadata": {},
     "output_type": "display_data"
    },
    {
     "data": {
      "text/plain": [
       "104"
      ]
     },
     "metadata": {},
     "output_type": "display_data"
    },
    {
     "data": {
      "text/plain": [
       "105"
      ]
     },
     "metadata": {},
     "output_type": "display_data"
    },
    {
     "data": {
      "text/plain": [
       "106"
      ]
     },
     "metadata": {},
     "output_type": "display_data"
    },
    {
     "data": {
      "text/plain": [
       "107"
      ]
     },
     "metadata": {},
     "output_type": "display_data"
    },
    {
     "data": {
      "text/plain": [
       "108"
      ]
     },
     "metadata": {},
     "output_type": "display_data"
    },
    {
     "data": {
      "text/plain": [
       "109"
      ]
     },
     "metadata": {},
     "output_type": "display_data"
    },
    {
     "data": {
      "text/plain": [
       "110"
      ]
     },
     "metadata": {},
     "output_type": "display_data"
    },
    {
     "data": {
      "text/plain": [
       "111"
      ]
     },
     "metadata": {},
     "output_type": "display_data"
    },
    {
     "data": {
      "text/plain": [
       "112"
      ]
     },
     "metadata": {},
     "output_type": "display_data"
    },
    {
     "data": {
      "text/plain": [
       "113"
      ]
     },
     "metadata": {},
     "output_type": "display_data"
    },
    {
     "data": {
      "text/plain": [
       "114"
      ]
     },
     "metadata": {},
     "output_type": "display_data"
    },
    {
     "data": {
      "text/plain": [
       "115"
      ]
     },
     "metadata": {},
     "output_type": "display_data"
    },
    {
     "data": {
      "text/plain": [
       "116"
      ]
     },
     "metadata": {},
     "output_type": "display_data"
    },
    {
     "data": {
      "text/plain": [
       "117"
      ]
     },
     "metadata": {},
     "output_type": "display_data"
    },
    {
     "data": {
      "text/plain": [
       "118"
      ]
     },
     "metadata": {},
     "output_type": "display_data"
    },
    {
     "data": {
      "text/plain": [
       "119"
      ]
     },
     "metadata": {},
     "output_type": "display_data"
    },
    {
     "data": {
      "text/plain": [
       "120"
      ]
     },
     "metadata": {},
     "output_type": "display_data"
    },
    {
     "data": {
      "text/plain": [
       "121"
      ]
     },
     "metadata": {},
     "output_type": "display_data"
    },
    {
     "data": {
      "text/plain": [
       "122"
      ]
     },
     "metadata": {},
     "output_type": "display_data"
    },
    {
     "data": {
      "text/plain": [
       "123"
      ]
     },
     "metadata": {},
     "output_type": "display_data"
    },
    {
     "name": "stderr",
     "output_type": "stream",
     "text": [
      "┌ Info: Saved animation to \n",
      "│   fn = /home/datalab/projects/agents/warehouse/nowait_warehouse_3_3_2.mp4\n",
      "└ @ Plots /home/datalab/.julia/packages/Plots/oZheM/src/animation.jl:104\n"
     ]
    }
   ],
   "source": [
    "warehouse,_ = init_warehouse()\n",
    "n_agents = nagents(warehouse)\n",
    "display(warehouse.properties)\n",
    "anim = @animate for i in 0:500\n",
    "    # p1 = plotabm(warehouse;am=(x,y)->:circle,as=robot_sizes,ac=robot_colors,x=p[:,2],y=p[:,1],curves=false,arrow=true,curvature_scalar=cs,size=(1000,1000))\n",
    "#     p1 = plotabm(warehouse;am=(x,y)->:rect,as=robot_sizes,ac=robot_colors,x=p[:,2],y=p[:,1],curves=false,arrow=false,curvature_scalar=cs,size=(2000,2000),linealpha=0.5,markerstrokewidth=0.0)\n",
    "    p1 = plot_warehouse()\n",
    "#     display(i)    \n",
    "    title!(p1, \"step:$(i),packages to dispatch:$(length(warehouse.properties[:package_list]))\")\n",
    "    if terminate_warehouse_sim(warehouse,i)\n",
    "        \n",
    "        break\n",
    "    end\n",
    "    step!(warehouse, robot_step_nowait!,warehouse_step!, 1,true)\n",
    "end\n",
    "gif(anim, \"nowait_warehouse_$(m)_$(n)_$(n_agents).mp4\", fps = 4);"
   ]
  },
  {
   "cell_type": "code",
   "execution_count": 10,
   "metadata": {},
   "outputs": [
    {
     "data": {
      "text/plain": [
       "124"
      ]
     },
     "execution_count": 10,
     "metadata": {},
     "output_type": "execute_result"
    }
   ],
   "source": [
    "warehouse.step"
   ]
  }
 ],
 "metadata": {
  "kernelspec": {
   "display_name": "Julia 1.6.2",
   "language": "julia",
   "name": "julia-1.6"
  },
  "language_info": {
   "file_extension": ".jl",
   "mimetype": "application/julia",
   "name": "julia",
   "version": "1.6.2"
  }
 },
 "nbformat": 4,
 "nbformat_minor": 5
}
