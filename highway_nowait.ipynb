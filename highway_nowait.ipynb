{
 "cells": [
  {
   "cell_type": "code",
   "execution_count": 1,
   "metadata": {},
   "outputs": [],
   "source": [
    "using Agents, Plots, LightGraphs, GraphRecipes, MetaGraphs, Random\n",
    "include(\"src/warehouse.jl\")\n",
    "include(\"src/highway.jl\");"
   ]
  },
  {
   "cell_type": "markdown",
   "metadata": {},
   "source": [
    "# Init Warehouse"
   ]
  },
  {
   "cell_type": "code",
   "execution_count": 2,
   "metadata": {},
   "outputs": [
    {
     "data": {
      "text/plain": [
       "({49, 48} directed simple Int64 graph, [1.0 1.0; 1.0 2.0; … ; 7.0 6.0; 7.0 7.0], [30, 32, 34, 44, 46, 48])"
      ]
     },
     "execution_count": 2,
     "metadata": {},
     "output_type": "execute_result"
    }
   ],
   "source": [
    "m,n = 3,3\n",
    "g,p,d = generate_warehouse_struct(m,n,d_start=2,graph_type=SimpleDiGraph)"
   ]
  },
  {
   "cell_type": "code",
   "execution_count": 3,
   "metadata": {},
   "outputs": [
    {
     "data": {
      "text/plain": [
       "init_warehouse (generic function with 1 method)"
      ]
     },
     "execution_count": 3,
     "metadata": {},
     "output_type": "execute_result"
    }
   ],
   "source": [
    "factor = 2\n",
    "function init_warehouse(;n_packages=10)\n",
    "    Random.seed!(1234)\n",
    "\n",
    "    ## Simulation \n",
    "    n_packages = 10\n",
    "    load_spots = [8,12]\n",
    "    package_list = rand(1:length(d),n_packages);\n",
    "\n",
    "    warehouse_space = GraphSpace(g)\n",
    "    model_props = Dict(:package_list=>package_list,\n",
    "    :load_spot=>load_spots,\n",
    "    :last_spot=> length(load_spots),\n",
    "    :dest_spot=>d,\n",
    "    :graph => g,\n",
    "    :step => 1,\n",
    "    :check_next_step => true,\n",
    "    :used_load_spots=>zeros(Int,(length(load_spots))))\n",
    "\n",
    "    warehouse = ABM(Robot, warehouse_space;properties= model_props)\n",
    "\n",
    "    add_agent!(Robot(1,2,0,1,[]),2, warehouse)\n",
    "    add_agent!(Robot(2,6,0,1,[]),6, warehouse)\n",
    "    return warehouse, model_props\n",
    "end"
   ]
  },
  {
   "cell_type": "code",
   "execution_count": 4,
   "metadata": {},
   "outputs": [
    {
     "data": {
      "text/plain": [
       "Dict{Symbol, Any} with 8 entries:\n",
       "  :load_spot       => [8, 12]\n",
       "  :graph           => {49, 48} directed simple Int64 graph\n",
       "  :last_spot       => 2\n",
       "  :step            => 1\n",
       "  :used_load_spots => [0, 0]\n",
       "  :package_list    => [3, 4, 6, 4, 1, 3, 6, 1, 1, 5]\n",
       "  :dest_spot       => [30, 32, 34, 44, 46, 48]\n",
       "  :check_next_step => true"
      ]
     },
     "metadata": {},
     "output_type": "display_data"
    }
   ],
   "source": [
    "warehouse, model_props = init_warehouse();\n",
    "display(warehouse.properties)\n",
    "\n",
    "\n",
    "dest_spot_grid = model_props[:dest_spot].-(2*n+1)\n",
    "\n",
    "robot_colors = (x,y)-> robot_colors_spots(x,y,model_props[:load_spot],dest_spot_grid)\n",
    "robot_sizes = (x,y,z) -> robot_sizes_spots(x,y,z,model_props[:load_spot],model_props[:dest_spot],dest_spot_grid,factor)\n",
    "\n",
    "cs=fill(0.05, nv(g), nv(g));\n",
    "\n",
    "plot_warehouse = ()-> plotabm(warehouse;am=(x,y)->:rect,as=robot_sizes,ac=robot_colors,x=p[:,2],y=p[:,1],curves=false,curvature_scalar=cs,size=(750,750),linealpha=0.5,markerstrokewidth=0.0,arrow=true);\n",
    "pl(model) = Vector(model.package_list);\n",
    "adata = [:pos, :dest,:head]\n",
    "mdata =[:last_spot,pl];"
   ]
  },
  {
   "cell_type": "markdown",
   "metadata": {},
   "source": [
    "# Init nowait"
   ]
  },
  {
   "cell_type": "code",
   "execution_count": 5,
   "metadata": {},
   "outputs": [
    {
     "data": {
      "text/plain": [
       "robot_step_nowait! (generic function with 1 method)"
      ]
     },
     "execution_count": 5,
     "metadata": {},
     "output_type": "execute_result"
    }
   ],
   "source": [
    "function robot_step_highway_nowait!(robot,model)\n",
    "    \n",
    "    move_now = true    \n",
    "#     println(model.step)\n",
    "    # if isempty(nearby_ids(robot,model))\n",
    "    # if !(robot.dest in [robot.pos for robot in nearby_agents(robot,model)])\n",
    "    \n",
    "    if robot_in_destination(robot,model)\n",
    "        robot.dest = 0        \n",
    "    end\n",
    "    \n",
    "    if robot.dest == 0        \n",
    "        give_robot_destination(robot,model)                                                     \n",
    "    end\n",
    "    \n",
    "    if isempty(model.package_list) & (robot.pos in model.load_spot) & (robot.dest in model.load_spot)\n",
    "        move_now=false\n",
    "    end\n",
    "    \n",
    "      \n",
    "            \n",
    "    if move_now == true #& ~isempty(robot.path)\n",
    "        if isempty(robot.path) & (robot.dest != 0 )\n",
    "            robot.path = a_star(model.graph,robot.pos,robot.dest)\n",
    "        end\n",
    "        if !isempty(robot.path)\n",
    "#             print(\"Hejbu se\")\n",
    "            next_step = robot.path[1].dst\n",
    "            # next_step = popfirst!(robot.path).dst\n",
    "            # pos = robot.pos\n",
    "            if !(next_step in [robot.pos for robot in nearby_agents(robot,model)])\n",
    "                move_agent!(robot,next_step,model)\n",
    "                popfirst!(robot.path)\n",
    "            end\n",
    "        end\n",
    "    end            \n",
    "    \n",
    "end          \n"
   ]
  },
  {
   "cell_type": "code",
   "execution_count": 6,
   "metadata": {},
   "outputs": [
    {
     "data": {
      "image/svg+xml": [
       "<?xml version=\"1.0\" encoding=\"utf-8\"?>\n",
       "<svg xmlns=\"http://www.w3.org/2000/svg\" xmlns:xlink=\"http://www.w3.org/1999/xlink\" width=\"750\" height=\"750\" viewBox=\"0 0 3000 3000\">\n",
       "<defs>\n",
       "  <clipPath id=\"clip370\">\n",
       "    <rect x=\"0\" y=\"0\" width=\"3000\" height=\"3000\"/>\n",
       "  </clipPath>\n",
       "</defs>\n",
       "<path clip-path=\"url(#clip370)\" d=\"\n",
       "M0 3000 L3000 3000 L3000 0 L0 0  Z\n",
       "  \" fill=\"#ffffff\" fill-rule=\"evenodd\" fill-opacity=\"1\"/>\n",
       "<defs>\n",
       "  <clipPath id=\"clip371\">\n",
       "    <rect x=\"600\" y=\"300\" width=\"2101\" height=\"2101\"/>\n",
       "  </clipPath>\n",
       "</defs>\n",
       "<path clip-path=\"url(#clip370)\" d=\"\n",
       "M92.9921 2907.01 L2952.76 2907.01 L2952.76 47.2441 L92.9921 47.2441  Z\n",
       "  \" fill=\"#ffffff\" fill-rule=\"evenodd\" fill-opacity=\"1\"/>\n",
       "<defs>\n",
       "  <clipPath id=\"clip372\">\n",
       "    <rect x=\"92\" y=\"47\" width=\"2861\" height=\"2861\"/>\n",
       "  </clipPath>\n",
       "</defs>\n",
       "<polyline clip-path=\"url(#clip372)\" style=\"stroke:#000000; stroke-width:4; stroke-opacity:0.5; fill:none\" points=\"\n",
       "  501.53,2498.47 503.232,2175.04 \n",
       "  \"/>\n",
       "<polyline clip-path=\"url(#clip372)\" style=\"stroke:#000000; stroke-width:4; stroke-opacity:0.5; fill:none\" points=\"\n",
       "  480.496,2219.93 503.232,2175.04 525.495,2220.16 \n",
       "  \"/>\n",
       "<polyline clip-path=\"url(#clip372)\" style=\"stroke:#000000; stroke-width:4; stroke-opacity:0.5; fill:none\" points=\"\n",
       "  503.232,2175.04 501.53,2498.47 \n",
       "  \"/>\n",
       "<polyline clip-path=\"url(#clip372)\" style=\"stroke:#000000; stroke-width:4; stroke-opacity:0.5; fill:none\" points=\"\n",
       "  841.978,2498.47 518.552,2496.77 \n",
       "  \"/>\n",
       "<polyline clip-path=\"url(#clip372)\" style=\"stroke:#000000; stroke-width:4; stroke-opacity:0.5; fill:none\" points=\"\n",
       "  563.433,2519.5 518.552,2496.77 563.67,2474.51 \n",
       "  \"/>\n",
       "<polyline clip-path=\"url(#clip372)\" style=\"stroke:#000000; stroke-width:4; stroke-opacity:0.5; fill:none\" points=\"\n",
       "  518.552,2496.77 841.978,2498.47 \n",
       "  \"/>\n",
       "<polyline clip-path=\"url(#clip372)\" style=\"stroke:#000000; stroke-width:4; stroke-opacity:0.5; fill:none\" points=\"\n",
       "  1182.43,2498.47 893.045,2493.36 \n",
       "  \"/>\n",
       "<polyline clip-path=\"url(#clip372)\" style=\"stroke:#000000; stroke-width:4; stroke-opacity:0.5; fill:none\" points=\"\n",
       "  937.641,2516.65 893.045,2493.36 938.435,2471.66 \n",
       "  \"/>\n",
       "<polyline clip-path=\"url(#clip372)\" style=\"stroke:#000000; stroke-width:4; stroke-opacity:0.5; fill:none\" points=\"\n",
       "  893.045,2493.36 1182.43,2498.47 \n",
       "  \"/>\n",
       "<polyline clip-path=\"url(#clip372)\" style=\"stroke:#000000; stroke-width:4; stroke-opacity:0.5; fill:none\" points=\"\n",
       "  1522.87,2498.47 1199.45,2496.77 \n",
       "  \"/>\n",
       "<polyline clip-path=\"url(#clip372)\" style=\"stroke:#000000; stroke-width:4; stroke-opacity:0.5; fill:none\" points=\"\n",
       "  1244.33,2519.5 1199.45,2496.77 1244.57,2474.51 \n",
       "  \"/>\n",
       "<polyline clip-path=\"url(#clip372)\" style=\"stroke:#000000; stroke-width:4; stroke-opacity:0.5; fill:none\" points=\"\n",
       "  1199.45,2496.77 1522.87,2498.47 \n",
       "  \"/>\n",
       "<polyline clip-path=\"url(#clip372)\" style=\"stroke:#000000; stroke-width:4; stroke-opacity:0.5; fill:none\" points=\"\n",
       "  1863.32,2498.47 1539.9,2496.77 \n",
       "  \"/>\n",
       "<polyline clip-path=\"url(#clip372)\" style=\"stroke:#000000; stroke-width:4; stroke-opacity:0.5; fill:none\" points=\"\n",
       "  1584.78,2519.5 1539.9,2496.77 1585.01,2474.51 \n",
       "  \"/>\n",
       "<polyline clip-path=\"url(#clip372)\" style=\"stroke:#000000; stroke-width:4; stroke-opacity:0.5; fill:none\" points=\"\n",
       "  1539.9,2496.77 1863.32,2498.47 \n",
       "  \"/>\n",
       "<polyline clip-path=\"url(#clip372)\" style=\"stroke:#000000; stroke-width:4; stroke-opacity:0.5; fill:none\" points=\"\n",
       "  1863.32,2498.47 1865.02,2175.04 \n",
       "  \"/>\n",
       "<polyline clip-path=\"url(#clip372)\" style=\"stroke:#000000; stroke-width:4; stroke-opacity:0.5; fill:none\" points=\"\n",
       "  1842.29,2219.93 1865.02,2175.04 1887.29,2220.16 \n",
       "  \"/>\n",
       "<polyline clip-path=\"url(#clip372)\" style=\"stroke:#000000; stroke-width:4; stroke-opacity:0.5; fill:none\" points=\"\n",
       "  1865.02,2175.04 1863.32,2498.47 \n",
       "  \"/>\n",
       "<polyline clip-path=\"url(#clip372)\" style=\"stroke:#000000; stroke-width:4; stroke-opacity:0.5; fill:none\" points=\"\n",
       "  2203.77,2498.47 1880.34,2496.77 \n",
       "  \"/>\n",
       "<polyline clip-path=\"url(#clip372)\" style=\"stroke:#000000; stroke-width:4; stroke-opacity:0.5; fill:none\" points=\"\n",
       "  1925.23,2519.5 1880.34,2496.77 1925.46,2474.51 \n",
       "  \"/>\n",
       "<polyline clip-path=\"url(#clip372)\" style=\"stroke:#000000; stroke-width:4; stroke-opacity:0.5; fill:none\" points=\"\n",
       "  1880.34,2496.77 2203.77,2498.47 \n",
       "  \"/>\n",
       "<polyline clip-path=\"url(#clip372)\" style=\"stroke:#000000; stroke-width:4; stroke-opacity:0.5; fill:none\" points=\"\n",
       "  2544.22,2498.47 2254.84,2493.36 \n",
       "  \"/>\n",
       "<polyline clip-path=\"url(#clip372)\" style=\"stroke:#000000; stroke-width:4; stroke-opacity:0.5; fill:none\" points=\"\n",
       "  2299.43,2516.65 2254.84,2493.36 2300.23,2471.66 \n",
       "  \"/>\n",
       "<polyline clip-path=\"url(#clip372)\" style=\"stroke:#000000; stroke-width:4; stroke-opacity:0.5; fill:none\" points=\"\n",
       "  2254.84,2493.36 2544.22,2498.47 \n",
       "  \"/>\n",
       "<polyline clip-path=\"url(#clip372)\" style=\"stroke:#000000; stroke-width:4; stroke-opacity:0.5; fill:none\" points=\"\n",
       "  501.53,2158.02 503.232,1834.6 \n",
       "  \"/>\n",
       "<polyline clip-path=\"url(#clip372)\" style=\"stroke:#000000; stroke-width:4; stroke-opacity:0.5; fill:none\" points=\"\n",
       "  480.496,1879.48 503.232,1834.6 525.495,1879.71 \n",
       "  \"/>\n",
       "<polyline clip-path=\"url(#clip372)\" style=\"stroke:#000000; stroke-width:4; stroke-opacity:0.5; fill:none\" points=\"\n",
       "  503.232,1834.6 501.53,2158.02 \n",
       "  \"/>\n",
       "<polyline clip-path=\"url(#clip372)\" style=\"stroke:#000000; stroke-width:4; stroke-opacity:0.5; fill:none\" points=\"\n",
       "  1182.43,2158.02 1184.13,2481.45 \n",
       "  \"/>\n",
       "<polyline clip-path=\"url(#clip372)\" style=\"stroke:#000000; stroke-width:4; stroke-opacity:0.5; fill:none\" points=\"\n",
       "  1206.39,2436.33 1184.13,2481.45 1161.39,2436.57 \n",
       "  \"/>\n",
       "<polyline clip-path=\"url(#clip372)\" style=\"stroke:#000000; stroke-width:4; stroke-opacity:0.5; fill:none\" points=\"\n",
       "  1184.13,2481.45 1182.43,2158.02 \n",
       "  \"/>\n",
       "<polyline clip-path=\"url(#clip372)\" style=\"stroke:#000000; stroke-width:4; stroke-opacity:0.5; fill:none\" points=\"\n",
       "  1863.32,2158.02 1865.02,1834.6 \n",
       "  \"/>\n",
       "<polyline clip-path=\"url(#clip372)\" style=\"stroke:#000000; stroke-width:4; stroke-opacity:0.5; fill:none\" points=\"\n",
       "  1842.29,1879.48 1865.02,1834.6 1887.29,1879.71 \n",
       "  \"/>\n",
       "<polyline clip-path=\"url(#clip372)\" style=\"stroke:#000000; stroke-width:4; stroke-opacity:0.5; fill:none\" points=\"\n",
       "  1865.02,1834.6 1863.32,2158.02 \n",
       "  \"/>\n",
       "<polyline clip-path=\"url(#clip372)\" style=\"stroke:#000000; stroke-width:4; stroke-opacity:0.5; fill:none\" points=\"\n",
       "  2544.22,2158.02 2545.92,2481.45 \n",
       "  \"/>\n",
       "<polyline clip-path=\"url(#clip372)\" style=\"stroke:#000000; stroke-width:4; stroke-opacity:0.5; fill:none\" points=\"\n",
       "  2568.18,2436.33 2545.92,2481.45 2523.18,2436.57 \n",
       "  \"/>\n",
       "<polyline clip-path=\"url(#clip372)\" style=\"stroke:#000000; stroke-width:4; stroke-opacity:0.5; fill:none\" points=\"\n",
       "  2545.92,2481.45 2544.22,2158.02 \n",
       "  \"/>\n",
       "<polyline clip-path=\"url(#clip372)\" style=\"stroke:#000000; stroke-width:4; stroke-opacity:0.5; fill:none\" points=\"\n",
       "  501.53,1817.57 824.955,1819.28 \n",
       "  \"/>\n",
       "<polyline clip-path=\"url(#clip372)\" style=\"stroke:#000000; stroke-width:4; stroke-opacity:0.5; fill:none\" points=\"\n",
       "  780.075,1796.54 824.955,1819.28 779.838,1841.54 \n",
       "  \"/>\n",
       "<polyline clip-path=\"url(#clip372)\" style=\"stroke:#000000; stroke-width:4; stroke-opacity:0.5; fill:none\" points=\"\n",
       "  824.955,1819.28 501.53,1817.57 \n",
       "  \"/>\n",
       "<polyline clip-path=\"url(#clip372)\" style=\"stroke:#000000; stroke-width:4; stroke-opacity:0.5; fill:none\" points=\"\n",
       "  501.53,1817.57 503.232,1494.15 \n",
       "  \"/>\n",
       "<polyline clip-path=\"url(#clip372)\" style=\"stroke:#000000; stroke-width:4; stroke-opacity:0.5; fill:none\" points=\"\n",
       "  480.496,1539.03 503.232,1494.15 525.495,1539.27 \n",
       "  \"/>\n",
       "<polyline clip-path=\"url(#clip372)\" style=\"stroke:#000000; stroke-width:4; stroke-opacity:0.5; fill:none\" points=\"\n",
       "  503.232,1494.15 501.53,1817.57 \n",
       "  \"/>\n",
       "<polyline clip-path=\"url(#clip372)\" style=\"stroke:#000000; stroke-width:4; stroke-opacity:0.5; fill:none\" points=\"\n",
       "  841.978,1817.57 1165.4,1819.28 \n",
       "  \"/>\n",
       "<polyline clip-path=\"url(#clip372)\" style=\"stroke:#000000; stroke-width:4; stroke-opacity:0.5; fill:none\" points=\"\n",
       "  1120.52,1796.54 1165.4,1819.28 1120.29,1841.54 \n",
       "  \"/>\n",
       "<polyline clip-path=\"url(#clip372)\" style=\"stroke:#000000; stroke-width:4; stroke-opacity:0.5; fill:none\" points=\"\n",
       "  1165.4,1819.28 841.978,1817.57 \n",
       "  \"/>\n",
       "<polyline clip-path=\"url(#clip372)\" style=\"stroke:#000000; stroke-width:4; stroke-opacity:0.5; fill:none\" points=\"\n",
       "  1182.43,1817.57 1184.13,2141 \n",
       "  \"/>\n",
       "<polyline clip-path=\"url(#clip372)\" style=\"stroke:#000000; stroke-width:4; stroke-opacity:0.5; fill:none\" points=\"\n",
       "  1206.39,2095.88 1184.13,2141 1161.39,2096.12 \n",
       "  \"/>\n",
       "<polyline clip-path=\"url(#clip372)\" style=\"stroke:#000000; stroke-width:4; stroke-opacity:0.5; fill:none\" points=\"\n",
       "  1184.13,2141 1182.43,1817.57 \n",
       "  \"/>\n",
       "<polyline clip-path=\"url(#clip372)\" style=\"stroke:#000000; stroke-width:4; stroke-opacity:0.5; fill:none\" points=\"\n",
       "  1182.43,1817.57 1505.85,1819.28 \n",
       "  \"/>\n",
       "<polyline clip-path=\"url(#clip372)\" style=\"stroke:#000000; stroke-width:4; stroke-opacity:0.5; fill:none\" points=\"\n",
       "  1460.97,1796.54 1505.85,1819.28 1460.73,1841.54 \n",
       "  \"/>\n",
       "<polyline clip-path=\"url(#clip372)\" style=\"stroke:#000000; stroke-width:4; stroke-opacity:0.5; fill:none\" points=\"\n",
       "  1505.85,1819.28 1182.43,1817.57 \n",
       "  \"/>\n",
       "<polyline clip-path=\"url(#clip372)\" style=\"stroke:#000000; stroke-width:4; stroke-opacity:0.5; fill:none\" points=\"\n",
       "  1522.87,1817.57 1846.3,1819.28 \n",
       "  \"/>\n",
       "<polyline clip-path=\"url(#clip372)\" style=\"stroke:#000000; stroke-width:4; stroke-opacity:0.5; fill:none\" points=\"\n",
       "  1801.42,1796.54 1846.3,1819.28 1801.18,1841.54 \n",
       "  \"/>\n",
       "<polyline clip-path=\"url(#clip372)\" style=\"stroke:#000000; stroke-width:4; stroke-opacity:0.5; fill:none\" points=\"\n",
       "  1846.3,1819.28 1522.87,1817.57 \n",
       "  \"/>\n",
       "<polyline clip-path=\"url(#clip372)\" style=\"stroke:#000000; stroke-width:4; stroke-opacity:0.5; fill:none\" points=\"\n",
       "  1863.32,1817.57 2186.75,1819.28 \n",
       "  \"/>\n",
       "<polyline clip-path=\"url(#clip372)\" style=\"stroke:#000000; stroke-width:4; stroke-opacity:0.5; fill:none\" points=\"\n",
       "  2141.87,1796.54 2186.75,1819.28 2141.63,1841.54 \n",
       "  \"/>\n",
       "<polyline clip-path=\"url(#clip372)\" style=\"stroke:#000000; stroke-width:4; stroke-opacity:0.5; fill:none\" points=\"\n",
       "  2186.75,1819.28 1863.32,1817.57 \n",
       "  \"/>\n",
       "<polyline clip-path=\"url(#clip372)\" style=\"stroke:#000000; stroke-width:4; stroke-opacity:0.5; fill:none\" points=\"\n",
       "  1863.32,1817.57 1865.02,1494.15 \n",
       "  \"/>\n",
       "<polyline clip-path=\"url(#clip372)\" style=\"stroke:#000000; stroke-width:4; stroke-opacity:0.5; fill:none\" points=\"\n",
       "  1842.29,1539.03 1865.02,1494.15 1887.29,1539.27 \n",
       "  \"/>\n",
       "<polyline clip-path=\"url(#clip372)\" style=\"stroke:#000000; stroke-width:4; stroke-opacity:0.5; fill:none\" points=\"\n",
       "  1865.02,1494.15 1863.32,1817.57 \n",
       "  \"/>\n",
       "<polyline clip-path=\"url(#clip372)\" style=\"stroke:#000000; stroke-width:4; stroke-opacity:0.5; fill:none\" points=\"\n",
       "  2203.77,1817.57 2527.2,1819.28 \n",
       "  \"/>\n",
       "<polyline clip-path=\"url(#clip372)\" style=\"stroke:#000000; stroke-width:4; stroke-opacity:0.5; fill:none\" points=\"\n",
       "  2482.31,1796.54 2527.2,1819.28 2482.08,1841.54 \n",
       "  \"/>\n",
       "<polyline clip-path=\"url(#clip372)\" style=\"stroke:#000000; stroke-width:4; stroke-opacity:0.5; fill:none\" points=\"\n",
       "  2527.2,1819.28 2203.77,1817.57 \n",
       "  \"/>\n",
       "<polyline clip-path=\"url(#clip372)\" style=\"stroke:#000000; stroke-width:4; stroke-opacity:0.5; fill:none\" points=\"\n",
       "  2544.22,1817.57 2545.92,2141 \n",
       "  \"/>\n",
       "<polyline clip-path=\"url(#clip372)\" style=\"stroke:#000000; stroke-width:4; stroke-opacity:0.5; fill:none\" points=\"\n",
       "  2568.18,2095.88 2545.92,2141 2523.18,2096.12 \n",
       "  \"/>\n",
       "<polyline clip-path=\"url(#clip372)\" style=\"stroke:#000000; stroke-width:4; stroke-opacity:0.5; fill:none\" points=\"\n",
       "  2545.92,2141 2544.22,1817.57 \n",
       "  \"/>\n",
       "<polyline clip-path=\"url(#clip372)\" style=\"stroke:#000000; stroke-width:4; stroke-opacity:0.5; fill:none\" points=\"\n",
       "  501.53,1477.13 503.232,1153.7 \n",
       "  \"/>\n",
       "<polyline clip-path=\"url(#clip372)\" style=\"stroke:#000000; stroke-width:4; stroke-opacity:0.5; fill:none\" points=\"\n",
       "  480.496,1198.58 503.232,1153.7 525.495,1198.82 \n",
       "  \"/>\n",
       "<polyline clip-path=\"url(#clip372)\" style=\"stroke:#000000; stroke-width:4; stroke-opacity:0.5; fill:none\" points=\"\n",
       "  503.232,1153.7 501.53,1477.13 \n",
       "  \"/>\n",
       "<polyline clip-path=\"url(#clip372)\" style=\"stroke:#000000; stroke-width:4; stroke-opacity:0.5; fill:none\" points=\"\n",
       "  1182.43,1477.13 1184.13,1800.55 \n",
       "  \"/>\n",
       "<polyline clip-path=\"url(#clip372)\" style=\"stroke:#000000; stroke-width:4; stroke-opacity:0.5; fill:none\" points=\"\n",
       "  1206.39,1755.43 1184.13,1800.55 1161.39,1755.67 \n",
       "  \"/>\n",
       "<polyline clip-path=\"url(#clip372)\" style=\"stroke:#000000; stroke-width:4; stroke-opacity:0.5; fill:none\" points=\"\n",
       "  1184.13,1800.55 1182.43,1477.13 \n",
       "  \"/>\n",
       "<polyline clip-path=\"url(#clip372)\" style=\"stroke:#000000; stroke-width:4; stroke-opacity:0.5; fill:none\" points=\"\n",
       "  1863.32,1477.13 1865.02,1153.7 \n",
       "  \"/>\n",
       "<polyline clip-path=\"url(#clip372)\" style=\"stroke:#000000; stroke-width:4; stroke-opacity:0.5; fill:none\" points=\"\n",
       "  1842.29,1198.58 1865.02,1153.7 1887.29,1198.82 \n",
       "  \"/>\n",
       "<polyline clip-path=\"url(#clip372)\" style=\"stroke:#000000; stroke-width:4; stroke-opacity:0.5; fill:none\" points=\"\n",
       "  1865.02,1153.7 1863.32,1477.13 \n",
       "  \"/>\n",
       "<polyline clip-path=\"url(#clip372)\" style=\"stroke:#000000; stroke-width:4; stroke-opacity:0.5; fill:none\" points=\"\n",
       "  2544.22,1477.13 2545.92,1800.55 \n",
       "  \"/>\n",
       "<polyline clip-path=\"url(#clip372)\" style=\"stroke:#000000; stroke-width:4; stroke-opacity:0.5; fill:none\" points=\"\n",
       "  2568.18,1755.43 2545.92,1800.55 2523.18,1755.67 \n",
       "  \"/>\n",
       "<polyline clip-path=\"url(#clip372)\" style=\"stroke:#000000; stroke-width:4; stroke-opacity:0.5; fill:none\" points=\"\n",
       "  2545.92,1800.55 2544.22,1477.13 \n",
       "  \"/>\n",
       "<polyline clip-path=\"url(#clip372)\" style=\"stroke:#000000; stroke-width:4; stroke-opacity:0.5; fill:none\" points=\"\n",
       "  501.53,1136.68 503.232,813.252 \n",
       "  \"/>\n",
       "<polyline clip-path=\"url(#clip372)\" style=\"stroke:#000000; stroke-width:4; stroke-opacity:0.5; fill:none\" points=\"\n",
       "  480.496,858.133 503.232,813.252 525.495,858.37 \n",
       "  \"/>\n",
       "<polyline clip-path=\"url(#clip372)\" style=\"stroke:#000000; stroke-width:4; stroke-opacity:0.5; fill:none\" points=\"\n",
       "  503.232,813.252 501.53,1136.68 \n",
       "  \"/>\n",
       "<polyline clip-path=\"url(#clip372)\" style=\"stroke:#000000; stroke-width:4; stroke-opacity:0.5; fill:none\" points=\"\n",
       "  841.978,1136.68 518.552,1134.98 \n",
       "  \"/>\n",
       "<polyline clip-path=\"url(#clip372)\" style=\"stroke:#000000; stroke-width:4; stroke-opacity:0.5; fill:none\" points=\"\n",
       "  563.433,1157.71 518.552,1134.98 563.67,1112.71 \n",
       "  \"/>\n",
       "<polyline clip-path=\"url(#clip372)\" style=\"stroke:#000000; stroke-width:4; stroke-opacity:0.5; fill:none\" points=\"\n",
       "  518.552,1134.98 841.978,1136.68 \n",
       "  \"/>\n",
       "<polyline clip-path=\"url(#clip372)\" style=\"stroke:#000000; stroke-width:4; stroke-opacity:0.5; fill:none\" points=\"\n",
       "  1182.43,1136.68 1184.13,1460.1 \n",
       "  \"/>\n",
       "<polyline clip-path=\"url(#clip372)\" style=\"stroke:#000000; stroke-width:4; stroke-opacity:0.5; fill:none\" points=\"\n",
       "  1206.39,1414.99 1184.13,1460.1 1161.39,1415.22 \n",
       "  \"/>\n",
       "<polyline clip-path=\"url(#clip372)\" style=\"stroke:#000000; stroke-width:4; stroke-opacity:0.5; fill:none\" points=\"\n",
       "  1184.13,1460.1 1182.43,1136.68 \n",
       "  \"/>\n",
       "<polyline clip-path=\"url(#clip372)\" style=\"stroke:#000000; stroke-width:4; stroke-opacity:0.5; fill:none\" points=\"\n",
       "  1182.43,1136.68 859,1134.98 \n",
       "  \"/>\n",
       "<polyline clip-path=\"url(#clip372)\" style=\"stroke:#000000; stroke-width:4; stroke-opacity:0.5; fill:none\" points=\"\n",
       "  903.881,1157.71 859,1134.98 904.118,1112.71 \n",
       "  \"/>\n",
       "<polyline clip-path=\"url(#clip372)\" style=\"stroke:#000000; stroke-width:4; stroke-opacity:0.5; fill:none\" points=\"\n",
       "  859,1134.98 1182.43,1136.68 \n",
       "  \"/>\n",
       "<polyline clip-path=\"url(#clip372)\" style=\"stroke:#000000; stroke-width:4; stroke-opacity:0.5; fill:none\" points=\"\n",
       "  1522.87,1136.68 1199.45,1134.98 \n",
       "  \"/>\n",
       "<polyline clip-path=\"url(#clip372)\" style=\"stroke:#000000; stroke-width:4; stroke-opacity:0.5; fill:none\" points=\"\n",
       "  1244.33,1157.71 1199.45,1134.98 1244.57,1112.71 \n",
       "  \"/>\n",
       "<polyline clip-path=\"url(#clip372)\" style=\"stroke:#000000; stroke-width:4; stroke-opacity:0.5; fill:none\" points=\"\n",
       "  1199.45,1134.98 1522.87,1136.68 \n",
       "  \"/>\n",
       "<polyline clip-path=\"url(#clip372)\" style=\"stroke:#000000; stroke-width:4; stroke-opacity:0.5; fill:none\" points=\"\n",
       "  1863.32,1136.68 1539.9,1134.98 \n",
       "  \"/>\n",
       "<polyline clip-path=\"url(#clip372)\" style=\"stroke:#000000; stroke-width:4; stroke-opacity:0.5; fill:none\" points=\"\n",
       "  1584.78,1157.71 1539.9,1134.98 1585.01,1112.71 \n",
       "  \"/>\n",
       "<polyline clip-path=\"url(#clip372)\" style=\"stroke:#000000; stroke-width:4; stroke-opacity:0.5; fill:none\" points=\"\n",
       "  1539.9,1134.98 1863.32,1136.68 \n",
       "  \"/>\n",
       "<polyline clip-path=\"url(#clip372)\" style=\"stroke:#000000; stroke-width:4; stroke-opacity:0.5; fill:none\" points=\"\n",
       "  1863.32,1136.68 1865.02,813.252 \n",
       "  \"/>\n",
       "<polyline clip-path=\"url(#clip372)\" style=\"stroke:#000000; stroke-width:4; stroke-opacity:0.5; fill:none\" points=\"\n",
       "  1842.29,858.133 1865.02,813.252 1887.29,858.37 \n",
       "  \"/>\n",
       "<polyline clip-path=\"url(#clip372)\" style=\"stroke:#000000; stroke-width:4; stroke-opacity:0.5; fill:none\" points=\"\n",
       "  1865.02,813.252 1863.32,1136.68 \n",
       "  \"/>\n",
       "<polyline clip-path=\"url(#clip372)\" style=\"stroke:#000000; stroke-width:4; stroke-opacity:0.5; fill:none\" points=\"\n",
       "  2203.77,1136.68 1880.34,1134.98 \n",
       "  \"/>\n",
       "<polyline clip-path=\"url(#clip372)\" style=\"stroke:#000000; stroke-width:4; stroke-opacity:0.5; fill:none\" points=\"\n",
       "  1925.23,1157.71 1880.34,1134.98 1925.46,1112.71 \n",
       "  \"/>\n",
       "<polyline clip-path=\"url(#clip372)\" style=\"stroke:#000000; stroke-width:4; stroke-opacity:0.5; fill:none\" points=\"\n",
       "  1880.34,1134.98 2203.77,1136.68 \n",
       "  \"/>\n",
       "<polyline clip-path=\"url(#clip372)\" style=\"stroke:#000000; stroke-width:4; stroke-opacity:0.5; fill:none\" points=\"\n",
       "  2544.22,1136.68 2545.92,1460.1 \n",
       "  \"/>\n",
       "<polyline clip-path=\"url(#clip372)\" style=\"stroke:#000000; stroke-width:4; stroke-opacity:0.5; fill:none\" points=\"\n",
       "  2568.18,1414.99 2545.92,1460.1 2523.18,1415.22 \n",
       "  \"/>\n",
       "<polyline clip-path=\"url(#clip372)\" style=\"stroke:#000000; stroke-width:4; stroke-opacity:0.5; fill:none\" points=\"\n",
       "  2545.92,1460.1 2544.22,1136.68 \n",
       "  \"/>\n",
       "<polyline clip-path=\"url(#clip372)\" style=\"stroke:#000000; stroke-width:4; stroke-opacity:0.5; fill:none\" points=\"\n",
       "  2544.22,1136.68 2220.79,1134.98 \n",
       "  \"/>\n",
       "<polyline clip-path=\"url(#clip372)\" style=\"stroke:#000000; stroke-width:4; stroke-opacity:0.5; fill:none\" points=\"\n",
       "  2265.67,1157.71 2220.79,1134.98 2265.91,1112.71 \n",
       "  \"/>\n",
       "<polyline clip-path=\"url(#clip372)\" style=\"stroke:#000000; stroke-width:4; stroke-opacity:0.5; fill:none\" points=\"\n",
       "  2220.79,1134.98 2544.22,1136.68 \n",
       "  \"/>\n",
       "<polyline clip-path=\"url(#clip372)\" style=\"stroke:#000000; stroke-width:4; stroke-opacity:0.5; fill:none\" points=\"\n",
       "  501.53,796.23 503.232,472.804 \n",
       "  \"/>\n",
       "<polyline clip-path=\"url(#clip372)\" style=\"stroke:#000000; stroke-width:4; stroke-opacity:0.5; fill:none\" points=\"\n",
       "  480.496,517.685 503.232,472.804 525.495,517.922 \n",
       "  \"/>\n",
       "<polyline clip-path=\"url(#clip372)\" style=\"stroke:#000000; stroke-width:4; stroke-opacity:0.5; fill:none\" points=\"\n",
       "  503.232,472.804 501.53,796.23 \n",
       "  \"/>\n",
       "<polyline clip-path=\"url(#clip372)\" style=\"stroke:#000000; stroke-width:4; stroke-opacity:0.5; fill:none\" points=\"\n",
       "  1182.43,796.23 1184.13,1119.66 \n",
       "  \"/>\n",
       "<polyline clip-path=\"url(#clip372)\" style=\"stroke:#000000; stroke-width:4; stroke-opacity:0.5; fill:none\" points=\"\n",
       "  1206.39,1074.54 1184.13,1119.66 1161.39,1074.77 \n",
       "  \"/>\n",
       "<polyline clip-path=\"url(#clip372)\" style=\"stroke:#000000; stroke-width:4; stroke-opacity:0.5; fill:none\" points=\"\n",
       "  1184.13,1119.66 1182.43,796.23 \n",
       "  \"/>\n",
       "<polyline clip-path=\"url(#clip372)\" style=\"stroke:#000000; stroke-width:4; stroke-opacity:0.5; fill:none\" points=\"\n",
       "  1863.32,796.23 1865.02,472.804 \n",
       "  \"/>\n",
       "<polyline clip-path=\"url(#clip372)\" style=\"stroke:#000000; stroke-width:4; stroke-opacity:0.5; fill:none\" points=\"\n",
       "  1842.29,517.685 1865.02,472.804 1887.29,517.922 \n",
       "  \"/>\n",
       "<polyline clip-path=\"url(#clip372)\" style=\"stroke:#000000; stroke-width:4; stroke-opacity:0.5; fill:none\" points=\"\n",
       "  1865.02,472.804 1863.32,796.23 \n",
       "  \"/>\n",
       "<polyline clip-path=\"url(#clip372)\" style=\"stroke:#000000; stroke-width:4; stroke-opacity:0.5; fill:none\" points=\"\n",
       "  2544.22,796.23 2545.92,1119.66 \n",
       "  \"/>\n",
       "<polyline clip-path=\"url(#clip372)\" style=\"stroke:#000000; stroke-width:4; stroke-opacity:0.5; fill:none\" points=\"\n",
       "  2568.18,1074.54 2545.92,1119.66 2523.18,1074.77 \n",
       "  \"/>\n",
       "<polyline clip-path=\"url(#clip372)\" style=\"stroke:#000000; stroke-width:4; stroke-opacity:0.5; fill:none\" points=\"\n",
       "  2545.92,1119.66 2544.22,796.23 \n",
       "  \"/>\n",
       "<polyline clip-path=\"url(#clip372)\" style=\"stroke:#000000; stroke-width:4; stroke-opacity:0.5; fill:none\" points=\"\n",
       "  501.53,455.782 824.955,457.484 \n",
       "  \"/>\n",
       "<polyline clip-path=\"url(#clip372)\" style=\"stroke:#000000; stroke-width:4; stroke-opacity:0.5; fill:none\" points=\"\n",
       "  780.075,434.747 824.955,457.484 779.838,479.747 \n",
       "  \"/>\n",
       "<polyline clip-path=\"url(#clip372)\" style=\"stroke:#000000; stroke-width:4; stroke-opacity:0.5; fill:none\" points=\"\n",
       "  824.955,457.484 501.53,455.782 \n",
       "  \"/>\n",
       "<polyline clip-path=\"url(#clip372)\" style=\"stroke:#000000; stroke-width:4; stroke-opacity:0.5; fill:none\" points=\"\n",
       "  841.978,455.782 1165.4,457.484 \n",
       "  \"/>\n",
       "<polyline clip-path=\"url(#clip372)\" style=\"stroke:#000000; stroke-width:4; stroke-opacity:0.5; fill:none\" points=\"\n",
       "  1120.52,434.747 1165.4,457.484 1120.29,479.747 \n",
       "  \"/>\n",
       "<polyline clip-path=\"url(#clip372)\" style=\"stroke:#000000; stroke-width:4; stroke-opacity:0.5; fill:none\" points=\"\n",
       "  1165.4,457.484 841.978,455.782 \n",
       "  \"/>\n",
       "<polyline clip-path=\"url(#clip372)\" style=\"stroke:#000000; stroke-width:4; stroke-opacity:0.5; fill:none\" points=\"\n",
       "  1182.43,455.782 1184.13,779.207 \n",
       "  \"/>\n",
       "<polyline clip-path=\"url(#clip372)\" style=\"stroke:#000000; stroke-width:4; stroke-opacity:0.5; fill:none\" points=\"\n",
       "  1206.39,734.09 1184.13,779.207 1161.39,734.326 \n",
       "  \"/>\n",
       "<polyline clip-path=\"url(#clip372)\" style=\"stroke:#000000; stroke-width:4; stroke-opacity:0.5; fill:none\" points=\"\n",
       "  1184.13,779.207 1182.43,455.782 \n",
       "  \"/>\n",
       "<polyline clip-path=\"url(#clip372)\" style=\"stroke:#000000; stroke-width:4; stroke-opacity:0.5; fill:none\" points=\"\n",
       "  1182.43,455.782 1505.85,457.484 \n",
       "  \"/>\n",
       "<polyline clip-path=\"url(#clip372)\" style=\"stroke:#000000; stroke-width:4; stroke-opacity:0.5; fill:none\" points=\"\n",
       "  1460.97,434.747 1505.85,457.484 1460.73,479.747 \n",
       "  \"/>\n",
       "<polyline clip-path=\"url(#clip372)\" style=\"stroke:#000000; stroke-width:4; stroke-opacity:0.5; fill:none\" points=\"\n",
       "  1505.85,457.484 1182.43,455.782 \n",
       "  \"/>\n",
       "<polyline clip-path=\"url(#clip372)\" style=\"stroke:#000000; stroke-width:4; stroke-opacity:0.5; fill:none\" points=\"\n",
       "  1522.87,455.782 1846.3,457.484 \n",
       "  \"/>\n",
       "<polyline clip-path=\"url(#clip372)\" style=\"stroke:#000000; stroke-width:4; stroke-opacity:0.5; fill:none\" points=\"\n",
       "  1801.42,434.747 1846.3,457.484 1801.18,479.747 \n",
       "  \"/>\n",
       "<polyline clip-path=\"url(#clip372)\" style=\"stroke:#000000; stroke-width:4; stroke-opacity:0.5; fill:none\" points=\"\n",
       "  1846.3,457.484 1522.87,455.782 \n",
       "  \"/>\n",
       "<polyline clip-path=\"url(#clip372)\" style=\"stroke:#000000; stroke-width:4; stroke-opacity:0.5; fill:none\" points=\"\n",
       "  1863.32,455.782 2186.75,457.484 \n",
       "  \"/>\n",
       "<polyline clip-path=\"url(#clip372)\" style=\"stroke:#000000; stroke-width:4; stroke-opacity:0.5; fill:none\" points=\"\n",
       "  2141.87,434.747 2186.75,457.484 2141.63,479.747 \n",
       "  \"/>\n",
       "<polyline clip-path=\"url(#clip372)\" style=\"stroke:#000000; stroke-width:4; stroke-opacity:0.5; fill:none\" points=\"\n",
       "  2186.75,457.484 1863.32,455.782 \n",
       "  \"/>\n",
       "<polyline clip-path=\"url(#clip372)\" style=\"stroke:#000000; stroke-width:4; stroke-opacity:0.5; fill:none\" points=\"\n",
       "  2203.77,455.782 2527.2,457.484 \n",
       "  \"/>\n",
       "<polyline clip-path=\"url(#clip372)\" style=\"stroke:#000000; stroke-width:4; stroke-opacity:0.5; fill:none\" points=\"\n",
       "  2482.31,434.747 2527.2,457.484 2482.08,479.747 \n",
       "  \"/>\n",
       "<polyline clip-path=\"url(#clip372)\" style=\"stroke:#000000; stroke-width:4; stroke-opacity:0.5; fill:none\" points=\"\n",
       "  2527.2,457.484 2203.77,455.782 \n",
       "  \"/>\n",
       "<polyline clip-path=\"url(#clip372)\" style=\"stroke:#000000; stroke-width:4; stroke-opacity:0.5; fill:none\" points=\"\n",
       "  2544.22,455.782 2545.92,779.207 \n",
       "  \"/>\n",
       "<polyline clip-path=\"url(#clip372)\" style=\"stroke:#000000; stroke-width:4; stroke-opacity:0.5; fill:none\" points=\"\n",
       "  2568.18,734.09 2545.92,779.207 2523.18,734.326 \n",
       "  \"/>\n",
       "<polyline clip-path=\"url(#clip372)\" style=\"stroke:#000000; stroke-width:4; stroke-opacity:0.5; fill:none\" points=\"\n",
       "  2545.92,779.207 2544.22,455.782 \n",
       "  \"/>\n",
       "<path clip-path=\"url(#clip372)\" d=\"\n",
       "M484.507 2515.49 L518.552 2515.49 L518.552 2481.45 L484.507 2481.45 L484.507 2515.49 L484.507 2515.49  Z\n",
       "  \" fill=\"#808080\" fill-rule=\"evenodd\" fill-opacity=\"1\"/>\n",
       "<polyline clip-path=\"url(#clip372)\" style=\"stroke:#000000; stroke-width:0; stroke-opacity:1; fill:none\" points=\"\n",
       "  484.507,2515.49 518.552,2515.49 518.552,2481.45 484.507,2481.45 484.507,2515.49 \n",
       "  \"/>\n",
       "<path clip-path=\"url(#clip372)\" d=\"\n",
       "M790.911 2549.54 L893.045 2549.54 L893.045 2447.4 L790.911 2447.4 L790.911 2549.54 L790.911 2549.54  Z\n",
       "  \" fill=\"#fbb419\" fill-rule=\"evenodd\" fill-opacity=\"1\"/>\n",
       "<polyline clip-path=\"url(#clip372)\" style=\"stroke:#000000; stroke-width:0; stroke-opacity:1; fill:none\" points=\"\n",
       "  790.911,2549.54 893.045,2549.54 893.045,2447.4 790.911,2447.4 790.911,2549.54 \n",
       "  \"/>\n",
       "<path clip-path=\"url(#clip372)\" d=\"\n",
       "M1165.4 2515.49 L1199.45 2515.49 L1199.45 2481.45 L1165.4 2481.45 L1165.4 2515.49 L1165.4 2515.49  Z\n",
       "  \" fill=\"#808080\" fill-rule=\"evenodd\" fill-opacity=\"1\"/>\n",
       "<polyline clip-path=\"url(#clip372)\" style=\"stroke:#000000; stroke-width:0; stroke-opacity:1; fill:none\" points=\"\n",
       "  1165.4,2515.49 1199.45,2515.49 1199.45,2481.45 1165.4,2481.45 1165.4,2515.49 \n",
       "  \"/>\n",
       "<path clip-path=\"url(#clip372)\" d=\"\n",
       "M1505.85 2515.49 L1539.9 2515.49 L1539.9 2481.45 L1505.85 2481.45 L1505.85 2515.49 L1505.85 2515.49  Z\n",
       "  \" fill=\"#808080\" fill-rule=\"evenodd\" fill-opacity=\"1\"/>\n",
       "<polyline clip-path=\"url(#clip372)\" style=\"stroke:#000000; stroke-width:0; stroke-opacity:1; fill:none\" points=\"\n",
       "  1505.85,2515.49 1539.9,2515.49 1539.9,2481.45 1505.85,2481.45 1505.85,2515.49 \n",
       "  \"/>\n",
       "<path clip-path=\"url(#clip372)\" d=\"\n",
       "M1846.3 2515.49 L1880.34 2515.49 L1880.34 2481.45 L1846.3 2481.45 L1846.3 2515.49 L1846.3 2515.49  Z\n",
       "  \" fill=\"#808080\" fill-rule=\"evenodd\" fill-opacity=\"1\"/>\n",
       "<polyline clip-path=\"url(#clip372)\" style=\"stroke:#000000; stroke-width:0; stroke-opacity:1; fill:none\" points=\"\n",
       "  1846.3,2515.49 1880.34,2515.49 1880.34,2481.45 1846.3,2481.45 1846.3,2515.49 \n",
       "  \"/>\n",
       "<path clip-path=\"url(#clip372)\" d=\"\n",
       "M2152.7 2549.54 L2254.84 2549.54 L2254.84 2447.4 L2152.7 2447.4 L2152.7 2549.54 L2152.7 2549.54  Z\n",
       "  \" fill=\"#fbb419\" fill-rule=\"evenodd\" fill-opacity=\"1\"/>\n",
       "<polyline clip-path=\"url(#clip372)\" style=\"stroke:#000000; stroke-width:0; stroke-opacity:1; fill:none\" points=\"\n",
       "  2152.7,2549.54 2254.84,2549.54 2254.84,2447.4 2152.7,2447.4 2152.7,2549.54 \n",
       "  \"/>\n",
       "<path clip-path=\"url(#clip372)\" d=\"\n",
       "M2527.2 2515.49 L2561.24 2515.49 L2561.24 2481.45 L2527.2 2481.45 L2527.2 2515.49 L2527.2 2515.49  Z\n",
       "  \" fill=\"#808080\" fill-rule=\"evenodd\" fill-opacity=\"1\"/>\n",
       "<polyline clip-path=\"url(#clip372)\" style=\"stroke:#000000; stroke-width:0; stroke-opacity:1; fill:none\" points=\"\n",
       "  2527.2,2515.49 2561.24,2515.49 2561.24,2481.45 2527.2,2481.45 2527.2,2515.49 \n",
       "  \"/>\n",
       "<path clip-path=\"url(#clip372)\" d=\"\n",
       "M484.507 2175.04 L518.552 2175.04 L518.552 2141 L484.507 2141 L484.507 2175.04 L484.507 2175.04  Z\n",
       "  \" fill=\"#808080\" fill-rule=\"evenodd\" fill-opacity=\"1\"/>\n",
       "<polyline clip-path=\"url(#clip372)\" style=\"stroke:#000000; stroke-width:0; stroke-opacity:1; fill:none\" points=\"\n",
       "  484.507,2175.04 518.552,2175.04 518.552,2141 484.507,2141 484.507,2175.04 \n",
       "  \"/>\n",
       "<path clip-path=\"url(#clip372)\" d=\"\n",
       "M756.866 2243.13 L927.09 2243.13 L927.09 2072.91 L756.866 2072.91 L756.866 2243.13 L756.866 2243.13  Z\n",
       "  \" fill=\"#ba3654\" fill-rule=\"evenodd\" fill-opacity=\"1\"/>\n",
       "<polyline clip-path=\"url(#clip372)\" style=\"stroke:#000000; stroke-width:0; stroke-opacity:1; fill:none\" points=\"\n",
       "  756.866,2243.13 927.09,2243.13 927.09,2072.91 756.866,2072.91 756.866,2243.13 \n",
       "  \"/>\n",
       "<path clip-path=\"url(#clip372)\" d=\"\n",
       "M1165.4 2175.04 L1199.45 2175.04 L1199.45 2141 L1165.4 2141 L1165.4 2175.04 L1165.4 2175.04  Z\n",
       "  \" fill=\"#808080\" fill-rule=\"evenodd\" fill-opacity=\"1\"/>\n",
       "<polyline clip-path=\"url(#clip372)\" style=\"stroke:#000000; stroke-width:0; stroke-opacity:1; fill:none\" points=\"\n",
       "  1165.4,2175.04 1199.45,2175.04 1199.45,2141 1165.4,2141 1165.4,2175.04 \n",
       "  \"/>\n",
       "<path clip-path=\"url(#clip372)\" d=\"\n",
       "M1505.85 2175.04 L1539.9 2175.04 L1539.9 2141 L1505.85 2141 L1505.85 2175.04 L1505.85 2175.04  Z\n",
       "  \" fill=\"#808080\" fill-rule=\"evenodd\" fill-opacity=\"1\"/>\n",
       "<polyline clip-path=\"url(#clip372)\" style=\"stroke:#000000; stroke-width:0; stroke-opacity:1; fill:none\" points=\"\n",
       "  1505.85,2175.04 1539.9,2175.04 1539.9,2141 1505.85,2141 1505.85,2175.04 \n",
       "  \"/>\n",
       "<path clip-path=\"url(#clip372)\" d=\"\n",
       "M1846.3 2175.04 L1880.34 2175.04 L1880.34 2141 L1846.3 2141 L1846.3 2175.04 L1846.3 2175.04  Z\n",
       "  \" fill=\"#808080\" fill-rule=\"evenodd\" fill-opacity=\"1\"/>\n",
       "<polyline clip-path=\"url(#clip372)\" style=\"stroke:#000000; stroke-width:0; stroke-opacity:1; fill:none\" points=\"\n",
       "  1846.3,2175.04 1880.34,2175.04 1880.34,2141 1846.3,2141 1846.3,2175.04 \n",
       "  \"/>\n",
       "<path clip-path=\"url(#clip372)\" d=\"\n",
       "M2118.66 2243.13 L2288.88 2243.13 L2288.88 2072.91 L2118.66 2072.91 L2118.66 2243.13 L2118.66 2243.13  Z\n",
       "  \" fill=\"#ba3654\" fill-rule=\"evenodd\" fill-opacity=\"1\"/>\n",
       "<polyline clip-path=\"url(#clip372)\" style=\"stroke:#000000; stroke-width:0; stroke-opacity:1; fill:none\" points=\"\n",
       "  2118.66,2243.13 2288.88,2243.13 2288.88,2072.91 2118.66,2072.91 2118.66,2243.13 \n",
       "  \"/>\n",
       "<path clip-path=\"url(#clip372)\" d=\"\n",
       "M2527.2 2175.04 L2561.24 2175.04 L2561.24 2141 L2527.2 2141 L2527.2 2175.04 L2527.2 2175.04  Z\n",
       "  \" fill=\"#808080\" fill-rule=\"evenodd\" fill-opacity=\"1\"/>\n",
       "<polyline clip-path=\"url(#clip372)\" style=\"stroke:#000000; stroke-width:0; stroke-opacity:1; fill:none\" points=\"\n",
       "  2527.2,2175.04 2561.24,2175.04 2561.24,2141 2527.2,2141 2527.2,2175.04 \n",
       "  \"/>\n",
       "<path clip-path=\"url(#clip372)\" d=\"\n",
       "M484.507 1834.6 L518.552 1834.6 L518.552 1800.55 L484.507 1800.55 L484.507 1834.6 L484.507 1834.6  Z\n",
       "  \" fill=\"#808080\" fill-rule=\"evenodd\" fill-opacity=\"1\"/>\n",
       "<polyline clip-path=\"url(#clip372)\" style=\"stroke:#000000; stroke-width:0; stroke-opacity:1; fill:none\" points=\"\n",
       "  484.507,1834.6 518.552,1834.6 518.552,1800.55 484.507,1800.55 484.507,1834.6 \n",
       "  \"/>\n",
       "<path clip-path=\"url(#clip372)\" d=\"\n",
       "M824.955 1834.6 L859 1834.6 L859 1800.55 L824.955 1800.55 L824.955 1834.6 L824.955 1834.6  Z\n",
       "  \" fill=\"#808080\" fill-rule=\"evenodd\" fill-opacity=\"1\"/>\n",
       "<polyline clip-path=\"url(#clip372)\" style=\"stroke:#000000; stroke-width:0; stroke-opacity:1; fill:none\" points=\"\n",
       "  824.955,1834.6 859,1834.6 859,1800.55 824.955,1800.55 824.955,1834.6 \n",
       "  \"/>\n",
       "<path clip-path=\"url(#clip372)\" d=\"\n",
       "M1165.4 1834.6 L1199.45 1834.6 L1199.45 1800.55 L1165.4 1800.55 L1165.4 1834.6 L1165.4 1834.6  Z\n",
       "  \" fill=\"#808080\" fill-rule=\"evenodd\" fill-opacity=\"1\"/>\n",
       "<polyline clip-path=\"url(#clip372)\" style=\"stroke:#000000; stroke-width:0; stroke-opacity:1; fill:none\" points=\"\n",
       "  1165.4,1834.6 1199.45,1834.6 1199.45,1800.55 1165.4,1800.55 1165.4,1834.6 \n",
       "  \"/>\n",
       "<path clip-path=\"url(#clip372)\" d=\"\n",
       "M1505.85 1834.6 L1539.9 1834.6 L1539.9 1800.55 L1505.85 1800.55 L1505.85 1834.6 L1505.85 1834.6  Z\n",
       "  \" fill=\"#808080\" fill-rule=\"evenodd\" fill-opacity=\"1\"/>\n",
       "<polyline clip-path=\"url(#clip372)\" style=\"stroke:#000000; stroke-width:0; stroke-opacity:1; fill:none\" points=\"\n",
       "  1505.85,1834.6 1539.9,1834.6 1539.9,1800.55 1505.85,1800.55 1505.85,1834.6 \n",
       "  \"/>\n",
       "<path clip-path=\"url(#clip372)\" d=\"\n",
       "M1846.3 1834.6 L1880.34 1834.6 L1880.34 1800.55 L1846.3 1800.55 L1846.3 1834.6 L1846.3 1834.6  Z\n",
       "  \" fill=\"#808080\" fill-rule=\"evenodd\" fill-opacity=\"1\"/>\n",
       "<polyline clip-path=\"url(#clip372)\" style=\"stroke:#000000; stroke-width:0; stroke-opacity:1; fill:none\" points=\"\n",
       "  1846.3,1834.6 1880.34,1834.6 1880.34,1800.55 1846.3,1800.55 1846.3,1834.6 \n",
       "  \"/>\n",
       "<path clip-path=\"url(#clip372)\" d=\"\n",
       "M2186.75 1834.6 L2220.79 1834.6 L2220.79 1800.55 L2186.75 1800.55 L2186.75 1834.6 L2186.75 1834.6  Z\n",
       "  \" fill=\"#808080\" fill-rule=\"evenodd\" fill-opacity=\"1\"/>\n",
       "<polyline clip-path=\"url(#clip372)\" style=\"stroke:#000000; stroke-width:0; stroke-opacity:1; fill:none\" points=\"\n",
       "  2186.75,1834.6 2220.79,1834.6 2220.79,1800.55 2186.75,1800.55 2186.75,1834.6 \n",
       "  \"/>\n",
       "<path clip-path=\"url(#clip372)\" d=\"\n",
       "M2527.2 1834.6 L2561.24 1834.6 L2561.24 1800.55 L2527.2 1800.55 L2527.2 1834.6 L2527.2 1834.6  Z\n",
       "  \" fill=\"#808080\" fill-rule=\"evenodd\" fill-opacity=\"1\"/>\n",
       "<polyline clip-path=\"url(#clip372)\" style=\"stroke:#000000; stroke-width:0; stroke-opacity:1; fill:none\" points=\"\n",
       "  2527.2,1834.6 2561.24,1834.6 2561.24,1800.55 2527.2,1800.55 2527.2,1834.6 \n",
       "  \"/>\n",
       "<path clip-path=\"url(#clip372)\" d=\"\n",
       "M484.507 1494.15 L518.552 1494.15 L518.552 1460.1 L484.507 1460.1 L484.507 1494.15 L484.507 1494.15  Z\n",
       "  \" fill=\"#808080\" fill-rule=\"evenodd\" fill-opacity=\"1\"/>\n",
       "<polyline clip-path=\"url(#clip372)\" style=\"stroke:#000000; stroke-width:0; stroke-opacity:1; fill:none\" points=\"\n",
       "  484.507,1494.15 518.552,1494.15 518.552,1460.1 484.507,1460.1 484.507,1494.15 \n",
       "  \"/>\n",
       "<path clip-path=\"url(#clip372)\" d=\"\n",
       "M790.911 1528.19 L893.045 1528.19 L893.045 1426.06 L790.911 1426.06 L790.911 1528.19 L790.911 1528.19  Z\n",
       "  \" fill=\"#fbb419\" fill-rule=\"evenodd\" fill-opacity=\"1\"/>\n",
       "<polyline clip-path=\"url(#clip372)\" style=\"stroke:#000000; stroke-width:0; stroke-opacity:1; fill:none\" points=\"\n",
       "  790.911,1528.19 893.045,1528.19 893.045,1426.06 790.911,1426.06 790.911,1528.19 \n",
       "  \"/>\n",
       "<path clip-path=\"url(#clip372)\" d=\"\n",
       "M1165.4 1494.15 L1199.45 1494.15 L1199.45 1460.1 L1165.4 1460.1 L1165.4 1494.15 L1165.4 1494.15  Z\n",
       "  \" fill=\"#808080\" fill-rule=\"evenodd\" fill-opacity=\"1\"/>\n",
       "<polyline clip-path=\"url(#clip372)\" style=\"stroke:#000000; stroke-width:0; stroke-opacity:1; fill:none\" points=\"\n",
       "  1165.4,1494.15 1199.45,1494.15 1199.45,1460.1 1165.4,1460.1 1165.4,1494.15 \n",
       "  \"/>\n",
       "<path clip-path=\"url(#clip372)\" d=\"\n",
       "M1471.81 1528.19 L1573.94 1528.19 L1573.94 1426.06 L1471.81 1426.06 L1471.81 1528.19 L1471.81 1528.19  Z\n",
       "  \" fill=\"#fbb419\" fill-rule=\"evenodd\" fill-opacity=\"1\"/>\n",
       "<polyline clip-path=\"url(#clip372)\" style=\"stroke:#000000; stroke-width:0; stroke-opacity:1; fill:none\" points=\"\n",
       "  1471.81,1528.19 1573.94,1528.19 1573.94,1426.06 1471.81,1426.06 1471.81,1528.19 \n",
       "  \"/>\n",
       "<path clip-path=\"url(#clip372)\" d=\"\n",
       "M1846.3 1494.15 L1880.34 1494.15 L1880.34 1460.1 L1846.3 1460.1 L1846.3 1494.15 L1846.3 1494.15  Z\n",
       "  \" fill=\"#808080\" fill-rule=\"evenodd\" fill-opacity=\"1\"/>\n",
       "<polyline clip-path=\"url(#clip372)\" style=\"stroke:#000000; stroke-width:0; stroke-opacity:1; fill:none\" points=\"\n",
       "  1846.3,1494.15 1880.34,1494.15 1880.34,1460.1 1846.3,1460.1 1846.3,1494.15 \n",
       "  \"/>\n",
       "<path clip-path=\"url(#clip372)\" d=\"\n",
       "M2152.7 1528.19 L2254.84 1528.19 L2254.84 1426.06 L2152.7 1426.06 L2152.7 1528.19 L2152.7 1528.19  Z\n",
       "  \" fill=\"#fbb419\" fill-rule=\"evenodd\" fill-opacity=\"1\"/>\n",
       "<polyline clip-path=\"url(#clip372)\" style=\"stroke:#000000; stroke-width:0; stroke-opacity:1; fill:none\" points=\"\n",
       "  2152.7,1528.19 2254.84,1528.19 2254.84,1426.06 2152.7,1426.06 2152.7,1528.19 \n",
       "  \"/>\n",
       "<path clip-path=\"url(#clip372)\" d=\"\n",
       "M2527.2 1494.15 L2561.24 1494.15 L2561.24 1460.1 L2527.2 1460.1 L2527.2 1494.15 L2527.2 1494.15  Z\n",
       "  \" fill=\"#808080\" fill-rule=\"evenodd\" fill-opacity=\"1\"/>\n",
       "<polyline clip-path=\"url(#clip372)\" style=\"stroke:#000000; stroke-width:0; stroke-opacity:1; fill:none\" points=\"\n",
       "  2527.2,1494.15 2561.24,1494.15 2561.24,1460.1 2527.2,1460.1 2527.2,1494.15 \n",
       "  \"/>\n",
       "<path clip-path=\"url(#clip372)\" d=\"\n",
       "M484.507 1153.7 L518.552 1153.7 L518.552 1119.66 L484.507 1119.66 L484.507 1153.7 L484.507 1153.7  Z\n",
       "  \" fill=\"#808080\" fill-rule=\"evenodd\" fill-opacity=\"1\"/>\n",
       "<polyline clip-path=\"url(#clip372)\" style=\"stroke:#000000; stroke-width:0; stroke-opacity:1; fill:none\" points=\"\n",
       "  484.507,1153.7 518.552,1153.7 518.552,1119.66 484.507,1119.66 484.507,1153.7 \n",
       "  \"/>\n",
       "<path clip-path=\"url(#clip372)\" d=\"\n",
       "M824.955 1153.7 L859 1153.7 L859 1119.66 L824.955 1119.66 L824.955 1153.7 L824.955 1153.7  Z\n",
       "  \" fill=\"#808080\" fill-rule=\"evenodd\" fill-opacity=\"1\"/>\n",
       "<polyline clip-path=\"url(#clip372)\" style=\"stroke:#000000; stroke-width:0; stroke-opacity:1; fill:none\" points=\"\n",
       "  824.955,1153.7 859,1153.7 859,1119.66 824.955,1119.66 824.955,1153.7 \n",
       "  \"/>\n",
       "<path clip-path=\"url(#clip372)\" d=\"\n",
       "M1165.4 1153.7 L1199.45 1153.7 L1199.45 1119.66 L1165.4 1119.66 L1165.4 1153.7 L1165.4 1153.7  Z\n",
       "  \" fill=\"#808080\" fill-rule=\"evenodd\" fill-opacity=\"1\"/>\n",
       "<polyline clip-path=\"url(#clip372)\" style=\"stroke:#000000; stroke-width:0; stroke-opacity:1; fill:none\" points=\"\n",
       "  1165.4,1153.7 1199.45,1153.7 1199.45,1119.66 1165.4,1119.66 1165.4,1153.7 \n",
       "  \"/>\n",
       "<path clip-path=\"url(#clip372)\" d=\"\n",
       "M1505.85 1153.7 L1539.9 1153.7 L1539.9 1119.66 L1505.85 1119.66 L1505.85 1153.7 L1505.85 1153.7  Z\n",
       "  \" fill=\"#808080\" fill-rule=\"evenodd\" fill-opacity=\"1\"/>\n",
       "<polyline clip-path=\"url(#clip372)\" style=\"stroke:#000000; stroke-width:0; stroke-opacity:1; fill:none\" points=\"\n",
       "  1505.85,1153.7 1539.9,1153.7 1539.9,1119.66 1505.85,1119.66 1505.85,1153.7 \n",
       "  \"/>\n",
       "<path clip-path=\"url(#clip372)\" d=\"\n",
       "M1846.3 1153.7 L1880.34 1153.7 L1880.34 1119.66 L1846.3 1119.66 L1846.3 1153.7 L1846.3 1153.7  Z\n",
       "  \" fill=\"#808080\" fill-rule=\"evenodd\" fill-opacity=\"1\"/>\n",
       "<polyline clip-path=\"url(#clip372)\" style=\"stroke:#000000; stroke-width:0; stroke-opacity:1; fill:none\" points=\"\n",
       "  1846.3,1153.7 1880.34,1153.7 1880.34,1119.66 1846.3,1119.66 1846.3,1153.7 \n",
       "  \"/>\n",
       "<path clip-path=\"url(#clip372)\" d=\"\n",
       "M2186.75 1153.7 L2220.79 1153.7 L2220.79 1119.66 L2186.75 1119.66 L2186.75 1153.7 L2186.75 1153.7  Z\n",
       "  \" fill=\"#808080\" fill-rule=\"evenodd\" fill-opacity=\"1\"/>\n",
       "<polyline clip-path=\"url(#clip372)\" style=\"stroke:#000000; stroke-width:0; stroke-opacity:1; fill:none\" points=\"\n",
       "  2186.75,1153.7 2220.79,1153.7 2220.79,1119.66 2186.75,1119.66 2186.75,1153.7 \n",
       "  \"/>\n",
       "<path clip-path=\"url(#clip372)\" d=\"\n",
       "M2527.2 1153.7 L2561.24 1153.7 L2561.24 1119.66 L2527.2 1119.66 L2527.2 1153.7 L2527.2 1153.7  Z\n",
       "  \" fill=\"#808080\" fill-rule=\"evenodd\" fill-opacity=\"1\"/>\n",
       "<polyline clip-path=\"url(#clip372)\" style=\"stroke:#000000; stroke-width:0; stroke-opacity:1; fill:none\" points=\"\n",
       "  2527.2,1153.7 2561.24,1153.7 2561.24,1119.66 2527.2,1119.66 2527.2,1153.7 \n",
       "  \"/>\n",
       "<path clip-path=\"url(#clip372)\" d=\"\n",
       "M484.507 813.252 L518.552 813.252 L518.552 779.207 L484.507 779.207 L484.507 813.252 L484.507 813.252  Z\n",
       "  \" fill=\"#808080\" fill-rule=\"evenodd\" fill-opacity=\"1\"/>\n",
       "<polyline clip-path=\"url(#clip372)\" style=\"stroke:#000000; stroke-width:0; stroke-opacity:1; fill:none\" points=\"\n",
       "  484.507,813.252 518.552,813.252 518.552,779.207 484.507,779.207 484.507,813.252 \n",
       "  \"/>\n",
       "<path clip-path=\"url(#clip372)\" d=\"\n",
       "M790.911 847.297 L893.045 847.297 L893.045 745.163 L790.911 745.163 L790.911 847.297 L790.911 847.297  Z\n",
       "  \" fill=\"#fbb419\" fill-rule=\"evenodd\" fill-opacity=\"1\"/>\n",
       "<polyline clip-path=\"url(#clip372)\" style=\"stroke:#000000; stroke-width:0; stroke-opacity:1; fill:none\" points=\"\n",
       "  790.911,847.297 893.045,847.297 893.045,745.163 790.911,745.163 790.911,847.297 \n",
       "  \"/>\n",
       "<path clip-path=\"url(#clip372)\" d=\"\n",
       "M1165.4 813.252 L1199.45 813.252 L1199.45 779.207 L1165.4 779.207 L1165.4 813.252 L1165.4 813.252  Z\n",
       "  \" fill=\"#808080\" fill-rule=\"evenodd\" fill-opacity=\"1\"/>\n",
       "<polyline clip-path=\"url(#clip372)\" style=\"stroke:#000000; stroke-width:0; stroke-opacity:1; fill:none\" points=\"\n",
       "  1165.4,813.252 1199.45,813.252 1199.45,779.207 1165.4,779.207 1165.4,813.252 \n",
       "  \"/>\n",
       "<path clip-path=\"url(#clip372)\" d=\"\n",
       "M1471.81 847.297 L1573.94 847.297 L1573.94 745.163 L1471.81 745.163 L1471.81 847.297 L1471.81 847.297  Z\n",
       "  \" fill=\"#fbb419\" fill-rule=\"evenodd\" fill-opacity=\"1\"/>\n",
       "<polyline clip-path=\"url(#clip372)\" style=\"stroke:#000000; stroke-width:0; stroke-opacity:1; fill:none\" points=\"\n",
       "  1471.81,847.297 1573.94,847.297 1573.94,745.163 1471.81,745.163 1471.81,847.297 \n",
       "  \"/>\n",
       "<path clip-path=\"url(#clip372)\" d=\"\n",
       "M1846.3 813.252 L1880.34 813.252 L1880.34 779.207 L1846.3 779.207 L1846.3 813.252 L1846.3 813.252  Z\n",
       "  \" fill=\"#808080\" fill-rule=\"evenodd\" fill-opacity=\"1\"/>\n",
       "<polyline clip-path=\"url(#clip372)\" style=\"stroke:#000000; stroke-width:0; stroke-opacity:1; fill:none\" points=\"\n",
       "  1846.3,813.252 1880.34,813.252 1880.34,779.207 1846.3,779.207 1846.3,813.252 \n",
       "  \"/>\n",
       "<path clip-path=\"url(#clip372)\" d=\"\n",
       "M2152.7 847.297 L2254.84 847.297 L2254.84 745.163 L2152.7 745.163 L2152.7 847.297 L2152.7 847.297  Z\n",
       "  \" fill=\"#fbb419\" fill-rule=\"evenodd\" fill-opacity=\"1\"/>\n",
       "<polyline clip-path=\"url(#clip372)\" style=\"stroke:#000000; stroke-width:0; stroke-opacity:1; fill:none\" points=\"\n",
       "  2152.7,847.297 2254.84,847.297 2254.84,745.163 2152.7,745.163 2152.7,847.297 \n",
       "  \"/>\n",
       "<path clip-path=\"url(#clip372)\" d=\"\n",
       "M2527.2 813.252 L2561.24 813.252 L2561.24 779.207 L2527.2 779.207 L2527.2 813.252 L2527.2 813.252  Z\n",
       "  \" fill=\"#808080\" fill-rule=\"evenodd\" fill-opacity=\"1\"/>\n",
       "<polyline clip-path=\"url(#clip372)\" style=\"stroke:#000000; stroke-width:0; stroke-opacity:1; fill:none\" points=\"\n",
       "  2527.2,813.252 2561.24,813.252 2561.24,779.207 2527.2,779.207 2527.2,813.252 \n",
       "  \"/>\n",
       "<path clip-path=\"url(#clip372)\" d=\"\n",
       "M484.507 472.804 L518.552 472.804 L518.552 438.759 L484.507 438.759 L484.507 472.804 L484.507 472.804  Z\n",
       "  \" fill=\"#808080\" fill-rule=\"evenodd\" fill-opacity=\"1\"/>\n",
       "<polyline clip-path=\"url(#clip372)\" style=\"stroke:#000000; stroke-width:0; stroke-opacity:1; fill:none\" points=\"\n",
       "  484.507,472.804 518.552,472.804 518.552,438.759 484.507,438.759 484.507,472.804 \n",
       "  \"/>\n",
       "<path clip-path=\"url(#clip372)\" d=\"\n",
       "M824.955 472.804 L859 472.804 L859 438.759 L824.955 438.759 L824.955 472.804 L824.955 472.804  Z\n",
       "  \" fill=\"#808080\" fill-rule=\"evenodd\" fill-opacity=\"1\"/>\n",
       "<polyline clip-path=\"url(#clip372)\" style=\"stroke:#000000; stroke-width:0; stroke-opacity:1; fill:none\" points=\"\n",
       "  824.955,472.804 859,472.804 859,438.759 824.955,438.759 824.955,472.804 \n",
       "  \"/>\n",
       "<path clip-path=\"url(#clip372)\" d=\"\n",
       "M1165.4 472.804 L1199.45 472.804 L1199.45 438.759 L1165.4 438.759 L1165.4 472.804 L1165.4 472.804  Z\n",
       "  \" fill=\"#808080\" fill-rule=\"evenodd\" fill-opacity=\"1\"/>\n",
       "<polyline clip-path=\"url(#clip372)\" style=\"stroke:#000000; stroke-width:0; stroke-opacity:1; fill:none\" points=\"\n",
       "  1165.4,472.804 1199.45,472.804 1199.45,438.759 1165.4,438.759 1165.4,472.804 \n",
       "  \"/>\n",
       "<path clip-path=\"url(#clip372)\" d=\"\n",
       "M1505.85 472.804 L1539.9 472.804 L1539.9 438.759 L1505.85 438.759 L1505.85 472.804 L1505.85 472.804  Z\n",
       "  \" fill=\"#808080\" fill-rule=\"evenodd\" fill-opacity=\"1\"/>\n",
       "<polyline clip-path=\"url(#clip372)\" style=\"stroke:#000000; stroke-width:0; stroke-opacity:1; fill:none\" points=\"\n",
       "  1505.85,472.804 1539.9,472.804 1539.9,438.759 1505.85,438.759 1505.85,472.804 \n",
       "  \"/>\n",
       "<path clip-path=\"url(#clip372)\" d=\"\n",
       "M1846.3 472.804 L1880.34 472.804 L1880.34 438.759 L1846.3 438.759 L1846.3 472.804 L1846.3 472.804  Z\n",
       "  \" fill=\"#808080\" fill-rule=\"evenodd\" fill-opacity=\"1\"/>\n",
       "<polyline clip-path=\"url(#clip372)\" style=\"stroke:#000000; stroke-width:0; stroke-opacity:1; fill:none\" points=\"\n",
       "  1846.3,472.804 1880.34,472.804 1880.34,438.759 1846.3,438.759 1846.3,472.804 \n",
       "  \"/>\n",
       "<path clip-path=\"url(#clip372)\" d=\"\n",
       "M2186.75 472.804 L2220.79 472.804 L2220.79 438.759 L2186.75 438.759 L2186.75 472.804 L2186.75 472.804  Z\n",
       "  \" fill=\"#808080\" fill-rule=\"evenodd\" fill-opacity=\"1\"/>\n",
       "<polyline clip-path=\"url(#clip372)\" style=\"stroke:#000000; stroke-width:0; stroke-opacity:1; fill:none\" points=\"\n",
       "  2186.75,472.804 2220.79,472.804 2220.79,438.759 2186.75,438.759 2186.75,472.804 \n",
       "  \"/>\n",
       "<path clip-path=\"url(#clip372)\" d=\"\n",
       "M2527.2 472.804 L2561.24 472.804 L2561.24 438.759 L2527.2 438.759 L2527.2 472.804 L2527.2 472.804  Z\n",
       "  \" fill=\"#808080\" fill-rule=\"evenodd\" fill-opacity=\"1\"/>\n",
       "<polyline clip-path=\"url(#clip372)\" style=\"stroke:#000000; stroke-width:0; stroke-opacity:1; fill:none\" points=\"\n",
       "  2527.2,472.804 2561.24,472.804 2561.24,438.759 2527.2,438.759 2527.2,472.804 \n",
       "  \"/>\n",
       "<circle clip-path=\"url(#clip372)\" style=\"fill:#808080; stroke:none; fill-opacity:1\" cx=\"501.53\" cy=\"2498.47\" r=\"2\"/>\n",
       "<circle clip-path=\"url(#clip372)\" style=\"fill:#fbb419; stroke:none; fill-opacity:1\" cx=\"841.978\" cy=\"2498.47\" r=\"2\"/>\n",
       "<circle clip-path=\"url(#clip372)\" style=\"fill:#808080; stroke:none; fill-opacity:1\" cx=\"1182.43\" cy=\"2498.47\" r=\"2\"/>\n",
       "<circle clip-path=\"url(#clip372)\" style=\"fill:#808080; stroke:none; fill-opacity:1\" cx=\"1522.87\" cy=\"2498.47\" r=\"2\"/>\n",
       "<circle clip-path=\"url(#clip372)\" style=\"fill:#808080; stroke:none; fill-opacity:1\" cx=\"1863.32\" cy=\"2498.47\" r=\"2\"/>\n",
       "<circle clip-path=\"url(#clip372)\" style=\"fill:#fbb419; stroke:none; fill-opacity:1\" cx=\"2203.77\" cy=\"2498.47\" r=\"2\"/>\n",
       "<circle clip-path=\"url(#clip372)\" style=\"fill:#808080; stroke:none; fill-opacity:1\" cx=\"2544.22\" cy=\"2498.47\" r=\"2\"/>\n",
       "<circle clip-path=\"url(#clip372)\" style=\"fill:#808080; stroke:none; fill-opacity:1\" cx=\"501.53\" cy=\"2158.02\" r=\"2\"/>\n",
       "<circle clip-path=\"url(#clip372)\" style=\"fill:#ba3654; stroke:none; fill-opacity:1\" cx=\"841.978\" cy=\"2158.02\" r=\"2\"/>\n",
       "<circle clip-path=\"url(#clip372)\" style=\"fill:#808080; stroke:none; fill-opacity:1\" cx=\"1182.43\" cy=\"2158.02\" r=\"2\"/>\n",
       "<circle clip-path=\"url(#clip372)\" style=\"fill:#808080; stroke:none; fill-opacity:1\" cx=\"1522.87\" cy=\"2158.02\" r=\"2\"/>\n",
       "<circle clip-path=\"url(#clip372)\" style=\"fill:#808080; stroke:none; fill-opacity:1\" cx=\"1863.32\" cy=\"2158.02\" r=\"2\"/>\n",
       "<circle clip-path=\"url(#clip372)\" style=\"fill:#ba3654; stroke:none; fill-opacity:1\" cx=\"2203.77\" cy=\"2158.02\" r=\"2\"/>\n",
       "<circle clip-path=\"url(#clip372)\" style=\"fill:#808080; stroke:none; fill-opacity:1\" cx=\"2544.22\" cy=\"2158.02\" r=\"2\"/>\n",
       "<circle clip-path=\"url(#clip372)\" style=\"fill:#808080; stroke:none; fill-opacity:1\" cx=\"501.53\" cy=\"1817.57\" r=\"2\"/>\n",
       "<circle clip-path=\"url(#clip372)\" style=\"fill:#808080; stroke:none; fill-opacity:1\" cx=\"841.978\" cy=\"1817.57\" r=\"2\"/>\n",
       "<circle clip-path=\"url(#clip372)\" style=\"fill:#808080; stroke:none; fill-opacity:1\" cx=\"1182.43\" cy=\"1817.57\" r=\"2\"/>\n",
       "<circle clip-path=\"url(#clip372)\" style=\"fill:#808080; stroke:none; fill-opacity:1\" cx=\"1522.87\" cy=\"1817.57\" r=\"2\"/>\n",
       "<circle clip-path=\"url(#clip372)\" style=\"fill:#808080; stroke:none; fill-opacity:1\" cx=\"1863.32\" cy=\"1817.57\" r=\"2\"/>\n",
       "<circle clip-path=\"url(#clip372)\" style=\"fill:#808080; stroke:none; fill-opacity:1\" cx=\"2203.77\" cy=\"1817.57\" r=\"2\"/>\n",
       "<circle clip-path=\"url(#clip372)\" style=\"fill:#808080; stroke:none; fill-opacity:1\" cx=\"2544.22\" cy=\"1817.57\" r=\"2\"/>\n",
       "<circle clip-path=\"url(#clip372)\" style=\"fill:#808080; stroke:none; fill-opacity:1\" cx=\"501.53\" cy=\"1477.13\" r=\"2\"/>\n",
       "<circle clip-path=\"url(#clip372)\" style=\"fill:#fbb419; stroke:none; fill-opacity:1\" cx=\"841.978\" cy=\"1477.13\" r=\"2\"/>\n",
       "<circle clip-path=\"url(#clip372)\" style=\"fill:#808080; stroke:none; fill-opacity:1\" cx=\"1182.43\" cy=\"1477.13\" r=\"2\"/>\n",
       "<circle clip-path=\"url(#clip372)\" style=\"fill:#fbb419; stroke:none; fill-opacity:1\" cx=\"1522.87\" cy=\"1477.13\" r=\"2\"/>\n",
       "<circle clip-path=\"url(#clip372)\" style=\"fill:#808080; stroke:none; fill-opacity:1\" cx=\"1863.32\" cy=\"1477.13\" r=\"2\"/>\n",
       "<circle clip-path=\"url(#clip372)\" style=\"fill:#fbb419; stroke:none; fill-opacity:1\" cx=\"2203.77\" cy=\"1477.13\" r=\"2\"/>\n",
       "<circle clip-path=\"url(#clip372)\" style=\"fill:#808080; stroke:none; fill-opacity:1\" cx=\"2544.22\" cy=\"1477.13\" r=\"2\"/>\n",
       "<circle clip-path=\"url(#clip372)\" style=\"fill:#808080; stroke:none; fill-opacity:1\" cx=\"501.53\" cy=\"1136.68\" r=\"2\"/>\n",
       "<circle clip-path=\"url(#clip372)\" style=\"fill:#808080; stroke:none; fill-opacity:1\" cx=\"841.978\" cy=\"1136.68\" r=\"2\"/>\n",
       "<circle clip-path=\"url(#clip372)\" style=\"fill:#808080; stroke:none; fill-opacity:1\" cx=\"1182.43\" cy=\"1136.68\" r=\"2\"/>\n",
       "<circle clip-path=\"url(#clip372)\" style=\"fill:#808080; stroke:none; fill-opacity:1\" cx=\"1522.87\" cy=\"1136.68\" r=\"2\"/>\n",
       "<circle clip-path=\"url(#clip372)\" style=\"fill:#808080; stroke:none; fill-opacity:1\" cx=\"1863.32\" cy=\"1136.68\" r=\"2\"/>\n",
       "<circle clip-path=\"url(#clip372)\" style=\"fill:#808080; stroke:none; fill-opacity:1\" cx=\"2203.77\" cy=\"1136.68\" r=\"2\"/>\n",
       "<circle clip-path=\"url(#clip372)\" style=\"fill:#808080; stroke:none; fill-opacity:1\" cx=\"2544.22\" cy=\"1136.68\" r=\"2\"/>\n",
       "<circle clip-path=\"url(#clip372)\" style=\"fill:#808080; stroke:none; fill-opacity:1\" cx=\"501.53\" cy=\"796.23\" r=\"2\"/>\n",
       "<circle clip-path=\"url(#clip372)\" style=\"fill:#fbb419; stroke:none; fill-opacity:1\" cx=\"841.978\" cy=\"796.23\" r=\"2\"/>\n",
       "<circle clip-path=\"url(#clip372)\" style=\"fill:#808080; stroke:none; fill-opacity:1\" cx=\"1182.43\" cy=\"796.23\" r=\"2\"/>\n",
       "<circle clip-path=\"url(#clip372)\" style=\"fill:#fbb419; stroke:none; fill-opacity:1\" cx=\"1522.87\" cy=\"796.23\" r=\"2\"/>\n",
       "<circle clip-path=\"url(#clip372)\" style=\"fill:#808080; stroke:none; fill-opacity:1\" cx=\"1863.32\" cy=\"796.23\" r=\"2\"/>\n",
       "<circle clip-path=\"url(#clip372)\" style=\"fill:#fbb419; stroke:none; fill-opacity:1\" cx=\"2203.77\" cy=\"796.23\" r=\"2\"/>\n",
       "<circle clip-path=\"url(#clip372)\" style=\"fill:#808080; stroke:none; fill-opacity:1\" cx=\"2544.22\" cy=\"796.23\" r=\"2\"/>\n",
       "<circle clip-path=\"url(#clip372)\" style=\"fill:#808080; stroke:none; fill-opacity:1\" cx=\"501.53\" cy=\"455.782\" r=\"2\"/>\n",
       "<circle clip-path=\"url(#clip372)\" style=\"fill:#808080; stroke:none; fill-opacity:1\" cx=\"841.978\" cy=\"455.782\" r=\"2\"/>\n",
       "<circle clip-path=\"url(#clip372)\" style=\"fill:#808080; stroke:none; fill-opacity:1\" cx=\"1182.43\" cy=\"455.782\" r=\"2\"/>\n",
       "<circle clip-path=\"url(#clip372)\" style=\"fill:#808080; stroke:none; fill-opacity:1\" cx=\"1522.87\" cy=\"455.782\" r=\"2\"/>\n",
       "<circle clip-path=\"url(#clip372)\" style=\"fill:#808080; stroke:none; fill-opacity:1\" cx=\"1863.32\" cy=\"455.782\" r=\"2\"/>\n",
       "<circle clip-path=\"url(#clip372)\" style=\"fill:#808080; stroke:none; fill-opacity:1\" cx=\"2203.77\" cy=\"455.782\" r=\"2\"/>\n",
       "<circle clip-path=\"url(#clip372)\" style=\"fill:#808080; stroke:none; fill-opacity:1\" cx=\"2544.22\" cy=\"455.782\" r=\"2\"/>\n",
       "</svg>\n"
      ]
     },
     "execution_count": 6,
     "metadata": {},
     "output_type": "execute_result"
    }
   ],
   "source": [
    "plot_warehouse()"
   ]
  },
  {
   "cell_type": "markdown",
   "metadata": {},
   "source": [
    "# RUN"
   ]
  },
  {
   "cell_type": "code",
   "execution_count": 12,
   "metadata": {},
   "outputs": [
    {
     "data": {
      "text/plain": [
       "124"
      ]
     },
     "execution_count": 12,
     "metadata": {},
     "output_type": "execute_result"
    }
   ],
   "source": [
    "warehouse,_ = init_warehouse()\n",
    "adf, mdf = run!(warehouse, robot_step_nowait!,warehouse_step!,terminate_warehouse_sim; \n",
    "    adata=adata,mdata=mdata,agents_first=true)\n",
    "warehouse.step"
   ]
  },
  {
   "cell_type": "code",
   "execution_count": 16,
   "metadata": {},
   "outputs": [
    {
     "data": {
      "text/html": [
       "<div class=\"data-frame\"><p>21 rows × 5 columns</p><table class=\"data-frame\"><thead><tr><th></th><th>step</th><th>id</th><th>pos</th><th>dest</th><th>head</th></tr><tr><th></th><th title=\"Int64\">Int64</th><th title=\"Int64\">Int64</th><th title=\"Int64\">Int64</th><th title=\"Int64\">Int64</th><th title=\"Int64\">Int64</th></tr></thead><tbody><tr><th>1</th><td>113</td><td>2</td><td>29</td><td>8</td><td>1</td></tr><tr><th>2</th><td>114</td><td>1</td><td>32</td><td>46</td><td>1</td></tr><tr><th>3</th><td>114</td><td>2</td><td>36</td><td>8</td><td>1</td></tr><tr><th>4</th><td>115</td><td>1</td><td>31</td><td>46</td><td>1</td></tr><tr><th>5</th><td>115</td><td>2</td><td>43</td><td>8</td><td>1</td></tr><tr><th>6</th><td>116</td><td>1</td><td>30</td><td>46</td><td>1</td></tr><tr><th>7</th><td>116</td><td>2</td><td>44</td><td>8</td><td>1</td></tr><tr><th>8</th><td>117</td><td>1</td><td>29</td><td>46</td><td>1</td></tr><tr><th>9</th><td>117</td><td>2</td><td>45</td><td>8</td><td>1</td></tr><tr><th>10</th><td>118</td><td>1</td><td>36</td><td>46</td><td>1</td></tr><tr><th>11</th><td>118</td><td>2</td><td>38</td><td>8</td><td>1</td></tr><tr><th>12</th><td>119</td><td>1</td><td>43</td><td>46</td><td>1</td></tr><tr><th>13</th><td>119</td><td>2</td><td>31</td><td>8</td><td>1</td></tr><tr><th>14</th><td>120</td><td>1</td><td>44</td><td>46</td><td>1</td></tr><tr><th>15</th><td>120</td><td>2</td><td>24</td><td>8</td><td>1</td></tr><tr><th>16</th><td>121</td><td>1</td><td>45</td><td>46</td><td>1</td></tr><tr><th>17</th><td>121</td><td>2</td><td>17</td><td>8</td><td>1</td></tr><tr><th>18</th><td>122</td><td>1</td><td>46</td><td>46</td><td>1</td></tr><tr><th>19</th><td>122</td><td>2</td><td>10</td><td>8</td><td>1</td></tr><tr><th>20</th><td>123</td><td>1</td><td>47</td><td>12</td><td>1</td></tr><tr><th>21</th><td>123</td><td>2</td><td>3</td><td>8</td><td>1</td></tr></tbody></table></div>"
      ],
      "text/latex": [
       "\\begin{tabular}{r|ccccc}\n",
       "\t& step & id & pos & dest & head\\\\\n",
       "\t\\hline\n",
       "\t& Int64 & Int64 & Int64 & Int64 & Int64\\\\\n",
       "\t\\hline\n",
       "\t1 & 113 & 2 & 29 & 8 & 1 \\\\\n",
       "\t2 & 114 & 1 & 32 & 46 & 1 \\\\\n",
       "\t3 & 114 & 2 & 36 & 8 & 1 \\\\\n",
       "\t4 & 115 & 1 & 31 & 46 & 1 \\\\\n",
       "\t5 & 115 & 2 & 43 & 8 & 1 \\\\\n",
       "\t6 & 116 & 1 & 30 & 46 & 1 \\\\\n",
       "\t7 & 116 & 2 & 44 & 8 & 1 \\\\\n",
       "\t8 & 117 & 1 & 29 & 46 & 1 \\\\\n",
       "\t9 & 117 & 2 & 45 & 8 & 1 \\\\\n",
       "\t10 & 118 & 1 & 36 & 46 & 1 \\\\\n",
       "\t11 & 118 & 2 & 38 & 8 & 1 \\\\\n",
       "\t12 & 119 & 1 & 43 & 46 & 1 \\\\\n",
       "\t13 & 119 & 2 & 31 & 8 & 1 \\\\\n",
       "\t14 & 120 & 1 & 44 & 46 & 1 \\\\\n",
       "\t15 & 120 & 2 & 24 & 8 & 1 \\\\\n",
       "\t16 & 121 & 1 & 45 & 46 & 1 \\\\\n",
       "\t17 & 121 & 2 & 17 & 8 & 1 \\\\\n",
       "\t18 & 122 & 1 & 46 & 46 & 1 \\\\\n",
       "\t19 & 122 & 2 & 10 & 8 & 1 \\\\\n",
       "\t20 & 123 & 1 & 47 & 12 & 1 \\\\\n",
       "\t21 & 123 & 2 & 3 & 8 & 1 \\\\\n",
       "\\end{tabular}\n"
      ],
      "text/plain": [
       "\u001b[1m21×5 DataFrame\u001b[0m\n",
       "\u001b[1m Row \u001b[0m│\u001b[1m step  \u001b[0m\u001b[1m id    \u001b[0m\u001b[1m pos   \u001b[0m\u001b[1m dest  \u001b[0m\u001b[1m head  \u001b[0m\n",
       "\u001b[1m     \u001b[0m│\u001b[90m Int64 \u001b[0m\u001b[90m Int64 \u001b[0m\u001b[90m Int64 \u001b[0m\u001b[90m Int64 \u001b[0m\u001b[90m Int64 \u001b[0m\n",
       "─────┼───────────────────────────────────\n",
       "   1 │   113      2     29      8      1\n",
       "   2 │   114      1     32     46      1\n",
       "   3 │   114      2     36      8      1\n",
       "   4 │   115      1     31     46      1\n",
       "   5 │   115      2     43      8      1\n",
       "   6 │   116      1     30     46      1\n",
       "   7 │   116      2     44      8      1\n",
       "   8 │   117      1     29     46      1\n",
       "   9 │   117      2     45      8      1\n",
       "  10 │   118      1     36     46      1\n",
       "  11 │   118      2     38      8      1\n",
       "  12 │   119      1     43     46      1\n",
       "  13 │   119      2     31      8      1\n",
       "  14 │   120      1     44     46      1\n",
       "  15 │   120      2     24      8      1\n",
       "  16 │   121      1     45     46      1\n",
       "  17 │   121      2     17      8      1\n",
       "  18 │   122      1     46     46      1\n",
       "  19 │   122      2     10      8      1\n",
       "  20 │   123      1     47     12      1\n",
       "  21 │   123      2      3      8      1"
      ]
     },
     "metadata": {},
     "output_type": "display_data"
    }
   ],
   "source": [
    "display(adf[end-20:end,:])"
   ]
  },
  {
   "cell_type": "code",
   "execution_count": 9,
   "metadata": {},
   "outputs": [
    {
     "data": {
      "text/plain": [
       "Dict{Symbol, Any} with 8 entries:\n",
       "  :load_spot       => [8, 12]\n",
       "  :graph           => {49, 48} directed simple Int64 graph\n",
       "  :last_spot       => 2\n",
       "  :step            => 1\n",
       "  :used_load_spots => [0, 0]\n",
       "  :package_list    => [3, 4, 6, 4, 1, 3, 6, 1, 1, 5]\n",
       "  :dest_spot       => [30, 32, 34, 44, 46, 48]\n",
       "  :check_next_step => true"
      ]
     },
     "metadata": {},
     "output_type": "display_data"
    },
    {
     "data": {
      "text/plain": [
       "0"
      ]
     },
     "metadata": {},
     "output_type": "display_data"
    },
    {
     "data": {
      "text/plain": [
       "1"
      ]
     },
     "metadata": {},
     "output_type": "display_data"
    },
    {
     "data": {
      "text/plain": [
       "2"
      ]
     },
     "metadata": {},
     "output_type": "display_data"
    },
    {
     "data": {
      "text/plain": [
       "3"
      ]
     },
     "metadata": {},
     "output_type": "display_data"
    },
    {
     "data": {
      "text/plain": [
       "4"
      ]
     },
     "metadata": {},
     "output_type": "display_data"
    },
    {
     "data": {
      "text/plain": [
       "5"
      ]
     },
     "metadata": {},
     "output_type": "display_data"
    },
    {
     "data": {
      "text/plain": [
       "6"
      ]
     },
     "metadata": {},
     "output_type": "display_data"
    },
    {
     "data": {
      "text/plain": [
       "7"
      ]
     },
     "metadata": {},
     "output_type": "display_data"
    },
    {
     "data": {
      "text/plain": [
       "8"
      ]
     },
     "metadata": {},
     "output_type": "display_data"
    },
    {
     "data": {
      "text/plain": [
       "9"
      ]
     },
     "metadata": {},
     "output_type": "display_data"
    },
    {
     "data": {
      "text/plain": [
       "10"
      ]
     },
     "metadata": {},
     "output_type": "display_data"
    },
    {
     "data": {
      "text/plain": [
       "11"
      ]
     },
     "metadata": {},
     "output_type": "display_data"
    },
    {
     "data": {
      "text/plain": [
       "12"
      ]
     },
     "metadata": {},
     "output_type": "display_data"
    },
    {
     "data": {
      "text/plain": [
       "13"
      ]
     },
     "metadata": {},
     "output_type": "display_data"
    },
    {
     "data": {
      "text/plain": [
       "14"
      ]
     },
     "metadata": {},
     "output_type": "display_data"
    },
    {
     "data": {
      "text/plain": [
       "15"
      ]
     },
     "metadata": {},
     "output_type": "display_data"
    },
    {
     "data": {
      "text/plain": [
       "16"
      ]
     },
     "metadata": {},
     "output_type": "display_data"
    },
    {
     "data": {
      "text/plain": [
       "17"
      ]
     },
     "metadata": {},
     "output_type": "display_data"
    },
    {
     "data": {
      "text/plain": [
       "18"
      ]
     },
     "metadata": {},
     "output_type": "display_data"
    },
    {
     "data": {
      "text/plain": [
       "19"
      ]
     },
     "metadata": {},
     "output_type": "display_data"
    },
    {
     "data": {
      "text/plain": [
       "20"
      ]
     },
     "metadata": {},
     "output_type": "display_data"
    },
    {
     "data": {
      "text/plain": [
       "21"
      ]
     },
     "metadata": {},
     "output_type": "display_data"
    },
    {
     "data": {
      "text/plain": [
       "22"
      ]
     },
     "metadata": {},
     "output_type": "display_data"
    },
    {
     "data": {
      "text/plain": [
       "23"
      ]
     },
     "metadata": {},
     "output_type": "display_data"
    },
    {
     "data": {
      "text/plain": [
       "24"
      ]
     },
     "metadata": {},
     "output_type": "display_data"
    },
    {
     "data": {
      "text/plain": [
       "25"
      ]
     },
     "metadata": {},
     "output_type": "display_data"
    },
    {
     "data": {
      "text/plain": [
       "26"
      ]
     },
     "metadata": {},
     "output_type": "display_data"
    },
    {
     "data": {
      "text/plain": [
       "27"
      ]
     },
     "metadata": {},
     "output_type": "display_data"
    },
    {
     "data": {
      "text/plain": [
       "28"
      ]
     },
     "metadata": {},
     "output_type": "display_data"
    },
    {
     "data": {
      "text/plain": [
       "29"
      ]
     },
     "metadata": {},
     "output_type": "display_data"
    },
    {
     "data": {
      "text/plain": [
       "30"
      ]
     },
     "metadata": {},
     "output_type": "display_data"
    },
    {
     "data": {
      "text/plain": [
       "31"
      ]
     },
     "metadata": {},
     "output_type": "display_data"
    },
    {
     "data": {
      "text/plain": [
       "32"
      ]
     },
     "metadata": {},
     "output_type": "display_data"
    },
    {
     "data": {
      "text/plain": [
       "33"
      ]
     },
     "metadata": {},
     "output_type": "display_data"
    },
    {
     "data": {
      "text/plain": [
       "34"
      ]
     },
     "metadata": {},
     "output_type": "display_data"
    },
    {
     "data": {
      "text/plain": [
       "35"
      ]
     },
     "metadata": {},
     "output_type": "display_data"
    },
    {
     "data": {
      "text/plain": [
       "36"
      ]
     },
     "metadata": {},
     "output_type": "display_data"
    },
    {
     "data": {
      "text/plain": [
       "37"
      ]
     },
     "metadata": {},
     "output_type": "display_data"
    },
    {
     "data": {
      "text/plain": [
       "38"
      ]
     },
     "metadata": {},
     "output_type": "display_data"
    },
    {
     "data": {
      "text/plain": [
       "39"
      ]
     },
     "metadata": {},
     "output_type": "display_data"
    },
    {
     "data": {
      "text/plain": [
       "40"
      ]
     },
     "metadata": {},
     "output_type": "display_data"
    },
    {
     "data": {
      "text/plain": [
       "41"
      ]
     },
     "metadata": {},
     "output_type": "display_data"
    },
    {
     "data": {
      "text/plain": [
       "42"
      ]
     },
     "metadata": {},
     "output_type": "display_data"
    },
    {
     "data": {
      "text/plain": [
       "43"
      ]
     },
     "metadata": {},
     "output_type": "display_data"
    },
    {
     "data": {
      "text/plain": [
       "44"
      ]
     },
     "metadata": {},
     "output_type": "display_data"
    },
    {
     "data": {
      "text/plain": [
       "45"
      ]
     },
     "metadata": {},
     "output_type": "display_data"
    },
    {
     "data": {
      "text/plain": [
       "46"
      ]
     },
     "metadata": {},
     "output_type": "display_data"
    },
    {
     "data": {
      "text/plain": [
       "47"
      ]
     },
     "metadata": {},
     "output_type": "display_data"
    },
    {
     "data": {
      "text/plain": [
       "48"
      ]
     },
     "metadata": {},
     "output_type": "display_data"
    },
    {
     "data": {
      "text/plain": [
       "49"
      ]
     },
     "metadata": {},
     "output_type": "display_data"
    },
    {
     "data": {
      "text/plain": [
       "50"
      ]
     },
     "metadata": {},
     "output_type": "display_data"
    },
    {
     "data": {
      "text/plain": [
       "51"
      ]
     },
     "metadata": {},
     "output_type": "display_data"
    },
    {
     "data": {
      "text/plain": [
       "52"
      ]
     },
     "metadata": {},
     "output_type": "display_data"
    },
    {
     "data": {
      "text/plain": [
       "53"
      ]
     },
     "metadata": {},
     "output_type": "display_data"
    },
    {
     "data": {
      "text/plain": [
       "54"
      ]
     },
     "metadata": {},
     "output_type": "display_data"
    },
    {
     "data": {
      "text/plain": [
       "55"
      ]
     },
     "metadata": {},
     "output_type": "display_data"
    },
    {
     "data": {
      "text/plain": [
       "56"
      ]
     },
     "metadata": {},
     "output_type": "display_data"
    },
    {
     "data": {
      "text/plain": [
       "57"
      ]
     },
     "metadata": {},
     "output_type": "display_data"
    },
    {
     "data": {
      "text/plain": [
       "58"
      ]
     },
     "metadata": {},
     "output_type": "display_data"
    },
    {
     "data": {
      "text/plain": [
       "59"
      ]
     },
     "metadata": {},
     "output_type": "display_data"
    },
    {
     "data": {
      "text/plain": [
       "60"
      ]
     },
     "metadata": {},
     "output_type": "display_data"
    },
    {
     "data": {
      "text/plain": [
       "61"
      ]
     },
     "metadata": {},
     "output_type": "display_data"
    },
    {
     "data": {
      "text/plain": [
       "62"
      ]
     },
     "metadata": {},
     "output_type": "display_data"
    },
    {
     "data": {
      "text/plain": [
       "63"
      ]
     },
     "metadata": {},
     "output_type": "display_data"
    },
    {
     "data": {
      "text/plain": [
       "64"
      ]
     },
     "metadata": {},
     "output_type": "display_data"
    },
    {
     "data": {
      "text/plain": [
       "65"
      ]
     },
     "metadata": {},
     "output_type": "display_data"
    },
    {
     "data": {
      "text/plain": [
       "66"
      ]
     },
     "metadata": {},
     "output_type": "display_data"
    },
    {
     "data": {
      "text/plain": [
       "67"
      ]
     },
     "metadata": {},
     "output_type": "display_data"
    },
    {
     "data": {
      "text/plain": [
       "68"
      ]
     },
     "metadata": {},
     "output_type": "display_data"
    },
    {
     "data": {
      "text/plain": [
       "69"
      ]
     },
     "metadata": {},
     "output_type": "display_data"
    },
    {
     "data": {
      "text/plain": [
       "70"
      ]
     },
     "metadata": {},
     "output_type": "display_data"
    },
    {
     "data": {
      "text/plain": [
       "71"
      ]
     },
     "metadata": {},
     "output_type": "display_data"
    },
    {
     "data": {
      "text/plain": [
       "72"
      ]
     },
     "metadata": {},
     "output_type": "display_data"
    },
    {
     "data": {
      "text/plain": [
       "73"
      ]
     },
     "metadata": {},
     "output_type": "display_data"
    },
    {
     "data": {
      "text/plain": [
       "74"
      ]
     },
     "metadata": {},
     "output_type": "display_data"
    },
    {
     "data": {
      "text/plain": [
       "75"
      ]
     },
     "metadata": {},
     "output_type": "display_data"
    },
    {
     "data": {
      "text/plain": [
       "76"
      ]
     },
     "metadata": {},
     "output_type": "display_data"
    },
    {
     "data": {
      "text/plain": [
       "77"
      ]
     },
     "metadata": {},
     "output_type": "display_data"
    },
    {
     "data": {
      "text/plain": [
       "78"
      ]
     },
     "metadata": {},
     "output_type": "display_data"
    },
    {
     "data": {
      "text/plain": [
       "79"
      ]
     },
     "metadata": {},
     "output_type": "display_data"
    },
    {
     "data": {
      "text/plain": [
       "80"
      ]
     },
     "metadata": {},
     "output_type": "display_data"
    },
    {
     "data": {
      "text/plain": [
       "81"
      ]
     },
     "metadata": {},
     "output_type": "display_data"
    },
    {
     "data": {
      "text/plain": [
       "82"
      ]
     },
     "metadata": {},
     "output_type": "display_data"
    },
    {
     "data": {
      "text/plain": [
       "83"
      ]
     },
     "metadata": {},
     "output_type": "display_data"
    },
    {
     "data": {
      "text/plain": [
       "84"
      ]
     },
     "metadata": {},
     "output_type": "display_data"
    },
    {
     "data": {
      "text/plain": [
       "85"
      ]
     },
     "metadata": {},
     "output_type": "display_data"
    },
    {
     "data": {
      "text/plain": [
       "86"
      ]
     },
     "metadata": {},
     "output_type": "display_data"
    },
    {
     "data": {
      "text/plain": [
       "87"
      ]
     },
     "metadata": {},
     "output_type": "display_data"
    },
    {
     "data": {
      "text/plain": [
       "88"
      ]
     },
     "metadata": {},
     "output_type": "display_data"
    },
    {
     "data": {
      "text/plain": [
       "89"
      ]
     },
     "metadata": {},
     "output_type": "display_data"
    },
    {
     "data": {
      "text/plain": [
       "90"
      ]
     },
     "metadata": {},
     "output_type": "display_data"
    },
    {
     "data": {
      "text/plain": [
       "91"
      ]
     },
     "metadata": {},
     "output_type": "display_data"
    },
    {
     "data": {
      "text/plain": [
       "92"
      ]
     },
     "metadata": {},
     "output_type": "display_data"
    },
    {
     "data": {
      "text/plain": [
       "93"
      ]
     },
     "metadata": {},
     "output_type": "display_data"
    },
    {
     "data": {
      "text/plain": [
       "94"
      ]
     },
     "metadata": {},
     "output_type": "display_data"
    },
    {
     "data": {
      "text/plain": [
       "95"
      ]
     },
     "metadata": {},
     "output_type": "display_data"
    },
    {
     "data": {
      "text/plain": [
       "96"
      ]
     },
     "metadata": {},
     "output_type": "display_data"
    },
    {
     "data": {
      "text/plain": [
       "97"
      ]
     },
     "metadata": {},
     "output_type": "display_data"
    },
    {
     "data": {
      "text/plain": [
       "98"
      ]
     },
     "metadata": {},
     "output_type": "display_data"
    },
    {
     "data": {
      "text/plain": [
       "99"
      ]
     },
     "metadata": {},
     "output_type": "display_data"
    },
    {
     "data": {
      "text/plain": [
       "100"
      ]
     },
     "metadata": {},
     "output_type": "display_data"
    },
    {
     "data": {
      "text/plain": [
       "101"
      ]
     },
     "metadata": {},
     "output_type": "display_data"
    },
    {
     "data": {
      "text/plain": [
       "102"
      ]
     },
     "metadata": {},
     "output_type": "display_data"
    },
    {
     "data": {
      "text/plain": [
       "103"
      ]
     },
     "metadata": {},
     "output_type": "display_data"
    },
    {
     "data": {
      "text/plain": [
       "104"
      ]
     },
     "metadata": {},
     "output_type": "display_data"
    },
    {
     "data": {
      "text/plain": [
       "105"
      ]
     },
     "metadata": {},
     "output_type": "display_data"
    },
    {
     "data": {
      "text/plain": [
       "106"
      ]
     },
     "metadata": {},
     "output_type": "display_data"
    },
    {
     "data": {
      "text/plain": [
       "107"
      ]
     },
     "metadata": {},
     "output_type": "display_data"
    },
    {
     "data": {
      "text/plain": [
       "108"
      ]
     },
     "metadata": {},
     "output_type": "display_data"
    },
    {
     "data": {
      "text/plain": [
       "109"
      ]
     },
     "metadata": {},
     "output_type": "display_data"
    },
    {
     "data": {
      "text/plain": [
       "110"
      ]
     },
     "metadata": {},
     "output_type": "display_data"
    },
    {
     "data": {
      "text/plain": [
       "111"
      ]
     },
     "metadata": {},
     "output_type": "display_data"
    },
    {
     "data": {
      "text/plain": [
       "112"
      ]
     },
     "metadata": {},
     "output_type": "display_data"
    },
    {
     "data": {
      "text/plain": [
       "113"
      ]
     },
     "metadata": {},
     "output_type": "display_data"
    },
    {
     "data": {
      "text/plain": [
       "114"
      ]
     },
     "metadata": {},
     "output_type": "display_data"
    },
    {
     "data": {
      "text/plain": [
       "115"
      ]
     },
     "metadata": {},
     "output_type": "display_data"
    },
    {
     "data": {
      "text/plain": [
       "116"
      ]
     },
     "metadata": {},
     "output_type": "display_data"
    },
    {
     "data": {
      "text/plain": [
       "117"
      ]
     },
     "metadata": {},
     "output_type": "display_data"
    },
    {
     "data": {
      "text/plain": [
       "118"
      ]
     },
     "metadata": {},
     "output_type": "display_data"
    },
    {
     "data": {
      "text/plain": [
       "119"
      ]
     },
     "metadata": {},
     "output_type": "display_data"
    },
    {
     "data": {
      "text/plain": [
       "120"
      ]
     },
     "metadata": {},
     "output_type": "display_data"
    },
    {
     "data": {
      "text/plain": [
       "121"
      ]
     },
     "metadata": {},
     "output_type": "display_data"
    },
    {
     "data": {
      "text/plain": [
       "122"
      ]
     },
     "metadata": {},
     "output_type": "display_data"
    },
    {
     "data": {
      "text/plain": [
       "123"
      ]
     },
     "metadata": {},
     "output_type": "display_data"
    },
    {
     "name": "stderr",
     "output_type": "stream",
     "text": [
      "┌ Info: Saved animation to \n",
      "│   fn = /home/datalab/projects/agents/warehouse/nowait_warehouse_3_3_2.mp4\n",
      "└ @ Plots /home/datalab/.julia/packages/Plots/oZheM/src/animation.jl:104\n"
     ]
    }
   ],
   "source": [
    "warehouse,_ = init_warehouse()\n",
    "n_agents = nagents(warehouse)\n",
    "display(warehouse.properties)\n",
    "anim = @animate for i in 0:500\n",
    "    # p1 = plotabm(warehouse;am=(x,y)->:circle,as=robot_sizes,ac=robot_colors,x=p[:,2],y=p[:,1],curves=false,arrow=true,curvature_scalar=cs,size=(1000,1000))\n",
    "#     p1 = plotabm(warehouse;am=(x,y)->:rect,as=robot_sizes,ac=robot_colors,x=p[:,2],y=p[:,1],curves=false,arrow=false,curvature_scalar=cs,size=(2000,2000),linealpha=0.5,markerstrokewidth=0.0)\n",
    "    p1 = plot_warehouse()\n",
    "#     display(i)    \n",
    "    title!(p1, \"step:$(i),packages to dispatch:$(length(warehouse.properties[:package_list]))\")\n",
    "    if terminate_warehouse_sim(warehouse,i)\n",
    "        # gif(anim, \"warehouse_$(m)_$(n)_$(n_agents).mp4\", fps = 4)\n",
    "        break\n",
    "    end\n",
    "    step!(warehouse, robot_step_nowait!,warehouse_step!, 1,true)\n",
    "end\n",
    "gif(anim, \"nowait_warehouse_$(m)_$(n)_$(n_agents).mp4\", fps = 4);"
   ]
  },
  {
   "cell_type": "code",
   "execution_count": 10,
   "metadata": {},
   "outputs": [
    {
     "data": {
      "text/plain": [
       "124"
      ]
     },
     "execution_count": 10,
     "metadata": {},
     "output_type": "execute_result"
    }
   ],
   "source": [
    "warehouse.step"
   ]
  }
 ],
 "metadata": {
  "kernelspec": {
   "display_name": "Julia 1.6.2",
   "language": "julia",
   "name": "julia-1.6"
  },
  "language_info": {
   "file_extension": ".jl",
   "mimetype": "application/julia",
   "name": "julia",
   "version": "1.6.2"
  }
 },
 "nbformat": 4,
 "nbformat_minor": 5
}
